{
 "cells": [
  {
   "cell_type": "code",
   "execution_count": null,
   "metadata": {},
   "outputs": [],
   "source": [
    "import rpy2\n",
    "print(rpy2.__version__)\n",
    "from rpy2.robjects.packages import importr\n",
    "import rpy2.robjects.packages as rpackages\n",
    "\n",
    "# import R's utility package\n",
    "utils = rpackages.importr('utils')\n"
   ]
  },
  {
   "cell_type": "code",
   "execution_count": null,
   "metadata": {},
   "outputs": [
    {
     "ename": "Error",
     "evalue": "Session cannot generate requests",
     "output_type": "error",
     "traceback": [
      "Error: Session cannot generate requests",
      "at w.executeCodeCell (c:\\Users\\Alberto\\.vscode-insiders\\extensions\\ms-toolsai.jupyter-2021.7.945818462\\out\\client\\extension.js:90:325793)",
      "at w.execute (c:\\Users\\Alberto\\.vscode-insiders\\extensions\\ms-toolsai.jupyter-2021.7.945818462\\out\\client\\extension.js:90:325182)",
      "at w.start (c:\\Users\\Alberto\\.vscode-insiders\\extensions\\ms-toolsai.jupyter-2021.7.945818462\\out\\client\\extension.js:90:320998)",
      "at runMicrotasks (<anonymous>)",
      "at processTicksAndRejections (internal/process/task_queues.js:93:5)",
      "at async t.CellExecutionQueue.executeQueuedCells (c:\\Users\\Alberto\\.vscode-insiders\\extensions\\ms-toolsai.jupyter-2021.7.945818462\\out\\client\\extension.js:90:335457)",
      "at async t.CellExecutionQueue.start (c:\\Users\\Alberto\\.vscode-insiders\\extensions\\ms-toolsai.jupyter-2021.7.945818462\\out\\client\\extension.js:90:334997)"
     ]
    }
   ],
   "source": [
    "utils"
   ]
  },
  {
   "cell_type": "code",
   "execution_count": null,
   "metadata": {},
   "outputs": [],
   "source": []
  }
 ],
 "metadata": {
  "interpreter": {
   "hash": "aa4995a4b03db85ccb1b16d764bda813f00c5260fd6a71e0b1119db65bdf3431"
  },
  "kernelspec": {
   "display_name": "Python 3",
   "language": "python",
   "name": "python3"
  },
  "language_info": {
   "codemirror_mode": {
    "name": "ipython",
    "version": 3
   },
   "file_extension": ".py",
   "mimetype": "text/x-python",
   "name": "python",
   "nbconvert_exporter": "python",
   "pygments_lexer": "ipython3",
   "version": "3.7.9"
  }
 },
 "nbformat": 4,
 "nbformat_minor": 2
}
