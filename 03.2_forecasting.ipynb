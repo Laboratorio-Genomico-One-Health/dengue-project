{
 "cells": [
  {
   "cell_type": "code",
   "execution_count": null,
   "metadata": {},
   "outputs": [],
   "source": [
    "from google.colab import drive \n",
    "drive.mount('/content/gdrive')"
   ]
  },
  {
   "cell_type": "markdown",
   "metadata": {},
   "source": [
    "After some data transformation, and knowing the most important features for each forecasting window, for a given city, the models are tuned."
   ]
  },
  {
   "cell_type": "code",
   "execution_count": null,
   "metadata": {},
   "outputs": [],
   "source": [
    "import matplotlib.pyplot as plt\n",
    "import seaborn as sns\n",
    "import plotly.express as px\n",
    "\n",
    "import numpy as np\n",
    "import pandas as pd\n",
    "\n",
    "#from tsfresh.transformers import RelevantFeatureAugmenter\n",
    "\n",
    "import xgboost as xgb\n",
    "\n",
    "from sklearn.model_selection import train_test_split, TimeSeriesSplit, GridSearchCV\n",
    "from sklearn.preprocessing import StandardScaler\n",
    "from sklearn.decomposition import PCA\n",
    "from sklearn.feature_selection import RFECV\n",
    "from sklearn.metrics import mean_absolute_error as mae, mean_squared_error as mse\n",
    "from sklearn.pipeline import make_pipeline, Pipeline\n",
    "from sklearn.ensemble import RandomForestRegressor\n",
    "from sklearn.neural_network import MLPRegressor\n",
    "\n",
    "import statsmodels.api as sm\n",
    "import statsmodels.formula.api as smf\n",
    "\n",
    "sns.set(color_codes=True)\n",
    "%matplotlib inline"
   ]
  },
  {
   "cell_type": "code",
   "execution_count": null,
   "metadata": {},
   "outputs": [
    {
     "name": "stdout",
     "output_type": "stream",
     "text": [
      "/content/gdrive/My Drive/DS4A/Project_models\n"
     ]
    }
   ],
   "source": [
    "%cd /content/gdrive/My Drive/DS4A/Project_models"
   ]
  },
  {
   "cell_type": "code",
   "execution_count": null,
   "metadata": {},
   "outputs": [],
   "source": [
    "path = {'cucuta':'cucuta_consolidado_2007_2020.csv',\n",
    "        'cali':'cali_consolidado_2007_2020.csv',\n",
    "        'barranquilla':'barranquilla_consolidado_2013_2020.csv',\n",
    "        'santa_marta':'santa_marta_consolidado_2008_2020.csv'\n",
    "        }"
   ]
  },
  {
   "cell_type": "code",
   "execution_count": null,
   "metadata": {},
   "outputs": [],
   "source": [
    "city = 'santa_marta'"
   ]
  },
  {
   "cell_type": "code",
   "execution_count": null,
   "metadata": {},
   "outputs": [],
   "source": [
    "df = pd.read_csv('Data/'+path[city])\n",
    "df['FECHA'] = pd.to_datetime(df['FECHA'])\n",
    "df.drop(columns=['COD_DPTO','COD_MUNICIPIO','POBLACION'], inplace=True)\n",
    "df.fillna(method='ffill', inplace=True)\n",
    "df.set_index('FECHA', inplace=True)"
   ]
  },
  {
   "cell_type": "code",
   "execution_count": null,
   "metadata": {},
   "outputs": [],
   "source": [
    "best_features = pd.read_csv('best_features_'+city+'.csv')"
   ]
  },
  {
   "cell_type": "code",
   "execution_count": null,
   "metadata": {},
   "outputs": [],
   "source": [
    "df_features_complete = df[df.columns[:-3]]\n",
    "df_target_complete = df[df.columns[-3:]]\n",
    "#As said at the beginnig, the last 8 entries are the test set for forecasting models, so they are taken back."
   ]
  },
  {
   "cell_type": "code",
   "execution_count": null,
   "metadata": {},
   "outputs": [
    {
     "data": {
      "text/plain": [
       "StandardScaler(copy=True, with_mean=True, with_std=True)"
      ]
     },
     "execution_count": null,
     "metadata": {
      "tags": []
     },
     "output_type": "execute_result"
    }
   ],
   "source": [
    "scaler_test = StandardScaler()\n",
    "scaler_test.fit(df_features_complete)"
   ]
  },
  {
   "cell_type": "code",
   "execution_count": null,
   "metadata": {},
   "outputs": [],
   "source": [
    "std_df_features_complete = pd.DataFrame(scaler_test.transform(df_features_complete)).set_index(df.index)\n",
    "std_df_features_complete = pd.concat([std_df_features_complete, df_target_complete['DENGUE']], axis=1)\n",
    "std_df_features_complete.columns = list(df_features_complete.columns) + ['DENGUE']"
   ]
  },
  {
   "cell_type": "code",
   "execution_count": null,
   "metadata": {},
   "outputs": [],
   "source": [
    "def lagged_df(df, lag_size):\n",
    "  dfs = list()\n",
    "  for i in range(lag_size):\n",
    "    df_lag = df.shift(i+1)\n",
    "    df_lag.columns = [col+'_lag_'+str(i+1) for col in df.columns]\n",
    "    dfs.append(df_lag)\n",
    "  return pd.concat([df]+dfs, axis=1)"
   ]
  },
  {
   "cell_type": "code",
   "execution_count": null,
   "metadata": {},
   "outputs": [],
   "source": [
    "std_df_features_complete_lag = lagged_df(std_df_features_complete, 12)"
   ]
  },
  {
   "cell_type": "code",
   "execution_count": null,
   "metadata": {},
   "outputs": [],
   "source": [
    "def data_forecast(n):\n",
    "  features = std_df_features_complete_lag[best_features[str(n)+'_weeks_ahead'].to_list()].iloc[12:-n]\n",
    "  labels = df_target_complete.shift(-n).iloc[12:-n]\n",
    "  return features, labels"
   ]
  },
  {
   "cell_type": "code",
   "execution_count": null,
   "metadata": {},
   "outputs": [],
   "source": [
    "def data_forecast_cut(n):\n",
    "  features_train, features_test, labels_train, labels_test = train_test_split(data_forecast(n)[0], data_forecast(n)[1],\n",
    "                                                                              test_size=1, shuffle=False)\n",
    "  return features_train, features_test, labels_train, labels_test"
   ]
  },
  {
   "cell_type": "markdown",
   "metadata": {},
   "source": [
    "#Poisson"
   ]
  },
  {
   "cell_type": "code",
   "execution_count": null,
   "metadata": {},
   "outputs": [],
   "source": [
    "def poisson_models():\n",
    "  models = []\n",
    "  for i in range(8):\n",
    "    df_temp = data_forecast_cut(i+1)[0]\n",
    "    df_temp['intercept']=1\n",
    "    poisson_model_res = sm.GLM(data_forecast_cut(i+1)[2]['DENGUE'], df_temp, family=sm.families.Poisson()).fit()\n",
    "    models.append(poisson_model_res)\n",
    "  return models"
   ]
  },
  {
   "cell_type": "code",
   "execution_count": null,
   "metadata": {},
   "outputs": [],
   "source": [
    "poisson_models_lst = poisson_models()"
   ]
  },
  {
   "cell_type": "code",
   "execution_count": null,
   "metadata": {},
   "outputs": [],
   "source": [
    "def poisson_predict(position):\n",
    "  predictions = []\n",
    "  for i in range(8):\n",
    "    df_temp = std_df_features_complete_lag[best_features[str(i+1)+'_weeks_ahead'].to_list()]\n",
    "    df_temp['intercept']=1\n",
    "    if position==-1:\n",
    "      prediction = poisson_models_lst[i].get_prediction(df_temp.iloc[position:]).summary_frame()['mean'].values\n",
    "    else:\n",
    "      prediction = poisson_models_lst[i].get_prediction(df_temp.iloc[position:position+1]).summary_frame()['mean'].values\n",
    "    predictions.append(prediction[0])\n",
    "  predictions_with_date = pd.Series(predictions, index=pd.date_range(df_temp.index[position], freq='W-SUN', periods=9)[1:])\n",
    "  return predictions_with_date#pd.concat([df_target_complete['DENGUE'], predictions_with_date])"
   ]
  },
  {
   "cell_type": "code",
   "execution_count": null,
   "metadata": {},
   "outputs": [
    {
     "name": "stderr",
     "output_type": "stream",
     "text": [
      "/usr/local/lib/python3.6/dist-packages/ipykernel_launcher.py:5: SettingWithCopyWarning:\n",
      "\n",
      "\n",
      "A value is trying to be set on a copy of a slice from a DataFrame.\n",
      "Try using .loc[row_indexer,col_indexer] = value instead\n",
      "\n",
      "See the caveats in the documentation: https://pandas.pydata.org/pandas-docs/stable/user_guide/indexing.html#returning-a-view-versus-a-copy\n",
      "\n"
     ]
    }
   ],
   "source": [
    "poisson_predict(-1).to_csv('poisson_ensemble_predictions_'+city+'.csv')"
   ]
  },
  {
   "cell_type": "markdown",
   "metadata": {},
   "source": [
    "#Nb"
   ]
  },
  {
   "cell_type": "code",
   "execution_count": null,
   "metadata": {},
   "outputs": [],
   "source": [
    "def nb_models():\n",
    "  models = []\n",
    "  for i in range(8):\n",
    "    df_temp = data_forecast_cut(i+1)[0]\n",
    "    df_temp['intercept']=1\n",
    "\n",
    "    best_alpha_df = pd.DataFrame({'DENGUE':data_forecast_cut(i+1)[2]['DENGUE'],'mu':poisson_models()[i].mu})\n",
    "    best_alpha_df['aux_ols'] = ((best_alpha_df['DENGUE']-best_alpha_df['mu'])**2-best_alpha_df['DENGUE'])/best_alpha_df['mu']\n",
    "\n",
    "    ols_expr = \"\"\"aux_ols ~ mu - 1\"\"\"\n",
    "    aux_ols_results = smf.ols(ols_expr, best_alpha_df).fit()\n",
    "    best_alpha = aux_ols_results.params[0]\n",
    "\n",
    "    nb_model_res = sm.GLM(data_forecast_cut(i+1)[2]['DENGUE'], df_temp, family=sm.families.NegativeBinomial(alpha=best_alpha)).fit()\n",
    "    models.append(nb_model_res)\n",
    "  return models"
   ]
  },
  {
   "cell_type": "code",
   "execution_count": null,
   "metadata": {},
   "outputs": [],
   "source": [
    "nb_models_lst = nb_models()"
   ]
  },
  {
   "cell_type": "code",
   "execution_count": null,
   "metadata": {},
   "outputs": [],
   "source": [
    "def nb_predict(position):\n",
    "  predictions = []\n",
    "  for i in range(8):\n",
    "    df_temp = std_df_features_complete_lag[best_features[str(i+1)+'_weeks_ahead'].to_list()]\n",
    "    df_temp['intercept']=1\n",
    "    if position==-1:\n",
    "      prediction = nb_models_lst[i].get_prediction(df_temp.iloc[position:]).summary_frame()['mean'].values\n",
    "    else:  \n",
    "      prediction = nb_models_lst[i].get_prediction(df_temp.iloc[position:position+1]).summary_frame()['mean'].values\n",
    "    predictions.append(prediction[0])\n",
    "  predictions_with_date = pd.Series(predictions, index=pd.date_range(df_temp.index[position], freq='W-SUN', periods=9)[1:])\n",
    "  return predictions_with_date #pd.concat([df_target_complete['DENGUE'], predictions_with_date])"
   ]
  },
  {
   "cell_type": "code",
   "execution_count": null,
   "metadata": {},
   "outputs": [
    {
     "name": "stderr",
     "output_type": "stream",
     "text": [
      "/usr/local/lib/python3.6/dist-packages/ipykernel_launcher.py:5: SettingWithCopyWarning:\n",
      "\n",
      "\n",
      "A value is trying to be set on a copy of a slice from a DataFrame.\n",
      "Try using .loc[row_indexer,col_indexer] = value instead\n",
      "\n",
      "See the caveats in the documentation: https://pandas.pydata.org/pandas-docs/stable/user_guide/indexing.html#returning-a-view-versus-a-copy\n",
      "\n"
     ]
    }
   ],
   "source": [
    "nb_predict(-1).to_csv('negative_binomial_ensemble_predictions_'+city+'.csv')"
   ]
  },
  {
   "cell_type": "code",
   "execution_count": null,
   "metadata": {},
   "outputs": [],
   "source": [
    ""
   ]
  },
  {
   "cell_type": "code",
   "execution_count": null,
   "metadata": {},
   "outputs": [],
   "source": [
    ""
   ]
  },
  {
   "cell_type": "code",
   "execution_count": null,
   "metadata": {},
   "outputs": [],
   "source": [
    ""
   ]
  },
  {
   "cell_type": "code",
   "execution_count": null,
   "metadata": {},
   "outputs": [],
   "source": [
    ""
   ]
  },
  {
   "cell_type": "code",
   "execution_count": null,
   "metadata": {},
   "outputs": [],
   "source": [
    ""
   ]
  },
  {
   "cell_type": "markdown",
   "metadata": {},
   "source": [
    "#XGBRegressor"
   ]
  },
  {
   "cell_type": "code",
   "execution_count": null,
   "metadata": {},
   "outputs": [],
   "source": [
    "def xgb_models():\n",
    "  models = []\n",
    "  for i in range(8):\n",
    "    xgb_model_res = xgb.XGBRegressor(objective=\"reg:squarederror\", random_state=1,\n",
    "                                     booster='gbtree').fit(data_forecast_cut(i+1)[0],\n",
    "                                                           data_forecast_cut(i+1)[2]['DENGUE'])\n",
    "    models.append(xgb_model_res)\n",
    "  return models"
   ]
  },
  {
   "cell_type": "code",
   "execution_count": null,
   "metadata": {},
   "outputs": [],
   "source": [
    "xgb_models_lst = xgb_models()"
   ]
  },
  {
   "cell_type": "code",
   "execution_count": null,
   "metadata": {},
   "outputs": [],
   "source": [
    "def xgb_predict(position):\n",
    "  predictions = []\n",
    "  for i in range(8):\n",
    "    df_temp = std_df_features_complete_lag[best_features[str(i+1)+'_weeks_ahead'].to_list()]\n",
    "    if position==-1:\n",
    "      prediction = xgb_models_lst[i].predict(df_temp.iloc[position:])[0]\n",
    "    else:\n",
    "      prediction = xgb_models_lst[i].predict(df_temp.iloc[position:position+1])[0]\n",
    "    predictions.append(prediction)\n",
    "  predictions_with_date = pd.Series(predictions, index=pd.date_range(df_temp.index[position], freq='W-SUN', periods=9)[1:])\n",
    "  return predictions_with_date #pd.concat([df_target_complete['DENGUE'], predictions_with_date])"
   ]
  },
  {
   "cell_type": "code",
   "execution_count": null,
   "metadata": {},
   "outputs": [],
   "source": [
    "xgb_predict(-1).to_csv('xgboost_ensemble_predictions_'+city+'.csv')"
   ]
  },
  {
   "cell_type": "markdown",
   "metadata": {},
   "source": [
    "#MLP"
   ]
  },
  {
   "cell_type": "code",
   "execution_count": null,
   "metadata": {},
   "outputs": [],
   "source": [
    "mlp_model = MLPRegressor(random_state=1, max_iter=1000)\n",
    "param_list = {\"hidden_layer_sizes\": [1,25], \"activation\": [\"logistic\", \"relu\"], \"solver\": [\"sgd\", \"adam\"], \"alpha\": [0.00005,0.0005]}"
   ]
  },
  {
   "cell_type": "code",
   "execution_count": null,
   "metadata": {},
   "outputs": [],
   "source": [
    "mlp_gridCV = GridSearchCV(estimator=mlp_model, param_grid=param_list, cv=TimeSeriesSplit(3))"
   ]
  },
  {
   "cell_type": "code",
   "execution_count": null,
   "metadata": {},
   "outputs": [],
   "source": [
    "def mlp_models():\n",
    "  models = []\n",
    "  for i in range(8):\n",
    "    mlp_model_res = mlp_gridCV.fit(data_forecast_cut(i+1)[0], data_forecast_cut(i+1)[2]['DENGUE'])\n",
    "    models.append(mlp_model_res)\n",
    "  return models"
   ]
  },
  {
   "cell_type": "code",
   "execution_count": null,
   "metadata": {},
   "outputs": [],
   "source": [
    "#mlp_models_lst = mlp_models()"
   ]
  },
  {
   "cell_type": "code",
   "execution_count": null,
   "metadata": {},
   "outputs": [],
   "source": [
    "def mlp_predict(position):\n",
    "  predictions = []\n",
    "  for i in range(8):\n",
    "    df_temp = std_df_features_complete_lag[best_features[str(i+1)+'_weeks_ahead'].to_list()]\n",
    "    if position==-1:\n",
    "      prediction = mlp_models_lst[i].predict(df_temp.iloc[position:])[0]\n",
    "    else:\n",
    "      prediction = mlp_models_lst[i].predict(df_temp.iloc[position:position+1])[0]\n",
    "    predictions.append(prediction)\n",
    "  predictions_with_date = pd.Series(predictions, index=pd.date_range(df_temp.index[position], freq='W-SUN', periods=9)[1:])\n",
    "  return predictions_with_date #pd.concat([df_target_complete['DENGUE'], predictions_with_date])"
   ]
  },
  {
   "cell_type": "code",
   "execution_count": null,
   "metadata": {},
   "outputs": [],
   "source": [
    "#mlp_predict(-1).to_csv('mlp_ensemble_predictions_'+city+'.csv')"
   ]
  },
  {
   "cell_type": "code",
   "execution_count": null,
   "metadata": {},
   "outputs": [],
   "source": [
    ""
   ]
  },
  {
   "cell_type": "code",
   "execution_count": null,
   "metadata": {},
   "outputs": [],
   "source": [
    ""
   ]
  },
  {
   "cell_type": "markdown",
   "metadata": {},
   "source": [
    "#Plots"
   ]
  },
  {
   "cell_type": "code",
   "execution_count": null,
   "metadata": {},
   "outputs": [],
   "source": [
    "plt.figure(figsize=(20,7))\n",
    "sns.lineplot(data=df_target_complete['DENGUE'].iloc[-100:], label='actual counts for 20 weeks')\n",
    "sns.lineplot(data=poisson_predict(-1), label='poisson counts')\n",
    "sns.lineplot(data=nb_predict(-1), label='negative binomial counts')\n",
    "sns.lineplot(data=xgb_predict(-1), label='xgb counts', color='red')"
   ]
  }
 ],
 "metadata": {
  "kernelspec": {
   "display_name": "Python 3",
   "name": "python3"
  }
 },
 "nbformat": 4,
 "nbformat_minor": 0
}
