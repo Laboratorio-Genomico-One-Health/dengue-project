{
 "cells": [
  {
   "cell_type": "markdown",
   "metadata": {},
   "source": [
    "# IMPORTS AND GENERAL FUNCTIONS"
   ]
  },
  {
   "cell_type": "code",
   "execution_count": 18,
   "metadata": {},
   "outputs": [
    {
     "name": "stdout",
     "output_type": "stream",
     "text": [
      "The autoreload extension is already loaded. To reload it, use:\n",
      "  %reload_ext autoreload\n"
     ]
    }
   ],
   "source": [
    "# default_exp preprocessing\n",
    "import numpy as np\n",
    "import matplotlib.pyplot as plt\n",
    "import pandas as pd\n",
    "from modules import preprocessing as prep\n",
    "import os\n",
    "%load_ext autoreload\n",
    "%autoreload 2"
   ]
  },
  {
   "cell_type": "code",
   "execution_count": 19,
   "metadata": {},
   "outputs": [],
   "source": [
    "path_base = \"./local/data/\""
   ]
  },
  {
   "cell_type": "markdown",
   "metadata": {},
   "source": [
    "# EXTRACTING DENGUE DATA FROM SIVIGILA FILE YEARS 2007 to 2020"
   ]
  },
  {
   "cell_type": "code",
   "execution_count": 20,
   "metadata": {},
   "outputs": [
    {
     "name": "stdout",
     "output_type": "stream",
     "text": [
      "Doing year  2007\n",
      "Doing year  2008\n"
     ]
    }
   ],
   "source": [
    "df_calendar = prep.get_sivigila_calendar()\n",
    "df_calendar_weekly = prep.get_sivigila_calendar().drop_duplicates(subset=[\"ANO\",\"SEMANA\"])\n",
    "df_dengue_2007_2018 = prep.read_all_rutinarias()\n",
    "df_dengue_2007_2018 = prep.re_assert_cod_datatypes(df_dengue_2007_2018)\n",
    "df_dengue_2007_2018.head()"
   ]
  },
  {
   "cell_type": "code",
   "execution_count": null,
   "metadata": {},
   "outputs": [],
   "source": [
    "os.makedirs(path_base + \"prepared_dengue\", exist_ok=True)\n",
    "df_dengue_2007_2018.to_csv(path_base+\"prepared_dengue/df_dengue_07_18.csv\")"
   ]
  },
  {
   "cell_type": "markdown",
   "metadata": {},
   "source": [
    "## YEARS 2019-2020"
   ]
  },
  {
   "cell_type": "code",
   "execution_count": 6,
   "metadata": {},
   "outputs": [],
   "source": [
    "years = [ 2019, 2020, 2021]\n",
    "\n",
    "filenames_2019_2020 = [\"rutinaria_2019.xlsx\",\"rutinaria_2020.xlsx\", \"rutinaria_2021.xlsx\"]\n",
    "dfs_2019_2020 = []\n",
    "starting_column_xlsx = {2019:0, 2020:0, 2021:0}\n",
    "\n",
    "#years = [2021]\n",
    "#filenames_2019_2020 = [\"rutinaria_2021.xlsx\"]"
   ]
  },
  {
   "cell_type": "code",
   "execution_count": 7,
   "metadata": {},
   "outputs": [
    {
     "name": "stdout",
     "output_type": "stream",
     "text": [
      "Doing year 2019 ...\n",
      "Doing year 2020 ...\n",
      "Doing year 2021 ...\n"
     ]
    }
   ],
   "source": [
    "for i, year in enumerate(years):\n",
    "    print(\"Doing year\",year,\"...\")\n",
    "    wb = pd.read_excel(path_base+\"src_general/rutinarias_dengue/\"+filenames_2019_2020[i], sheet_name=1, engine=\"openpyxl\")\n",
    "    wb = wb.iloc[2:,starting_column_xlsx[year]:]\n",
    "    for col in wb.columns[3:4]:\n",
    "        if np.sum(wb.loc[:,col].str.contains(\"CALI\")):\n",
    "            mun_col = col\n",
    "            break       \n",
    "    lista_municipios = list(wb.loc[:, col].unique())\n",
    "    try:\n",
    "        lista_municipios = lista_municipios[lista_municipios.index(\"* ANTIOQUIA. MUNICIPIO DESCONOCIDO\"):]\n",
    "    except:\n",
    "        lista_municipios = lista_municipios[lista_municipios.index(\"MEDELLIN\"):]\n",
    "    \n",
    "    if year != 2021:\n",
    "        lista_municipios = [ (lista_municipios[i],lista_municipios[i+1]) for i in range(0,len(lista_municipios),2) ]\n",
    "    else:\n",
    "        lista_municipios.pop(1)\n",
    "        lista_municipios = [(lista_municipios[i],lista_municipios[i+1]) for i in range(0,len(lista_municipios)-1)]\n",
    "\n",
    "    dfs = []\n",
    "    for i,mun in enumerate(lista_municipios):\n",
    "        index1_mun = prep.get_index_from_col_and_string(wb, mun_col, mun[0])\n",
    "        index2_mun = prep.get_index_from_col_and_string(wb, mun_col, mun[1])\n",
    "        if year == 2021:\n",
    "            index2_mun = index2_mun - 2\n",
    "        subset_mun = wb.loc[index1_mun:index2_mun-1, :]\n",
    "        subset_mun = subset_mun.iloc[:,:-1]\n",
    "        if not (subset_mun.iloc[0,0] is np.nan):\n",
    "            cod_depto = int(subset_mun.iloc[0,0])\n",
    "            if cod_depto in [48, 9, 14]:\n",
    "                cod_depto-=1\n",
    "        \n",
    "        cod_municipio = str(cod_depto).zfill(2) + str(subset_mun.iloc[0,2]).zfill(3)\n",
    "        den_mort_series = prep.get_time_series_from_municipio_subset(subset_mun, 4,\"580\", year)\n",
    "        dengue_series = prep.get_time_series_from_municipio_subset(subset_mun, 4 ,\"210\", year)\n",
    "        den_grave_series = prep.get_time_series_from_municipio_subset(subset_mun, 4,\"220\", year)\n",
    "        dengue_series = [year, cod_depto, cod_municipio] + dengue_series\n",
    "        den_mort_series = [year, cod_depto, cod_municipio] + den_mort_series\n",
    "        den_grave_series =  [year, cod_depto, cod_municipio] + den_grave_series\n",
    "        df_dengue = prep.dataframe_from_dengue_series(dengue_series, value_name = \"DENGUE\", year = year)\n",
    "        df_dengue_grave = prep.dataframe_from_dengue_series(den_grave_series, value_name = \"DENGUE GRAVE\",year = year)\n",
    "        df_den_mort = prep.dataframe_from_dengue_series(den_mort_series, value_name = \"MORTALIDAD POR DENGUE\",year = year)\n",
    "        df_dengue[\"DENGUE GRAVE\"] = df_dengue_grave[\"DENGUE GRAVE\"]\n",
    "        df_dengue[\"MORTALIDAD POR DENGUE\"]  = df_den_mort[\"MORTALIDAD POR DENGUE\"]\n",
    "        dfs.append(df_dengue)\n",
    "\n",
    "        \n",
    "\n",
    "    df_dengue_20XX = pd.concat(dfs, axis = 0)\n",
    "    df_dengue_20XX = prep.re_assert_cod_datatypes(df_dengue_20XX)\n",
    "    del dfs\n",
    "    dfs_2019_2020.append(df_dengue_20XX)"
   ]
  },
  {
   "cell_type": "code",
   "execution_count": 8,
   "metadata": {},
   "outputs": [
    {
     "data": {
      "text/plain": [
       "117419"
      ]
     },
     "execution_count": 8,
     "metadata": {},
     "output_type": "execute_result"
    }
   ],
   "source": [
    "dfs_2019_2020[-3][\"DENGUE\"].sum()"
   ]
  },
  {
   "cell_type": "markdown",
   "metadata": {},
   "source": [
    "dfs_2019_2020"
   ]
  },
  {
   "cell_type": "code",
   "execution_count": 9,
   "metadata": {},
   "outputs": [
    {
     "data": {
      "text/html": [
       "<div>\n",
       "<style scoped>\n",
       "    .dataframe tbody tr th:only-of-type {\n",
       "        vertical-align: middle;\n",
       "    }\n",
       "\n",
       "    .dataframe tbody tr th {\n",
       "        vertical-align: top;\n",
       "    }\n",
       "\n",
       "    .dataframe thead th {\n",
       "        text-align: right;\n",
       "    }\n",
       "</style>\n",
       "<table border=\"1\" class=\"dataframe\">\n",
       "  <thead>\n",
       "    <tr style=\"text-align: right;\">\n",
       "      <th></th>\n",
       "      <th>ANO</th>\n",
       "      <th>COD_DPTO</th>\n",
       "      <th>COD_MUNICIPIO</th>\n",
       "      <th>SEMANA</th>\n",
       "      <th>DENGUE</th>\n",
       "      <th>DENGUE GRAVE</th>\n",
       "      <th>MORTALIDAD POR DENGUE</th>\n",
       "    </tr>\n",
       "  </thead>\n",
       "  <tbody>\n",
       "    <tr>\n",
       "      <th>0</th>\n",
       "      <td>2007</td>\n",
       "      <td>05</td>\n",
       "      <td>05000</td>\n",
       "      <td>02</td>\n",
       "      <td>1</td>\n",
       "      <td>&lt;NA&gt;</td>\n",
       "      <td>&lt;NA&gt;</td>\n",
       "    </tr>\n",
       "    <tr>\n",
       "      <th>1</th>\n",
       "      <td>2007</td>\n",
       "      <td>05</td>\n",
       "      <td>05000</td>\n",
       "      <td>03</td>\n",
       "      <td>&lt;NA&gt;</td>\n",
       "      <td>2</td>\n",
       "      <td>&lt;NA&gt;</td>\n",
       "    </tr>\n",
       "    <tr>\n",
       "      <th>2</th>\n",
       "      <td>2007</td>\n",
       "      <td>05</td>\n",
       "      <td>05000</td>\n",
       "      <td>04</td>\n",
       "      <td>4</td>\n",
       "      <td>&lt;NA&gt;</td>\n",
       "      <td>&lt;NA&gt;</td>\n",
       "    </tr>\n",
       "    <tr>\n",
       "      <th>3</th>\n",
       "      <td>2007</td>\n",
       "      <td>05</td>\n",
       "      <td>05000</td>\n",
       "      <td>05</td>\n",
       "      <td>11</td>\n",
       "      <td>&lt;NA&gt;</td>\n",
       "      <td>&lt;NA&gt;</td>\n",
       "    </tr>\n",
       "    <tr>\n",
       "      <th>4</th>\n",
       "      <td>2007</td>\n",
       "      <td>05</td>\n",
       "      <td>05000</td>\n",
       "      <td>06</td>\n",
       "      <td>4</td>\n",
       "      <td>2</td>\n",
       "      <td>&lt;NA&gt;</td>\n",
       "    </tr>\n",
       "    <tr>\n",
       "      <th>...</th>\n",
       "      <td>...</td>\n",
       "      <td>...</td>\n",
       "      <td>...</td>\n",
       "      <td>...</td>\n",
       "      <td>...</td>\n",
       "      <td>...</td>\n",
       "      <td>...</td>\n",
       "    </tr>\n",
       "    <tr>\n",
       "      <th>47</th>\n",
       "      <td>2021</td>\n",
       "      <td>99</td>\n",
       "      <td>99624</td>\n",
       "      <td>48</td>\n",
       "      <td>0</td>\n",
       "      <td>0</td>\n",
       "      <td>0</td>\n",
       "    </tr>\n",
       "    <tr>\n",
       "      <th>48</th>\n",
       "      <td>2021</td>\n",
       "      <td>99</td>\n",
       "      <td>99624</td>\n",
       "      <td>49</td>\n",
       "      <td>0</td>\n",
       "      <td>0</td>\n",
       "      <td>0</td>\n",
       "    </tr>\n",
       "    <tr>\n",
       "      <th>49</th>\n",
       "      <td>2021</td>\n",
       "      <td>99</td>\n",
       "      <td>99624</td>\n",
       "      <td>50</td>\n",
       "      <td>0</td>\n",
       "      <td>0</td>\n",
       "      <td>0</td>\n",
       "    </tr>\n",
       "    <tr>\n",
       "      <th>50</th>\n",
       "      <td>2021</td>\n",
       "      <td>99</td>\n",
       "      <td>99624</td>\n",
       "      <td>51</td>\n",
       "      <td>0</td>\n",
       "      <td>0</td>\n",
       "      <td>0</td>\n",
       "    </tr>\n",
       "    <tr>\n",
       "      <th>51</th>\n",
       "      <td>2021</td>\n",
       "      <td>99</td>\n",
       "      <td>99624</td>\n",
       "      <td>52</td>\n",
       "      <td>0</td>\n",
       "      <td>0</td>\n",
       "      <td>0</td>\n",
       "    </tr>\n",
       "  </tbody>\n",
       "</table>\n",
       "<p>314989 rows × 7 columns</p>\n",
       "</div>"
      ],
      "text/plain": [
       "     ANO COD_DPTO COD_MUNICIPIO SEMANA  DENGUE  DENGUE GRAVE  \\\n",
       "0   2007       05         05000     02       1          <NA>   \n",
       "1   2007       05         05000     03    <NA>             2   \n",
       "2   2007       05         05000     04       4          <NA>   \n",
       "3   2007       05         05000     05      11          <NA>   \n",
       "4   2007       05         05000     06       4             2   \n",
       "..   ...      ...           ...    ...     ...           ...   \n",
       "47  2021       99         99624     48       0             0   \n",
       "48  2021       99         99624     49       0             0   \n",
       "49  2021       99         99624     50       0             0   \n",
       "50  2021       99         99624     51       0             0   \n",
       "51  2021       99         99624     52       0             0   \n",
       "\n",
       "    MORTALIDAD POR DENGUE  \n",
       "0                    <NA>  \n",
       "1                    <NA>  \n",
       "2                    <NA>  \n",
       "3                    <NA>  \n",
       "4                    <NA>  \n",
       "..                    ...  \n",
       "47                      0  \n",
       "48                      0  \n",
       "49                      0  \n",
       "50                      0  \n",
       "51                      0  \n",
       "\n",
       "[314989 rows x 7 columns]"
      ]
     },
     "execution_count": 9,
     "metadata": {},
     "output_type": "execute_result"
    }
   ],
   "source": [
    "df_dengue_2007_2020 = pd.concat([df_dengue_2007_2018]+dfs_2019_2020)\n",
    "df_dengue_2007_2020 = prep.re_assert_cod_datatypes(df_dengue_2007_2020)\n",
    "df_dengue_2007_2020[\"COD_MUNICIPIO\"] = df_dengue_2007_2020[\"COD_MUNICIPIO\"].apply(lambda x: str(x).zfill(5))\n",
    "df_dengue_2007_2020"
   ]
  },
  {
   "cell_type": "code",
   "execution_count": 10,
   "metadata": {},
   "outputs": [
    {
     "data": {
      "text/html": [
       "<div>\n",
       "<style scoped>\n",
       "    .dataframe tbody tr th:only-of-type {\n",
       "        vertical-align: middle;\n",
       "    }\n",
       "\n",
       "    .dataframe tbody tr th {\n",
       "        vertical-align: top;\n",
       "    }\n",
       "\n",
       "    .dataframe thead th {\n",
       "        text-align: right;\n",
       "    }\n",
       "</style>\n",
       "<table border=\"1\" class=\"dataframe\">\n",
       "  <thead>\n",
       "    <tr style=\"text-align: right;\">\n",
       "      <th></th>\n",
       "      <th>COD_DPTO</th>\n",
       "      <th>COD_MUNICIPIO</th>\n",
       "    </tr>\n",
       "  </thead>\n",
       "  <tbody>\n",
       "    <tr>\n",
       "      <th>0</th>\n",
       "      <td>91</td>\n",
       "      <td>91000</td>\n",
       "    </tr>\n",
       "  </tbody>\n",
       "</table>\n",
       "</div>"
      ],
      "text/plain": [
       "   COD_DPTO  COD_MUNICIPIO\n",
       "0        91          91000"
      ]
     },
     "execution_count": 10,
     "metadata": {},
     "output_type": "execute_result"
    }
   ],
   "source": [
    "df_cities = pd.read_csv(path_base+\"src_general/departments.csv\")[[\"COD_DPTO\",\"COD_MUNICIPIO\"]]\n",
    "#Removes unknown or foreign dengue cases\n",
    "df_cities = df_cities[~df_cities[\"COD_DPTO\"].isin([0,1])]\n",
    "#df_cities = df_cities.apply(prep.get_composite_city_code, axis = 1)\n",
    "df_cities.head(1)"
   ]
  },
  {
   "cell_type": "code",
   "execution_count": 11,
   "metadata": {},
   "outputs": [
    {
     "data": {
      "text/html": [
       "<div>\n",
       "<style scoped>\n",
       "    .dataframe tbody tr th:only-of-type {\n",
       "        vertical-align: middle;\n",
       "    }\n",
       "\n",
       "    .dataframe tbody tr th {\n",
       "        vertical-align: top;\n",
       "    }\n",
       "\n",
       "    .dataframe thead th {\n",
       "        text-align: right;\n",
       "    }\n",
       "</style>\n",
       "<table border=\"1\" class=\"dataframe\">\n",
       "  <thead>\n",
       "    <tr style=\"text-align: right;\">\n",
       "      <th></th>\n",
       "      <th>ANO</th>\n",
       "      <th>SEMANA</th>\n",
       "      <th>COD_MUNICIPIO</th>\n",
       "      <th>COD_DPTO</th>\n",
       "    </tr>\n",
       "    <tr>\n",
       "      <th>FECHA</th>\n",
       "      <th></th>\n",
       "      <th></th>\n",
       "      <th></th>\n",
       "      <th></th>\n",
       "    </tr>\n",
       "  </thead>\n",
       "  <tbody>\n",
       "    <tr>\n",
       "      <th>2021-12-05</th>\n",
       "      <td>2021</td>\n",
       "      <td>49</td>\n",
       "      <td>99624</td>\n",
       "      <td>99</td>\n",
       "    </tr>\n",
       "    <tr>\n",
       "      <th>2021-12-12</th>\n",
       "      <td>2021</td>\n",
       "      <td>50</td>\n",
       "      <td>99624</td>\n",
       "      <td>99</td>\n",
       "    </tr>\n",
       "    <tr>\n",
       "      <th>2021-12-19</th>\n",
       "      <td>2021</td>\n",
       "      <td>51</td>\n",
       "      <td>99624</td>\n",
       "      <td>99</td>\n",
       "    </tr>\n",
       "    <tr>\n",
       "      <th>2021-12-26</th>\n",
       "      <td>2021</td>\n",
       "      <td>52</td>\n",
       "      <td>99624</td>\n",
       "      <td>99</td>\n",
       "    </tr>\n",
       "    <tr>\n",
       "      <th>2022-01-02</th>\n",
       "      <td>2022</td>\n",
       "      <td>01</td>\n",
       "      <td>99624</td>\n",
       "      <td>99</td>\n",
       "    </tr>\n",
       "  </tbody>\n",
       "</table>\n",
       "</div>"
      ],
      "text/plain": [
       "             ANO SEMANA COD_MUNICIPIO COD_DPTO\n",
       "FECHA                                         \n",
       "2021-12-05  2021     49         99624       99\n",
       "2021-12-12  2021     50         99624       99\n",
       "2021-12-19  2021     51         99624       99\n",
       "2021-12-26  2021     52         99624       99\n",
       "2022-01-02  2022     01         99624       99"
      ]
     },
     "execution_count": 11,
     "metadata": {},
     "output_type": "execute_result"
    }
   ],
   "source": [
    "df_weeks_cities = prep.combine_cities_and_weeks(df_calendar_weekly, df_cities)\n",
    "df_weeks_cities[\"COD_MUNICIPIO\"] = df_weeks_cities[\"COD_MUNICIPIO\"].apply(lambda x: str(x).zfill(5))\n",
    "df_dengue_2007_2020[\"COD_MUNICIPIO\"] = df_dengue_2007_2020[\"COD_MUNICIPIO\"].apply(lambda x: str(x).zfill(5))\n",
    "df_weeks_cities[\"SEMANA\"] = df_weeks_cities[\"SEMANA\"].apply(lambda x: str(x).zfill(2))\n",
    "df_dengue_2007_2020[\"SEMANA\"] = df_dengue_2007_2020[\"SEMANA\"].apply(lambda x: str(x).zfill(2))\n",
    "df_weeks_cities[\"ANO\"] = df_weeks_cities[\"ANO\"].apply(lambda x: str(x).zfill(4))\n",
    "df_dengue_2007_2020[\"ANO\"] = df_dengue_2007_2020[\"ANO\"].apply(lambda x: str(x).zfill(4))\n",
    "df_weeks_cities = prep.re_assert_cod_datatypes(df_weeks_cities)\n",
    "df_weeks_cities.tail(5)"
   ]
  },
  {
   "cell_type": "code",
   "execution_count": 12,
   "metadata": {},
   "outputs": [],
   "source": [
    "df_dengue_city_week = prep.combine_cities_weeks_and_dengue(df_weeks_cities, df_dengue_2007_2020)\n",
    "df_dengue_city_week = df_dengue_city_week.fillna(0)\n",
    "df_dengue_city_week[\"ANO\"] = df_dengue_city_week.astype(int)\n",
    "#df_dengue_city_week = df_dengue_city_week.query(\"ANO >= 2007 & ANO <= 2020\")\n",
    "df_dengue_city_week = df_dengue_city_week.query(\"ANO >= 2007 & ANO <= 2021\")\n",
    "#df_dengue_city_week = df_dengue_city_week[((df_dengue_city_week[\"SEMANA\"].astype(int)<=12) | (df_dengue_city_week[\"ANO\"]<=2020)) ]"
   ]
  },
  {
   "cell_type": "code",
   "execution_count": 13,
   "metadata": {},
   "outputs": [
    {
     "data": {
      "text/html": [
       "<div>\n",
       "<style scoped>\n",
       "    .dataframe tbody tr th:only-of-type {\n",
       "        vertical-align: middle;\n",
       "    }\n",
       "\n",
       "    .dataframe tbody tr th {\n",
       "        vertical-align: top;\n",
       "    }\n",
       "\n",
       "    .dataframe thead th {\n",
       "        text-align: right;\n",
       "    }\n",
       "</style>\n",
       "<table border=\"1\" class=\"dataframe\">\n",
       "  <thead>\n",
       "    <tr style=\"text-align: right;\">\n",
       "      <th></th>\n",
       "      <th>ANO</th>\n",
       "      <th>SEMANA</th>\n",
       "      <th>COD_MUNICIPIO</th>\n",
       "      <th>COD_DPTO</th>\n",
       "      <th>DENGUE</th>\n",
       "      <th>DENGUE GRAVE</th>\n",
       "      <th>MORTALIDAD POR DENGUE</th>\n",
       "    </tr>\n",
       "    <tr>\n",
       "      <th>FECHA</th>\n",
       "      <th></th>\n",
       "      <th></th>\n",
       "      <th></th>\n",
       "      <th></th>\n",
       "      <th></th>\n",
       "      <th></th>\n",
       "      <th></th>\n",
       "    </tr>\n",
       "  </thead>\n",
       "  <tbody>\n",
       "    <tr>\n",
       "      <th>2021-11-28</th>\n",
       "      <td>2021</td>\n",
       "      <td>48</td>\n",
       "      <td>99624</td>\n",
       "      <td>99</td>\n",
       "      <td>0</td>\n",
       "      <td>0</td>\n",
       "      <td>0</td>\n",
       "    </tr>\n",
       "    <tr>\n",
       "      <th>2021-12-05</th>\n",
       "      <td>2021</td>\n",
       "      <td>49</td>\n",
       "      <td>99624</td>\n",
       "      <td>99</td>\n",
       "      <td>0</td>\n",
       "      <td>0</td>\n",
       "      <td>0</td>\n",
       "    </tr>\n",
       "    <tr>\n",
       "      <th>2021-12-12</th>\n",
       "      <td>2021</td>\n",
       "      <td>50</td>\n",
       "      <td>99624</td>\n",
       "      <td>99</td>\n",
       "      <td>0</td>\n",
       "      <td>0</td>\n",
       "      <td>0</td>\n",
       "    </tr>\n",
       "    <tr>\n",
       "      <th>2021-12-19</th>\n",
       "      <td>2021</td>\n",
       "      <td>51</td>\n",
       "      <td>99624</td>\n",
       "      <td>99</td>\n",
       "      <td>0</td>\n",
       "      <td>0</td>\n",
       "      <td>0</td>\n",
       "    </tr>\n",
       "    <tr>\n",
       "      <th>2021-12-26</th>\n",
       "      <td>2021</td>\n",
       "      <td>52</td>\n",
       "      <td>99624</td>\n",
       "      <td>99</td>\n",
       "      <td>0</td>\n",
       "      <td>0</td>\n",
       "      <td>0</td>\n",
       "    </tr>\n",
       "  </tbody>\n",
       "</table>\n",
       "</div>"
      ],
      "text/plain": [
       "             ANO SEMANA COD_MUNICIPIO COD_DPTO  DENGUE  DENGUE GRAVE  \\\n",
       "FECHA                                                                  \n",
       "2021-11-28  2021     48         99624       99       0             0   \n",
       "2021-12-05  2021     49         99624       99       0             0   \n",
       "2021-12-12  2021     50         99624       99       0             0   \n",
       "2021-12-19  2021     51         99624       99       0             0   \n",
       "2021-12-26  2021     52         99624       99       0             0   \n",
       "\n",
       "            MORTALIDAD POR DENGUE  \n",
       "FECHA                              \n",
       "2021-11-28                      0  \n",
       "2021-12-05                      0  \n",
       "2021-12-12                      0  \n",
       "2021-12-19                      0  \n",
       "2021-12-26                      0  "
      ]
     },
     "execution_count": 13,
     "metadata": {},
     "output_type": "execute_result"
    }
   ],
   "source": [
    "df_dengue_city_week.tail()"
   ]
  },
  {
   "cell_type": "code",
   "execution_count": 14,
   "metadata": {},
   "outputs": [],
   "source": [
    "df_dengue_city_week.to_csv(path_base+\"prepared_dengue/dengue_weekly_2007_2021.csv\", index = True)"
   ]
  },
  {
   "cell_type": "markdown",
   "metadata": {},
   "source": [
    "# Using prepared data"
   ]
  },
  {
   "cell_type": "code",
   "execution_count": 15,
   "metadata": {},
   "outputs": [
    {
     "data": {
      "text/html": [
       "<div>\n",
       "<style scoped>\n",
       "    .dataframe tbody tr th:only-of-type {\n",
       "        vertical-align: middle;\n",
       "    }\n",
       "\n",
       "    .dataframe tbody tr th {\n",
       "        vertical-align: top;\n",
       "    }\n",
       "\n",
       "    .dataframe thead th {\n",
       "        text-align: right;\n",
       "    }\n",
       "</style>\n",
       "<table border=\"1\" class=\"dataframe\">\n",
       "  <thead>\n",
       "    <tr style=\"text-align: right;\">\n",
       "      <th></th>\n",
       "      <th>ANO</th>\n",
       "      <th>SEMANA</th>\n",
       "      <th>COD_MUNICIPIO</th>\n",
       "      <th>COD_DPTO</th>\n",
       "      <th>DENGUE</th>\n",
       "      <th>DENGUE GRAVE</th>\n",
       "      <th>MORTALIDAD POR DENGUE</th>\n",
       "    </tr>\n",
       "    <tr>\n",
       "      <th>FECHA</th>\n",
       "      <th></th>\n",
       "      <th></th>\n",
       "      <th></th>\n",
       "      <th></th>\n",
       "      <th></th>\n",
       "      <th></th>\n",
       "      <th></th>\n",
       "    </tr>\n",
       "  </thead>\n",
       "  <tbody>\n",
       "    <tr>\n",
       "      <th>2006-12-31</th>\n",
       "      <td>2007</td>\n",
       "      <td>01</td>\n",
       "      <td>91000</td>\n",
       "      <td>91</td>\n",
       "      <td>0</td>\n",
       "      <td>0</td>\n",
       "      <td>0</td>\n",
       "    </tr>\n",
       "    <tr>\n",
       "      <th>2007-01-07</th>\n",
       "      <td>2007</td>\n",
       "      <td>02</td>\n",
       "      <td>91000</td>\n",
       "      <td>91</td>\n",
       "      <td>0</td>\n",
       "      <td>0</td>\n",
       "      <td>0</td>\n",
       "    </tr>\n",
       "    <tr>\n",
       "      <th>2007-01-14</th>\n",
       "      <td>2007</td>\n",
       "      <td>03</td>\n",
       "      <td>91000</td>\n",
       "      <td>91</td>\n",
       "      <td>0</td>\n",
       "      <td>0</td>\n",
       "      <td>0</td>\n",
       "    </tr>\n",
       "    <tr>\n",
       "      <th>2007-01-21</th>\n",
       "      <td>2007</td>\n",
       "      <td>04</td>\n",
       "      <td>91000</td>\n",
       "      <td>91</td>\n",
       "      <td>2</td>\n",
       "      <td>0</td>\n",
       "      <td>0</td>\n",
       "    </tr>\n",
       "    <tr>\n",
       "      <th>2007-01-28</th>\n",
       "      <td>2007</td>\n",
       "      <td>05</td>\n",
       "      <td>91000</td>\n",
       "      <td>91</td>\n",
       "      <td>0</td>\n",
       "      <td>0</td>\n",
       "      <td>0</td>\n",
       "    </tr>\n",
       "  </tbody>\n",
       "</table>\n",
       "</div>"
      ],
      "text/plain": [
       "             ANO SEMANA COD_MUNICIPIO COD_DPTO  DENGUE  DENGUE GRAVE  \\\n",
       "FECHA                                                                  \n",
       "2006-12-31  2007     01         91000       91       0             0   \n",
       "2007-01-07  2007     02         91000       91       0             0   \n",
       "2007-01-14  2007     03         91000       91       0             0   \n",
       "2007-01-21  2007     04         91000       91       2             0   \n",
       "2007-01-28  2007     05         91000       91       0             0   \n",
       "\n",
       "            MORTALIDAD POR DENGUE  \n",
       "FECHA                              \n",
       "2006-12-31                      0  \n",
       "2007-01-07                      0  \n",
       "2007-01-14                      0  \n",
       "2007-01-21                      0  \n",
       "2007-01-28                      0  "
      ]
     },
     "execution_count": 15,
     "metadata": {},
     "output_type": "execute_result"
    }
   ],
   "source": [
    "df_dengue_city_week = pd.read_csv(path_base+\"prepared_dengue/dengue_weekly_2007_2021.csv\", index_col = 0, dtype = {\"COD_DPTO\":str,\"SEMANA\":str, \"COD_MUNICIPIO\":str})\n",
    "df_dengue_city_week.head()"
   ]
  },
  {
   "cell_type": "code",
   "execution_count": 16,
   "metadata": {},
   "outputs": [
    {
     "data": {
      "text/plain": [
       "DENGUE                   1073284\n",
       "DENGUE GRAVE               42471\n",
       "MORTALIDAD POR DENGUE       1570\n",
       "dtype: int64"
      ]
     },
     "execution_count": 16,
     "metadata": {},
     "output_type": "execute_result"
    }
   ],
   "source": [
    "df_dengue_city_week[[\"DENGUE\",\"DENGUE GRAVE\",\"MORTALIDAD POR DENGUE\"]].sum()"
   ]
  },
  {
   "cell_type": "code",
   "execution_count": 17,
   "metadata": {},
   "outputs": [
    {
     "data": {
      "text/plain": [
       "[<matplotlib.lines.Line2D at 0x7ffb031a1160>]"
      ]
     },
     "execution_count": 17,
     "metadata": {},
     "output_type": "execute_result"
    },
    {
     "data": {
      "image/png": "[encoded data removed]",
      "text/plain": [
       "<Figure size 1800x1200 with 1 Axes>"
      ]
     },
     "metadata": {
      "needs_background": "light"
     },
     "output_type": "display_data"
    }
   ],
   "source": [
    "df_dengue_city_week = df_dengue_city_week\n",
    "df_sm = df_dengue_city_week[df_dengue_city_week[\"COD_MUNICIPIO\"]==\"05001\"]\n",
    "fig = plt.figure(dpi=300)\n",
    "plt.plot(df_sm.index,df_sm[\"DENGUE\"], color = \"red\")"
   ]
  },
  {
   "cell_type": "code",
   "execution_count": null,
   "metadata": {},
   "outputs": [],
   "source": []
  }
 ],
 "metadata": {
  "interpreter": {
   "hash": "aa4995a4b03db85ccb1b16d764bda813f00c5260fd6a71e0b1119db65bdf3431"
  },
  "kernelspec": {
   "display_name": "Python 3",
   "language": "python",
   "name": "python3"
  },
  "language_info": {
   "codemirror_mode": {
    "name": "ipython",
    "version": 3
   },
   "file_extension": ".py",
   "mimetype": "text/x-python",
   "name": "python",
   "nbconvert_exporter": "python",
   "pygments_lexer": "ipython3",
   "version": "3.8.5"
  }
 },
 "nbformat": 4,
 "nbformat_minor": 4
}
