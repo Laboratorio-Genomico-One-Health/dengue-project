{
 "cells": [
  {
   "cell_type": "code",
   "execution_count": null,
   "metadata": {},
   "outputs": [],
   "source": [
    "from google_drive_downloader import GoogleDriveDownloader as gdd\n",
    "import pandas as pd\n",
    "from sodapy import Socrata\n",
    "import requests\n",
    "from selenium import webdriver\n",
    "from selenium.webdriver.common.keys import Keys\n",
    "from selenium.webdriver.support.ui import Select\n",
    "import time\n",
    "import selenium\n",
    "from notebook import notebookapp\n",
    "import urllib\n",
    "import json\n",
    "import os\n",
    "import ipykernel"
   ]
  },
  {
   "cell_type": "code",
   "execution_count": null,
   "metadata": {},
   "outputs": [],
   "source": [
    "import zipfile\n",
    "import glob"
   ]
  },
  {
   "cell_type": "code",
   "execution_count": null,
   "metadata": {},
   "outputs": [],
   "source": [
    "def notebook_path():\n",
    "    \"\"\"Returns the absolute path of the Notebook or None if it cannot be determined\n",
    "    NOTE: works only when the security is token-based or there is also no password\n",
    "    \"\"\"\n",
    "    connection_file = os.path.basename(ipykernel.get_connection_file())\n",
    "    kernel_id = connection_file.split('-', 1)[1].split('.')[0]\n",
    "\n",
    "    for srv in notebookapp.list_running_servers():\n",
    "        try:\n",
    "            if srv['token']=='' and not srv['password']:  # No token and no password, ahem...\n",
    "                req = urllib.request.urlopen(srv['url']+'api/sessions')\n",
    "            else:\n",
    "                req = urllib.request.urlopen(srv['url']+'api/sessions?token='+srv['token'])\n",
    "            sessions = json.load(req)\n",
    "            for sess in sessions:\n",
    "                if sess['kernel']['id'] == kernel_id:\n",
    "                    return os.path.join(srv['notebook_dir'],sess['notebook']['path'])\n",
    "        except:\n",
    "            pass  # There may be stale entries in the runtime directory \n",
    "    return None\n",
    "\n",
    "def make_folder_if_not_exists(folder_path):\n",
    "    if not os.path.exists(folder_path):\n",
    "        os.makedirs(folder_path)"
   ]
  },
  {
   "cell_type": "code",
   "execution_count": null,
   "metadata": {},
   "outputs": [],
   "source": [
    "#export\n",
    "def download_file_maps(route = \"./local/data/\", filename = \"colombia.geo.json\"):\n",
    "    \n",
    "    gdd.download_file_from_google_drive(file_id='1wEiDe2B_ojoaLUnV3Ik67t_YpAC2nbPA',\n",
    "                                        dest_path=route+filename,\n",
    "                                        unzip=False, showsize=True, overwrite = True)\n",
    "    return "
   ]
  },
  {
   "cell_type": "code",
   "execution_count": null,
   "metadata": {},
   "outputs": [
    {
     "name": "stdout",
     "output_type": "stream",
     "text": [
      "Downloading 1wEiDe2B_ojoaLUnV3Ik67t_YpAC2nbPA into ./local/data/colombia.geo.json... \n",
      "1.4 MiB B    Done.\n"
     ]
    }
   ],
   "source": [
    "download_file_maps()"
   ]
  },
  {
   "cell_type": "code",
   "execution_count": null,
   "metadata": {},
   "outputs": [],
   "source": [
    "#export\n",
    "def download_files_raw_dengue(route = \"./local/data/\"):\n",
    "    gdd.download_file_from_google_drive(file_id='1xHXshzID1MBrKZKVvnc6JeO_ZU04HvQ_',\n",
    "                                        dest_path=route+\"dengue2007-2017.csv\",\n",
    "                                        unzip=False, showsize=True, overwrite = True)\n",
    "    return\n"
   ]
  },
  {
   "cell_type": "code",
   "execution_count": null,
   "metadata": {},
   "outputs": [
    {
     "name": "stdout",
     "output_type": "stream",
     "text": [
      "Downloading 1xHXshzID1MBrKZKVvnc6JeO_ZU04HvQ_ into ./local/data/dengue2007-2017.csv... \n",
      "65.2 MiB                                                                                                                                                                   Done.\n"
     ]
    }
   ],
   "source": [
    "download_files_raw_dengue()"
   ]
  },
  {
   "cell_type": "code",
   "execution_count": null,
   "metadata": {},
   "outputs": [],
   "source": [
    "#export\n",
    "def download_files_processed_dengue(route = \"./local/data/\"):\n",
    "    gdd.download_file_from_google_drive(file_id='1GAteakYZ8LlNFsQG1B8B3-E_1mlKy7qj',\n",
    "                                        dest_path=route+\"dengue_weekly_2007_2020.csv\",\n",
    "                                        unzip=False, showsize=True, overwrite = True)\n",
    "    return"
   ]
  },
  {
   "cell_type": "code",
   "execution_count": null,
   "metadata": {},
   "outputs": [
    {
     "name": "stdout",
     "output_type": "stream",
     "text": [
      "Downloading 1GAteakYZ8LlNFsQG1B8B3-E_1mlKy7qj into ./local/data/dengue_weekly_2007_2020.csv... \n",
      "28.5 MiB                                                      Done.\n"
     ]
    }
   ],
   "source": [
    "download_files_processed_dengue()"
   ]
  },
  {
   "cell_type": "code",
   "execution_count": null,
   "metadata": {},
   "outputs": [],
   "source": [
    "#export\n",
    "def download_file_population(route = \"./local/data/\", filename = \"population.csv\"):\n",
    "    \n",
    "    gdd.download_file_from_google_drive(file_id='1RU2C4DoAubhXEhfVYLOtL4Yjg1LPERIc',\n",
    "                                        dest_path=route+filename,\n",
    "                                        unzip=False, showsize=True, overwrite = True)\n",
    "    return "
   ]
  },
  {
   "cell_type": "code",
   "execution_count": null,
   "metadata": {},
   "outputs": [
    {
     "name": "stdout",
     "output_type": "stream",
     "text": [
      "Downloading 1RU2C4DoAubhXEhfVYLOtL4Yjg1LPERIc into ./local/data/population.csv... \n",
      "640.0 KiB Done.\n"
     ]
    }
   ],
   "source": [
    "download_file_population()"
   ]
  },
  {
   "cell_type": "code",
   "execution_count": null,
   "metadata": {},
   "outputs": [
    {
     "name": "stdout",
     "output_type": "stream",
     "text": [
      "Downloading 1Bgya5O3FtPo6zasYaKRc3J-U_l2ZcYHw into ./local/data/data_per_year.csv... \n",
      "448.0 KiB Done.\n"
     ]
    }
   ],
   "source": [
    "def download_file_year(route = \"./local/data/\", filename = \"data_per_year.csv\"):\n",
    "    \n",
    "    gdd.download_file_from_google_drive(file_id='1Bgya5O3FtPo6zasYaKRc3J-U_l2ZcYHw',\n",
    "                                        dest_path=route+filename,\n",
    "                                        unzip=False, showsize=True, overwrite = True)\n",
    "    return \n",
    "download_file_year()"
   ]
  },
  {
   "cell_type": "code",
   "execution_count": null,
   "metadata": {},
   "outputs": [],
   "source": [
    "#export\n",
    "def download_file_departments(route = \"./local/data/\", filename = \"departments.csv\"):\n",
    "    \n",
    "    gdd.download_file_from_google_drive(file_id='1ImNzdFwQF91aA4qE_7XKpOU7AFK1f7WS',\n",
    "                                        dest_path=route+filename,\n",
    "                                        unzip=False, showsize=True, overwrite = True)\n",
    "    return "
   ]
  },
  {
   "cell_type": "code",
   "execution_count": null,
   "metadata": {},
   "outputs": [
    {
     "name": "stdout",
     "output_type": "stream",
     "text": [
      "Downloading 1ImNzdFwQF91aA4qE_7XKpOU7AFK1f7WS into ./local/data/departments.csv... \n",
      "32.0 KiB Done.\n"
     ]
    }
   ],
   "source": [
    "download_file_departments()"
   ]
  },
  {
   "cell_type": "code",
   "execution_count": null,
   "metadata": {},
   "outputs": [],
   "source": [
    "#export\n",
    "def download_file_sstoi(route = \"./local/data/\", filename = \"sstoi.txt\"):\n",
    "    url = 'https://www.cpc.ncep.noaa.gov/data/indices/sstoi.indices'\n",
    "    r = requests.get(url, allow_redirects=True)\n",
    "    open(route+filename, 'wb').write(r.content)\n",
    "    \n",
    "def download_file_oni(route = \"./local/data/\", filename = \"oni.txt\"):\n",
    "    url = 'https://psl.noaa.gov/data/correlation/oni.data'\n",
    "    r = requests.get(url, allow_redirects=True)\n",
    "    open(route+filename, 'wb').write(r.content)\n",
    "    \n",
    "    \n",
    "def download_file_tni(route = \"./local/data/\", filename = \"tni.txt\"):\n",
    "    url = 'https://psl.noaa.gov/data/correlation/tni.data'\n",
    "    r = requests.get(url, allow_redirects=True)\n",
    "    open(route+filename, 'wb').write(r.content)\n",
    "    \n",
    "def download_file_meiv2(route = \"./local/data/\", filename = \"meiv2.txt\"):\n",
    "    url = 'https://psl.noaa.gov/enso/mei/data/meiv2.data'\n",
    "    r = requests.get(url, allow_redirects=True)\n",
    "    open(route+filename, 'wb').write(r.content)"
   ]
  },
  {
   "cell_type": "code",
   "execution_count": null,
   "metadata": {},
   "outputs": [],
   "source": [
    "download_file_sstoi()\n",
    "download_file_tni()\n",
    "download_file_oni()\n",
    "download_file_meiv2()"
   ]
  },
  {
   "cell_type": "code",
   "execution_count": null,
   "metadata": {},
   "outputs": [],
   "source": []
  },
  {
   "cell_type": "markdown",
   "metadata": {},
   "source": [
    "# CLIMATE DATA DOWNLOAD"
   ]
  },
  {
   "cell_type": "code",
   "execution_count": null,
   "metadata": {},
   "outputs": [
    {
     "data": {
      "text/plain": [
       "'D:/MyFiles/Research_Work/CW_One_Health/dengue-project/local/data/'"
      ]
     },
     "execution_count": null,
     "metadata": {},
     "output_type": "execute_result"
    }
   ],
   "source": [
    "setup = \"repo\" #alternativo: local\n",
    "if setup == \"repo\":\n",
    "    data_folder = \"/\".join(notebook_path().replace(\"\\\\\",\"/\").split(\"/\")[:-1]) + \"/local/data/\"\n",
    "    #data_folder = \"./local/data/\"\n",
    "else:\n",
    "    data_folder = \"/\".join(notebook_path().replace(\"\\\\\",\"/\").split(\"/\")[:-1])  + \"/data/\"\n",
    "make_folder_if_not_exists(data_folder)\n",
    "data_folder"
   ]
  },
  {
   "cell_type": "code",
   "execution_count": null,
   "metadata": {},
   "outputs": [],
   "source": [
    "data_folder = \"D:/MyFiles/Research_Work/CW_One_Health/dengue-project/local/data/\""
   ]
  },
  {
   "cell_type": "markdown",
   "metadata": {},
   "source": [
    "Amazonas\n",
    "Antioquia\n",
    "Arauca\n",
    "Archipiélago de San Andres, Providencia y Santa Catalina\n",
    "Atlantico\n",
    "Bogotá\n",
    "Bolivar\n",
    "Boyacá\n",
    "Caldas\n",
    "Caquetá\n",
    "Casanare\n",
    "Cauca\n",
    "Cesar\n",
    "Chocó\n",
    "Córdoba\n",
    "Cundinamarca\n",
    "Guainía\n",
    "Guaviare\n",
    "Huila\n",
    "La Guajira\n",
    "Magdalena\n",
    "Meta\n",
    "Nariño\n",
    "Norte de Santander\n",
    "Putumayo\n",
    "Quindío\n",
    "Risaralda\n",
    "Santander\n",
    "Sucre\n",
    "Tolima\n",
    "Valle del Cauca"
   ]
  },
  {
   "cell_type": "code",
   "execution_count": null,
   "metadata": {},
   "outputs": [],
   "source": [
    "department = \"Antioquia\"\n",
    "municipality = \"Medellín\"\n",
    "municipality_folder = \"MED_DATA/\"\n",
    "dl_folder = data_folder + municipality_folder\n",
    "make_folder_if_not_exists(dl_folder)"
   ]
  },
  {
   "cell_type": "code",
   "execution_count": null,
   "metadata": {},
   "outputs": [
    {
     "data": {
      "text/plain": [
       "'D:\\\\MyFiles\\\\Research_Work\\\\CW_One_Health\\\\dengue-project\\\\local\\\\data\\\\MED_DATA\\\\'"
      ]
     },
     "execution_count": null,
     "metadata": {},
     "output_type": "execute_result"
    }
   ],
   "source": [
    "dl_folder = dl_folder.replace(\"/\",\"\\\\\")\n",
    "dl_folder"
   ]
  },
  {
   "cell_type": "markdown",
   "metadata": {},
   "source": [
    "# IDEAM MAP DOWNLOAD"
   ]
  },
  {
   "cell_type": "code",
   "execution_count": null,
   "metadata": {},
   "outputs": [],
   "source": [
    "def download_data_with_selenium(department, municipality, variable, interval, dl_folder):\n",
    "    variable_codes = {\n",
    "        \"TEMPERATURA\":\"TA2_AUT_60\",\n",
    "        \"HUM RELATIVA\":\"HRA2_AUT_60\",\n",
    "        \"PRECIPITACION\":\"PTPM_CON\",\n",
    "        \"VEL VIENTO\":\"VV_AUT_10\",\n",
    "        \"RAD SOLAR\":\"RSGVAL_AUT_60\"\n",
    "    }\n",
    "    options = selenium.webdriver.ChromeOptions()\n",
    "    options.add_experimental_option(\"prefs\", {\"download.default_directory\": dl_folder})\n",
    "    options.add_argument(\"--headless\")  \n",
    "    options.add_argument(\"--window-size=1920,1080\")\n",
    "    driver = selenium.webdriver.Chrome(chrome_options=options) \n",
    "    driver.get(\"http://dhime.ideam.gov.co/atencionciudadano/\")\n",
    "    got_modal = False\n",
    "    #Find the modal and click it out\n",
    "    while not got_modal:\n",
    "        try:\n",
    "            elem = driver.find_element_by_xpath('//*[@id=\"jimu_dijit_CheckBox_0\"]/div[1]')\n",
    "            elem.click()\n",
    "            time.sleep(1)\n",
    "            elem = driver.find_element_by_xpath('//*[@id=\"widgets_Splash_Widget_32\"]/div[2]/div[2]/div[2]/div[3]')\n",
    "            elem.click()\n",
    "            time.sleep(0.25)\n",
    "            got_modal = True\n",
    "        except:\n",
    "            time.sleep(1)\n",
    "            print(\"Retrying get modal\")\n",
    "        \n",
    "    got_datepickers = False\n",
    "    \n",
    "    while not got_datepickers:\n",
    "        try:\n",
    "            elem = driver.find_element_by_xpath('//*[@id=\"datepicker\"]')\n",
    "            elem.clear()\n",
    "            time.sleep(0.25)\n",
    "            elem.send_keys(interval[0])\n",
    "            time.sleep(0.25)\n",
    "            elem = driver.find_element_by_xpath('//*[@id=\"datepicker1\"]')\n",
    "            elem.clear()\n",
    "            time.sleep(0.25)\n",
    "            elem.send_keys(interval[1])\n",
    "            time.sleep(1)\n",
    "            got_datepickers = True\n",
    "        except:\n",
    "            time.sleep(0.25)\n",
    "            print(\"Retrying get datepickers\")\n",
    "    got_vars = False\n",
    "    while not got_vars:\n",
    "        try:\n",
    "            elem = driver.find_element_by_xpath('//*[@id=\"pnlEstandar\"]/table/tbody/tr[1]/td[2]/span')\n",
    "            elem.click()\n",
    "            elem.send_keys(variable)\n",
    "            elem.send_keys(Keys.ENTER)\n",
    "            time.sleep(1)\n",
    "            input_element = driver.find_element_by_xpath('//*[@id=\"DatosBuscar\"]/tbody/tr[1]/td[1]/input')\n",
    "            onclick_value = \"cargarEtiquetaEst('{}','')\".format(variable_codes[variable])\n",
    "            driver.execute_script(\"arguments[0].setAttribute(\\\"onclick\\\",\\\"{}\\\")\".format(onclick_value), input_element)\n",
    "            input_element.click()\n",
    "            time.sleep(3)\n",
    "            got_vars = True\n",
    "        except:\n",
    "            time.sleep(1)\n",
    "            print(\"Retrying variables\")\n",
    "\n",
    "    elem = driver.find_element_by_xpath('//*[@id=\"first\"]/table/tbody/tr[1]/td[2]/span')\n",
    "    elem.click()\n",
    "    elem.send_keys(department)\n",
    "    elem.send_keys(Keys.ENTER)\n",
    "    time.sleep(2)\n",
    "    elem = driver.find_element_by_xpath('//*[@id=\"first\"]/table/tbody/tr[2]/td[2]/span')\n",
    "    elem.click()\n",
    "    elem.send_keys(municipality)\n",
    "    elem.send_keys(Keys.ENTER)\n",
    "    time.sleep(2)\n",
    "    trs_stations = driver.find_elements_by_xpath('//*[@id=\"contenidoCantidadMetadata\"]/table/tbody/tr')\n",
    "    count = 0\n",
    "    for tr_station in trs_stations:\n",
    "        probable_values = int(tr_station.find_elements_by_tag_name(\"td\")[-1].text)\n",
    "        if probable_values > 0 and count <= 7:\n",
    "            select_box = tr_station.find_elements_by_tag_name(\"input\")[0]\n",
    "            select_box.click()\n",
    "            count+=1  \n",
    "    if len(trs_stations)>0:\n",
    "        for tr_station in reversed(trs_stations):\n",
    "            probable_values = int(tr_station.find_elements_by_tag_name(\"td\")[-1].text)\n",
    "            if probable_values > 0 and count <= 9:\n",
    "                select_box = tr_station.find_elements_by_tag_name(\"input\")[0]\n",
    "                if select_box.is_selected() == False:\n",
    "                    select_box.click()\n",
    "                    count+=1  \n",
    "    if count == 0:\n",
    "        driver.close()\n",
    "        return False\n",
    "    else:\n",
    "        elem = driver.find_element_by_xpath('//*[@id=\"first\"]/div[5]/div')\n",
    "        elem.click()\n",
    "        time.sleep(1)\n",
    "        elem = driver.find_element_by_xpath('//*[@id=\"second\"]/div/div[3]/div[1]')\n",
    "        elem.click()\n",
    "        time.sleep(1)\n",
    "        elem = driver.find_element_by_xpath('//*[@id=\"dijit_ConfirmDialog_1\"]/div[3]/span[1]')\n",
    "        elem.click()\n",
    "        time.sleep(25)\n",
    "        driver.close()\n",
    "    return True"
   ]
  },
  {
   "cell_type": "code",
   "execution_count": null,
   "metadata": {},
   "outputs": [],
   "source": [
    "#Downloads from IDEAM with Selenium\n",
    "variables = [\"PRECIPITACION\",\"HUM RELATIVA\",\"TEMPERATURA\",\"RAD SOLAR\"]\n",
    "#variables = [\"RAD SOLAR\"]\n",
    "date_intervals = [[\"01/01/2016\",\"31/12/2020\"]]"
   ]
  },
  {
   "cell_type": "code",
   "execution_count": null,
   "metadata": {},
   "outputs": [],
   "source": [
    "#Downloads from IDEAM with Selenium\n",
    "variables = [\"VEL VIENTO\"]\n",
    "#variables = [\"RAD SOLAR\"]\n",
    "date_intervals = [ [[\"01/01/{}\".format(year),\"31/01/{}\".format(year)],\n",
    "                    [\"01/02/{}\".format(year),\"29/02/{}\".format(year)],\n",
    "                    [\"01/03/{}\".format(year),\"31/03/{}\".format(year)],\n",
    "                    [\"01/04/{}\".format(year),\"30/04/{}\".format(year)],\n",
    "                    [\"01/05/{}\".format(year),\"31/05/{}\".format(year)],\n",
    "                    [\"01/06/{}\".format(year),\"30/06/{}\".format(year)],\n",
    "                    [\"01/07/{}\".format(year),\"31/07/{}\".format(year)],\n",
    "                    [\"01/08/{}\".format(year),\"31/08/{}\".format(year)],\n",
    "                    [\"01/09/{}\".format(year),\"30/09/{}\".format(year)],\n",
    "                    [\"01/10/{}\".format(year),\"31/10/{}\".format(year)],\n",
    "                    [\"01/11/{}\".format(year),\"30/11/{}\".format(year)],\n",
    "                    [\"01/12/{}\".format(year),\"31/12/{}\".format(year)]] \n",
    "                  for year in range(2007,2021)]\n",
    "date_intervals = [di for di_tup in date_intervals for di in di_tup]"
   ]
  },
  {
   "cell_type": "code",
   "execution_count": null,
   "metadata": {},
   "outputs": [
    {
     "name": "stderr",
     "output_type": "stream",
     "text": [
      "C:\\ProgramData\\Miniconda3\\envs\\dl\\lib\\site-packages\\ipykernel_launcher.py:13: DeprecationWarning: use options instead of chrome_options\n",
      "  del sys.path[0]\n"
     ]
    },
    {
     "name": "stdout",
     "output_type": "stream",
     "text": [
      "Retrying get modal\n",
      "Retrying get modal\n",
      "Started download for: Antioquia / Medellín / PRECIPITACION ['01/01/2016', '31/12/2020']\n",
      "Retrying get modal\n",
      "Retrying get modal\n",
      "Started download for: Antioquia / Medellín / HUM RELATIVA ['01/01/2016', '31/12/2020']\n",
      "Retrying get modal\n",
      "Retrying get modal\n",
      "Started download for: Antioquia / Medellín / TEMPERATURA ['01/01/2016', '31/12/2020']\n",
      "Retrying get modal\n",
      "Retrying get modal\n",
      "Started download for: Antioquia / Medellín / RAD SOLAR ['01/01/2016', '31/12/2020']\n"
     ]
    }
   ],
   "source": [
    "for data_interval in date_intervals:\n",
    "    for variable in variables:\n",
    "        res = download_data_with_selenium(department, municipality, variable, data_interval, dl_folder)\n",
    "        if res == True:\n",
    "            print(\"Started download for:\",department,\"/\",municipality,\"/\",variable,data_interval)\n",
    "            try:\n",
    "                os.rename(dl_folder+\"datos.zip\",dl_folder+\"{}.zip\".format(department+\"-\"+municipality+\"-\"+variable+\"-\"+data_interval[0].replace(\"/\",\"-\")+\"-\"+data_interval[1].replace(\"/\",\"-\")))\n",
    "            except:\n",
    "                print(\"Error downloading, driver closed prematurely.\")\n",
    "        else:\n",
    "            print(\"Couldn't find data for:\",department,\"/\",municipality,\"/\",variable,data_interval)"
   ]
  },
  {
   "cell_type": "code",
   "execution_count": null,
   "metadata": {},
   "outputs": [],
   "source": [
    "zipped_csvs = glob.glob(dl_folder+\"*.zip\")"
   ]
  },
  {
   "cell_type": "code",
   "execution_count": null,
   "metadata": {},
   "outputs": [
    {
     "data": {
      "text/plain": [
       "['D:\\\\MyFiles\\\\Research_Work\\\\CW_One_Health\\\\dengue-project\\\\local\\\\data\\\\MED_DATA\\\\Antioquia-Medellín-HUM RELATIVA-01-01-2006-31-12-2010.zip',\n",
       " 'D:\\\\MyFiles\\\\Research_Work\\\\CW_One_Health\\\\dengue-project\\\\local\\\\data\\\\MED_DATA\\\\Antioquia-Medellín-HUM RELATIVA-01-01-2011-31-12-2015.zip',\n",
       " 'D:\\\\MyFiles\\\\Research_Work\\\\CW_One_Health\\\\dengue-project\\\\local\\\\data\\\\MED_DATA\\\\Antioquia-Medellín-HUM RELATIVA-01-01-2016-31-12-2020.zip',\n",
       " 'D:\\\\MyFiles\\\\Research_Work\\\\CW_One_Health\\\\dengue-project\\\\local\\\\data\\\\MED_DATA\\\\Antioquia-Medellín-PRECIPITACION-01-01-2006-31-12-2010.zip',\n",
       " 'D:\\\\MyFiles\\\\Research_Work\\\\CW_One_Health\\\\dengue-project\\\\local\\\\data\\\\MED_DATA\\\\Antioquia-Medellín-PRECIPITACION-01-01-2011-31-12-2015.zip',\n",
       " 'D:\\\\MyFiles\\\\Research_Work\\\\CW_One_Health\\\\dengue-project\\\\local\\\\data\\\\MED_DATA\\\\Antioquia-Medellín-PRECIPITACION-01-01-2016-31-12-2020.zip',\n",
       " 'D:\\\\MyFiles\\\\Research_Work\\\\CW_One_Health\\\\dengue-project\\\\local\\\\data\\\\MED_DATA\\\\Antioquia-Medellín-RAD SOLAR-01-01-2011-31-12-2015.zip',\n",
       " 'D:\\\\MyFiles\\\\Research_Work\\\\CW_One_Health\\\\dengue-project\\\\local\\\\data\\\\MED_DATA\\\\Antioquia-Medellín-RAD SOLAR-01-01-2016-31-12-2020.zip',\n",
       " 'D:\\\\MyFiles\\\\Research_Work\\\\CW_One_Health\\\\dengue-project\\\\local\\\\data\\\\MED_DATA\\\\Antioquia-Medellín-TEMPERATURA-01-01-2006-31-12-2010.zip',\n",
       " 'D:\\\\MyFiles\\\\Research_Work\\\\CW_One_Health\\\\dengue-project\\\\local\\\\data\\\\MED_DATA\\\\Antioquia-Medellín-TEMPERATURA-01-01-2011-31-12-2015.zip',\n",
       " 'D:\\\\MyFiles\\\\Research_Work\\\\CW_One_Health\\\\dengue-project\\\\local\\\\data\\\\MED_DATA\\\\Antioquia-Medellín-TEMPERATURA-01-01-2016-31-12-2020.zip']"
      ]
     },
     "execution_count": null,
     "metadata": {},
     "output_type": "execute_result"
    }
   ],
   "source": [
    "zipped_csvs"
   ]
  },
  {
   "cell_type": "code",
   "execution_count": null,
   "metadata": {},
   "outputs": [],
   "source": [
    "files_count = 0\n",
    "for zipped_csv in zipped_csvs:\n",
    "    filename = zipped_csv.split(\"\\\\\")[-1].split(\".\")[0]\n",
    "    zipdata = zipfile.ZipFile(zipped_csv)\n",
    "    zipdata.extract(\"excel.csv.csv\", path = dl_folder)\n",
    "    os.rename(dl_folder+\"excel.csv.csv\",dl_folder+\"{}.csv\".format(filename))\n",
    "    files_count+=1\n",
    "    zipdata.close()"
   ]
  },
  {
   "cell_type": "code",
   "execution_count": null,
   "metadata": {},
   "outputs": [],
   "source": []
  },
  {
   "cell_type": "markdown",
   "metadata": {},
   "source": [
    "# DOWNLOAD FROM DATOS ABIERTOS API\n"
   ]
  },
  {
   "cell_type": "code",
   "execution_count": null,
   "metadata": {},
   "outputs": [],
   "source": [
    "#Downloads from API\n",
    "def get_stations_from_municipality(client, dataset, municipio):\n",
    "    done = False\n",
    "    while not done:\n",
    "        try:\n",
    "            results = client.get(dataset, limit = 1000, select = \"distinct CodigoEstacion, CodigoSensor, NombreEstacion, Latitud, Longitud, DescripcionSensor, UnidadMedida\", municipio=municipio)\n",
    "            results_df = pd.DataFrame.from_records(results)\n",
    "            done = True\n",
    "        except Exception as E:\n",
    "            print(E, \"retrying\")\n",
    "    return results_df\n",
    "\n",
    "def get_time_series_from_station(client, dataset, municipio, codigoestacion, limit = 1000000):\n",
    "    done = False\n",
    "    while not done:\n",
    "        try:\n",
    "            results = client.get(dataset, limit = limit, select = \"*\", municipio=municipio, codigoestacion = codigoestacion, order='fechaobservacion DESC')\n",
    "            results_df = pd.DataFrame.from_records(results)\n",
    "            done = True\n",
    "        except Exception as E:\n",
    "            print(E, \"retrying\")\n",
    "    return results_df\n",
    "\n",
    "def group_variable(df, freq = 'hourly'):\n",
    "    df[\"fechaobservacion\"]= pd.to_datetime(df[\"fechaobservacion\"])\n",
    "    df[\"fecha\"] = df[\"fechaobservacion\"].dt.date\n",
    "    df[\"valorobservado\"] = df[\"valorobservado\"].apply(float)\n",
    "    if freq == 'hourly':\n",
    "        df[\"hora\"] = df[\"fechaobservacion\"].dt.hour\n",
    "        df = df.groupby(['codigoestacion', 'codigosensor','nombreestacion', 'departamento', 'municipio', 'zonahidrografica',\n",
    "       'latitud', 'longitud', 'descripcionsensor', 'unidadmedida', 'fecha',\n",
    "       'hora']).mean().reset_index() \n",
    "        df[\"fechaobservacion\"] = df[\"fecha\"].apply(str)+\"T\"+df[\"hora\"].apply(str)+\":00:00.000\"\n",
    "    elif freq == 'daily':\n",
    "        df = df.groupby(['codigoestacion', 'codigosensor','nombreestacion', 'departamento', 'municipio', 'zonahidrografica',\n",
    "       'latitud', 'longitud', 'descripcionsensor', 'unidadmedida', 'fecha']).sum().reset_index() \n",
    "        df[\"fechaobservacion\"] = df[\"fecha\"].apply(str)+\"T00:00:00.000\"\n",
    "    df = df[['codigoestacion', 'codigosensor', 'fechaobservacion', 'valorobservado',\n",
    "       'nombreestacion', 'departamento', 'municipio', 'zonahidrografica',\n",
    "       'latitud', 'longitud', 'descripcionsensor', 'unidadmedida']]\n",
    "    return df\n",
    "\n",
    "\n",
    "def API_to_IDEAM_series(df):\n",
    "    df.columns = [\"CodigoEstacion\",\"CodigoSensor\",\"Fecha\",\"Valor\",\"NombreEstacion\",\"Departamento\",\"Municipio\", \"AreaOperativa\",\"Latitud\",\"Longitud\",\"Etiqueta\",\"Categoria\"]\n",
    "    df[\"Altitud\"] = \"\"\n",
    "    df[\"FechaInstalacion\"] = \"\"\n",
    "    df[\"FechaSuspension\"]=\"\"\n",
    "    df[\"Frecuencia\"] = \"\"\n",
    "    df[\"Grado\"]=\"\"\n",
    "    df[\"NivelAprobacion\"] =\"\"\n",
    "    df[\"DescripcionSerie\"] = \"\"\n",
    "    df[\"Entidad\"]=\"\"\n",
    "    df[\"IdParametro\"] = \"\"\n",
    "    df[\"Calificador\"] = \"\"\n",
    "    df[\"CodigoEstacion\"] = df[\"CodigoEstacion\"].apply(int)\n",
    "    df = df[['CodigoEstacion', 'NombreEstacion', 'Latitud', 'Longitud', 'Altitud',\n",
    "       'Categoria', 'Entidad', 'AreaOperativa', 'Departamento', 'Municipio',\n",
    "       'FechaInstalacion', 'FechaSuspension', 'IdParametro', 'Etiqueta',\n",
    "       'DescripcionSerie', 'Frecuencia', 'Fecha', 'Valor', 'Grado',\n",
    "       'Calificador', 'NivelAprobacion']]\n",
    "    return df\n",
    "\n",
    "\n",
    "columns = [\"CodigoEstacion\",\"FechaObservacion\",\"ValorObservado\",\"NombreEstacion\",\"ZonaHidrografica\",\"Latitud\",\"Longitud\",\"UnidadMedida\"]"
   ]
  },
  {
   "cell_type": "code",
   "execution_count": null,
   "metadata": {},
   "outputs": [],
   "source": [
    "# Example authenticated client (needed for non-public datasets):\n",
    "municipality = \"MEDELLÍN\"\n",
    "client = Socrata('www.datos.gov.co', \"mc0EDr4vP5YMKFeiaAEHZUWX0\")\n",
    "Precipitacion = 's54a-sgyg'\n",
    "Humedad = 'uext-mhny'\n",
    "Temperatura = 'sbwg-7ju4'\n",
    "Viento = 'sgfv-3yp8'"
   ]
  },
  {
   "cell_type": "markdown",
   "metadata": {},
   "source": [
    "# PRECIPITATION DATA DOWNLOAD"
   ]
  },
  {
   "cell_type": "code",
   "execution_count": null,
   "metadata": {},
   "outputs": [
    {
     "name": "stdout",
     "output_type": "stream",
     "text": [
      "HTTPSConnectionPool(host='www.datos.gov.co', port=443): Read timed out. (read timeout=10) retrying\n",
      "HTTPSConnectionPool(host='www.datos.gov.co', port=443): Read timed out. (read timeout=10) retrying\n",
      "HTTPSConnectionPool(host='www.datos.gov.co', port=443): Read timed out. (read timeout=10) retrying\n",
      "HTTPSConnectionPool(host='www.datos.gov.co', port=443): Read timed out. (read timeout=10) retrying\n",
      "HTTPSConnectionPool(host='www.datos.gov.co', port=443): Read timed out. (read timeout=10) retrying\n",
      "HTTPSConnectionPool(host='www.datos.gov.co', port=443): Read timed out. (read timeout=10) retrying\n",
      "HTTPSConnectionPool(host='www.datos.gov.co', port=443): Read timed out. (read timeout=10) retrying\n",
      "HTTPSConnectionPool(host='www.datos.gov.co', port=443): Read timed out. (read timeout=10) retrying\n",
      "HTTPSConnectionPool(host='www.datos.gov.co', port=443): Read timed out. (read timeout=10) retrying\n",
      "HTTPSConnectionPool(host='www.datos.gov.co', port=443): Read timed out. (read timeout=10) retrying\n",
      "HTTPSConnectionPool(host='www.datos.gov.co', port=443): Read timed out. (read timeout=10) retrying\n",
      "HTTPSConnectionPool(host='www.datos.gov.co', port=443): Read timed out. (read timeout=10) retrying\n",
      "HTTPSConnectionPool(host='www.datos.gov.co', port=443): Read timed out. (read timeout=10) retrying\n",
      "HTTPSConnectionPool(host='www.datos.gov.co', port=443): Read timed out. (read timeout=10) retrying\n",
      "HTTPSConnectionPool(host='www.datos.gov.co', port=443): Read timed out. (read timeout=10) retrying\n",
      "HTTPSConnectionPool(host='www.datos.gov.co', port=443): Read timed out. (read timeout=10) retrying\n",
      "HTTPSConnectionPool(host='www.datos.gov.co', port=443): Read timed out. (read timeout=10) retrying\n",
      "HTTPSConnectionPool(host='www.datos.gov.co', port=443): Read timed out. (read timeout=10) retrying\n",
      "HTTPSConnectionPool(host='www.datos.gov.co', port=443): Read timed out. (read timeout=10) retrying\n",
      "HTTPSConnectionPool(host='www.datos.gov.co', port=443): Read timed out. (read timeout=10) retrying\n",
      "HTTPSConnectionPool(host='www.datos.gov.co', port=443): Read timed out. (read timeout=10) retrying\n",
      "HTTPSConnectionPool(host='www.datos.gov.co', port=443): Read timed out. (read timeout=10) retrying\n"
     ]
    },
    {
     "data": {
      "text/html": [
       "<div>\n",
       "<style scoped>\n",
       "    .dataframe tbody tr th:only-of-type {\n",
       "        vertical-align: middle;\n",
       "    }\n",
       "\n",
       "    .dataframe tbody tr th {\n",
       "        vertical-align: top;\n",
       "    }\n",
       "\n",
       "    .dataframe thead th {\n",
       "        text-align: right;\n",
       "    }\n",
       "</style>\n",
       "<table border=\"1\" class=\"dataframe\">\n",
       "  <thead>\n",
       "    <tr style=\"text-align: right;\">\n",
       "      <th></th>\n",
       "      <th>CodigoEstacion</th>\n",
       "      <th>CodigoSensor</th>\n",
       "      <th>NombreEstacion</th>\n",
       "      <th>Latitud</th>\n",
       "      <th>Longitud</th>\n",
       "      <th>DescripcionSensor</th>\n",
       "      <th>UnidadMedida</th>\n",
       "    </tr>\n",
       "  </thead>\n",
       "  <tbody>\n",
       "    <tr>\n",
       "      <th>0</th>\n",
       "      <td>0027015330</td>\n",
       "      <td>0240</td>\n",
       "      <td>APTO OLAYA HERRERA - TX GPRS</td>\n",
       "      <td>6.221</td>\n",
       "      <td>-75.589</td>\n",
       "      <td>Precipitacion</td>\n",
       "      <td>mm</td>\n",
       "    </tr>\n",
       "    <tr>\n",
       "      <th>1</th>\n",
       "      <td>0027015290</td>\n",
       "      <td>0240</td>\n",
       "      <td>PAJARITO - AUT</td>\n",
       "      <td>6.286333333</td>\n",
       "      <td>-75.61279167</td>\n",
       "      <td>Precipitacion</td>\n",
       "      <td>mm</td>\n",
       "    </tr>\n",
       "  </tbody>\n",
       "</table>\n",
       "</div>"
      ],
      "text/plain": [
       "  CodigoEstacion CodigoSensor                NombreEstacion      Latitud  \\\n",
       "0     0027015330         0240  APTO OLAYA HERRERA - TX GPRS        6.221   \n",
       "1     0027015290         0240                PAJARITO - AUT  6.286333333   \n",
       "\n",
       "       Longitud DescripcionSensor UnidadMedida  \n",
       "0       -75.589     Precipitacion           mm  \n",
       "1  -75.61279167     Precipitacion           mm  "
      ]
     },
     "execution_count": null,
     "metadata": {},
     "output_type": "execute_result"
    }
   ],
   "source": [
    "prec_stations = get_stations_from_municipality(client, Precipitacion, municipality)\n",
    "prec_stations"
   ]
  },
  {
   "cell_type": "code",
   "execution_count": null,
   "metadata": {},
   "outputs": [],
   "source": [
    "codigos_estaciones = prec_stations[\"CodigoEstacion\"].values\n",
    "#codigos_estaciones = [\"0016015501\",\"0016015110\",\"0016025040\"]"
   ]
  },
  {
   "cell_type": "code",
   "execution_count": null,
   "metadata": {},
   "outputs": [],
   "source": [
    "prec_time_series = []\n",
    "for codigo in codigos_estaciones:\n",
    "    precipitation_data = group_variable(get_time_series_from_station(client, Precipitacion,  municipality, codigoestacion=codigo, limit = 1000000),'daily')\n",
    "    prec_time_series.append(precipitation_data)"
   ]
  },
  {
   "cell_type": "code",
   "execution_count": null,
   "metadata": {},
   "outputs": [
    {
     "data": {
      "text/html": [
       "<div>\n",
       "<style scoped>\n",
       "    .dataframe tbody tr th:only-of-type {\n",
       "        vertical-align: middle;\n",
       "    }\n",
       "\n",
       "    .dataframe tbody tr th {\n",
       "        vertical-align: top;\n",
       "    }\n",
       "\n",
       "    .dataframe thead th {\n",
       "        text-align: right;\n",
       "    }\n",
       "</style>\n",
       "<table border=\"1\" class=\"dataframe\">\n",
       "  <thead>\n",
       "    <tr style=\"text-align: right;\">\n",
       "      <th></th>\n",
       "      <th>codigoestacion</th>\n",
       "      <th>codigosensor</th>\n",
       "      <th>fechaobservacion</th>\n",
       "      <th>valorobservado</th>\n",
       "      <th>nombreestacion</th>\n",
       "      <th>departamento</th>\n",
       "      <th>municipio</th>\n",
       "      <th>zonahidrografica</th>\n",
       "      <th>latitud</th>\n",
       "      <th>longitud</th>\n",
       "      <th>descripcionsensor</th>\n",
       "      <th>unidadmedida</th>\n",
       "    </tr>\n",
       "  </thead>\n",
       "  <tbody>\n",
       "    <tr>\n",
       "      <th>0</th>\n",
       "      <td>0027015330</td>\n",
       "      <td>0240</td>\n",
       "      <td>2016-12-31T00:00:00.000</td>\n",
       "      <td>0.0</td>\n",
       "      <td>APTO OLAYA HERRERA - TX GPRS</td>\n",
       "      <td>ANTIOQUIA</td>\n",
       "      <td>MEDELLÍN</td>\n",
       "      <td>NECHÍ</td>\n",
       "      <td>6.221</td>\n",
       "      <td>-75.589</td>\n",
       "      <td>Precipitacion</td>\n",
       "      <td>mm</td>\n",
       "    </tr>\n",
       "    <tr>\n",
       "      <th>1</th>\n",
       "      <td>0027015330</td>\n",
       "      <td>0240</td>\n",
       "      <td>2017-01-01T00:00:00.000</td>\n",
       "      <td>0.0</td>\n",
       "      <td>APTO OLAYA HERRERA - TX GPRS</td>\n",
       "      <td>ANTIOQUIA</td>\n",
       "      <td>MEDELLÍN</td>\n",
       "      <td>NECHÍ</td>\n",
       "      <td>6.221</td>\n",
       "      <td>-75.589</td>\n",
       "      <td>Precipitacion</td>\n",
       "      <td>mm</td>\n",
       "    </tr>\n",
       "    <tr>\n",
       "      <th>2</th>\n",
       "      <td>0027015330</td>\n",
       "      <td>0240</td>\n",
       "      <td>2017-01-02T00:00:00.000</td>\n",
       "      <td>0.0</td>\n",
       "      <td>APTO OLAYA HERRERA - TX GPRS</td>\n",
       "      <td>ANTIOQUIA</td>\n",
       "      <td>MEDELLÍN</td>\n",
       "      <td>NECHÍ</td>\n",
       "      <td>6.221</td>\n",
       "      <td>-75.589</td>\n",
       "      <td>Precipitacion</td>\n",
       "      <td>mm</td>\n",
       "    </tr>\n",
       "    <tr>\n",
       "      <th>3</th>\n",
       "      <td>0027015330</td>\n",
       "      <td>0240</td>\n",
       "      <td>2017-01-03T00:00:00.000</td>\n",
       "      <td>0.0</td>\n",
       "      <td>APTO OLAYA HERRERA - TX GPRS</td>\n",
       "      <td>ANTIOQUIA</td>\n",
       "      <td>MEDELLÍN</td>\n",
       "      <td>NECHÍ</td>\n",
       "      <td>6.221</td>\n",
       "      <td>-75.589</td>\n",
       "      <td>Precipitacion</td>\n",
       "      <td>mm</td>\n",
       "    </tr>\n",
       "    <tr>\n",
       "      <th>4</th>\n",
       "      <td>0027015330</td>\n",
       "      <td>0240</td>\n",
       "      <td>2017-01-04T00:00:00.000</td>\n",
       "      <td>0.0</td>\n",
       "      <td>APTO OLAYA HERRERA - TX GPRS</td>\n",
       "      <td>ANTIOQUIA</td>\n",
       "      <td>MEDELLÍN</td>\n",
       "      <td>NECHÍ</td>\n",
       "      <td>6.221</td>\n",
       "      <td>-75.589</td>\n",
       "      <td>Precipitacion</td>\n",
       "      <td>mm</td>\n",
       "    </tr>\n",
       "  </tbody>\n",
       "</table>\n",
       "</div>"
      ],
      "text/plain": [
       "  codigoestacion codigosensor         fechaobservacion  valorobservado  \\\n",
       "0     0027015330         0240  2016-12-31T00:00:00.000             0.0   \n",
       "1     0027015330         0240  2017-01-01T00:00:00.000             0.0   \n",
       "2     0027015330         0240  2017-01-02T00:00:00.000             0.0   \n",
       "3     0027015330         0240  2017-01-03T00:00:00.000             0.0   \n",
       "4     0027015330         0240  2017-01-04T00:00:00.000             0.0   \n",
       "\n",
       "                 nombreestacion departamento municipio zonahidrografica  \\\n",
       "0  APTO OLAYA HERRERA - TX GPRS    ANTIOQUIA  MEDELLÍN            NECHÍ   \n",
       "1  APTO OLAYA HERRERA - TX GPRS    ANTIOQUIA  MEDELLÍN            NECHÍ   \n",
       "2  APTO OLAYA HERRERA - TX GPRS    ANTIOQUIA  MEDELLÍN            NECHÍ   \n",
       "3  APTO OLAYA HERRERA - TX GPRS    ANTIOQUIA  MEDELLÍN            NECHÍ   \n",
       "4  APTO OLAYA HERRERA - TX GPRS    ANTIOQUIA  MEDELLÍN            NECHÍ   \n",
       "\n",
       "  latitud longitud descripcionsensor unidadmedida  \n",
       "0   6.221  -75.589     Precipitacion           mm  \n",
       "1   6.221  -75.589     Precipitacion           mm  \n",
       "2   6.221  -75.589     Precipitacion           mm  \n",
       "3   6.221  -75.589     Precipitacion           mm  \n",
       "4   6.221  -75.589     Precipitacion           mm  "
      ]
     },
     "execution_count": null,
     "metadata": {},
     "output_type": "execute_result"
    }
   ],
   "source": [
    "all_prec_series = pd.concat(prec_time_series,axis = 0).reset_index(drop=True)\n",
    "all_prec_series.head()"
   ]
  },
  {
   "cell_type": "code",
   "execution_count": null,
   "metadata": {},
   "outputs": [
    {
     "data": {
      "text/html": [
       "<div>\n",
       "<style scoped>\n",
       "    .dataframe tbody tr th:only-of-type {\n",
       "        vertical-align: middle;\n",
       "    }\n",
       "\n",
       "    .dataframe tbody tr th {\n",
       "        vertical-align: top;\n",
       "    }\n",
       "\n",
       "    .dataframe thead th {\n",
       "        text-align: right;\n",
       "    }\n",
       "</style>\n",
       "<table border=\"1\" class=\"dataframe\">\n",
       "  <thead>\n",
       "    <tr style=\"text-align: right;\">\n",
       "      <th></th>\n",
       "      <th>CodigoEstacion</th>\n",
       "      <th>NombreEstacion</th>\n",
       "      <th>Latitud</th>\n",
       "      <th>Longitud</th>\n",
       "      <th>Altitud</th>\n",
       "      <th>Categoria</th>\n",
       "      <th>Entidad</th>\n",
       "      <th>AreaOperativa</th>\n",
       "      <th>Departamento</th>\n",
       "      <th>Municipio</th>\n",
       "      <th>...</th>\n",
       "      <th>FechaSuspension</th>\n",
       "      <th>IdParametro</th>\n",
       "      <th>Etiqueta</th>\n",
       "      <th>DescripcionSerie</th>\n",
       "      <th>Frecuencia</th>\n",
       "      <th>Fecha</th>\n",
       "      <th>Valor</th>\n",
       "      <th>Grado</th>\n",
       "      <th>Calificador</th>\n",
       "      <th>NivelAprobacion</th>\n",
       "    </tr>\n",
       "  </thead>\n",
       "  <tbody>\n",
       "    <tr>\n",
       "      <th>0</th>\n",
       "      <td>27015330</td>\n",
       "      <td>APTO OLAYA HERRERA - TX GPRS</td>\n",
       "      <td>6.221</td>\n",
       "      <td>-75.589</td>\n",
       "      <td></td>\n",
       "      <td>mm</td>\n",
       "      <td></td>\n",
       "      <td>NECHÍ</td>\n",
       "      <td>ANTIOQUIA</td>\n",
       "      <td>MEDELLÍN</td>\n",
       "      <td>...</td>\n",
       "      <td></td>\n",
       "      <td></td>\n",
       "      <td>Precipitacion</td>\n",
       "      <td></td>\n",
       "      <td></td>\n",
       "      <td>2016-12-31T00:00:00.000</td>\n",
       "      <td>0.0</td>\n",
       "      <td></td>\n",
       "      <td></td>\n",
       "      <td></td>\n",
       "    </tr>\n",
       "    <tr>\n",
       "      <th>1</th>\n",
       "      <td>27015330</td>\n",
       "      <td>APTO OLAYA HERRERA - TX GPRS</td>\n",
       "      <td>6.221</td>\n",
       "      <td>-75.589</td>\n",
       "      <td></td>\n",
       "      <td>mm</td>\n",
       "      <td></td>\n",
       "      <td>NECHÍ</td>\n",
       "      <td>ANTIOQUIA</td>\n",
       "      <td>MEDELLÍN</td>\n",
       "      <td>...</td>\n",
       "      <td></td>\n",
       "      <td></td>\n",
       "      <td>Precipitacion</td>\n",
       "      <td></td>\n",
       "      <td></td>\n",
       "      <td>2017-01-01T00:00:00.000</td>\n",
       "      <td>0.0</td>\n",
       "      <td></td>\n",
       "      <td></td>\n",
       "      <td></td>\n",
       "    </tr>\n",
       "    <tr>\n",
       "      <th>2</th>\n",
       "      <td>27015330</td>\n",
       "      <td>APTO OLAYA HERRERA - TX GPRS</td>\n",
       "      <td>6.221</td>\n",
       "      <td>-75.589</td>\n",
       "      <td></td>\n",
       "      <td>mm</td>\n",
       "      <td></td>\n",
       "      <td>NECHÍ</td>\n",
       "      <td>ANTIOQUIA</td>\n",
       "      <td>MEDELLÍN</td>\n",
       "      <td>...</td>\n",
       "      <td></td>\n",
       "      <td></td>\n",
       "      <td>Precipitacion</td>\n",
       "      <td></td>\n",
       "      <td></td>\n",
       "      <td>2017-01-02T00:00:00.000</td>\n",
       "      <td>0.0</td>\n",
       "      <td></td>\n",
       "      <td></td>\n",
       "      <td></td>\n",
       "    </tr>\n",
       "    <tr>\n",
       "      <th>3</th>\n",
       "      <td>27015330</td>\n",
       "      <td>APTO OLAYA HERRERA - TX GPRS</td>\n",
       "      <td>6.221</td>\n",
       "      <td>-75.589</td>\n",
       "      <td></td>\n",
       "      <td>mm</td>\n",
       "      <td></td>\n",
       "      <td>NECHÍ</td>\n",
       "      <td>ANTIOQUIA</td>\n",
       "      <td>MEDELLÍN</td>\n",
       "      <td>...</td>\n",
       "      <td></td>\n",
       "      <td></td>\n",
       "      <td>Precipitacion</td>\n",
       "      <td></td>\n",
       "      <td></td>\n",
       "      <td>2017-01-03T00:00:00.000</td>\n",
       "      <td>0.0</td>\n",
       "      <td></td>\n",
       "      <td></td>\n",
       "      <td></td>\n",
       "    </tr>\n",
       "    <tr>\n",
       "      <th>4</th>\n",
       "      <td>27015330</td>\n",
       "      <td>APTO OLAYA HERRERA - TX GPRS</td>\n",
       "      <td>6.221</td>\n",
       "      <td>-75.589</td>\n",
       "      <td></td>\n",
       "      <td>mm</td>\n",
       "      <td></td>\n",
       "      <td>NECHÍ</td>\n",
       "      <td>ANTIOQUIA</td>\n",
       "      <td>MEDELLÍN</td>\n",
       "      <td>...</td>\n",
       "      <td></td>\n",
       "      <td></td>\n",
       "      <td>Precipitacion</td>\n",
       "      <td></td>\n",
       "      <td></td>\n",
       "      <td>2017-01-04T00:00:00.000</td>\n",
       "      <td>0.0</td>\n",
       "      <td></td>\n",
       "      <td></td>\n",
       "      <td></td>\n",
       "    </tr>\n",
       "  </tbody>\n",
       "</table>\n",
       "<p>5 rows × 21 columns</p>\n",
       "</div>"
      ],
      "text/plain": [
       "   CodigoEstacion                NombreEstacion Latitud Longitud Altitud  \\\n",
       "0        27015330  APTO OLAYA HERRERA - TX GPRS   6.221  -75.589           \n",
       "1        27015330  APTO OLAYA HERRERA - TX GPRS   6.221  -75.589           \n",
       "2        27015330  APTO OLAYA HERRERA - TX GPRS   6.221  -75.589           \n",
       "3        27015330  APTO OLAYA HERRERA - TX GPRS   6.221  -75.589           \n",
       "4        27015330  APTO OLAYA HERRERA - TX GPRS   6.221  -75.589           \n",
       "\n",
       "  Categoria Entidad AreaOperativa Departamento Municipio  ... FechaSuspension  \\\n",
       "0        mm                 NECHÍ    ANTIOQUIA  MEDELLÍN  ...                   \n",
       "1        mm                 NECHÍ    ANTIOQUIA  MEDELLÍN  ...                   \n",
       "2        mm                 NECHÍ    ANTIOQUIA  MEDELLÍN  ...                   \n",
       "3        mm                 NECHÍ    ANTIOQUIA  MEDELLÍN  ...                   \n",
       "4        mm                 NECHÍ    ANTIOQUIA  MEDELLÍN  ...                   \n",
       "\n",
       "  IdParametro       Etiqueta DescripcionSerie Frecuencia  \\\n",
       "0              Precipitacion                               \n",
       "1              Precipitacion                               \n",
       "2              Precipitacion                               \n",
       "3              Precipitacion                               \n",
       "4              Precipitacion                               \n",
       "\n",
       "                     Fecha Valor  Grado Calificador NivelAprobacion  \n",
       "0  2016-12-31T00:00:00.000   0.0                                     \n",
       "1  2017-01-01T00:00:00.000   0.0                                     \n",
       "2  2017-01-02T00:00:00.000   0.0                                     \n",
       "3  2017-01-03T00:00:00.000   0.0                                     \n",
       "4  2017-01-04T00:00:00.000   0.0                                     \n",
       "\n",
       "[5 rows x 21 columns]"
      ]
     },
     "execution_count": null,
     "metadata": {},
     "output_type": "execute_result"
    }
   ],
   "source": [
    "all_prec_series = API_to_IDEAM_series(all_prec_series)\n",
    "all_prec_series.head()"
   ]
  },
  {
   "cell_type": "code",
   "execution_count": null,
   "metadata": {},
   "outputs": [],
   "source": [
    "all_prec_series.to_csv(data_folder+municipality_folder+\"/Z_API_{}_precipitacion.csv\".format(municipality), index = False)"
   ]
  },
  {
   "cell_type": "markdown",
   "metadata": {},
   "source": [
    "# TEMPERATURE DATA DOWNLOAD"
   ]
  },
  {
   "cell_type": "code",
   "execution_count": null,
   "metadata": {},
   "outputs": [
    {
     "name": "stdout",
     "output_type": "stream",
     "text": [
      "HTTPSConnectionPool(host='www.datos.gov.co', port=443): Read timed out. (read timeout=10) retrying\n",
      "HTTPSConnectionPool(host='www.datos.gov.co', port=443): Read timed out. (read timeout=10) retrying\n",
      "HTTPSConnectionPool(host='www.datos.gov.co', port=443): Read timed out. (read timeout=10) retrying\n",
      "HTTPSConnectionPool(host='www.datos.gov.co', port=443): Read timed out. (read timeout=10) retrying\n",
      "HTTPSConnectionPool(host='www.datos.gov.co', port=443): Read timed out. (read timeout=10) retrying\n",
      "HTTPSConnectionPool(host='www.datos.gov.co', port=443): Read timed out. (read timeout=10) retrying\n",
      "HTTPSConnectionPool(host='www.datos.gov.co', port=443): Read timed out. (read timeout=10) retrying\n",
      "HTTPSConnectionPool(host='www.datos.gov.co', port=443): Read timed out. (read timeout=10) retrying\n",
      "HTTPSConnectionPool(host='www.datos.gov.co', port=443): Read timed out. (read timeout=10) retrying\n",
      "HTTPSConnectionPool(host='www.datos.gov.co', port=443): Read timed out. (read timeout=10) retrying\n"
     ]
    },
    {
     "data": {
      "text/html": [
       "<div>\n",
       "<style scoped>\n",
       "    .dataframe tbody tr th:only-of-type {\n",
       "        vertical-align: middle;\n",
       "    }\n",
       "\n",
       "    .dataframe tbody tr th {\n",
       "        vertical-align: top;\n",
       "    }\n",
       "\n",
       "    .dataframe thead th {\n",
       "        text-align: right;\n",
       "    }\n",
       "</style>\n",
       "<table border=\"1\" class=\"dataframe\">\n",
       "  <thead>\n",
       "    <tr style=\"text-align: right;\">\n",
       "      <th></th>\n",
       "      <th>CodigoEstacion</th>\n",
       "      <th>CodigoSensor</th>\n",
       "      <th>NombreEstacion</th>\n",
       "      <th>Latitud</th>\n",
       "      <th>Longitud</th>\n",
       "      <th>DescripcionSensor</th>\n",
       "      <th>UnidadMedida</th>\n",
       "    </tr>\n",
       "  </thead>\n",
       "  <tbody>\n",
       "    <tr>\n",
       "      <th>0</th>\n",
       "      <td>0027015330</td>\n",
       "      <td>0068</td>\n",
       "      <td>APTO OLAYA HERRERA - TX GPRS</td>\n",
       "      <td>6.221</td>\n",
       "      <td>-75.589</td>\n",
       "      <td>Temp Aire 2 m</td>\n",
       "      <td>°C</td>\n",
       "    </tr>\n",
       "    <tr>\n",
       "      <th>1</th>\n",
       "      <td>0027015300</td>\n",
       "      <td>0068</td>\n",
       "      <td>VILLANUEVA</td>\n",
       "      <td>6.253</td>\n",
       "      <td>-75.55</td>\n",
       "      <td>Temp Aire 2 m</td>\n",
       "      <td>°C</td>\n",
       "    </tr>\n",
       "    <tr>\n",
       "      <th>2</th>\n",
       "      <td>0027015290</td>\n",
       "      <td>0068</td>\n",
       "      <td>PAJARITO - AUT</td>\n",
       "      <td>6.286333333</td>\n",
       "      <td>-75.61279167</td>\n",
       "      <td>Temp Aire 2 m</td>\n",
       "      <td>°C</td>\n",
       "    </tr>\n",
       "  </tbody>\n",
       "</table>\n",
       "</div>"
      ],
      "text/plain": [
       "  CodigoEstacion CodigoSensor                NombreEstacion      Latitud  \\\n",
       "0     0027015330         0068  APTO OLAYA HERRERA - TX GPRS        6.221   \n",
       "1     0027015300         0068                    VILLANUEVA        6.253   \n",
       "2     0027015290         0068                PAJARITO - AUT  6.286333333   \n",
       "\n",
       "       Longitud DescripcionSensor UnidadMedida  \n",
       "0       -75.589     Temp Aire 2 m           °C  \n",
       "1        -75.55     Temp Aire 2 m           °C  \n",
       "2  -75.61279167     Temp Aire 2 m           °C  "
      ]
     },
     "execution_count": null,
     "metadata": {},
     "output_type": "execute_result"
    }
   ],
   "source": [
    "temp_stations = get_stations_from_municipality(client, Temperatura, municipality)\n",
    "temp_stations"
   ]
  },
  {
   "cell_type": "code",
   "execution_count": null,
   "metadata": {},
   "outputs": [],
   "source": [
    "codigos_estaciones = temp_stations[\"CodigoEstacion\"].values\n",
    "temp_time_series = []\n",
    "for codigo in codigos_estaciones:\n",
    "    temperature_data = group_variable(get_time_series_from_station(client, Temperatura,  municipality, codigoestacion=codigo, limit = 1000000), 'hourly')\n",
    "    temp_time_series.append(temperature_data)"
   ]
  },
  {
   "cell_type": "code",
   "execution_count": null,
   "metadata": {},
   "outputs": [],
   "source": [
    "all_temp_series = pd.concat(temp_time_series,axis = 0).reset_index(drop=True)\n",
    "all_temp_series = API_to_IDEAM_series(all_temp_series)\n",
    "all_temp_series.to_csv(data_folder+municipality_folder+\"/Z_API_{}_temperature.csv\".format(municipality), index = False)"
   ]
  },
  {
   "cell_type": "markdown",
   "metadata": {},
   "source": [
    "# HUMEDAD DATA DOWNLOAD"
   ]
  },
  {
   "cell_type": "code",
   "execution_count": null,
   "metadata": {},
   "outputs": [
    {
     "name": "stdout",
     "output_type": "stream",
     "text": [
      "HTTPSConnectionPool(host='www.datos.gov.co', port=443): Read timed out. (read timeout=10) retrying\n",
      "HTTPSConnectionPool(host='www.datos.gov.co', port=443): Read timed out. (read timeout=10) retrying\n",
      "HTTPSConnectionPool(host='www.datos.gov.co', port=443): Read timed out. (read timeout=10) retrying\n",
      "HTTPSConnectionPool(host='www.datos.gov.co', port=443): Read timed out. (read timeout=10) retrying\n",
      "HTTPSConnectionPool(host='www.datos.gov.co', port=443): Read timed out. (read timeout=10) retrying\n",
      "HTTPSConnectionPool(host='www.datos.gov.co', port=443): Read timed out. (read timeout=10) retrying\n",
      "HTTPSConnectionPool(host='www.datos.gov.co', port=443): Read timed out. (read timeout=10) retrying\n",
      "HTTPSConnectionPool(host='www.datos.gov.co', port=443): Read timed out. (read timeout=10) retrying\n"
     ]
    },
    {
     "data": {
      "text/html": [
       "<div>\n",
       "<style scoped>\n",
       "    .dataframe tbody tr th:only-of-type {\n",
       "        vertical-align: middle;\n",
       "    }\n",
       "\n",
       "    .dataframe tbody tr th {\n",
       "        vertical-align: top;\n",
       "    }\n",
       "\n",
       "    .dataframe thead th {\n",
       "        text-align: right;\n",
       "    }\n",
       "</style>\n",
       "<table border=\"1\" class=\"dataframe\">\n",
       "  <thead>\n",
       "    <tr style=\"text-align: right;\">\n",
       "      <th></th>\n",
       "      <th>CodigoEstacion</th>\n",
       "      <th>CodigoSensor</th>\n",
       "      <th>NombreEstacion</th>\n",
       "      <th>Latitud</th>\n",
       "      <th>Longitud</th>\n",
       "      <th>DescripcionSensor</th>\n",
       "      <th>UnidadMedida</th>\n",
       "    </tr>\n",
       "  </thead>\n",
       "  <tbody>\n",
       "    <tr>\n",
       "      <th>0</th>\n",
       "      <td>0027015290</td>\n",
       "      <td>0027</td>\n",
       "      <td>PAJARITO - AUT</td>\n",
       "      <td>6.286333333</td>\n",
       "      <td>-75.61279167</td>\n",
       "      <td>Humedad del aire 2 mt</td>\n",
       "      <td>%</td>\n",
       "    </tr>\n",
       "    <tr>\n",
       "      <th>1</th>\n",
       "      <td>0027015300</td>\n",
       "      <td>0027</td>\n",
       "      <td>VILLANUEVA</td>\n",
       "      <td>6.253</td>\n",
       "      <td>-75.55</td>\n",
       "      <td>Humedad del aire 2 mt</td>\n",
       "      <td>%</td>\n",
       "    </tr>\n",
       "    <tr>\n",
       "      <th>2</th>\n",
       "      <td>0027015330</td>\n",
       "      <td>0027</td>\n",
       "      <td>APTO OLAYA HERRERA - TX GPRS</td>\n",
       "      <td>6.221</td>\n",
       "      <td>-75.589</td>\n",
       "      <td>Humedad del aire 2 mt</td>\n",
       "      <td>%</td>\n",
       "    </tr>\n",
       "  </tbody>\n",
       "</table>\n",
       "</div>"
      ],
      "text/plain": [
       "  CodigoEstacion CodigoSensor                NombreEstacion      Latitud  \\\n",
       "0     0027015290         0027                PAJARITO - AUT  6.286333333   \n",
       "1     0027015300         0027                    VILLANUEVA        6.253   \n",
       "2     0027015330         0027  APTO OLAYA HERRERA - TX GPRS        6.221   \n",
       "\n",
       "       Longitud      DescripcionSensor UnidadMedida  \n",
       "0  -75.61279167  Humedad del aire 2 mt            %  \n",
       "1        -75.55  Humedad del aire 2 mt            %  \n",
       "2       -75.589  Humedad del aire 2 mt            %  "
      ]
     },
     "execution_count": null,
     "metadata": {},
     "output_type": "execute_result"
    }
   ],
   "source": [
    "hum_stations = get_stations_from_municipality(client, Humedad, municipality)\n",
    "hum_stations"
   ]
  },
  {
   "cell_type": "code",
   "execution_count": null,
   "metadata": {},
   "outputs": [],
   "source": [
    "codigos_estaciones = hum_stations[\"CodigoEstacion\"].values\n",
    "hum_time_series = []\n",
    "for codigo in codigos_estaciones:\n",
    "    humedad_data = group_variable(get_time_series_from_station(client, Humedad,  municipality, codigoestacion=codigo, limit = 1000000))\n",
    "    hum_time_series.append(humedad_data)"
   ]
  },
  {
   "cell_type": "code",
   "execution_count": null,
   "metadata": {},
   "outputs": [],
   "source": [
    "hum_time_series = pd.concat(hum_time_series,axis = 0).reset_index(drop=True)\n",
    "hum_time_series = API_to_IDEAM_series(hum_time_series)\n",
    "hum_time_series.to_csv(data_folder+municipality_folder+\"/Z_API_{}_humidity.csv\".format(municipality), index = False)"
   ]
  },
  {
   "cell_type": "markdown",
   "metadata": {},
   "source": [
    "# WIND DATA DOWNLOAD"
   ]
  },
  {
   "cell_type": "code",
   "execution_count": null,
   "metadata": {},
   "outputs": [
    {
     "name": "stdout",
     "output_type": "stream",
     "text": [
      "HTTPSConnectionPool(host='www.datos.gov.co', port=443): Read timed out. (read timeout=10) retrying\n",
      "HTTPSConnectionPool(host='www.datos.gov.co', port=443): Read timed out. (read timeout=10) retrying\n",
      "HTTPSConnectionPool(host='www.datos.gov.co', port=443): Read timed out. (read timeout=10) retrying\n",
      "HTTPSConnectionPool(host='www.datos.gov.co', port=443): Read timed out. (read timeout=10) retrying\n",
      "HTTPSConnectionPool(host='www.datos.gov.co', port=443): Read timed out. (read timeout=10) retrying\n",
      "HTTPSConnectionPool(host='www.datos.gov.co', port=443): Read timed out. (read timeout=10) retrying\n",
      "HTTPSConnectionPool(host='www.datos.gov.co', port=443): Read timed out. (read timeout=10) retrying\n",
      "HTTPSConnectionPool(host='www.datos.gov.co', port=443): Read timed out. (read timeout=10) retrying\n",
      "HTTPSConnectionPool(host='www.datos.gov.co', port=443): Read timed out. (read timeout=10) retrying\n",
      "HTTPSConnectionPool(host='www.datos.gov.co', port=443): Read timed out. (read timeout=10) retrying\n",
      "HTTPSConnectionPool(host='www.datos.gov.co', port=443): Read timed out. (read timeout=10) retrying\n",
      "HTTPSConnectionPool(host='www.datos.gov.co', port=443): Read timed out. (read timeout=10) retrying\n",
      "HTTPSConnectionPool(host='www.datos.gov.co', port=443): Read timed out. (read timeout=10) retrying\n",
      "HTTPSConnectionPool(host='www.datos.gov.co', port=443): Read timed out. (read timeout=10) retrying\n",
      "HTTPSConnectionPool(host='www.datos.gov.co', port=443): Read timed out. (read timeout=10) retrying\n",
      "HTTPSConnectionPool(host='www.datos.gov.co', port=443): Read timed out. (read timeout=10) retrying\n",
      "HTTPSConnectionPool(host='www.datos.gov.co', port=443): Read timed out. (read timeout=10) retrying\n",
      "HTTPSConnectionPool(host='www.datos.gov.co', port=443): Read timed out. (read timeout=10) retrying\n",
      "HTTPSConnectionPool(host='www.datos.gov.co', port=443): Read timed out. (read timeout=10) retrying\n",
      "HTTPSConnectionPool(host='www.datos.gov.co', port=443): Read timed out. (read timeout=10) retrying\n"
     ]
    },
    {
     "data": {
      "text/html": [
       "<div>\n",
       "<style scoped>\n",
       "    .dataframe tbody tr th:only-of-type {\n",
       "        vertical-align: middle;\n",
       "    }\n",
       "\n",
       "    .dataframe tbody tr th {\n",
       "        vertical-align: top;\n",
       "    }\n",
       "\n",
       "    .dataframe thead th {\n",
       "        text-align: right;\n",
       "    }\n",
       "</style>\n",
       "<table border=\"1\" class=\"dataframe\">\n",
       "  <thead>\n",
       "    <tr style=\"text-align: right;\">\n",
       "      <th></th>\n",
       "      <th>CodigoEstacion</th>\n",
       "      <th>CodigoSensor</th>\n",
       "      <th>NombreEstacion</th>\n",
       "      <th>Latitud</th>\n",
       "      <th>Longitud</th>\n",
       "      <th>DescripcionSensor</th>\n",
       "      <th>UnidadMedida</th>\n",
       "    </tr>\n",
       "  </thead>\n",
       "  <tbody>\n",
       "    <tr>\n",
       "      <th>0</th>\n",
       "      <td>0016025040</td>\n",
       "      <td>0103</td>\n",
       "      <td>CINERA-VILLA OLGA</td>\n",
       "      <td>8.167777778</td>\n",
       "      <td>-72.46861111</td>\n",
       "      <td>Velocidad Viento (10 min)</td>\n",
       "      <td>m/s</td>\n",
       "    </tr>\n",
       "    <tr>\n",
       "      <th>1</th>\n",
       "      <td>0016015501</td>\n",
       "      <td>0103</td>\n",
       "      <td>APTO CAMILO DAZA</td>\n",
       "      <td>7.932</td>\n",
       "      <td>-72.511</td>\n",
       "      <td>Velocidad Viento (10 min)</td>\n",
       "      <td>m/s</td>\n",
       "    </tr>\n",
       "    <tr>\n",
       "      <th>2</th>\n",
       "      <td>0016015110</td>\n",
       "      <td>0103</td>\n",
       "      <td>UNIVERSIDAD FRANCISO DE PAULA SANTANDER - AUT</td>\n",
       "      <td>7.898777778</td>\n",
       "      <td>-72.48716667</td>\n",
       "      <td>Velocidad Viento (10 min)</td>\n",
       "      <td>m/s</td>\n",
       "    </tr>\n",
       "  </tbody>\n",
       "</table>\n",
       "</div>"
      ],
      "text/plain": [
       "  CodigoEstacion CodigoSensor                                 NombreEstacion  \\\n",
       "0     0016025040         0103                              CINERA-VILLA OLGA   \n",
       "1     0016015501         0103                               APTO CAMILO DAZA   \n",
       "2     0016015110         0103  UNIVERSIDAD FRANCISO DE PAULA SANTANDER - AUT   \n",
       "\n",
       "       Latitud      Longitud          DescripcionSensor UnidadMedida  \n",
       "0  8.167777778  -72.46861111  Velocidad Viento (10 min)          m/s  \n",
       "1        7.932       -72.511  Velocidad Viento (10 min)          m/s  \n",
       "2  7.898777778  -72.48716667  Velocidad Viento (10 min)          m/s  "
      ]
     },
     "execution_count": null,
     "metadata": {},
     "output_type": "execute_result"
    }
   ],
   "source": [
    "win_stations = get_stations_from_municipality(client, Viento, municipality)\n",
    "win_stations"
   ]
  },
  {
   "cell_type": "code",
   "execution_count": null,
   "metadata": {},
   "outputs": [],
   "source": [
    "codigos_estaciones = win_stations[\"CodigoEstacion\"].values\n",
    "win_time_series = []\n",
    "for codigo in codigos_estaciones:\n",
    "    wind_data = group_variable(get_time_series_from_station(client, Viento,  municipality, codigoestacion=codigo, limit = 1000000))\n",
    "    win_time_series.append(wind_data)"
   ]
  },
  {
   "cell_type": "code",
   "execution_count": null,
   "metadata": {},
   "outputs": [],
   "source": [
    "win_time_series = pd.concat(win_time_series,axis = 0).reset_index(drop=True)\n",
    "win_time_series = API_to_IDEAM_series(win_time_series)\n",
    "win_time_series.to_csv(data_folder+municipality_folder+\"/Z_API_{}_wind.csv\".format(municipality), index = False)"
   ]
  },
  {
   "cell_type": "code",
   "execution_count": null,
   "metadata": {},
   "outputs": [],
   "source": []
  },
  {
   "cell_type": "code",
   "execution_count": null,
   "metadata": {},
   "outputs": [],
   "source": []
  }
 ],
 "metadata": {
  "kernelspec": {
   "display_name": "Python 3",
   "language": "python",
   "name": "python3"
  }
 },
 "nbformat": 4,
 "nbformat_minor": 4
}
