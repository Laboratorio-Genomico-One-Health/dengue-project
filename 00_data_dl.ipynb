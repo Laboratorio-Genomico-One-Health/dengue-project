{
 "cells": [
  {
   "cell_type": "code",
   "execution_count": null,
   "metadata": {},
   "outputs": [],
   "source": [
    "from google_drive_downloader import GoogleDriveDownloader as gdd\n",
    "import pandas as pd\n",
    "from sodapy import Socrata\n",
    "import requests\n",
    "from selenium import webdriver\n",
    "from selenium.webdriver.common.keys import Keys\n",
    "from selenium.webdriver.support.ui import Select\n",
    "import time\n",
    "import selenium\n",
    "from notebook import notebookapp\n",
    "import urllib\n",
    "import json\n",
    "import os\n",
    "import ipykernel"
   ]
  },
  {
   "cell_type": "code",
   "execution_count": null,
   "metadata": {},
   "outputs": [],
   "source": [
    "import zipfile\n",
    "import glob"
   ]
  },
  {
   "cell_type": "code",
   "execution_count": null,
   "metadata": {},
   "outputs": [],
   "source": [
    "def notebook_path():\n",
    "    \"\"\"Returns the absolute path of the Notebook or None if it cannot be determined\n",
    "    NOTE: works only when the security is token-based or there is also no password\n",
    "    \"\"\"\n",
    "    connection_file = os.path.basename(ipykernel.get_connection_file())\n",
    "    kernel_id = connection_file.split('-', 1)[1].split('.')[0]\n",
    "\n",
    "    for srv in notebookapp.list_running_servers():\n",
    "        try:\n",
    "            if srv['token']=='' and not srv['password']:  # No token and no password, ahem...\n",
    "                req = urllib.request.urlopen(srv['url']+'api/sessions')\n",
    "            else:\n",
    "                req = urllib.request.urlopen(srv['url']+'api/sessions?token='+srv['token'])\n",
    "            sessions = json.load(req)\n",
    "            for sess in sessions:\n",
    "                if sess['kernel']['id'] == kernel_id:\n",
    "                    return os.path.join(srv['notebook_dir'],sess['notebook']['path'])\n",
    "        except:\n",
    "            pass  # There may be stale entries in the runtime directory \n",
    "    return None\n",
    "\n",
    "def make_folder_if_not_exists(folder_path):\n",
    "    if not os.path.exists(folder_path):\n",
    "        os.makedirs(folder_path)"
   ]
  },
  {
   "cell_type": "code",
   "execution_count": null,
   "metadata": {},
   "outputs": [],
   "source": [
    "#export\n",
    "def download_file_maps(route = \"./local/data/\", filename = \"colombia.geo.json\"):\n",
    "    \n",
    "    gdd.download_file_from_google_drive(file_id='1wEiDe2B_ojoaLUnV3Ik67t_YpAC2nbPA',\n",
    "                                        dest_path=route+filename,\n",
    "                                        unzip=False, showsize=True, overwrite = True)\n",
    "    return "
   ]
  },
  {
   "cell_type": "code",
   "execution_count": null,
   "metadata": {},
   "outputs": [
    {
     "name": "stdout",
     "output_type": "stream",
     "text": [
      "Downloading 1wEiDe2B_ojoaLUnV3Ik67t_YpAC2nbPA into ./local/data/colombia.geo.json... \n",
      "1.4 MiB B       Done.\n"
     ]
    }
   ],
   "source": [
    "download_file_maps()"
   ]
  },
  {
   "cell_type": "code",
   "execution_count": null,
   "metadata": {},
   "outputs": [],
   "source": [
    "#export\n",
    "def download_files_raw_dengue(route = \"./local/data/\"):\n",
    "    gdd.download_file_from_google_drive(file_id='1xHXshzID1MBrKZKVvnc6JeO_ZU04HvQ_',\n",
    "                                        dest_path=route+\"dengue2007-2017.csv\",\n",
    "                                        unzip=False, showsize=True, overwrite = True)\n",
    "    return\n"
   ]
  },
  {
   "cell_type": "code",
   "execution_count": null,
   "metadata": {},
   "outputs": [
    {
     "name": "stdout",
     "output_type": "stream",
     "text": [
      "Downloading 1xHXshzID1MBrKZKVvnc6JeO_ZU04HvQ_ into ./local/data/dengue2007-2017.csv... \n",
      "65.2 MiB                                                                                                                                                                   Done.\n"
     ]
    }
   ],
   "source": [
    "download_files_raw_dengue()"
   ]
  },
  {
   "cell_type": "code",
   "execution_count": null,
   "metadata": {},
   "outputs": [],
   "source": [
    "#export\n",
    "def download_files_processed_dengue(route = \"./local/data/\"):\n",
    "    gdd.download_file_from_google_drive(file_id='1GAteakYZ8LlNFsQG1B8B3-E_1mlKy7qj',\n",
    "                                        dest_path=route+\"dengue_weekly_2007_2020.csv\",\n",
    "                                        unzip=False, showsize=True, overwrite = True)\n",
    "    return"
   ]
  },
  {
   "cell_type": "code",
   "execution_count": null,
   "metadata": {},
   "outputs": [
    {
     "name": "stdout",
     "output_type": "stream",
     "text": [
      "Downloading 1GAteakYZ8LlNFsQG1B8B3-E_1mlKy7qj into ./local/data/dengue_weekly_2007_2020.csv... \n",
      "28.5 MiB                                                      Done.\n"
     ]
    }
   ],
   "source": [
    "download_files_processed_dengue()"
   ]
  },
  {
   "cell_type": "code",
   "execution_count": null,
   "metadata": {},
   "outputs": [],
   "source": [
    "#export\n",
    "def download_file_population(route = \"./local/data/\", filename = \"population.csv\"):\n",
    "    \n",
    "    gdd.download_file_from_google_drive(file_id='1RU2C4DoAubhXEhfVYLOtL4Yjg1LPERIc',\n",
    "                                        dest_path=route+filename,\n",
    "                                        unzip=False, showsize=True, overwrite = True)\n",
    "    return "
   ]
  },
  {
   "cell_type": "code",
   "execution_count": null,
   "metadata": {},
   "outputs": [
    {
     "name": "stdout",
     "output_type": "stream",
     "text": [
      "Downloading 1RU2C4DoAubhXEhfVYLOtL4Yjg1LPERIc into ./local/data/population.csv... \n",
      "640.0 KiB Done.\n"
     ]
    }
   ],
   "source": [
    "download_file_population()"
   ]
  },
  {
   "cell_type": "code",
   "execution_count": null,
   "metadata": {},
   "outputs": [
    {
     "name": "stdout",
     "output_type": "stream",
     "text": [
      "Downloading 1Bgya5O3FtPo6zasYaKRc3J-U_l2ZcYHw into ./local/data/data_per_year.csv... \n",
      "448.0 KiB Done.\n"
     ]
    }
   ],
   "source": [
    "def download_file_year(route = \"./local/data/\", filename = \"data_per_year.csv\"):\n",
    "    \n",
    "    gdd.download_file_from_google_drive(file_id='1Bgya5O3FtPo6zasYaKRc3J-U_l2ZcYHw',\n",
    "                                        dest_path=route+filename,\n",
    "                                        unzip=False, showsize=True, overwrite = True)\n",
    "    return \n",
    "download_file_year()"
   ]
  },
  {
   "cell_type": "code",
   "execution_count": null,
   "metadata": {},
   "outputs": [],
   "source": [
    "#export\n",
    "def download_file_departments(route = \"./local/data/\", filename = \"departments.csv\"):\n",
    "    \n",
    "    gdd.download_file_from_google_drive(file_id='1ImNzdFwQF91aA4qE_7XKpOU7AFK1f7WS',\n",
    "                                        dest_path=route+filename,\n",
    "                                        unzip=False, showsize=True, overwrite = True)\n",
    "    return "
   ]
  },
  {
   "cell_type": "code",
   "execution_count": null,
   "metadata": {},
   "outputs": [
    {
     "name": "stdout",
     "output_type": "stream",
     "text": [
      "Downloading 1ImNzdFwQF91aA4qE_7XKpOU7AFK1f7WS into ./local/data/departments.csv... \n",
      "32.0 KiB Done.\n"
     ]
    }
   ],
   "source": [
    "download_file_departments()"
   ]
  },
  {
   "cell_type": "code",
   "execution_count": null,
   "metadata": {},
   "outputs": [],
   "source": [
    "#export\n",
    "def download_file_sstoi(route = \"./local/data/\", filename = \"sstoi.txt\"):\n",
    "    url = 'https://www.cpc.ncep.noaa.gov/data/indices/sstoi.indices'\n",
    "    r = requests.get(url, allow_redirects=True)\n",
    "    open(route+filename, 'wb').write(r.content)\n",
    "    \n",
    "def download_file_oni(route = \"./local/data/\", filename = \"oni.txt\"):\n",
    "    url = 'https://psl.noaa.gov/data/correlation/oni.data'\n",
    "    r = requests.get(url, allow_redirects=True)\n",
    "    open(route+filename, 'wb').write(r.content)\n",
    "    \n",
    "    \n",
    "def download_file_tni(route = \"./local/data/\", filename = \"tni.txt\"):\n",
    "    url = 'https://psl.noaa.gov/data/correlation/tni.data'\n",
    "    r = requests.get(url, allow_redirects=True)\n",
    "    open(route+filename, 'wb').write(r.content)\n",
    "    \n",
    "def download_file_meiv2(route = \"./local/data/\", filename = \"meiv2.txt\"):\n",
    "    url = 'https://psl.noaa.gov/enso/mei/data/meiv2.data'\n",
    "    r = requests.get(url, allow_redirects=True)\n",
    "    open(route+filename, 'wb').write(r.content)"
   ]
  },
  {
   "cell_type": "code",
   "execution_count": null,
   "metadata": {},
   "outputs": [],
   "source": [
    "download_file_sstoi()\n",
    "download_file_tni()\n",
    "download_file_oni()\n",
    "download_file_meiv2()"
   ]
  },
  {
   "cell_type": "code",
   "execution_count": null,
   "metadata": {},
   "outputs": [],
   "source": []
  },
  {
   "cell_type": "markdown",
   "metadata": {},
   "source": [
    "# CLIMATE DATA DOWNLOAD"
   ]
  },
  {
   "cell_type": "code",
   "execution_count": null,
   "metadata": {},
   "outputs": [
    {
     "data": {
      "text/plain": [
       "'C:/Users/Admin/Downloads/DS4A/dengue-project/local/data/'"
      ]
     },
     "execution_count": null,
     "metadata": {},
     "output_type": "execute_result"
    }
   ],
   "source": [
    "setup = \"repo\" #alternativo: local\n",
    "if setup == \"repo\":\n",
    "    data_folder = \"/\".join(notebook_path().replace(\"\\\\\",\"/\").split(\"/\")[:-1]) + \"/local/data/\"\n",
    "\n",
    "    #data_folder = \"./local/data/\"\n",
    "else:\n",
    "    data_folder = \"/\".join(notebook_path().replace(\"\\\\\",\"/\").split(\"/\")[:-1])  + \"/data/\"\n",
    "make_folder_if_not_exists(data_folder)\n",
    "data_folder"
   ]
  },
  {
   "cell_type": "markdown",
   "metadata": {},
   "source": [
    "Amazonas\n",
    "Antioquia\n",
    "Arauca\n",
    "Archipiélago de San Andres, Providencia y Santa Catalina\n",
    "Atlantico\n",
    "Bogotá\n",
    "Bolivar\n",
    "Boyacá\n",
    "Caldas\n",
    "Caquetá\n",
    "Casanare\n",
    "Cauca\n",
    "Cesar\n",
    "Chocó\n",
    "Córdoba\n",
    "Cundinamarca\n",
    "Guainía\n",
    "Guaviare\n",
    "Huila\n",
    "La Guajira\n",
    "Magdalena\n",
    "Meta\n",
    "Nariño\n",
    "Norte de Santander\n",
    "Putumayo\n",
    "Quindío\n",
    "Risaralda\n",
    "Santander\n",
    "Sucre\n",
    "Tolima\n",
    "Valle del Cauca"
   ]
  },
  {
   "cell_type": "code",
   "execution_count": null,
   "metadata": {},
   "outputs": [],
   "source": [
    "department = \"MAGDALENA\"\n",
    "municipality = \"SANTA MARTA\"\n",
    "municipality_folder = \"SANTA_MARTA_DATA/\"\n",
    "dl_folder = data_folder + municipality_folder\n",
    "make_folder_if_not_exists(dl_folder)"
   ]
  },
  {
   "cell_type": "code",
   "execution_count": null,
   "metadata": {},
   "outputs": [
    {
     "data": {
      "text/plain": [
       "'C:\\\\Users\\\\Admin\\\\Downloads\\\\DS4A\\\\dengue-project\\\\local\\\\data\\\\SANTA_MARTA_DATA\\\\'"
      ]
     },
     "execution_count": null,
     "metadata": {},
     "output_type": "execute_result"
    }
   ],
   "source": [
    "dl_folder = dl_folder.replace(\"/\",\"\\\\\")\n",
    "dl_folder"
   ]
  },
  {
   "cell_type": "markdown",
   "metadata": {},
   "source": [
    "# IDEAM MAP DOWNLOAD"
   ]
  },
  {
   "cell_type": "code",
   "execution_count": null,
   "metadata": {},
   "outputs": [],
   "source": [
    "def download_data_with_selenium(department, municipality, variable, interval, dl_folder):\n",
    "    variable_codes = {\n",
    "        \"TEMPERATURA\":\"TA2_AUT_60\",\n",
    "        \"HUM RELATIVA\":\"HRA2_AUT_60\",\n",
    "        \"PRECIPITACION\":\"PTPM_CON\"\n",
    "    }\n",
    "    options = selenium.webdriver.ChromeOptions()\n",
    "    options.add_experimental_option(\"prefs\", {\"download.default_directory\": dl_folder})\n",
    "    options.add_argument(\"--headless\")  \n",
    "    options.add_argument(\"--window-size=1920,1080\")\n",
    "    driver = selenium.webdriver.Chrome(chrome_options=options) \n",
    "    driver.get(\"http://dhime.ideam.gov.co/atencionciudadano/\")\n",
    "    got_modal = False\n",
    "    #Find the modal and click it out\n",
    "    while not got_modal:\n",
    "        try:\n",
    "            elem = driver.find_element_by_xpath('//*[@id=\"jimu_dijit_CheckBox_0\"]/div[1]')\n",
    "            elem.click()\n",
    "            time.sleep(2)\n",
    "            elem = driver.find_element_by_xpath('//*[@id=\"widgets_Splash_Widget_32\"]/div[2]/div[2]/div[2]/div[3]')\n",
    "            elem.click()\n",
    "            time.sleep(2)\n",
    "            got_modal = True\n",
    "        except:\n",
    "            time.sleep(1)\n",
    "            print(\"Retrying\")\n",
    "    elem = driver.find_element_by_xpath('//*[@id=\"datepicker\"]')\n",
    "    elem.clear()\n",
    "    time.sleep(2)\n",
    "    elem.send_keys(interval[0])\n",
    "    time.sleep(2)\n",
    "    elem = driver.find_element_by_xpath('//*[@id=\"datepicker1\"]')\n",
    "    elem.clear()\n",
    "    time.sleep(2)\n",
    "    elem.send_keys(interval[1])\n",
    "    time.sleep(2)\n",
    "    elem = driver.find_element_by_xpath('//*[@id=\"pnlEstandar\"]/table/tbody/tr[1]/td[2]/span')\n",
    "    elem.click()\n",
    "    elem.send_keys(variable)\n",
    "    elem.send_keys(Keys.ENTER)\n",
    "    time.sleep(2)\n",
    "    input_element = driver.find_element_by_xpath('//*[@id=\"DatosBuscar\"]/tbody/tr[1]/td[1]/input')\n",
    "    onclick_value = \"cargarEtiquetaEst('{}','')\".format(variable_codes[variable])\n",
    "    driver.execute_script(\"arguments[0].setAttribute(\\\"onclick\\\",\\\"{}\\\")\".format(onclick_value), input_element)\n",
    "    input_element.click()\n",
    "    time.sleep(2)\n",
    "    elem = driver.find_element_by_xpath('//*[@id=\"first\"]/table/tbody/tr[1]/td[2]/span')\n",
    "    elem.click()\n",
    "    elem.send_keys(department)\n",
    "    elem.send_keys(Keys.ENTER)\n",
    "    time.sleep(3)\n",
    "    elem = driver.find_element_by_xpath('//*[@id=\"first\"]/table/tbody/tr[2]/td[2]/span')\n",
    "    elem.click()\n",
    "    elem.send_keys(municipality)\n",
    "    elem.send_keys(Keys.ENTER)\n",
    "    time.sleep(3)\n",
    "    trs_stations = driver.find_elements_by_xpath('//*[@id=\"contenidoCantidadMetadata\"]/table/tbody/tr')\n",
    "    count = 0\n",
    "    for tr_station in trs_stations:\n",
    "        probable_values = int(tr_station.find_elements_by_tag_name(\"td\")[-1].text)\n",
    "        if probable_values > 0 and count <= 10:\n",
    "            select_box = tr_station.find_elements_by_tag_name(\"input\")[0]\n",
    "            select_box.click()\n",
    "            count+=1  \n",
    "    if count == 0:\n",
    "        driver.close()\n",
    "        return False\n",
    "    else:\n",
    "        elem = driver.find_element_by_xpath('//*[@id=\"first\"]/div[5]/div')\n",
    "        elem.click()\n",
    "        time.sleep(2)\n",
    "        elem = driver.find_element_by_xpath('//*[@id=\"second\"]/div/div[3]/div[1]')\n",
    "        elem.click()\n",
    "        time.sleep(2)\n",
    "        elem = driver.find_element_by_xpath('//*[@id=\"dijit_ConfirmDialog_1\"]/div[3]/span[1]')\n",
    "        elem.click()\n",
    "        time.sleep(40)\n",
    "        driver.close()\n",
    "    return True"
   ]
  },
  {
   "cell_type": "code",
   "execution_count": null,
   "metadata": {},
   "outputs": [
    {
     "data": {
      "text/plain": [
       "1"
      ]
     },
     "execution_count": null,
     "metadata": {},
     "output_type": "execute_result"
    }
   ],
   "source": [
    "1"
   ]
  },
  {
   "cell_type": "code",
   "execution_count": null,
   "metadata": {},
   "outputs": [
    {
     "name": "stderr",
     "output_type": "stream",
     "text": [
      "C:\\Users\\Admin\\Anaconda3\\envs\\dl\\lib\\site-packages\\ipykernel_launcher.py:11: DeprecationWarning: use options instead of chrome_options\n",
      "  # This is added back by InteractiveShellApp.init_path()\n"
     ]
    },
    {
     "name": "stdout",
     "output_type": "stream",
     "text": [
      "Retrying\n",
      "Retrying\n",
      "Started download for: MAGDALENA / SANTA MARTA / TEMPERATURA ('01/01/2007', '31/12/2011')\n",
      "Retrying\n",
      "Retrying\n",
      "Started download for: MAGDALENA / SANTA MARTA / HUM RELATIVA ('01/01/2007', '31/12/2011')\n",
      "Retrying\n",
      "Retrying\n",
      "Started download for: MAGDALENA / SANTA MARTA / PRECIPITACION ('01/01/2007', '31/12/2011')\n",
      "Retrying\n",
      "Retrying\n",
      "Started download for: MAGDALENA / SANTA MARTA / TEMPERATURA ('01/01/2012', '31/12/2016')\n",
      "Retrying\n",
      "Retrying\n",
      "Started download for: MAGDALENA / SANTA MARTA / HUM RELATIVA ('01/01/2012', '31/12/2016')\n",
      "Retrying\n",
      "Retrying\n",
      "Started download for: MAGDALENA / SANTA MARTA / PRECIPITACION ('01/01/2012', '31/12/2016')\n",
      "Retrying\n",
      "Retrying\n",
      "Started download for: MAGDALENA / SANTA MARTA / TEMPERATURA ('01/01/2017', '31/12/2021')\n",
      "Retrying\n",
      "Retrying\n",
      "Started download for: MAGDALENA / SANTA MARTA / HUM RELATIVA ('01/01/2017', '31/12/2021')\n",
      "Retrying\n",
      "Retrying\n",
      "Started download for: MAGDALENA / SANTA MARTA / PRECIPITACION ('01/01/2017', '31/12/2021')\n"
     ]
    }
   ],
   "source": [
    "#Downloads from IDEAM with Selenium\n",
    "variables = [\"TEMPERATURA\",\"HUM RELATIVA\",\"PRECIPITACION\"]\n",
    "date_intervals = [ (\"01/01/2007\",\"31/12/2011\"), (\"01/01/2012\", \"31/12/2016\"),(\"01/01/2017\",\"31/12/2021\")]\n",
    "for data_interval in date_intervals:\n",
    "    for variable in variables:\n",
    "        res = download_data_with_selenium(department, municipality, variable, data_interval, dl_folder)\n",
    "        if res == True:\n",
    "            print(\"Started download for:\",department,\"/\",municipality,\"/\",variable,data_interval)\n",
    "            try:\n",
    "                os.rename(dl_folder+\"datos.zip\",dl_folder+\"{}.zip\".format(department+\"-\"+municipality+\"-\"+variable+\"-\"+data_interval[0].replace(\"/\",\"-\")+\"-\"+data_interval[1].replace(\"/\",\"-\")))\n",
    "            except:\n",
    "                print(\"Error downloading, driver closed prematurely.\")\n",
    "        else:\n",
    "            print(\"Couldn't start download for:\",department,\"/\",municipality,\"/\",variable,data_interval)"
   ]
  },
  {
   "cell_type": "code",
   "execution_count": null,
   "metadata": {},
   "outputs": [],
   "source": [
    "zipped_csvs = glob.glob(dl_folder+\"*.zip\")"
   ]
  },
  {
   "cell_type": "code",
   "execution_count": null,
   "metadata": {},
   "outputs": [
    {
     "data": {
      "text/plain": [
       "['C:\\\\Users\\\\Admin\\\\Downloads\\\\DS4A\\\\dengue-project\\\\local\\\\data\\\\SANTA_MARTA_DATA\\\\MAGDALENA-SANTA MARTA-HUM RELATIVA-01-01-2007-31-12-2011.zip',\n",
       " 'C:\\\\Users\\\\Admin\\\\Downloads\\\\DS4A\\\\dengue-project\\\\local\\\\data\\\\SANTA_MARTA_DATA\\\\MAGDALENA-SANTA MARTA-HUM RELATIVA-01-01-2012-31-12-2016.zip',\n",
       " 'C:\\\\Users\\\\Admin\\\\Downloads\\\\DS4A\\\\dengue-project\\\\local\\\\data\\\\SANTA_MARTA_DATA\\\\MAGDALENA-SANTA MARTA-HUM RELATIVA-01-01-2017-31-12-2021.zip',\n",
       " 'C:\\\\Users\\\\Admin\\\\Downloads\\\\DS4A\\\\dengue-project\\\\local\\\\data\\\\SANTA_MARTA_DATA\\\\MAGDALENA-SANTA MARTA-PRECIPITACION-01-01-2007-31-12-2011.zip',\n",
       " 'C:\\\\Users\\\\Admin\\\\Downloads\\\\DS4A\\\\dengue-project\\\\local\\\\data\\\\SANTA_MARTA_DATA\\\\MAGDALENA-SANTA MARTA-PRECIPITACION-01-01-2012-31-12-2016.zip',\n",
       " 'C:\\\\Users\\\\Admin\\\\Downloads\\\\DS4A\\\\dengue-project\\\\local\\\\data\\\\SANTA_MARTA_DATA\\\\MAGDALENA-SANTA MARTA-PRECIPITACION-01-01-2017-31-12-2021.zip',\n",
       " 'C:\\\\Users\\\\Admin\\\\Downloads\\\\DS4A\\\\dengue-project\\\\local\\\\data\\\\SANTA_MARTA_DATA\\\\MAGDALENA-SANTA MARTA-TEMPERATURA-01-01-2007-31-12-2011.zip',\n",
       " 'C:\\\\Users\\\\Admin\\\\Downloads\\\\DS4A\\\\dengue-project\\\\local\\\\data\\\\SANTA_MARTA_DATA\\\\MAGDALENA-SANTA MARTA-TEMPERATURA-01-01-2012-31-12-2016.zip',\n",
       " 'C:\\\\Users\\\\Admin\\\\Downloads\\\\DS4A\\\\dengue-project\\\\local\\\\data\\\\SANTA_MARTA_DATA\\\\MAGDALENA-SANTA MARTA-TEMPERATURA-01-01-2017-31-12-2021.zip']"
      ]
     },
     "execution_count": null,
     "metadata": {},
     "output_type": "execute_result"
    }
   ],
   "source": [
    "zipped_csvs"
   ]
  },
  {
   "cell_type": "code",
   "execution_count": null,
   "metadata": {},
   "outputs": [],
   "source": [
    "files_count = 0\n",
    "for zipped_csv in zipped_csvs:\n",
    "    filename = zipped_csv.split(\"\\\\\")[-1].split(\".\")[0]\n",
    "    zipdata = zipfile.ZipFile(zipped_csv)\n",
    "    zipdata.extract(\"excel.csv.csv\", path = dl_folder)\n",
    "    os.rename(dl_folder+\"excel.csv.csv\",dl_folder+\"{}.csv\".format(filename))\n",
    "    files_count+=1\n",
    "    zipdata.close()"
   ]
  },
  {
   "cell_type": "code",
   "execution_count": null,
   "metadata": {},
   "outputs": [],
   "source": []
  },
  {
   "cell_type": "markdown",
   "metadata": {},
   "source": [
    "# DOWNLOAD FROM DATOS ABIERTOS API\n"
   ]
  },
  {
   "cell_type": "code",
   "execution_count": null,
   "metadata": {},
   "outputs": [],
   "source": [
    "#Downloads from API\n",
    "def get_stations_from_municipality(client, dataset, municipio):\n",
    "    done = False\n",
    "    while not done:\n",
    "        try:\n",
    "            results = client.get(dataset, limit = 1000, select = \"distinct CodigoEstacion, CodigoSensor, NombreEstacion, Latitud, Longitud, DescripcionSensor, UnidadMedida\", municipio=municipio)\n",
    "            results_df = pd.DataFrame.from_records(results)\n",
    "            done = True\n",
    "        except Exception as E:\n",
    "            print(E, \"retrying\")\n",
    "    return results_df\n",
    "\n",
    "def get_time_series_from_station(client, dataset, municipio, codigoestacion, limit = 1000000):\n",
    "    done = False\n",
    "    while not done:\n",
    "        try:\n",
    "            results = client.get(dataset, limit = limit, select = \"*\", municipio=municipio, codigoestacion = codigoestacion, order='fechaobservacion DESC')\n",
    "            results_df = pd.DataFrame.from_records(results)\n",
    "            done = True\n",
    "        except Exception as E:\n",
    "            print(E, \"retrying\")\n",
    "    return results_df\n",
    "\n",
    "def group_variable(df, freq = 'hourly'):\n",
    "    df[\"fechaobservacion\"]= pd.to_datetime(df[\"fechaobservacion\"])\n",
    "    df[\"fecha\"] = df[\"fechaobservacion\"].dt.date\n",
    "    df[\"valorobservado\"] = df[\"valorobservado\"].apply(float)\n",
    "    if freq == 'hourly':\n",
    "        df[\"hora\"] = df[\"fechaobservacion\"].dt.hour\n",
    "        df = df.groupby(['codigoestacion', 'codigosensor','nombreestacion', 'departamento', 'municipio', 'zonahidrografica',\n",
    "       'latitud', 'longitud', 'descripcionsensor', 'unidadmedida', 'fecha',\n",
    "       'hora']).mean().reset_index() \n",
    "        df[\"fechaobservacion\"] = df[\"fecha\"].apply(str)+\"T\"+df[\"hora\"].apply(str)+\":00:00.000\"\n",
    "    elif freq == 'daily':\n",
    "        df = df.groupby(['codigoestacion', 'codigosensor','nombreestacion', 'departamento', 'municipio', 'zonahidrografica',\n",
    "       'latitud', 'longitud', 'descripcionsensor', 'unidadmedida', 'fecha']).sum().reset_index() \n",
    "        df[\"fechaobservacion\"] = df[\"fecha\"].apply(str)+\"T00:00:00.000\"\n",
    "    df = df[['codigoestacion', 'codigosensor', 'fechaobservacion', 'valorobservado',\n",
    "       'nombreestacion', 'departamento', 'municipio', 'zonahidrografica',\n",
    "       'latitud', 'longitud', 'descripcionsensor', 'unidadmedida']]\n",
    "    return df\n",
    "\n",
    "\n",
    "def API_to_IDEAM_series(df):\n",
    "    df.columns = [\"CodigoEstacion\",\"CodigoSensor\",\"Fecha\",\"Valor\",\"NombreEstacion\",\"Departamento\",\"Municipio\", \"AreaOperativa\",\"Latitud\",\"Longitud\",\"Etiqueta\",\"Categoria\"]\n",
    "    df[\"Altitud\"] = \"\"\n",
    "    df[\"FechaInstalacion\"] = \"\"\n",
    "    df[\"FechaSuspension\"]=\"\"\n",
    "    df[\"Frecuencia\"] = \"\"\n",
    "    df[\"Grado\"]=\"\"\n",
    "    df[\"NivelAprobacion\"] =\"\"\n",
    "    df[\"DescripcionSerie\"] = \"\"\n",
    "    df[\"Entidad\"]=\"\"\n",
    "    df[\"IdParametro\"] = \"\"\n",
    "    df[\"Calificador\"] = \"\"\n",
    "    df[\"CodigoEstacion\"] = df[\"CodigoEstacion\"].apply(int)\n",
    "    df = df[['CodigoEstacion', 'NombreEstacion', 'Latitud', 'Longitud', 'Altitud',\n",
    "       'Categoria', 'Entidad', 'AreaOperativa', 'Departamento', 'Municipio',\n",
    "       'FechaInstalacion', 'FechaSuspension', 'IdParametro', 'Etiqueta',\n",
    "       'DescripcionSerie', 'Frecuencia', 'Fecha', 'Valor', 'Grado',\n",
    "       'Calificador', 'NivelAprobacion']]\n",
    "    return df\n",
    "\n",
    "\n",
    "columns = [\"CodigoEstacion\",\"FechaObservacion\",\"ValorObservado\",\"NombreEstacion\",\"ZonaHidrografica\",\"Latitud\",\"Longitud\",\"UnidadMedida\"]"
   ]
  },
  {
   "cell_type": "code",
   "execution_count": null,
   "metadata": {},
   "outputs": [],
   "source": [
    "# Example authenticated client (needed for non-public datasets):\n",
    "client = Socrata('www.datos.gov.co', \"mc0EDr4vP5YMKFeiaAEHZUWX0\")\n",
    "Precipitacion = 's54a-sgyg'\n",
    "Humedad = 'uext-mhny'\n",
    "Temperatura = 'sbwg-7ju4'\n"
   ]
  },
  {
   "cell_type": "markdown",
   "metadata": {},
   "source": [
    "# PRECIPITATION DATA DOWNLOAD"
   ]
  },
  {
   "cell_type": "code",
   "execution_count": null,
   "metadata": {},
   "outputs": [
    {
     "name": "stdout",
     "output_type": "stream",
     "text": [
      "HTTPSConnectionPool(host='www.datos.gov.co', port=443): Read timed out. (read timeout=10) retrying\n",
      "HTTPSConnectionPool(host='www.datos.gov.co', port=443): Read timed out. (read timeout=10) retrying\n",
      "HTTPSConnectionPool(host='www.datos.gov.co', port=443): Read timed out. (read timeout=10) retrying\n",
      "HTTPSConnectionPool(host='www.datos.gov.co', port=443): Read timed out. (read timeout=10) retrying\n",
      "HTTPSConnectionPool(host='www.datos.gov.co', port=443): Read timed out. (read timeout=10) retrying\n",
      "HTTPSConnectionPool(host='www.datos.gov.co', port=443): Read timed out. (read timeout=10) retrying\n",
      "HTTPSConnectionPool(host='www.datos.gov.co', port=443): Read timed out. (read timeout=10) retrying\n",
      "HTTPSConnectionPool(host='www.datos.gov.co', port=443): Read timed out. (read timeout=10) retrying\n",
      "HTTPSConnectionPool(host='www.datos.gov.co', port=443): Read timed out. (read timeout=10) retrying\n"
     ]
    },
    {
     "data": {
      "text/html": [
       "<div>\n",
       "<style scoped>\n",
       "    .dataframe tbody tr th:only-of-type {\n",
       "        vertical-align: middle;\n",
       "    }\n",
       "\n",
       "    .dataframe tbody tr th {\n",
       "        vertical-align: top;\n",
       "    }\n",
       "\n",
       "    .dataframe thead th {\n",
       "        text-align: right;\n",
       "    }\n",
       "</style>\n",
       "<table border=\"1\" class=\"dataframe\">\n",
       "  <thead>\n",
       "    <tr style=\"text-align: right;\">\n",
       "      <th></th>\n",
       "      <th>CodigoEstacion</th>\n",
       "      <th>CodigoSensor</th>\n",
       "      <th>NombreEstacion</th>\n",
       "      <th>Latitud</th>\n",
       "      <th>Longitud</th>\n",
       "      <th>DescripcionSensor</th>\n",
       "      <th>UnidadMedida</th>\n",
       "    </tr>\n",
       "  </thead>\n",
       "  <tbody>\n",
       "    <tr>\n",
       "      <th>0</th>\n",
       "      <td>0015015120</td>\n",
       "      <td>0240</td>\n",
       "      <td>UNIVERSIDAD TECNOLOGICA  - AUT</td>\n",
       "      <td>11.22305556</td>\n",
       "      <td>-74.18591667</td>\n",
       "      <td>Precipitacion</td>\n",
       "      <td>mm</td>\n",
       "    </tr>\n",
       "    <tr>\n",
       "      <th>1</th>\n",
       "      <td>1509500118</td>\n",
       "      <td>0240</td>\n",
       "      <td>GUACHACA - AUT</td>\n",
       "      <td>11.21015</td>\n",
       "      <td>-73.84445</td>\n",
       "      <td>Precipitacion</td>\n",
       "      <td>mm</td>\n",
       "    </tr>\n",
       "    <tr>\n",
       "      <th>2</th>\n",
       "      <td>0015017060</td>\n",
       "      <td>0240</td>\n",
       "      <td>BOCATOMA STA MARTA - En Siniestro</td>\n",
       "      <td>11.254</td>\n",
       "      <td>-74.139</td>\n",
       "      <td>Precipitacion</td>\n",
       "      <td>mm</td>\n",
       "    </tr>\n",
       "    <tr>\n",
       "      <th>3</th>\n",
       "      <td>1501500054</td>\n",
       "      <td>0240</td>\n",
       "      <td>SAN ISIDRO BONDA - AUT</td>\n",
       "      <td>11.230522222</td>\n",
       "      <td>-74.059786111</td>\n",
       "      <td>Precipitacion</td>\n",
       "      <td>mm</td>\n",
       "    </tr>\n",
       "    <tr>\n",
       "      <th>4</th>\n",
       "      <td>1501700160</td>\n",
       "      <td>0240</td>\n",
       "      <td>RIO MANZANARES ALERTAS - AUT</td>\n",
       "      <td>11.187080556</td>\n",
       "      <td>-74.096905556</td>\n",
       "      <td>Precipitacion</td>\n",
       "      <td>mm</td>\n",
       "    </tr>\n",
       "    <tr>\n",
       "      <th>5</th>\n",
       "      <td>0015015060</td>\n",
       "      <td>0240</td>\n",
       "      <td>SAN LORENZO  - AUT</td>\n",
       "      <td>11.11108333</td>\n",
       "      <td>-74.05469444</td>\n",
       "      <td>Precipitacion</td>\n",
       "      <td>mm</td>\n",
       "    </tr>\n",
       "    <tr>\n",
       "      <th>6</th>\n",
       "      <td>0015017030</td>\n",
       "      <td>0240</td>\n",
       "      <td>MINCA  - AUT</td>\n",
       "      <td>11.15891667</td>\n",
       "      <td>-74.12291667</td>\n",
       "      <td>Precipitacion</td>\n",
       "      <td>mm</td>\n",
       "    </tr>\n",
       "  </tbody>\n",
       "</table>\n",
       "</div>"
      ],
      "text/plain": [
       "  CodigoEstacion CodigoSensor                     NombreEstacion  \\\n",
       "0     0015015120         0240     UNIVERSIDAD TECNOLOGICA  - AUT   \n",
       "1     1509500118         0240                     GUACHACA - AUT   \n",
       "2     0015017060         0240  BOCATOMA STA MARTA - En Siniestro   \n",
       "3     1501500054         0240             SAN ISIDRO BONDA - AUT   \n",
       "4     1501700160         0240       RIO MANZANARES ALERTAS - AUT   \n",
       "5     0015015060         0240                 SAN LORENZO  - AUT   \n",
       "6     0015017030         0240                       MINCA  - AUT   \n",
       "\n",
       "        Latitud       Longitud DescripcionSensor UnidadMedida  \n",
       "0   11.22305556   -74.18591667     Precipitacion           mm  \n",
       "1      11.21015      -73.84445     Precipitacion           mm  \n",
       "2        11.254        -74.139     Precipitacion           mm  \n",
       "3  11.230522222  -74.059786111     Precipitacion           mm  \n",
       "4  11.187080556  -74.096905556     Precipitacion           mm  \n",
       "5   11.11108333   -74.05469444     Precipitacion           mm  \n",
       "6   11.15891667   -74.12291667     Precipitacion           mm  "
      ]
     },
     "execution_count": null,
     "metadata": {},
     "output_type": "execute_result"
    }
   ],
   "source": [
    "prec_stations = get_stations_from_municipality(client, Precipitacion, municipality)\n",
    "prec_stations"
   ]
  },
  {
   "cell_type": "code",
   "execution_count": null,
   "metadata": {},
   "outputs": [],
   "source": [
    "codigos_estaciones = prec_stations[\"CodigoEstacion\"].values\n",
    "#codigos_estaciones = [\"0016015501\",\"0016015110\",\"0016025040\"]"
   ]
  },
  {
   "cell_type": "code",
   "execution_count": null,
   "metadata": {},
   "outputs": [],
   "source": [
    "prec_time_series = []\n",
    "for codigo in codigos_estaciones:\n",
    "    precipitation_data = group_variable(get_time_series_from_station(client, Precipitacion,  municipality, codigoestacion=codigo, limit = 1000000),'daily')\n",
    "    prec_time_series.append(precipitation_data)"
   ]
  },
  {
   "cell_type": "code",
   "execution_count": null,
   "metadata": {},
   "outputs": [
    {
     "data": {
      "text/html": [
       "<div>\n",
       "<style scoped>\n",
       "    .dataframe tbody tr th:only-of-type {\n",
       "        vertical-align: middle;\n",
       "    }\n",
       "\n",
       "    .dataframe tbody tr th {\n",
       "        vertical-align: top;\n",
       "    }\n",
       "\n",
       "    .dataframe thead th {\n",
       "        text-align: right;\n",
       "    }\n",
       "</style>\n",
       "<table border=\"1\" class=\"dataframe\">\n",
       "  <thead>\n",
       "    <tr style=\"text-align: right;\">\n",
       "      <th></th>\n",
       "      <th>codigoestacion</th>\n",
       "      <th>codigosensor</th>\n",
       "      <th>fechaobservacion</th>\n",
       "      <th>valorobservado</th>\n",
       "      <th>nombreestacion</th>\n",
       "      <th>departamento</th>\n",
       "      <th>municipio</th>\n",
       "      <th>zonahidrografica</th>\n",
       "      <th>latitud</th>\n",
       "      <th>longitud</th>\n",
       "      <th>descripcionsensor</th>\n",
       "      <th>unidadmedida</th>\n",
       "    </tr>\n",
       "  </thead>\n",
       "  <tbody>\n",
       "    <tr>\n",
       "      <th>0</th>\n",
       "      <td>0015015120</td>\n",
       "      <td>0240</td>\n",
       "      <td>2015-03-22T00:00:00.000</td>\n",
       "      <td>0.0</td>\n",
       "      <td>UNIVERSIDAD TECNOLOGICA  - AUT</td>\n",
       "      <td>MAGDALENA</td>\n",
       "      <td>SANTA MARTA</td>\n",
       "      <td>CARIBE - GUAJIRA</td>\n",
       "      <td>11.22305556</td>\n",
       "      <td>-74.18591667</td>\n",
       "      <td>Precipitacion</td>\n",
       "      <td>mm</td>\n",
       "    </tr>\n",
       "    <tr>\n",
       "      <th>1</th>\n",
       "      <td>0015015120</td>\n",
       "      <td>0240</td>\n",
       "      <td>2015-03-23T00:00:00.000</td>\n",
       "      <td>0.0</td>\n",
       "      <td>UNIVERSIDAD TECNOLOGICA  - AUT</td>\n",
       "      <td>MAGDALENA</td>\n",
       "      <td>SANTA MARTA</td>\n",
       "      <td>CARIBE - GUAJIRA</td>\n",
       "      <td>11.22305556</td>\n",
       "      <td>-74.18591667</td>\n",
       "      <td>Precipitacion</td>\n",
       "      <td>mm</td>\n",
       "    </tr>\n",
       "    <tr>\n",
       "      <th>2</th>\n",
       "      <td>0015015120</td>\n",
       "      <td>0240</td>\n",
       "      <td>2015-03-24T00:00:00.000</td>\n",
       "      <td>0.0</td>\n",
       "      <td>UNIVERSIDAD TECNOLOGICA  - AUT</td>\n",
       "      <td>MAGDALENA</td>\n",
       "      <td>SANTA MARTA</td>\n",
       "      <td>CARIBE - GUAJIRA</td>\n",
       "      <td>11.22305556</td>\n",
       "      <td>-74.18591667</td>\n",
       "      <td>Precipitacion</td>\n",
       "      <td>mm</td>\n",
       "    </tr>\n",
       "    <tr>\n",
       "      <th>3</th>\n",
       "      <td>0015015120</td>\n",
       "      <td>0240</td>\n",
       "      <td>2015-03-25T00:00:00.000</td>\n",
       "      <td>0.0</td>\n",
       "      <td>UNIVERSIDAD TECNOLOGICA  - AUT</td>\n",
       "      <td>MAGDALENA</td>\n",
       "      <td>SANTA MARTA</td>\n",
       "      <td>CARIBE - GUAJIRA</td>\n",
       "      <td>11.22305556</td>\n",
       "      <td>-74.18591667</td>\n",
       "      <td>Precipitacion</td>\n",
       "      <td>mm</td>\n",
       "    </tr>\n",
       "    <tr>\n",
       "      <th>4</th>\n",
       "      <td>0015015120</td>\n",
       "      <td>0240</td>\n",
       "      <td>2015-03-26T00:00:00.000</td>\n",
       "      <td>0.0</td>\n",
       "      <td>UNIVERSIDAD TECNOLOGICA  - AUT</td>\n",
       "      <td>MAGDALENA</td>\n",
       "      <td>SANTA MARTA</td>\n",
       "      <td>CARIBE - GUAJIRA</td>\n",
       "      <td>11.22305556</td>\n",
       "      <td>-74.18591667</td>\n",
       "      <td>Precipitacion</td>\n",
       "      <td>mm</td>\n",
       "    </tr>\n",
       "  </tbody>\n",
       "</table>\n",
       "</div>"
      ],
      "text/plain": [
       "  codigoestacion codigosensor         fechaobservacion  valorobservado  \\\n",
       "0     0015015120         0240  2015-03-22T00:00:00.000             0.0   \n",
       "1     0015015120         0240  2015-03-23T00:00:00.000             0.0   \n",
       "2     0015015120         0240  2015-03-24T00:00:00.000             0.0   \n",
       "3     0015015120         0240  2015-03-25T00:00:00.000             0.0   \n",
       "4     0015015120         0240  2015-03-26T00:00:00.000             0.0   \n",
       "\n",
       "                   nombreestacion departamento    municipio  zonahidrografica  \\\n",
       "0  UNIVERSIDAD TECNOLOGICA  - AUT    MAGDALENA  SANTA MARTA  CARIBE - GUAJIRA   \n",
       "1  UNIVERSIDAD TECNOLOGICA  - AUT    MAGDALENA  SANTA MARTA  CARIBE - GUAJIRA   \n",
       "2  UNIVERSIDAD TECNOLOGICA  - AUT    MAGDALENA  SANTA MARTA  CARIBE - GUAJIRA   \n",
       "3  UNIVERSIDAD TECNOLOGICA  - AUT    MAGDALENA  SANTA MARTA  CARIBE - GUAJIRA   \n",
       "4  UNIVERSIDAD TECNOLOGICA  - AUT    MAGDALENA  SANTA MARTA  CARIBE - GUAJIRA   \n",
       "\n",
       "       latitud      longitud descripcionsensor unidadmedida  \n",
       "0  11.22305556  -74.18591667     Precipitacion           mm  \n",
       "1  11.22305556  -74.18591667     Precipitacion           mm  \n",
       "2  11.22305556  -74.18591667     Precipitacion           mm  \n",
       "3  11.22305556  -74.18591667     Precipitacion           mm  \n",
       "4  11.22305556  -74.18591667     Precipitacion           mm  "
      ]
     },
     "execution_count": null,
     "metadata": {},
     "output_type": "execute_result"
    }
   ],
   "source": [
    "all_prec_series = pd.concat(prec_time_series,axis = 0).reset_index(drop=True)\n",
    "all_prec_series.head()"
   ]
  },
  {
   "cell_type": "code",
   "execution_count": null,
   "metadata": {},
   "outputs": [
    {
     "data": {
      "text/html": [
       "<div>\n",
       "<style scoped>\n",
       "    .dataframe tbody tr th:only-of-type {\n",
       "        vertical-align: middle;\n",
       "    }\n",
       "\n",
       "    .dataframe tbody tr th {\n",
       "        vertical-align: top;\n",
       "    }\n",
       "\n",
       "    .dataframe thead th {\n",
       "        text-align: right;\n",
       "    }\n",
       "</style>\n",
       "<table border=\"1\" class=\"dataframe\">\n",
       "  <thead>\n",
       "    <tr style=\"text-align: right;\">\n",
       "      <th></th>\n",
       "      <th>CodigoEstacion</th>\n",
       "      <th>NombreEstacion</th>\n",
       "      <th>Latitud</th>\n",
       "      <th>Longitud</th>\n",
       "      <th>Altitud</th>\n",
       "      <th>Categoria</th>\n",
       "      <th>Entidad</th>\n",
       "      <th>AreaOperativa</th>\n",
       "      <th>Departamento</th>\n",
       "      <th>Municipio</th>\n",
       "      <th>...</th>\n",
       "      <th>FechaSuspension</th>\n",
       "      <th>IdParametro</th>\n",
       "      <th>Etiqueta</th>\n",
       "      <th>DescripcionSerie</th>\n",
       "      <th>Frecuencia</th>\n",
       "      <th>Fecha</th>\n",
       "      <th>Valor</th>\n",
       "      <th>Grado</th>\n",
       "      <th>Calificador</th>\n",
       "      <th>NivelAprobacion</th>\n",
       "    </tr>\n",
       "  </thead>\n",
       "  <tbody>\n",
       "    <tr>\n",
       "      <th>0</th>\n",
       "      <td>15015120</td>\n",
       "      <td>UNIVERSIDAD TECNOLOGICA  - AUT</td>\n",
       "      <td>11.22305556</td>\n",
       "      <td>-74.18591667</td>\n",
       "      <td></td>\n",
       "      <td>mm</td>\n",
       "      <td></td>\n",
       "      <td>CARIBE - GUAJIRA</td>\n",
       "      <td>MAGDALENA</td>\n",
       "      <td>SANTA MARTA</td>\n",
       "      <td>...</td>\n",
       "      <td></td>\n",
       "      <td></td>\n",
       "      <td>Precipitacion</td>\n",
       "      <td></td>\n",
       "      <td></td>\n",
       "      <td>2015-03-22T00:00:00.000</td>\n",
       "      <td>0.0</td>\n",
       "      <td></td>\n",
       "      <td></td>\n",
       "      <td></td>\n",
       "    </tr>\n",
       "    <tr>\n",
       "      <th>1</th>\n",
       "      <td>15015120</td>\n",
       "      <td>UNIVERSIDAD TECNOLOGICA  - AUT</td>\n",
       "      <td>11.22305556</td>\n",
       "      <td>-74.18591667</td>\n",
       "      <td></td>\n",
       "      <td>mm</td>\n",
       "      <td></td>\n",
       "      <td>CARIBE - GUAJIRA</td>\n",
       "      <td>MAGDALENA</td>\n",
       "      <td>SANTA MARTA</td>\n",
       "      <td>...</td>\n",
       "      <td></td>\n",
       "      <td></td>\n",
       "      <td>Precipitacion</td>\n",
       "      <td></td>\n",
       "      <td></td>\n",
       "      <td>2015-03-23T00:00:00.000</td>\n",
       "      <td>0.0</td>\n",
       "      <td></td>\n",
       "      <td></td>\n",
       "      <td></td>\n",
       "    </tr>\n",
       "    <tr>\n",
       "      <th>2</th>\n",
       "      <td>15015120</td>\n",
       "      <td>UNIVERSIDAD TECNOLOGICA  - AUT</td>\n",
       "      <td>11.22305556</td>\n",
       "      <td>-74.18591667</td>\n",
       "      <td></td>\n",
       "      <td>mm</td>\n",
       "      <td></td>\n",
       "      <td>CARIBE - GUAJIRA</td>\n",
       "      <td>MAGDALENA</td>\n",
       "      <td>SANTA MARTA</td>\n",
       "      <td>...</td>\n",
       "      <td></td>\n",
       "      <td></td>\n",
       "      <td>Precipitacion</td>\n",
       "      <td></td>\n",
       "      <td></td>\n",
       "      <td>2015-03-24T00:00:00.000</td>\n",
       "      <td>0.0</td>\n",
       "      <td></td>\n",
       "      <td></td>\n",
       "      <td></td>\n",
       "    </tr>\n",
       "    <tr>\n",
       "      <th>3</th>\n",
       "      <td>15015120</td>\n",
       "      <td>UNIVERSIDAD TECNOLOGICA  - AUT</td>\n",
       "      <td>11.22305556</td>\n",
       "      <td>-74.18591667</td>\n",
       "      <td></td>\n",
       "      <td>mm</td>\n",
       "      <td></td>\n",
       "      <td>CARIBE - GUAJIRA</td>\n",
       "      <td>MAGDALENA</td>\n",
       "      <td>SANTA MARTA</td>\n",
       "      <td>...</td>\n",
       "      <td></td>\n",
       "      <td></td>\n",
       "      <td>Precipitacion</td>\n",
       "      <td></td>\n",
       "      <td></td>\n",
       "      <td>2015-03-25T00:00:00.000</td>\n",
       "      <td>0.0</td>\n",
       "      <td></td>\n",
       "      <td></td>\n",
       "      <td></td>\n",
       "    </tr>\n",
       "    <tr>\n",
       "      <th>4</th>\n",
       "      <td>15015120</td>\n",
       "      <td>UNIVERSIDAD TECNOLOGICA  - AUT</td>\n",
       "      <td>11.22305556</td>\n",
       "      <td>-74.18591667</td>\n",
       "      <td></td>\n",
       "      <td>mm</td>\n",
       "      <td></td>\n",
       "      <td>CARIBE - GUAJIRA</td>\n",
       "      <td>MAGDALENA</td>\n",
       "      <td>SANTA MARTA</td>\n",
       "      <td>...</td>\n",
       "      <td></td>\n",
       "      <td></td>\n",
       "      <td>Precipitacion</td>\n",
       "      <td></td>\n",
       "      <td></td>\n",
       "      <td>2015-03-26T00:00:00.000</td>\n",
       "      <td>0.0</td>\n",
       "      <td></td>\n",
       "      <td></td>\n",
       "      <td></td>\n",
       "    </tr>\n",
       "  </tbody>\n",
       "</table>\n",
       "<p>5 rows × 21 columns</p>\n",
       "</div>"
      ],
      "text/plain": [
       "   CodigoEstacion                  NombreEstacion      Latitud      Longitud  \\\n",
       "0        15015120  UNIVERSIDAD TECNOLOGICA  - AUT  11.22305556  -74.18591667   \n",
       "1        15015120  UNIVERSIDAD TECNOLOGICA  - AUT  11.22305556  -74.18591667   \n",
       "2        15015120  UNIVERSIDAD TECNOLOGICA  - AUT  11.22305556  -74.18591667   \n",
       "3        15015120  UNIVERSIDAD TECNOLOGICA  - AUT  11.22305556  -74.18591667   \n",
       "4        15015120  UNIVERSIDAD TECNOLOGICA  - AUT  11.22305556  -74.18591667   \n",
       "\n",
       "  Altitud Categoria Entidad     AreaOperativa Departamento    Municipio  ...  \\\n",
       "0                mm          CARIBE - GUAJIRA    MAGDALENA  SANTA MARTA  ...   \n",
       "1                mm          CARIBE - GUAJIRA    MAGDALENA  SANTA MARTA  ...   \n",
       "2                mm          CARIBE - GUAJIRA    MAGDALENA  SANTA MARTA  ...   \n",
       "3                mm          CARIBE - GUAJIRA    MAGDALENA  SANTA MARTA  ...   \n",
       "4                mm          CARIBE - GUAJIRA    MAGDALENA  SANTA MARTA  ...   \n",
       "\n",
       "  FechaSuspension IdParametro       Etiqueta DescripcionSerie Frecuencia  \\\n",
       "0                              Precipitacion                               \n",
       "1                              Precipitacion                               \n",
       "2                              Precipitacion                               \n",
       "3                              Precipitacion                               \n",
       "4                              Precipitacion                               \n",
       "\n",
       "                     Fecha Valor  Grado Calificador NivelAprobacion  \n",
       "0  2015-03-22T00:00:00.000   0.0                                     \n",
       "1  2015-03-23T00:00:00.000   0.0                                     \n",
       "2  2015-03-24T00:00:00.000   0.0                                     \n",
       "3  2015-03-25T00:00:00.000   0.0                                     \n",
       "4  2015-03-26T00:00:00.000   0.0                                     \n",
       "\n",
       "[5 rows x 21 columns]"
      ]
     },
     "execution_count": null,
     "metadata": {},
     "output_type": "execute_result"
    }
   ],
   "source": [
    "all_prec_series = API_to_IDEAM_series(all_prec_series)\n",
    "all_prec_series.head()"
   ]
  },
  {
   "cell_type": "code",
   "execution_count": null,
   "metadata": {},
   "outputs": [],
   "source": [
    "all_prec_series.to_csv(data_folder+municipality_folder+\"/Z_API_precipitacion.csv\", index = False)"
   ]
  },
  {
   "cell_type": "markdown",
   "metadata": {},
   "source": [
    "# TEMPERATURE DATA DOWNLOAD"
   ]
  },
  {
   "cell_type": "code",
   "execution_count": null,
   "metadata": {},
   "outputs": [
    {
     "name": "stdout",
     "output_type": "stream",
     "text": [
      "HTTPSConnectionPool(host='www.datos.gov.co', port=443): Read timed out. (read timeout=10) retrying\n",
      "HTTPSConnectionPool(host='www.datos.gov.co', port=443): Read timed out. (read timeout=10) retrying\n",
      "HTTPSConnectionPool(host='www.datos.gov.co', port=443): Read timed out. (read timeout=10) retrying\n",
      "HTTPSConnectionPool(host='www.datos.gov.co', port=443): Read timed out. (read timeout=10) retrying\n",
      "HTTPSConnectionPool(host='www.datos.gov.co', port=443): Read timed out. (read timeout=10) retrying\n",
      "HTTPSConnectionPool(host='www.datos.gov.co', port=443): Read timed out. (read timeout=10) retrying\n"
     ]
    },
    {
     "data": {
      "text/html": [
       "<div>\n",
       "<style scoped>\n",
       "    .dataframe tbody tr th:only-of-type {\n",
       "        vertical-align: middle;\n",
       "    }\n",
       "\n",
       "    .dataframe tbody tr th {\n",
       "        vertical-align: top;\n",
       "    }\n",
       "\n",
       "    .dataframe thead th {\n",
       "        text-align: right;\n",
       "    }\n",
       "</style>\n",
       "<table border=\"1\" class=\"dataframe\">\n",
       "  <thead>\n",
       "    <tr style=\"text-align: right;\">\n",
       "      <th></th>\n",
       "      <th>CodigoEstacion</th>\n",
       "      <th>CodigoSensor</th>\n",
       "      <th>NombreEstacion</th>\n",
       "      <th>Latitud</th>\n",
       "      <th>Longitud</th>\n",
       "      <th>DescripcionSensor</th>\n",
       "      <th>UnidadMedida</th>\n",
       "    </tr>\n",
       "  </thead>\n",
       "  <tbody>\n",
       "    <tr>\n",
       "      <th>0</th>\n",
       "      <td>1509500118</td>\n",
       "      <td>0068</td>\n",
       "      <td>GUACHACA - AUT</td>\n",
       "      <td>11.21015</td>\n",
       "      <td>-73.84445</td>\n",
       "      <td>Temp Aire 2 m</td>\n",
       "      <td>°C</td>\n",
       "    </tr>\n",
       "    <tr>\n",
       "      <th>1</th>\n",
       "      <td>1501500054</td>\n",
       "      <td>0068</td>\n",
       "      <td>SAN ISIDRO BONDA - AUT</td>\n",
       "      <td>11.230522222</td>\n",
       "      <td>-74.059786111</td>\n",
       "      <td>Temp Aire 2 m</td>\n",
       "      <td>°C</td>\n",
       "    </tr>\n",
       "    <tr>\n",
       "      <th>2</th>\n",
       "      <td>0015015120</td>\n",
       "      <td>0068</td>\n",
       "      <td>UNIVERSIDAD TECNOLOGICA  - AUT</td>\n",
       "      <td>11.22305556</td>\n",
       "      <td>-74.18591667</td>\n",
       "      <td>Temp Aire 2 m</td>\n",
       "      <td>°C</td>\n",
       "    </tr>\n",
       "    <tr>\n",
       "      <th>3</th>\n",
       "      <td>0015015060</td>\n",
       "      <td>0068</td>\n",
       "      <td>SAN LORENZO  - AUT</td>\n",
       "      <td>11.11108333</td>\n",
       "      <td>-74.05469444</td>\n",
       "      <td>Temp Aire 2 m</td>\n",
       "      <td>°C</td>\n",
       "    </tr>\n",
       "  </tbody>\n",
       "</table>\n",
       "</div>"
      ],
      "text/plain": [
       "  CodigoEstacion CodigoSensor                  NombreEstacion       Latitud  \\\n",
       "0     1509500118         0068                  GUACHACA - AUT      11.21015   \n",
       "1     1501500054         0068          SAN ISIDRO BONDA - AUT  11.230522222   \n",
       "2     0015015120         0068  UNIVERSIDAD TECNOLOGICA  - AUT   11.22305556   \n",
       "3     0015015060         0068              SAN LORENZO  - AUT   11.11108333   \n",
       "\n",
       "        Longitud DescripcionSensor UnidadMedida  \n",
       "0      -73.84445     Temp Aire 2 m           °C  \n",
       "1  -74.059786111     Temp Aire 2 m           °C  \n",
       "2   -74.18591667     Temp Aire 2 m           °C  \n",
       "3   -74.05469444     Temp Aire 2 m           °C  "
      ]
     },
     "execution_count": null,
     "metadata": {},
     "output_type": "execute_result"
    }
   ],
   "source": [
    "temp_stations = get_stations_from_municipality(client, Temperatura, municipality)\n",
    "temp_stations"
   ]
  },
  {
   "cell_type": "code",
   "execution_count": null,
   "metadata": {},
   "outputs": [],
   "source": [
    "codigos_estaciones = temp_stations[\"CodigoEstacion\"].values\n",
    "temp_time_series = []\n",
    "for codigo in codigos_estaciones:\n",
    "    temperature_data = group_variable(get_time_series_from_station(client, Temperatura,  municipality, codigoestacion=codigo, limit = 1000000), 'hourly')\n",
    "    temp_time_series.append(temperature_data)"
   ]
  },
  {
   "cell_type": "code",
   "execution_count": null,
   "metadata": {},
   "outputs": [],
   "source": [
    "all_temp_series = pd.concat(temp_time_series,axis = 0).reset_index(drop=True)\n",
    "all_temp_series = API_to_IDEAM_series(all_temp_series)\n",
    "all_temp_series.to_csv(data_folder+municipality_folder+\"/Z_API_temperature.csv\", index = False)"
   ]
  },
  {
   "cell_type": "markdown",
   "metadata": {},
   "source": [
    "# HUMEDAD DATA DOWNLOAD"
   ]
  },
  {
   "cell_type": "code",
   "execution_count": null,
   "metadata": {},
   "outputs": [
    {
     "name": "stdout",
     "output_type": "stream",
     "text": [
      "HTTPSConnectionPool(host='www.datos.gov.co', port=443): Read timed out. (read timeout=10) retrying\n",
      "HTTPSConnectionPool(host='www.datos.gov.co', port=443): Read timed out. (read timeout=10) retrying\n",
      "HTTPSConnectionPool(host='www.datos.gov.co', port=443): Read timed out. (read timeout=10) retrying\n",
      "HTTPSConnectionPool(host='www.datos.gov.co', port=443): Read timed out. (read timeout=10) retrying\n",
      "HTTPSConnectionPool(host='www.datos.gov.co', port=443): Read timed out. (read timeout=10) retrying\n",
      "HTTPSConnectionPool(host='www.datos.gov.co', port=443): Read timed out. (read timeout=10) retrying\n",
      "HTTPSConnectionPool(host='www.datos.gov.co', port=443): Read timed out. (read timeout=10) retrying\n",
      "HTTPSConnectionPool(host='www.datos.gov.co', port=443): Read timed out. (read timeout=10) retrying\n"
     ]
    },
    {
     "data": {
      "text/html": [
       "<div>\n",
       "<style scoped>\n",
       "    .dataframe tbody tr th:only-of-type {\n",
       "        vertical-align: middle;\n",
       "    }\n",
       "\n",
       "    .dataframe tbody tr th {\n",
       "        vertical-align: top;\n",
       "    }\n",
       "\n",
       "    .dataframe thead th {\n",
       "        text-align: right;\n",
       "    }\n",
       "</style>\n",
       "<table border=\"1\" class=\"dataframe\">\n",
       "  <thead>\n",
       "    <tr style=\"text-align: right;\">\n",
       "      <th></th>\n",
       "      <th>CodigoEstacion</th>\n",
       "      <th>CodigoSensor</th>\n",
       "      <th>NombreEstacion</th>\n",
       "      <th>Latitud</th>\n",
       "      <th>Longitud</th>\n",
       "      <th>DescripcionSensor</th>\n",
       "      <th>UnidadMedida</th>\n",
       "    </tr>\n",
       "  </thead>\n",
       "  <tbody>\n",
       "    <tr>\n",
       "      <th>0</th>\n",
       "      <td>1509500118</td>\n",
       "      <td>0027</td>\n",
       "      <td>GUACHACA - AUT</td>\n",
       "      <td>11.21015</td>\n",
       "      <td>-73.84445</td>\n",
       "      <td>Humedad del aire 2 mt</td>\n",
       "      <td>%</td>\n",
       "    </tr>\n",
       "    <tr>\n",
       "      <th>1</th>\n",
       "      <td>1501500054</td>\n",
       "      <td>0027</td>\n",
       "      <td>SAN ISIDRO BONDA - AUT</td>\n",
       "      <td>11.230522222</td>\n",
       "      <td>-74.059786111</td>\n",
       "      <td>Humedad del aire 2 mt</td>\n",
       "      <td>%</td>\n",
       "    </tr>\n",
       "    <tr>\n",
       "      <th>2</th>\n",
       "      <td>0015015120</td>\n",
       "      <td>0027</td>\n",
       "      <td>UNIVERSIDAD TECNOLOGICA  - AUT</td>\n",
       "      <td>11.22305556</td>\n",
       "      <td>-74.18591667</td>\n",
       "      <td>Humedad del aire 2 mt</td>\n",
       "      <td>%</td>\n",
       "    </tr>\n",
       "    <tr>\n",
       "      <th>3</th>\n",
       "      <td>0015015060</td>\n",
       "      <td>0027</td>\n",
       "      <td>SAN LORENZO  - AUT</td>\n",
       "      <td>11.11108333</td>\n",
       "      <td>-74.05469444</td>\n",
       "      <td>Humedad del aire 2 mt</td>\n",
       "      <td>%</td>\n",
       "    </tr>\n",
       "  </tbody>\n",
       "</table>\n",
       "</div>"
      ],
      "text/plain": [
       "  CodigoEstacion CodigoSensor                  NombreEstacion       Latitud  \\\n",
       "0     1509500118         0027                  GUACHACA - AUT      11.21015   \n",
       "1     1501500054         0027          SAN ISIDRO BONDA - AUT  11.230522222   \n",
       "2     0015015120         0027  UNIVERSIDAD TECNOLOGICA  - AUT   11.22305556   \n",
       "3     0015015060         0027              SAN LORENZO  - AUT   11.11108333   \n",
       "\n",
       "        Longitud      DescripcionSensor UnidadMedida  \n",
       "0      -73.84445  Humedad del aire 2 mt            %  \n",
       "1  -74.059786111  Humedad del aire 2 mt            %  \n",
       "2   -74.18591667  Humedad del aire 2 mt            %  \n",
       "3   -74.05469444  Humedad del aire 2 mt            %  "
      ]
     },
     "execution_count": null,
     "metadata": {},
     "output_type": "execute_result"
    }
   ],
   "source": [
    "hum_stations = get_stations_from_municipality(client, Humedad, municipality)\n",
    "hum_stations"
   ]
  },
  {
   "cell_type": "code",
   "execution_count": null,
   "metadata": {},
   "outputs": [
    {
     "name": "stdout",
     "output_type": "stream",
     "text": [
      "HTTPSConnectionPool(host='www.datos.gov.co', port=443): Read timed out. (read timeout=10) retrying\n"
     ]
    }
   ],
   "source": [
    "codigos_estaciones = hum_stations[\"CodigoEstacion\"].values\n",
    "hum_time_series = []\n",
    "for codigo in codigos_estaciones:\n",
    "    humedad_data = group_variable(get_time_series_from_station(client, Humedad,  municipality, codigoestacion=codigo, limit = 1000000))\n",
    "    hum_time_series.append(humedad_data)"
   ]
  },
  {
   "cell_type": "code",
   "execution_count": null,
   "metadata": {},
   "outputs": [],
   "source": [
    "hum_time_series = pd.concat(hum_time_series,axis = 0).reset_index(drop=True)\n",
    "hum_time_series = API_to_IDEAM_series(hum_time_series)\n",
    "hum_time_series.to_csv(data_folder+municipality_folder+\"/Z_API_humidity.csv\", index = False)"
   ]
  },
  {
   "cell_type": "code",
   "execution_count": null,
   "metadata": {},
   "outputs": [],
   "source": []
  }
 ],
 "metadata": {
  "kernelspec": {
   "display_name": "Python 3",
   "language": "python",
   "name": "python3"
  }
 },
 "nbformat": 4,
 "nbformat_minor": 4
}
