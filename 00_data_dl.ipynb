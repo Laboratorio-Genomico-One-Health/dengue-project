{
 "cells": [
  {
   "cell_type": "code",
   "execution_count": 61,
   "source": [
    "import pandas as pd\r\n",
    "from sodapy import Socrata\r\n",
    "import os\r\n",
    "from modules import data_management as dm\r\n",
    "import glob\r\n",
    "import zipfile\r\n",
    "%load_ext autoreload\r\n",
    "%autoreload 2"
   ],
   "outputs": [
    {
     "output_type": "stream",
     "name": "stdout",
     "text": [
      "The autoreload extension is already loaded. To reload it, use:\n",
      "  %reload_ext autoreload\n"
     ]
    }
   ],
   "metadata": {}
  },
  {
   "cell_type": "markdown",
   "source": [
    "# Download source files into your 'local' folder."
   ],
   "metadata": {}
  },
  {
   "cell_type": "code",
   "execution_count": null,
   "source": [
    "dm.download_file_maps()\r\n",
    "dm.download_files_raw_dengue()\r\n",
    "dm.download_files_processed_dengue()\r\n",
    "dm.download_file_population()\r\n",
    "dm.download_file_year()\r\n",
    "dm.download_file_departments()\r\n",
    "dm.download_file_sstoi()\r\n",
    "dm.download_file_tni()\r\n",
    "dm.download_file_oni()\r\n",
    "dm.download_file_meiv2()\r\n",
    "dm.download_file_car()\r\n",
    "dm.download_file_nta()\r\n",
    "dm.download_rutinarias()"
   ],
   "outputs": [],
   "metadata": {}
  },
  {
   "cell_type": "markdown",
   "source": [
    "# Step by step download of climate data from two platforms..."
   ],
   "metadata": {}
  },
  {
   "cell_type": "markdown",
   "source": [
    "## First, set the path to the folder where data will be stored"
   ],
   "metadata": {}
  },
  {
   "cell_type": "code",
   "execution_count": 62,
   "source": [
    "setup = \"repo\" #alternativo: local\r\n",
    "\r\n",
    "try:\r\n",
    "    if setup == \"repo\":\r\n",
    "        data_folder = \"/\".join(dm.notebook_path().replace(\"\\\\\",\"/\").split(\"/\")[:-1]) + \"/local/data/\"\r\n",
    "        #data_folder = \"./local/data/\"\r\n",
    "    else:\r\n",
    "        data_folder = \"/\".join(dm.notebook_path().replace(\"\\\\\",\"/\").split(\"/\")[:-1])  + \"/data/\"\r\n",
    "        \r\n",
    "except:\r\n",
    "    print(\"Couldn't assess path automatically, setting up path locally...\")\r\n",
    "    data_folder = \"D:/MyFiles/Research_Work/CW_One_Health/ALL_DENGUE/dengue-project/local/data/\"\r\n",
    "    \r\n",
    "dm.make_folder_if_not_exists(data_folder)\r\n",
    "data_folder"
   ],
   "outputs": [
    {
     "output_type": "stream",
     "name": "stdout",
     "text": [
      "Couldn't assess path automatically, setting up path locally...\n"
     ]
    },
    {
     "output_type": "execute_result",
     "data": {
      "text/plain": [
       "'D:/MyFiles/Research_Work/CW_One_Health/ALL_DENGUE/dengue-project/local/data/'"
      ]
     },
     "metadata": {},
     "execution_count": 62
    }
   ],
   "metadata": {}
  },
  {
   "cell_type": "markdown",
   "source": [
    "## Choose the city and retrieve all relevant data from params.csv"
   ],
   "metadata": {}
  },
  {
   "cell_type": "markdown",
   "source": [
    "Amazonas\n",
    "Antioquia\n",
    "Arauca\n",
    "Archipiélago de San Andres, Providencia y Santa Catalina\n",
    "Atlantico\n",
    "Bogotá\n",
    "Bolivar\n",
    "Boyacá\n",
    "Caldas\n",
    "Caquetá\n",
    "Casanare\n",
    "Cauca\n",
    "Cesar\n",
    "Chocó\n",
    "Córdoba\n",
    "Cundinamarca\n",
    "Guainía\n",
    "Guaviare\n",
    "Huila\n",
    "La Guajira\n",
    "Magdalena\n",
    "Meta\n",
    "Nariño\n",
    "Norte de Santander\n",
    "Putumayo\n",
    "Quindío\n",
    "Risaralda\n",
    "Santander\n",
    "Sucre\n",
    "Tolima\n",
    "Valle del Cauca"
   ],
   "metadata": {}
  },
  {
   "cell_type": "code",
   "execution_count": 105,
   "source": [
    "df_cities = dm.read_cities_file()\r\n",
    "df_cities"
   ],
   "outputs": [
    {
     "output_type": "execute_result",
     "data": {
      "text/plain": [
       "            department   municipality   code                  dl_folder  \\\n",
       "0            Antioquia       Medellín  05001              MEDELLIN_DATA   \n",
       "1            Magdalena    Santa Marta  47001           SANTA_MARTA_DATA   \n",
       "2            Santander    Bucaramanga  68001           BUCARAMANGA_DATA   \n",
       "3            Atlántico   Barranquilla  08001  SOLEDAD_BARRANQUILLA_DATA   \n",
       "4            Atlántico        Soledad  08758  SOLEDAD_BARRANQUILLA_DATA   \n",
       "5   Norte de Santander         Cúcuta  54001                CUCUTA_DATA   \n",
       "6      Valle del Cauca           Cali  76001                  CALI_DATA   \n",
       "7                 Meta  Villavicencio  50001         VILLAVICENCIO_DATA   \n",
       "8               Tolima         Ibagué  73001                IBAGUE_DATA   \n",
       "9              Córdoba       Montería  23001              MONTERIA_DATA   \n",
       "10           Antioquia          Bello  05088              MEDELLIN_DATA   \n",
       "\n",
       "   starting_date                   stations_temp  \\\n",
       "0     2011/05/20  [27015330, 27015310, 27015300]   \n",
       "1     2008/06/25                      [15015120]   \n",
       "2     2014/12/11                      [23195230]   \n",
       "3     2013/05/03            [29045190, 29004520]   \n",
       "4     2007/01/01                              []   \n",
       "5     2007/01/01            [16015110, 16015501]   \n",
       "6     2006/11/24            [26085170, 26055120]   \n",
       "7     2007/07/01            [35035100, 35025110]   \n",
       "8     2007/01/01                              []   \n",
       "9     2007/01/01                              []   \n",
       "10    2007/01/01                              []   \n",
       "\n",
       "                      stations_hum                             stations_prec  \\\n",
       "0   [27015330, 27015310, 27015300]            [27015330, 27015290, 27011270]   \n",
       "1                       [15015120]            [15015050, 15010501, 15015120]   \n",
       "2                       [23195230]                                [23195230]   \n",
       "3                       [29045190]            [29045120, 29040450, 29045190]   \n",
       "4                               []                                        []   \n",
       "5             [16015110, 16015501]            [16015110, 16015010, 16015501]   \n",
       "6             [26085170, 26055120]            [26055120, 26080310, 26085170]   \n",
       "7             [35035100, 35025110]  [35030380, 35030370, 35030100, 35035020]   \n",
       "8                               []                                        []   \n",
       "9                               []                                        []   \n",
       "10                              []                                        []   \n",
       "\n",
       "   stations_rad    range_temp    range_hum  \n",
       "0            []  [15.5, 37.5]  [15, 99.99]  \n",
       "1            []    [17.5, 40]  [40, 99.99]  \n",
       "2            []      [17, 40]  [30, 99.99]  \n",
       "3            []      [22, 45]  [45, 99.99]  \n",
       "4            []            []           []  \n",
       "5            []    [17.5, 45]  [30, 99.99]  \n",
       "6            []    [16.5, 45]  [30, 99.99]  \n",
       "7            []      [20, 45]  [35, 99.99]  \n",
       "8            []            []           []  \n",
       "9            []      [22, 45]  [45, 99.99]  \n",
       "10           []      [22, 45]  [45, 99.99]  "
      ],
      "text/html": [
       "<div>\n",
       "<style scoped>\n",
       "    .dataframe tbody tr th:only-of-type {\n",
       "        vertical-align: middle;\n",
       "    }\n",
       "\n",
       "    .dataframe tbody tr th {\n",
       "        vertical-align: top;\n",
       "    }\n",
       "\n",
       "    .dataframe thead th {\n",
       "        text-align: right;\n",
       "    }\n",
       "</style>\n",
       "<table border=\"1\" class=\"dataframe\">\n",
       "  <thead>\n",
       "    <tr style=\"text-align: right;\">\n",
       "      <th></th>\n",
       "      <th>department</th>\n",
       "      <th>municipality</th>\n",
       "      <th>code</th>\n",
       "      <th>dl_folder</th>\n",
       "      <th>starting_date</th>\n",
       "      <th>stations_temp</th>\n",
       "      <th>stations_hum</th>\n",
       "      <th>stations_prec</th>\n",
       "      <th>stations_rad</th>\n",
       "      <th>range_temp</th>\n",
       "      <th>range_hum</th>\n",
       "    </tr>\n",
       "  </thead>\n",
       "  <tbody>\n",
       "    <tr>\n",
       "      <th>0</th>\n",
       "      <td>Antioquia</td>\n",
       "      <td>Medellín</td>\n",
       "      <td>05001</td>\n",
       "      <td>MEDELLIN_DATA</td>\n",
       "      <td>2011/05/20</td>\n",
       "      <td>[27015330, 27015310, 27015300]</td>\n",
       "      <td>[27015330, 27015310, 27015300]</td>\n",
       "      <td>[27015330, 27015290, 27011270]</td>\n",
       "      <td>[]</td>\n",
       "      <td>[15.5, 37.5]</td>\n",
       "      <td>[15, 99.99]</td>\n",
       "    </tr>\n",
       "    <tr>\n",
       "      <th>1</th>\n",
       "      <td>Magdalena</td>\n",
       "      <td>Santa Marta</td>\n",
       "      <td>47001</td>\n",
       "      <td>SANTA_MARTA_DATA</td>\n",
       "      <td>2008/06/25</td>\n",
       "      <td>[15015120]</td>\n",
       "      <td>[15015120]</td>\n",
       "      <td>[15015050, 15010501, 15015120]</td>\n",
       "      <td>[]</td>\n",
       "      <td>[17.5, 40]</td>\n",
       "      <td>[40, 99.99]</td>\n",
       "    </tr>\n",
       "    <tr>\n",
       "      <th>2</th>\n",
       "      <td>Santander</td>\n",
       "      <td>Bucaramanga</td>\n",
       "      <td>68001</td>\n",
       "      <td>BUCARAMANGA_DATA</td>\n",
       "      <td>2014/12/11</td>\n",
       "      <td>[23195230]</td>\n",
       "      <td>[23195230]</td>\n",
       "      <td>[23195230]</td>\n",
       "      <td>[]</td>\n",
       "      <td>[17, 40]</td>\n",
       "      <td>[30, 99.99]</td>\n",
       "    </tr>\n",
       "    <tr>\n",
       "      <th>3</th>\n",
       "      <td>Atlántico</td>\n",
       "      <td>Barranquilla</td>\n",
       "      <td>08001</td>\n",
       "      <td>SOLEDAD_BARRANQUILLA_DATA</td>\n",
       "      <td>2013/05/03</td>\n",
       "      <td>[29045190, 29004520]</td>\n",
       "      <td>[29045190]</td>\n",
       "      <td>[29045120, 29040450, 29045190]</td>\n",
       "      <td>[]</td>\n",
       "      <td>[22, 45]</td>\n",
       "      <td>[45, 99.99]</td>\n",
       "    </tr>\n",
       "    <tr>\n",
       "      <th>4</th>\n",
       "      <td>Atlántico</td>\n",
       "      <td>Soledad</td>\n",
       "      <td>08758</td>\n",
       "      <td>SOLEDAD_BARRANQUILLA_DATA</td>\n",
       "      <td>2007/01/01</td>\n",
       "      <td>[]</td>\n",
       "      <td>[]</td>\n",
       "      <td>[]</td>\n",
       "      <td>[]</td>\n",
       "      <td>[]</td>\n",
       "      <td>[]</td>\n",
       "    </tr>\n",
       "    <tr>\n",
       "      <th>5</th>\n",
       "      <td>Norte de Santander</td>\n",
       "      <td>Cúcuta</td>\n",
       "      <td>54001</td>\n",
       "      <td>CUCUTA_DATA</td>\n",
       "      <td>2007/01/01</td>\n",
       "      <td>[16015110, 16015501]</td>\n",
       "      <td>[16015110, 16015501]</td>\n",
       "      <td>[16015110, 16015010, 16015501]</td>\n",
       "      <td>[]</td>\n",
       "      <td>[17.5, 45]</td>\n",
       "      <td>[30, 99.99]</td>\n",
       "    </tr>\n",
       "    <tr>\n",
       "      <th>6</th>\n",
       "      <td>Valle del Cauca</td>\n",
       "      <td>Cali</td>\n",
       "      <td>76001</td>\n",
       "      <td>CALI_DATA</td>\n",
       "      <td>2006/11/24</td>\n",
       "      <td>[26085170, 26055120]</td>\n",
       "      <td>[26085170, 26055120]</td>\n",
       "      <td>[26055120, 26080310, 26085170]</td>\n",
       "      <td>[]</td>\n",
       "      <td>[16.5, 45]</td>\n",
       "      <td>[30, 99.99]</td>\n",
       "    </tr>\n",
       "    <tr>\n",
       "      <th>7</th>\n",
       "      <td>Meta</td>\n",
       "      <td>Villavicencio</td>\n",
       "      <td>50001</td>\n",
       "      <td>VILLAVICENCIO_DATA</td>\n",
       "      <td>2007/07/01</td>\n",
       "      <td>[35035100, 35025110]</td>\n",
       "      <td>[35035100, 35025110]</td>\n",
       "      <td>[35030380, 35030370, 35030100, 35035020]</td>\n",
       "      <td>[]</td>\n",
       "      <td>[20, 45]</td>\n",
       "      <td>[35, 99.99]</td>\n",
       "    </tr>\n",
       "    <tr>\n",
       "      <th>8</th>\n",
       "      <td>Tolima</td>\n",
       "      <td>Ibagué</td>\n",
       "      <td>73001</td>\n",
       "      <td>IBAGUE_DATA</td>\n",
       "      <td>2007/01/01</td>\n",
       "      <td>[]</td>\n",
       "      <td>[]</td>\n",
       "      <td>[]</td>\n",
       "      <td>[]</td>\n",
       "      <td>[]</td>\n",
       "      <td>[]</td>\n",
       "    </tr>\n",
       "    <tr>\n",
       "      <th>9</th>\n",
       "      <td>Córdoba</td>\n",
       "      <td>Montería</td>\n",
       "      <td>23001</td>\n",
       "      <td>MONTERIA_DATA</td>\n",
       "      <td>2007/01/01</td>\n",
       "      <td>[]</td>\n",
       "      <td>[]</td>\n",
       "      <td>[]</td>\n",
       "      <td>[]</td>\n",
       "      <td>[22, 45]</td>\n",
       "      <td>[45, 99.99]</td>\n",
       "    </tr>\n",
       "    <tr>\n",
       "      <th>10</th>\n",
       "      <td>Antioquia</td>\n",
       "      <td>Bello</td>\n",
       "      <td>05088</td>\n",
       "      <td>MEDELLIN_DATA</td>\n",
       "      <td>2007/01/01</td>\n",
       "      <td>[]</td>\n",
       "      <td>[]</td>\n",
       "      <td>[]</td>\n",
       "      <td>[]</td>\n",
       "      <td>[22, 45]</td>\n",
       "      <td>[45, 99.99]</td>\n",
       "    </tr>\n",
       "  </tbody>\n",
       "</table>\n",
       "</div>"
      ]
     },
     "metadata": {},
     "execution_count": 105
    }
   ],
   "metadata": {}
  },
  {
   "cell_type": "code",
   "execution_count": 138,
   "source": [
    "row_id = 4\r\n",
    "params = {}\r\n",
    "params_to_get = [\"department\",\"municipality\",\"dl_folder\"]\r\n",
    "for param in params_to_get:\r\n",
    "    params[param] = df_cities.loc[row_id,param]\r\n",
    "params"
   ],
   "outputs": [
    {
     "output_type": "execute_result",
     "data": {
      "text/plain": [
       "{'department': 'Atlántico',\n",
       " 'municipality': 'Soledad',\n",
       " 'dl_folder': 'SOLEDAD_BARRANQUILLA_DATA'}"
      ]
     },
     "metadata": {},
     "execution_count": 138
    }
   ],
   "metadata": {}
  },
  {
   "cell_type": "code",
   "execution_count": 139,
   "source": [
    "dl_folder = data_folder + \"src_per_city/\" + params[\"dl_folder\"]+\"/\"\r\n",
    "dl_folder = dl_folder.replace(\"/\", \"\\\\\")\r\n",
    "dm.make_folder_if_not_exists(dl_folder)\r\n",
    "dl_folder"
   ],
   "outputs": [
    {
     "output_type": "execute_result",
     "data": {
      "text/plain": [
       "'D:\\\\MyFiles\\\\Research_Work\\\\CW_One_Health\\\\ALL_DENGUE\\\\dengue-project\\\\local\\\\data\\\\src_per_city\\\\SOLEDAD_BARRANQUILLA_DATA\\\\'"
      ]
     },
     "metadata": {},
     "execution_count": 139
    }
   ],
   "metadata": {}
  },
  {
   "cell_type": "markdown",
   "source": [
    "## Download data from IDEAM's map using Selenium\r\n",
    "\r\n",
    "The IDEAM API only allows downloads of these variables for up to 5 consecutive years, so we divide the relevant interval in 5 year segments.\r\n",
    "\r\n",
    "Our relevant interval is 2006 to 2020. However, we also take years 2005 and 2021 for further review of the data."
   ],
   "metadata": {}
  },
  {
   "cell_type": "code",
   "execution_count": 140,
   "source": [
    "variables = [\"PRECIPITACION\",\"HUM RELATIVA\",\"TEMPERATURA\",\"RAD SOLAR\"]\r\n",
    "date_intervals = [['01/01/2005','31/12/2009'],\r\n",
    "                    ['01/01/2010','31/12/2014'],\r\n",
    "                    ['01/01/2015','31/12/2019'],\r\n",
    "                    ['01/01/2020','31/12/2021']\r\n",
    "                ]\r\n",
    "date_intervals"
   ],
   "outputs": [
    {
     "output_type": "execute_result",
     "data": {
      "text/plain": [
       "[['01/01/2005', '31/12/2009'],\n",
       " ['01/01/2010', '31/12/2014'],\n",
       " ['01/01/2015', '31/12/2019'],\n",
       " ['01/01/2020', '31/12/2021']]"
      ]
     },
     "metadata": {},
     "execution_count": 140
    }
   ],
   "metadata": {
    "scrolled": true
   }
  },
  {
   "cell_type": "code",
   "execution_count": 142,
   "source": [
    "for interval in date_intervals:\n",
    "    for variable in variables:\n",
    "        res = dm.download_data_with_selenium(params[\"department\"], params[\"municipality\"], variable, interval, dl_folder)\n",
    "        if res == True:\n",
    "            print(\"Started download for:\",params[\"department\"],\"/\",params[\"municipality\"],\"/\",variable,interval)\n",
    "            try:\n",
    "                os.rename(dl_folder+\"datos.zip\",dl_folder+\"{}.zip\".format(params[\"department\"]+\"-\"+params[\"municipality\"]+\"-\"+variable+\"-\"+interval[0].replace(\"/\",\"-\")+\"-\"+interval[1].replace(\"/\",\"-\")))\n",
    "            except Exception as e:\n",
    "                print(e)\n",
    "                print(\"Error downloading, driver closed prematurely.\")\n",
    "        else:\n",
    "            print(\"Couldn't find data for:\",params[\"department\"],\"/\",params[\"municipality\"],\"/\",variable,interval)"
   ],
   "outputs": [
    {
     "output_type": "stream",
     "name": "stdout",
     "text": [
      "Retrying get modal\n",
      "Retrying get modal\n",
      "Retrying get datepickers\n",
      "Couldn't find data for: Atlántico / Soledad / PRECIPITACION ['01/01/2005', '31/12/2009']\n",
      "Retrying get modal\n",
      "Retrying get modal\n",
      "Retrying get modal\n",
      "Couldn't find data for: Atlántico / Soledad / HUM RELATIVA ['01/01/2005', '31/12/2009']\n",
      "Retrying get modal\n",
      "Retrying get modal\n",
      "Couldn't find data for: Atlántico / Soledad / TEMPERATURA ['01/01/2005', '31/12/2009']\n",
      "Retrying get modal\n",
      "Retrying get modal\n",
      "Retrying get modal\n",
      "Couldn't find data for: Atlántico / Soledad / RAD SOLAR ['01/01/2005', '31/12/2009']\n",
      "Retrying get modal\n",
      "Retrying get modal\n",
      "Retrying get modal\n",
      "Started download for: Atlántico / Soledad / PRECIPITACION ['01/01/2010', '31/12/2014']\n",
      "Retrying get modal\n",
      "Retrying get modal\n",
      "Retrying get modal\n",
      "Started download for: Atlántico / Soledad / HUM RELATIVA ['01/01/2010', '31/12/2014']\n",
      "Retrying get modal\n",
      "Retrying get modal\n",
      "Retrying get modal\n",
      "Started download for: Atlántico / Soledad / TEMPERATURA ['01/01/2010', '31/12/2014']\n",
      "Retrying get modal\n",
      "Retrying get modal\n",
      "Retrying get modal\n",
      "Retrying get modal\n",
      "Retrying get datepickers\n",
      "Couldn't find data for: Atlántico / Soledad / RAD SOLAR ['01/01/2010', '31/12/2014']\n",
      "Retrying get modal\n",
      "Retrying get modal\n",
      "Retrying get modal\n",
      "Started download for: Atlántico / Soledad / PRECIPITACION ['01/01/2015', '31/12/2019']\n",
      "Retrying get modal\n",
      "Retrying get modal\n",
      "Retrying get modal\n",
      "Started download for: Atlántico / Soledad / HUM RELATIVA ['01/01/2015', '31/12/2019']\n",
      "Retrying get modal\n",
      "Retrying get modal\n",
      "Retrying get modal\n",
      "Started download for: Atlántico / Soledad / TEMPERATURA ['01/01/2015', '31/12/2019']\n",
      "Retrying get modal\n",
      "Retrying get modal\n",
      "Couldn't find data for: Atlántico / Soledad / RAD SOLAR ['01/01/2015', '31/12/2019']\n",
      "Retrying get modal\n",
      "Retrying get modal\n",
      "Started download for: Atlántico / Soledad / PRECIPITACION ['01/01/2020', '31/12/2021']\n",
      "Retrying get modal\n",
      "Retrying get modal\n",
      "Retrying get modal\n",
      "Started download for: Atlántico / Soledad / HUM RELATIVA ['01/01/2020', '31/12/2021']\n",
      "Retrying get modal\n",
      "Retrying get modal\n",
      "Started download for: Atlántico / Soledad / TEMPERATURA ['01/01/2020', '31/12/2021']\n",
      "Retrying get modal\n",
      "Retrying get modal\n",
      "Retrying get modal\n",
      "Couldn't find data for: Atlántico / Soledad / RAD SOLAR ['01/01/2020', '31/12/2021']\n"
     ]
    }
   ],
   "metadata": {
    "scrolled": true
   }
  },
  {
   "cell_type": "code",
   "execution_count": 143,
   "source": [
    "zipped_csvs = glob.glob(dl_folder+\"*.zip\")\n",
    "files_count = 0\n",
    "for zipped_csv in zipped_csvs:\n",
    "    filename = zipped_csv.split(\"\\\\\")[-1].split(\".\")[0]\n",
    "    zipdata = zipfile.ZipFile(zipped_csv)\n",
    "    zipdata.extract(\"excel.csv.csv\", path = dl_folder)\n",
    "    try:\n",
    "        os.rename(dl_folder+\"excel.csv.csv\",dl_folder+\"{}.csv\".format(filename))\n",
    "    except:\n",
    "        print(\"File exists already\")\n",
    "    files_count+=1\n",
    "    zipdata.close()\n",
    "\n"
   ],
   "outputs": [
    {
     "output_type": "stream",
     "name": "stdout",
     "text": [
      "File exists already\n",
      "File exists already\n",
      "File exists already\n",
      "File exists already\n",
      "File exists already\n",
      "File exists already\n",
      "File exists already\n",
      "File exists already\n",
      "File exists already\n",
      "File exists already\n",
      "File exists already\n"
     ]
    }
   ],
   "metadata": {}
  },
  {
   "cell_type": "markdown",
   "source": [
    "# DOWNLOAD FROM DATOS ABIERTOS API\n"
   ],
   "metadata": {}
  },
  {
   "cell_type": "code",
   "execution_count": 144,
   "source": [
    "# Example authenticated client (needed for non-public datasets):\n",
    "client = Socrata('www.datos.gov.co', \"mc0EDr4vP5YMKFeiaAEHZUWX0\")\n",
    "Precipitacion = 's54a-sgyg'\n",
    "Humedad = 'uext-mhny'\n",
    "Temperatura = 'sbwg-7ju4'\n",
    "Viento = 'sgfv-3yp8'"
   ],
   "outputs": [],
   "metadata": {}
  },
  {
   "cell_type": "markdown",
   "source": [
    "# PRECIPITATION DATA DOWNLOAD"
   ],
   "metadata": {}
  },
  {
   "cell_type": "code",
   "execution_count": 145,
   "source": [
    "prec_stations = dm.get_stations_from_municipality(client, Precipitacion, params[\"municipality\"].upper())\n",
    "prec_stations"
   ],
   "outputs": [
    {
     "output_type": "stream",
     "name": "stdout",
     "text": [
      "HTTPSConnectionPool(host='www.datos.gov.co', port=443): Read timed out. (read timeout=10) retrying\n",
      "HTTPSConnectionPool(host='www.datos.gov.co', port=443): Read timed out. (read timeout=10) retrying\n",
      "HTTPSConnectionPool(host='www.datos.gov.co', port=443): Read timed out. (read timeout=10) retrying\n",
      "HTTPSConnectionPool(host='www.datos.gov.co', port=443): Read timed out. (read timeout=10) retrying\n",
      "HTTPSConnectionPool(host='www.datos.gov.co', port=443): Read timed out. (read timeout=10) retrying\n",
      "HTTPSConnectionPool(host='www.datos.gov.co', port=443): Read timed out. (read timeout=10) retrying\n",
      "HTTPSConnectionPool(host='www.datos.gov.co', port=443): Read timed out. (read timeout=10) retrying\n",
      "HTTPSConnectionPool(host='www.datos.gov.co', port=443): Read timed out. (read timeout=10) retrying\n",
      "HTTPSConnectionPool(host='www.datos.gov.co', port=443): Read timed out. (read timeout=10) retrying\n",
      "HTTPSConnectionPool(host='www.datos.gov.co', port=443): Read timed out. (read timeout=10) retrying\n",
      "HTTPSConnectionPool(host='www.datos.gov.co', port=443): Read timed out. (read timeout=10) retrying\n",
      "HTTPSConnectionPool(host='www.datos.gov.co', port=443): Read timed out. (read timeout=10) retrying\n",
      "HTTPSConnectionPool(host='www.datos.gov.co', port=443): Read timed out. (read timeout=10) retrying\n",
      "HTTPSConnectionPool(host='www.datos.gov.co', port=443): Read timed out. (read timeout=10) retrying\n"
     ]
    },
    {
     "output_type": "execute_result",
     "data": {
      "text/plain": [
       "  CodigoEstacion CodigoSensor                 NombreEstacion Latitud Longitud  \\\n",
       "0     0029045190         0240  APTO ERNESTO CORTIZOS TX GPRS  10.918   -74.78   \n",
       "1     0029047000         0240                  TEBSA TX GPRS  10.937   -74.76   \n",
       "\n",
       "  DescripcionSensor UnidadMedida  \n",
       "0     Precipitacion           mm  \n",
       "1     Precipitacion           mm  "
      ],
      "text/html": [
       "<div>\n",
       "<style scoped>\n",
       "    .dataframe tbody tr th:only-of-type {\n",
       "        vertical-align: middle;\n",
       "    }\n",
       "\n",
       "    .dataframe tbody tr th {\n",
       "        vertical-align: top;\n",
       "    }\n",
       "\n",
       "    .dataframe thead th {\n",
       "        text-align: right;\n",
       "    }\n",
       "</style>\n",
       "<table border=\"1\" class=\"dataframe\">\n",
       "  <thead>\n",
       "    <tr style=\"text-align: right;\">\n",
       "      <th></th>\n",
       "      <th>CodigoEstacion</th>\n",
       "      <th>CodigoSensor</th>\n",
       "      <th>NombreEstacion</th>\n",
       "      <th>Latitud</th>\n",
       "      <th>Longitud</th>\n",
       "      <th>DescripcionSensor</th>\n",
       "      <th>UnidadMedida</th>\n",
       "    </tr>\n",
       "  </thead>\n",
       "  <tbody>\n",
       "    <tr>\n",
       "      <th>0</th>\n",
       "      <td>0029045190</td>\n",
       "      <td>0240</td>\n",
       "      <td>APTO ERNESTO CORTIZOS TX GPRS</td>\n",
       "      <td>10.918</td>\n",
       "      <td>-74.78</td>\n",
       "      <td>Precipitacion</td>\n",
       "      <td>mm</td>\n",
       "    </tr>\n",
       "    <tr>\n",
       "      <th>1</th>\n",
       "      <td>0029047000</td>\n",
       "      <td>0240</td>\n",
       "      <td>TEBSA TX GPRS</td>\n",
       "      <td>10.937</td>\n",
       "      <td>-74.76</td>\n",
       "      <td>Precipitacion</td>\n",
       "      <td>mm</td>\n",
       "    </tr>\n",
       "  </tbody>\n",
       "</table>\n",
       "</div>"
      ]
     },
     "metadata": {},
     "execution_count": 145
    }
   ],
   "metadata": {}
  },
  {
   "cell_type": "code",
   "execution_count": 146,
   "source": [
    "codigos_estaciones = prec_stations[\"CodigoEstacion\"].values\n",
    "prec_time_series = []\n",
    "for codigo in codigos_estaciones:\n",
    "    precipitation_base_data = dm.get_time_series_from_station(client, Precipitacion,  params[\"municipality\"].upper(), codigoestacion=codigo, limit = 1000000)\n",
    "    precipitation_data = dm.group_variable(precipitation_base_data,'daily')\n",
    "    prec_time_series.append(precipitation_data)\n",
    "all_prec_series = pd.concat(prec_time_series,axis = 0).reset_index(drop=True)\n",
    "all_prec_series = dm.API_to_IDEAM_series(all_prec_series)\n",
    "all_prec_series.head(2)"
   ],
   "outputs": [
    {
     "output_type": "execute_result",
     "data": {
      "text/plain": [
       "   CodigoEstacion                 NombreEstacion Latitud Longitud Altitud  \\\n",
       "0        29045190  APTO ERNESTO CORTIZOS TX GPRS  10.918   -74.78           \n",
       "1        29045190  APTO ERNESTO CORTIZOS TX GPRS  10.918   -74.78           \n",
       "\n",
       "  Categoria Entidad   AreaOperativa Departamento Municipio  ...  \\\n",
       "0        mm          BAJO MAGDALENA    ATLÁNTICO   SOLEDAD  ...   \n",
       "1        mm          BAJO MAGDALENA    ATLÁNTICO   SOLEDAD  ...   \n",
       "\n",
       "  FechaSuspension IdParametro       Etiqueta DescripcionSerie Frecuencia  \\\n",
       "0                              Precipitacion                               \n",
       "1                              Precipitacion                               \n",
       "\n",
       "                     Fecha Valor  Grado Calificador NivelAprobacion  \n",
       "0  2016-12-31T00:00:00.000  0.00                                     \n",
       "1  2017-01-01T00:00:00.000  1.87                                     \n",
       "\n",
       "[2 rows x 21 columns]"
      ],
      "text/html": [
       "<div>\n",
       "<style scoped>\n",
       "    .dataframe tbody tr th:only-of-type {\n",
       "        vertical-align: middle;\n",
       "    }\n",
       "\n",
       "    .dataframe tbody tr th {\n",
       "        vertical-align: top;\n",
       "    }\n",
       "\n",
       "    .dataframe thead th {\n",
       "        text-align: right;\n",
       "    }\n",
       "</style>\n",
       "<table border=\"1\" class=\"dataframe\">\n",
       "  <thead>\n",
       "    <tr style=\"text-align: right;\">\n",
       "      <th></th>\n",
       "      <th>CodigoEstacion</th>\n",
       "      <th>NombreEstacion</th>\n",
       "      <th>Latitud</th>\n",
       "      <th>Longitud</th>\n",
       "      <th>Altitud</th>\n",
       "      <th>Categoria</th>\n",
       "      <th>Entidad</th>\n",
       "      <th>AreaOperativa</th>\n",
       "      <th>Departamento</th>\n",
       "      <th>Municipio</th>\n",
       "      <th>...</th>\n",
       "      <th>FechaSuspension</th>\n",
       "      <th>IdParametro</th>\n",
       "      <th>Etiqueta</th>\n",
       "      <th>DescripcionSerie</th>\n",
       "      <th>Frecuencia</th>\n",
       "      <th>Fecha</th>\n",
       "      <th>Valor</th>\n",
       "      <th>Grado</th>\n",
       "      <th>Calificador</th>\n",
       "      <th>NivelAprobacion</th>\n",
       "    </tr>\n",
       "  </thead>\n",
       "  <tbody>\n",
       "    <tr>\n",
       "      <th>0</th>\n",
       "      <td>29045190</td>\n",
       "      <td>APTO ERNESTO CORTIZOS TX GPRS</td>\n",
       "      <td>10.918</td>\n",
       "      <td>-74.78</td>\n",
       "      <td></td>\n",
       "      <td>mm</td>\n",
       "      <td></td>\n",
       "      <td>BAJO MAGDALENA</td>\n",
       "      <td>ATLÁNTICO</td>\n",
       "      <td>SOLEDAD</td>\n",
       "      <td>...</td>\n",
       "      <td></td>\n",
       "      <td></td>\n",
       "      <td>Precipitacion</td>\n",
       "      <td></td>\n",
       "      <td></td>\n",
       "      <td>2016-12-31T00:00:00.000</td>\n",
       "      <td>0.00</td>\n",
       "      <td></td>\n",
       "      <td></td>\n",
       "      <td></td>\n",
       "    </tr>\n",
       "    <tr>\n",
       "      <th>1</th>\n",
       "      <td>29045190</td>\n",
       "      <td>APTO ERNESTO CORTIZOS TX GPRS</td>\n",
       "      <td>10.918</td>\n",
       "      <td>-74.78</td>\n",
       "      <td></td>\n",
       "      <td>mm</td>\n",
       "      <td></td>\n",
       "      <td>BAJO MAGDALENA</td>\n",
       "      <td>ATLÁNTICO</td>\n",
       "      <td>SOLEDAD</td>\n",
       "      <td>...</td>\n",
       "      <td></td>\n",
       "      <td></td>\n",
       "      <td>Precipitacion</td>\n",
       "      <td></td>\n",
       "      <td></td>\n",
       "      <td>2017-01-01T00:00:00.000</td>\n",
       "      <td>1.87</td>\n",
       "      <td></td>\n",
       "      <td></td>\n",
       "      <td></td>\n",
       "    </tr>\n",
       "  </tbody>\n",
       "</table>\n",
       "<p>2 rows × 21 columns</p>\n",
       "</div>"
      ]
     },
     "metadata": {},
     "execution_count": 146
    }
   ],
   "metadata": {}
  },
  {
   "cell_type": "code",
   "execution_count": 147,
   "source": [
    "all_prec_series.to_csv(dl_folder+\"zAPI_{}_precipitacion.csv\".format(params[\"municipality\"]), index = False)"
   ],
   "outputs": [],
   "metadata": {}
  },
  {
   "cell_type": "markdown",
   "source": [
    "# TEMPERATURE DATA DOWNLOAD"
   ],
   "metadata": {}
  },
  {
   "cell_type": "code",
   "execution_count": 148,
   "source": [
    "temp_stations = dm.get_stations_from_municipality(client, Temperatura, params[\"municipality\"].upper())\r\n",
    "temp_stations"
   ],
   "outputs": [
    {
     "output_type": "stream",
     "name": "stdout",
     "text": [
      "HTTPSConnectionPool(host='www.datos.gov.co', port=443): Read timed out. (read timeout=10) retrying\n",
      "HTTPSConnectionPool(host='www.datos.gov.co', port=443): Read timed out. (read timeout=10) retrying\n",
      "HTTPSConnectionPool(host='www.datos.gov.co', port=443): Read timed out. (read timeout=10) retrying\n",
      "HTTPSConnectionPool(host='www.datos.gov.co', port=443): Read timed out. (read timeout=10) retrying\n"
     ]
    },
    {
     "output_type": "execute_result",
     "data": {
      "text/plain": [
       "  CodigoEstacion CodigoSensor                 NombreEstacion Latitud Longitud  \\\n",
       "0     0029045190         0068  APTO ERNESTO CORTIZOS TX GPRS  10.918   -74.78   \n",
       "\n",
       "  DescripcionSensor UnidadMedida  \n",
       "0     Temp Aire 2 m           °C  "
      ],
      "text/html": [
       "<div>\n",
       "<style scoped>\n",
       "    .dataframe tbody tr th:only-of-type {\n",
       "        vertical-align: middle;\n",
       "    }\n",
       "\n",
       "    .dataframe tbody tr th {\n",
       "        vertical-align: top;\n",
       "    }\n",
       "\n",
       "    .dataframe thead th {\n",
       "        text-align: right;\n",
       "    }\n",
       "</style>\n",
       "<table border=\"1\" class=\"dataframe\">\n",
       "  <thead>\n",
       "    <tr style=\"text-align: right;\">\n",
       "      <th></th>\n",
       "      <th>CodigoEstacion</th>\n",
       "      <th>CodigoSensor</th>\n",
       "      <th>NombreEstacion</th>\n",
       "      <th>Latitud</th>\n",
       "      <th>Longitud</th>\n",
       "      <th>DescripcionSensor</th>\n",
       "      <th>UnidadMedida</th>\n",
       "    </tr>\n",
       "  </thead>\n",
       "  <tbody>\n",
       "    <tr>\n",
       "      <th>0</th>\n",
       "      <td>0029045190</td>\n",
       "      <td>0068</td>\n",
       "      <td>APTO ERNESTO CORTIZOS TX GPRS</td>\n",
       "      <td>10.918</td>\n",
       "      <td>-74.78</td>\n",
       "      <td>Temp Aire 2 m</td>\n",
       "      <td>°C</td>\n",
       "    </tr>\n",
       "  </tbody>\n",
       "</table>\n",
       "</div>"
      ]
     },
     "metadata": {},
     "execution_count": 148
    }
   ],
   "metadata": {}
  },
  {
   "cell_type": "code",
   "execution_count": 149,
   "source": [
    "codigos_estaciones = temp_stations[\"CodigoEstacion\"].values\r\n",
    "temp_time_series = []\r\n",
    "for codigo in codigos_estaciones:\r\n",
    "    temperature_data = dm.group_variable(dm.get_time_series_from_station(client, Temperatura,  params[\"municipality\"].upper(), codigoestacion=codigo, limit = 1000000), 'hourly')\r\n",
    "    temp_time_series.append(temperature_data)\r\n",
    "all_temp_series = pd.concat(temp_time_series,axis = 0).reset_index(drop=True)\r\n",
    "all_temp_series = dm.API_to_IDEAM_series(all_temp_series)\r\n",
    "all_temp_series.to_csv(dl_folder+\"/zAPI_{}_temperature.csv\".format(params[\"municipality\"]), index = False)"
   ],
   "outputs": [],
   "metadata": {}
  },
  {
   "cell_type": "markdown",
   "source": [
    "# HUMEDAD DATA DOWNLOAD"
   ],
   "metadata": {}
  },
  {
   "cell_type": "code",
   "execution_count": 150,
   "source": [
    "hum_stations = dm.get_stations_from_municipality(client, Humedad, params[\"municipality\"].upper())\r\n",
    "hum_stations"
   ],
   "outputs": [
    {
     "output_type": "stream",
     "name": "stdout",
     "text": [
      "HTTPSConnectionPool(host='www.datos.gov.co', port=443): Read timed out. (read timeout=10) retrying\n",
      "HTTPSConnectionPool(host='www.datos.gov.co', port=443): Read timed out. (read timeout=10) retrying\n",
      "HTTPSConnectionPool(host='www.datos.gov.co', port=443): Read timed out. (read timeout=10) retrying\n"
     ]
    },
    {
     "output_type": "execute_result",
     "data": {
      "text/plain": [
       "  CodigoEstacion CodigoSensor                 NombreEstacion Latitud Longitud  \\\n",
       "0     0029045190         0027  APTO ERNESTO CORTIZOS TX GPRS  10.918   -74.78   \n",
       "\n",
       "       DescripcionSensor UnidadMedida  \n",
       "0  Humedad del aire 2 mt            %  "
      ],
      "text/html": [
       "<div>\n",
       "<style scoped>\n",
       "    .dataframe tbody tr th:only-of-type {\n",
       "        vertical-align: middle;\n",
       "    }\n",
       "\n",
       "    .dataframe tbody tr th {\n",
       "        vertical-align: top;\n",
       "    }\n",
       "\n",
       "    .dataframe thead th {\n",
       "        text-align: right;\n",
       "    }\n",
       "</style>\n",
       "<table border=\"1\" class=\"dataframe\">\n",
       "  <thead>\n",
       "    <tr style=\"text-align: right;\">\n",
       "      <th></th>\n",
       "      <th>CodigoEstacion</th>\n",
       "      <th>CodigoSensor</th>\n",
       "      <th>NombreEstacion</th>\n",
       "      <th>Latitud</th>\n",
       "      <th>Longitud</th>\n",
       "      <th>DescripcionSensor</th>\n",
       "      <th>UnidadMedida</th>\n",
       "    </tr>\n",
       "  </thead>\n",
       "  <tbody>\n",
       "    <tr>\n",
       "      <th>0</th>\n",
       "      <td>0029045190</td>\n",
       "      <td>0027</td>\n",
       "      <td>APTO ERNESTO CORTIZOS TX GPRS</td>\n",
       "      <td>10.918</td>\n",
       "      <td>-74.78</td>\n",
       "      <td>Humedad del aire 2 mt</td>\n",
       "      <td>%</td>\n",
       "    </tr>\n",
       "  </tbody>\n",
       "</table>\n",
       "</div>"
      ]
     },
     "metadata": {},
     "execution_count": 150
    }
   ],
   "metadata": {}
  },
  {
   "cell_type": "code",
   "execution_count": 151,
   "source": [
    "codigos_estaciones = hum_stations[\"CodigoEstacion\"].values\r\n",
    "hum_time_series = []\r\n",
    "for codigo in codigos_estaciones:\r\n",
    "    humedad_data = dm.group_variable(dm.get_time_series_from_station(client, Humedad,  params[\"municipality\"].upper(), codigoestacion=codigo, limit = 1000000))\r\n",
    "    hum_time_series.append(humedad_data)\r\n",
    "hum_time_series = pd.concat(hum_time_series,axis = 0).reset_index(drop=True)\r\n",
    "hum_time_series = dm.API_to_IDEAM_series(hum_time_series)\r\n",
    "hum_time_series.to_csv(dl_folder+\"/zAPI_{}_humidity.csv\".format(params[\"municipality\"]), index = False)"
   ],
   "outputs": [],
   "metadata": {}
  },
  {
   "cell_type": "markdown",
   "source": [
    "# WIND DATA DOWNLOAD"
   ],
   "metadata": {}
  },
  {
   "cell_type": "code",
   "execution_count": 152,
   "source": [
    "win_stations = dm.get_stations_from_municipality(client, Viento, params[\"municipality\"].upper())\r\n",
    "win_stations"
   ],
   "outputs": [
    {
     "output_type": "stream",
     "name": "stdout",
     "text": [
      "HTTPSConnectionPool(host='www.datos.gov.co', port=443): Read timed out. (read timeout=10) retrying\n",
      "HTTPSConnectionPool(host='www.datos.gov.co', port=443): Read timed out. (read timeout=10) retrying\n",
      "HTTPSConnectionPool(host='www.datos.gov.co', port=443): Read timed out. (read timeout=10) retrying\n",
      "HTTPSConnectionPool(host='www.datos.gov.co', port=443): Read timed out. (read timeout=10) retrying\n",
      "HTTPSConnectionPool(host='www.datos.gov.co', port=443): Read timed out. (read timeout=10) retrying\n",
      "HTTPSConnectionPool(host='www.datos.gov.co', port=443): Read timed out. (read timeout=10) retrying\n",
      "HTTPSConnectionPool(host='www.datos.gov.co', port=443): Read timed out. (read timeout=10) retrying\n",
      "HTTPSConnectionPool(host='www.datos.gov.co', port=443): Read timed out. (read timeout=10) retrying\n",
      "HTTPSConnectionPool(host='www.datos.gov.co', port=443): Read timed out. (read timeout=10) retrying\n",
      "HTTPSConnectionPool(host='www.datos.gov.co', port=443): Read timed out. (read timeout=10) retrying\n",
      "HTTPSConnectionPool(host='www.datos.gov.co', port=443): Read timed out. (read timeout=10) retrying\n"
     ]
    },
    {
     "output_type": "execute_result",
     "data": {
      "text/plain": [
       "  CodigoEstacion CodigoSensor                 NombreEstacion Latitud Longitud  \\\n",
       "0     0029045190         0103  APTO ERNESTO CORTIZOS TX GPRS  10.918   -74.78   \n",
       "\n",
       "           DescripcionSensor UnidadMedida  \n",
       "0  Velocidad Viento (10 min)          m/s  "
      ],
      "text/html": [
       "<div>\n",
       "<style scoped>\n",
       "    .dataframe tbody tr th:only-of-type {\n",
       "        vertical-align: middle;\n",
       "    }\n",
       "\n",
       "    .dataframe tbody tr th {\n",
       "        vertical-align: top;\n",
       "    }\n",
       "\n",
       "    .dataframe thead th {\n",
       "        text-align: right;\n",
       "    }\n",
       "</style>\n",
       "<table border=\"1\" class=\"dataframe\">\n",
       "  <thead>\n",
       "    <tr style=\"text-align: right;\">\n",
       "      <th></th>\n",
       "      <th>CodigoEstacion</th>\n",
       "      <th>CodigoSensor</th>\n",
       "      <th>NombreEstacion</th>\n",
       "      <th>Latitud</th>\n",
       "      <th>Longitud</th>\n",
       "      <th>DescripcionSensor</th>\n",
       "      <th>UnidadMedida</th>\n",
       "    </tr>\n",
       "  </thead>\n",
       "  <tbody>\n",
       "    <tr>\n",
       "      <th>0</th>\n",
       "      <td>0029045190</td>\n",
       "      <td>0103</td>\n",
       "      <td>APTO ERNESTO CORTIZOS TX GPRS</td>\n",
       "      <td>10.918</td>\n",
       "      <td>-74.78</td>\n",
       "      <td>Velocidad Viento (10 min)</td>\n",
       "      <td>m/s</td>\n",
       "    </tr>\n",
       "  </tbody>\n",
       "</table>\n",
       "</div>"
      ]
     },
     "metadata": {},
     "execution_count": 152
    }
   ],
   "metadata": {}
  },
  {
   "cell_type": "code",
   "execution_count": 153,
   "source": [
    "codigos_estaciones = win_stations[\"CodigoEstacion\"].values\r\n",
    "win_time_series = []\r\n",
    "for codigo in codigos_estaciones:\r\n",
    "    wind_data = dm.group_variable(dm.get_time_series_from_station(client, Viento,  params[\"municipality\"].upper(), codigoestacion=codigo, limit = 1000000))\r\n",
    "    win_time_series.append(wind_data)\r\n",
    "win_time_series = pd.concat(win_time_series,axis = 0).reset_index(drop=True)\r\n",
    "win_time_series = dm.API_to_IDEAM_series(win_time_series)\r\n",
    "win_time_series.to_csv(dl_folder+\"/zAPI_{}_wind.csv\".format(params[\"municipality\"]), index = False)"
   ],
   "outputs": [],
   "metadata": {}
  },
  {
   "cell_type": "code",
   "execution_count": null,
   "source": [],
   "outputs": [],
   "metadata": {}
  },
  {
   "cell_type": "code",
   "execution_count": null,
   "source": [],
   "outputs": [],
   "metadata": {}
  },
  {
   "cell_type": "code",
   "execution_count": null,
   "source": [],
   "outputs": [],
   "metadata": {}
  },
  {
   "cell_type": "code",
   "execution_count": null,
   "source": [],
   "outputs": [],
   "metadata": {}
  },
  {
   "cell_type": "code",
   "execution_count": null,
   "source": [],
   "outputs": [],
   "metadata": {}
  },
  {
   "cell_type": "code",
   "execution_count": null,
   "source": [],
   "outputs": [],
   "metadata": {}
  },
  {
   "cell_type": "code",
   "execution_count": null,
   "source": [],
   "outputs": [],
   "metadata": {}
  },
  {
   "cell_type": "code",
   "execution_count": null,
   "source": [
    "#Downloads from IDEAM with Selenium\r\n",
    "variables = [\"VEL VIENTO\"]\r\n",
    "#variables = [\"RAD SOLAR\"]\r\n",
    "#variables = [\"RAD SOLAR\"]\r\n",
    "date_intervals = [ [[\"01/01/{}\".format(year),\"31/01/{}\".format(year)],\r\n",
    "                    [\"01/02/{}\".format(year),\"29/02/{}\".format(year)],\r\n",
    "                    [\"01/03/{}\".format(year),\"31/03/{}\".format(year)],\r\n",
    "                    [\"01/04/{}\".format(year),\"30/04/{}\".format(year)],\r\n",
    "                    [\"01/05/{}\".format(year),\"31/05/{}\".format(year)],\r\n",
    "                    [\"01/06/{}\".format(year),\"30/06/{}\".format(year)],\r\n",
    "                    [\"01/07/{}\".format(year),\"31/07/{}\".format(year)],\r\n",
    "                    [\"01/08/{}\".format(year),\"31/08/{}\".format(year)],\r\n",
    "                    [\"01/09/{}\".format(year),\"30/09/{}\".format(year)],\r\n",
    "                    [\"01/10/{}\".format(year),\"31/10/{}\".format(year)],\r\n",
    "                    [\"01/11/{}\".format(year),\"30/11/{}\".format(year)],\r\n",
    "                    [\"01/12/{}\".format(year),\"31/12/{}\".format(year)]] \r\n",
    "                  for year in range(2007,2021)]\r\n",
    "date_intervals = [di for di_tup in date_intervals for di in di_tup]"
   ],
   "outputs": [],
   "metadata": {}
  }
 ],
 "metadata": {
  "interpreter": {
   "hash": "aa4995a4b03db85ccb1b16d764bda813f00c5260fd6a71e0b1119db65bdf3431"
  },
  "kernelspec": {
   "display_name": "Python 3.7.9 64-bit ('dl': conda)",
   "name": "python3"
  },
  "language_info": {
   "codemirror_mode": {
    "name": "ipython",
    "version": 3
   },
   "file_extension": ".py",
   "mimetype": "text/x-python",
   "name": "python",
   "nbconvert_exporter": "python",
   "pygments_lexer": "ipython3",
   "version": "3.7.9"
  }
 },
 "nbformat": 4,
 "nbformat_minor": 4
}