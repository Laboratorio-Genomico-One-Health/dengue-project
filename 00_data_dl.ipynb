{
 "cells": [
  {
   "cell_type": "code",
   "execution_count": null,
   "metadata": {},
   "outputs": [
    {
     "name": "stdout",
     "output_type": "stream",
     "text": [
      "Downloading 1wEiDe2B_ojoaLUnV3Ik67t_YpAC2nbPA into ./local/datadd/colombia.geo.json... Done.\n"
     ]
    }
   ],
   "source": [
    "from google_drive_downloader import GoogleDriveDownloader as gdd\n",
    "\n"
   ]
  },
  {
   "cell_type": "code",
   "execution_count": null,
   "metadata": {},
   "outputs": [],
   "source": [
    "#export\n",
    "def download_files_maps():\n",
    "    route = \"./local/data/\"\n",
    "    gdd.download_file_from_google_drive(file_id='1wEiDe2B_ojoaLUnV3Ik67t_YpAC2nbPA',\n",
    "                                        dest_path=route+\"colombia.geo.json\",\n",
    "                                        unzip=False, showsize=True, overwrite = True)\n",
    "    return "
   ]
  },
  {
   "cell_type": "code",
   "execution_count": null,
   "metadata": {},
   "outputs": [],
   "source": [
    "download_files_maps()"
   ]
  },
  {
   "cell_type": "code",
   "execution_count": null,
   "metadata": {},
   "outputs": [],
   "source": [
    "def download_files_dengue():\n",
    "    route = \"./local/data/\"\n",
    "    gdd.download_file_from_google_drive(file_id='1xHXshzID1MBrKZKVvnc6JeO_ZU04HvQ_',\n",
    "                                        dest_path=route+\"dengue2007-2017.csv\",\n",
    "                                        unzip=False, showsize=True, overwrite = True)\n",
    "    return\n",
    "    "
   ]
  },
  {
   "cell_type": "code",
   "execution_count": null,
   "metadata": {},
   "outputs": [
    {
     "name": "stdout",
     "output_type": "stream",
     "text": [
      "Downloading 1xHXshzID1MBrKZKVvnc6JeO_ZU04HvQ_ into ./local/data/dengue2007-2017.csv... \n",
      "65.2 MiB                                                                                                                                                                                                                                                                                                                                                           Done.\n"
     ]
    }
   ],
   "source": [
    "download_files_dengue()"
   ]
  },
  {
   "cell_type": "code",
   "execution_count": null,
   "metadata": {},
   "outputs": [],
   "source": []
  }
 ],
 "metadata": {
  "kernelspec": {
   "display_name": "Python 3",
   "language": "python",
   "name": "python3"
  }
 },
 "nbformat": 4,
 "nbformat_minor": 4
}
