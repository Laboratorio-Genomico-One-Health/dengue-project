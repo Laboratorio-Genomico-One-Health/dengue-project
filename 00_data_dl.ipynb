{
 "cells": [
  {
   "cell_type": "code",
   "execution_count": 4,
   "metadata": {},
   "outputs": [
    {
     "name": "stdout",
     "output_type": "stream",
     "text": [
      "The autoreload extension is already loaded. To reload it, use:\n",
      "  %reload_ext autoreload\n"
     ]
    }
   ],
   "source": [
    "import pandas as pd\r\n",
    "from sodapy import Socrata\r\n",
    "import os\r\n",
    "from modules import data_management as dm\r\n",
    "\r\n",
    "%load_ext autoreload\r\n",
    "%autoreload 2"
   ]
  },
  {
   "cell_type": "markdown",
   "metadata": {},
   "source": [
    "# Download source files into your 'local' folder."
   ]
  },
  {
   "cell_type": "code",
   "execution_count": null,
   "metadata": {},
   "outputs": [],
   "source": [
    "dm.download_file_maps()\r\n",
    "dm.download_files_raw_dengue()\r\n",
    "dm.download_files_processed_dengue()\r\n",
    "dm.download_file_population()\r\n",
    "dm.download_file_year()\r\n",
    "dm.download_file_departments()\r\n",
    "dm.download_file_sstoi()\r\n",
    "dm.download_file_tni()\r\n",
    "dm.download_file_oni()\r\n",
    "dm.download_file_meiv2()\r\n",
    "dm.download_file_car()\r\n",
    "dm.download_file_nta()\r\n",
    "dm.download_rutinarias()"
   ]
  },
  {
   "cell_type": "code",
   "execution_count": 5,
   "metadata": {},
   "outputs": [],
   "source": []
  },
  {
   "cell_type": "markdown",
   "metadata": {},
   "source": [
    "# Step by step download of climate data from two platforms..."
   ]
  },
  {
   "cell_type": "markdown",
   "metadata": {},
   "source": [
    "## First, set the path to the folder where data will be stored"
   ]
  },
  {
   "cell_type": "code",
   "execution_count": 28,
   "metadata": {},
   "outputs": [
    {
     "name": "stdout",
     "output_type": "stream",
     "text": [
      "Couldn't assess path automatically, setting up path locally...\n"
     ]
    },
    {
     "data": {
      "text/plain": [
       "'D:/MyFiles/Research_Work/CW_One_Health/ALL_DENGUE/dengue-project/local/data/'"
      ]
     },
     "execution_count": 28,
     "metadata": {},
     "output_type": "execute_result"
    }
   ],
   "source": [
    "setup = \"repo\" #alternativo: local\r\n",
    "\r\n",
    "try:\r\n",
    "    if setup == \"repo\":\r\n",
    "        data_folder = \"/\".join(dm.notebook_path().replace(\"\\\\\",\"/\").split(\"/\")[:-1]) + \"/local/data/\"\r\n",
    "        #data_folder = \"./local/data/\"\r\n",
    "    else:\r\n",
    "        data_folder = \"/\".join(dm.notebook_path().replace(\"\\\\\",\"/\").split(\"/\")[:-1])  + \"/data/\"\r\n",
    "        \r\n",
    "except:\r\n",
    "    print(\"Couldn't assess path automatically, setting up path locally...\")\r\n",
    "    data_folder = \"D:/MyFiles/Research_Work/CW_One_Health/ALL_DENGUE/dengue-project/local/data/\"\r\n",
    "    \r\n",
    "dm.make_folder_if_not_exists(data_folder)\r\n",
    "data_folder"
   ]
  },
  {
   "cell_type": "markdown",
   "metadata": {},
   "source": [
    "## Choose the city and retrieve all relevant data from params.csv"
   ]
  },
  {
   "cell_type": "markdown",
   "metadata": {},
   "source": [
    "Amazonas\n",
    "Antioquia\n",
    "Arauca\n",
    "Archipiélago de San Andres, Providencia y Santa Catalina\n",
    "Atlantico\n",
    "Bogotá\n",
    "Bolivar\n",
    "Boyacá\n",
    "Caldas\n",
    "Caquetá\n",
    "Casanare\n",
    "Cauca\n",
    "Cesar\n",
    "Chocó\n",
    "Córdoba\n",
    "Cundinamarca\n",
    "Guainía\n",
    "Guaviare\n",
    "Huila\n",
    "La Guajira\n",
    "Magdalena\n",
    "Meta\n",
    "Nariño\n",
    "Norte de Santander\n",
    "Putumayo\n",
    "Quindío\n",
    "Risaralda\n",
    "Santander\n",
    "Sucre\n",
    "Tolima\n",
    "Valle del Cauca"
   ]
  },
  {
   "cell_type": "code",
   "execution_count": 102,
   "metadata": {},
   "outputs": [
    {
     "name": "stdout",
     "output_type": "stream",
     "text": [
      "starting_date\n",
      "stations_temp\n",
      "stations_hum\n",
      "stations_prec\n",
      "stations_rad\n"
     ]
    },
    {
     "data": {
      "text/html": [
       "<div>\n",
       "<style scoped>\n",
       "    .dataframe tbody tr th:only-of-type {\n",
       "        vertical-align: middle;\n",
       "    }\n",
       "\n",
       "    .dataframe tbody tr th {\n",
       "        vertical-align: top;\n",
       "    }\n",
       "\n",
       "    .dataframe thead th {\n",
       "        text-align: right;\n",
       "    }\n",
       "</style>\n",
       "<table border=\"1\" class=\"dataframe\">\n",
       "  <thead>\n",
       "    <tr style=\"text-align: right;\">\n",
       "      <th></th>\n",
       "      <th>department</th>\n",
       "      <th>municipality</th>\n",
       "      <th>dl_folder</th>\n",
       "      <th>starting_date</th>\n",
       "      <th>stations_temp</th>\n",
       "      <th>stations_hum</th>\n",
       "      <th>stations_prec</th>\n",
       "      <th>stations_rad</th>\n",
       "    </tr>\n",
       "  </thead>\n",
       "  <tbody>\n",
       "    <tr>\n",
       "      <th>0</th>\n",
       "      <td>Antioquia</td>\n",
       "      <td>Medellín</td>\n",
       "      <td>MEDELLIN_DATA</td>\n",
       "      <td>None</td>\n",
       "      <td>None</td>\n",
       "      <td>None</td>\n",
       "      <td>None</td>\n",
       "      <td>None</td>\n",
       "    </tr>\n",
       "    <tr>\n",
       "      <th>1</th>\n",
       "      <td>Magdalena</td>\n",
       "      <td>Santa Marta</td>\n",
       "      <td>SANTA_MARTA_DATA</td>\n",
       "      <td>None</td>\n",
       "      <td>None</td>\n",
       "      <td>None</td>\n",
       "      <td>None</td>\n",
       "      <td>None</td>\n",
       "    </tr>\n",
       "    <tr>\n",
       "      <th>2</th>\n",
       "      <td>Santander</td>\n",
       "      <td>Bucaramanga</td>\n",
       "      <td>SANTANDER_DATA</td>\n",
       "      <td>None</td>\n",
       "      <td>None</td>\n",
       "      <td>None</td>\n",
       "      <td>None</td>\n",
       "      <td>None</td>\n",
       "    </tr>\n",
       "    <tr>\n",
       "      <th>3</th>\n",
       "      <td>Atlántico</td>\n",
       "      <td>Barranquilla</td>\n",
       "      <td>BARRANQUILLA_SOLEDAD_DATA</td>\n",
       "      <td>None</td>\n",
       "      <td>None</td>\n",
       "      <td>None</td>\n",
       "      <td>None</td>\n",
       "      <td>None</td>\n",
       "    </tr>\n",
       "    <tr>\n",
       "      <th>4</th>\n",
       "      <td>Atlántico</td>\n",
       "      <td>Soledad</td>\n",
       "      <td>BARRANQUILLA_SOLEDAD_DATA</td>\n",
       "      <td>None</td>\n",
       "      <td>None</td>\n",
       "      <td>None</td>\n",
       "      <td>None</td>\n",
       "      <td>None</td>\n",
       "    </tr>\n",
       "    <tr>\n",
       "      <th>5</th>\n",
       "      <td>Norte de Santander</td>\n",
       "      <td>Cúcuta</td>\n",
       "      <td>CUCUTA_DATA</td>\n",
       "      <td>None</td>\n",
       "      <td>None</td>\n",
       "      <td>None</td>\n",
       "      <td>None</td>\n",
       "      <td>None</td>\n",
       "    </tr>\n",
       "    <tr>\n",
       "      <th>6</th>\n",
       "      <td>Valle del Cauca</td>\n",
       "      <td>Cali</td>\n",
       "      <td>CALI_DATA</td>\n",
       "      <td>None</td>\n",
       "      <td>None</td>\n",
       "      <td>None</td>\n",
       "      <td>None</td>\n",
       "      <td>None</td>\n",
       "    </tr>\n",
       "    <tr>\n",
       "      <th>7</th>\n",
       "      <td>Caquetá</td>\n",
       "      <td>Villavicencio</td>\n",
       "      <td>VILLAVICENCIO_DATA</td>\n",
       "      <td>None</td>\n",
       "      <td>None</td>\n",
       "      <td>None</td>\n",
       "      <td>None</td>\n",
       "      <td>None</td>\n",
       "    </tr>\n",
       "  </tbody>\n",
       "</table>\n",
       "</div>"
      ],
      "text/plain": [
       "           department   municipality                  dl_folder starting_date  \\\n",
       "0           Antioquia       Medellín              MEDELLIN_DATA          None   \n",
       "1           Magdalena    Santa Marta           SANTA_MARTA_DATA          None   \n",
       "2           Santander    Bucaramanga             SANTANDER_DATA          None   \n",
       "3           Atlántico   Barranquilla  BARRANQUILLA_SOLEDAD_DATA          None   \n",
       "4           Atlántico        Soledad  BARRANQUILLA_SOLEDAD_DATA          None   \n",
       "5  Norte de Santander         Cúcuta                CUCUTA_DATA          None   \n",
       "6     Valle del Cauca           Cali                  CALI_DATA          None   \n",
       "7             Caquetá  Villavicencio         VILLAVICENCIO_DATA          None   \n",
       "\n",
       "  stations_temp stations_hum stations_prec stations_rad  \n",
       "0          None         None          None         None  \n",
       "1          None         None          None         None  \n",
       "2          None         None          None         None  \n",
       "3          None         None          None         None  \n",
       "4          None         None          None         None  \n",
       "5          None         None          None         None  \n",
       "6          None         None          None         None  \n",
       "7          None         None          None         None  "
      ]
     },
     "execution_count": 102,
     "metadata": {},
     "output_type": "execute_result"
    }
   ],
   "source": [
    "df_cities = dm.read_cities_file()\r\n",
    "df_cities"
   ]
  },
  {
   "cell_type": "code",
   "execution_count": 111,
   "metadata": {},
   "outputs": [
    {
     "data": {
      "text/plain": [
       "{'department': 'Antioquia',\n",
       " 'municipality': 'Medellín',\n",
       " 'dl_folder': 'MEDELLIN_DATA'}"
      ]
     },
     "execution_count": 111,
     "metadata": {},
     "output_type": "execute_result"
    }
   ],
   "source": [
    "row_id = 0\r\n",
    "params = {}\r\n",
    "params_to_get = [\"department\",\"municipality\",\"dl_folder\"]\r\n",
    "for param in params_to_get:\r\n",
    "    params[param] = df_cities.loc[row_id,param]\r\n",
    "params"
   ]
  },
  {
   "cell_type": "code",
   "execution_count": 112,
   "metadata": {},
   "outputs": [
    {
     "data": {
      "text/plain": [
       "'D:\\\\MyFiles\\\\Research_Work\\\\CW_One_Health\\\\ALL_DENGUE\\\\dengue-project\\\\local\\\\data\\\\src_per_city\\\\MEDELLIN_DATA\\\\'"
      ]
     },
     "execution_count": 112,
     "metadata": {},
     "output_type": "execute_result"
    }
   ],
   "source": [
    "dl_folder = data_folder + \"src_per_city/\" + params[\"dl_folder\"]+\"/\"\r\n",
    "dl_folder = dl_folder.replace(\"/\", \"\\\\\")\r\n",
    "dm.make_folder_if_not_exists(dl_folder)\r\n",
    "dl_folder"
   ]
  },
  {
   "cell_type": "markdown",
   "metadata": {},
   "source": [
    "## Download data from IDEAM's map using Selenium\r\n",
    "\r\n",
    "The IDEAM API only allows downloads of these variables for up to 5 consecutive years, so we divide the relevant interval in 5 year segments.\r\n",
    "\r\n",
    "Our relevant interval is 2006 to 2020. However, we also take years 2005 and 2021 for further review of the data."
   ]
  },
  {
   "cell_type": "code",
   "execution_count": 84,
   "metadata": {
    "scrolled": true
   },
   "outputs": [
    {
     "data": {
      "text/plain": [
       "[['01/01/2005', '31/12/2009'],\n",
       " ['01/01/2010', '31/12/2014'],\n",
       " ['01/01/2015', '31/12/2019'],\n",
       " ['01/01/2020', '31/12/2021']]"
      ]
     },
     "execution_count": 84,
     "metadata": {},
     "output_type": "execute_result"
    }
   ],
   "source": [
    "variables = [\"PRECIPITACION\",\"HUM RELATIVA\",\"TEMPERATURA\",\"RAD SOLAR\"]\r\n",
    "date_intervals = [['01/01/2005','31/12/2009'],\r\n",
    "                    ['01/01/2010','31/12/2014'],\r\n",
    "                    ['01/01/2015','31/12/2019'],\r\n",
    "                    ['01/01/2020','31/12/2021']\r\n",
    "                ]\r\n",
    "date_intervals"
   ]
  },
  {
   "cell_type": "code",
   "execution_count": null,
   "metadata": {
    "scrolled": true
   },
   "outputs": [],
   "source": [
    "for interval in date_intervals:\r\n",
    "    for variable in variables:\r\n",
    "        res = dm.download_data_with_selenium(department, municipality, variable, interval, dl_folder)\r\n",
    "        if res == True:\r\n",
    "            print(\"Started download for:\",department,\"/\",municipality,\"/\",variable,interval)\r\n",
    "            try:\r\n",
    "                os.rename(dl_folder+\"datos.zip\",dl_folder+\"{}.zip\".format(department+\"-\"+municipality+\"-\"+variable+\"-\"+interval[0].replace(\"/\",\"-\")+\"-\"+interval[1].replace(\"/\",\"-\")))\r\n",
    "            except Exception as e:\r\n",
    "                print(e)\r\n",
    "                print(\"Error downloading, driver closed prematurely.\")\r\n",
    "        else:\r\n",
    "            print(\"Couldn't find data for:\",department,\"/\",municipality,\"/\",variable,interval)"
   ]
  },
  {
   "cell_type": "code",
   "execution_count": null,
   "metadata": {},
   "outputs": [],
   "source": [
    "zipped_csvs = glob.glob(dl_folder+\"*.zip\")\r\n",
    "files_count = 0\r\n",
    "for zipped_csv in zipped_csvs:\r\n",
    "    filename = zipped_csv.split(\"\\\\\")[-1].split(\".\")[0]\r\n",
    "    zipdata = zipfile.ZipFile(zipped_csv)\r\n",
    "    zipdata.extract(\"excel.csv.csv\", path = dl_folder)\r\n",
    "    os.rename(dl_folder+\"excel.csv.csv\",dl_folder+\"{}.csv\".format(filename))\r\n",
    "    files_count+=1\r\n",
    "    zipdata.close()"
   ]
  },
  {
   "cell_type": "markdown",
   "metadata": {},
   "source": [
    "# DOWNLOAD FROM DATOS ABIERTOS API\n"
   ]
  },
  {
   "cell_type": "code",
   "execution_count": 114,
   "metadata": {},
   "outputs": [],
   "source": [
    "# Example authenticated client (needed for non-public datasets):\r\n",
    "client = Socrata('www.datos.gov.co', \"mc0EDr4vP5YMKFeiaAEHZUWX0\")\r\n",
    "Precipitacion = 's54a-sgyg'\r\n",
    "Humedad = 'uext-mhny'\r\n",
    "Temperatura = 'sbwg-7ju4'\r\n",
    "Viento = 'sgfv-3yp8'"
   ]
  },
  {
   "cell_type": "markdown",
   "metadata": {},
   "source": [
    "# PRECIPITATION DATA DOWNLOAD"
   ]
  },
  {
   "cell_type": "code",
   "execution_count": 118,
   "metadata": {},
   "outputs": [
    {
     "name": "stdout",
     "output_type": "stream",
     "text": [
      "HTTPSConnectionPool(host='www.datos.gov.co', port=443): Read timed out. (read timeout=10) retrying\n",
      "HTTPSConnectionPool(host='www.datos.gov.co', port=443): Read timed out. (read timeout=10) retrying\n",
      "HTTPSConnectionPool(host='www.datos.gov.co', port=443): Read timed out. (read timeout=10) retrying\n",
      "HTTPSConnectionPool(host='www.datos.gov.co', port=443): Read timed out. (read timeout=10) retrying\n",
      "HTTPSConnectionPool(host='www.datos.gov.co', port=443): Read timed out. (read timeout=10) retrying\n",
      "HTTPSConnectionPool(host='www.datos.gov.co', port=443): Read timed out. (read timeout=10) retrying\n",
      "HTTPSConnectionPool(host='www.datos.gov.co', port=443): Read timed out. (read timeout=10) retrying\n",
      "HTTPSConnectionPool(host='www.datos.gov.co', port=443): Read timed out. (read timeout=10) retrying\n",
      "HTTPSConnectionPool(host='www.datos.gov.co', port=443): Read timed out. (read timeout=10) retrying\n",
      "HTTPSConnectionPool(host='www.datos.gov.co', port=443): Read timed out. (read timeout=10) retrying\n",
      "HTTPSConnectionPool(host='www.datos.gov.co', port=443): Read timed out. (read timeout=10) retrying\n",
      "HTTPSConnectionPool(host='www.datos.gov.co', port=443): Read timed out. (read timeout=10) retrying\n",
      "HTTPSConnectionPool(host='www.datos.gov.co', port=443): Read timed out. (read timeout=10) retrying\n",
      "HTTPSConnectionPool(host='www.datos.gov.co', port=443): Read timed out. (read timeout=10) retrying\n",
      "HTTPSConnectionPool(host='www.datos.gov.co', port=443): Read timed out. (read timeout=10) retrying\n"
     ]
    },
    {
     "data": {
      "text/html": [
       "<div>\n",
       "<style scoped>\n",
       "    .dataframe tbody tr th:only-of-type {\n",
       "        vertical-align: middle;\n",
       "    }\n",
       "\n",
       "    .dataframe tbody tr th {\n",
       "        vertical-align: top;\n",
       "    }\n",
       "\n",
       "    .dataframe thead th {\n",
       "        text-align: right;\n",
       "    }\n",
       "</style>\n",
       "<table border=\"1\" class=\"dataframe\">\n",
       "  <thead>\n",
       "    <tr style=\"text-align: right;\">\n",
       "      <th></th>\n",
       "      <th>CodigoEstacion</th>\n",
       "      <th>CodigoSensor</th>\n",
       "      <th>NombreEstacion</th>\n",
       "      <th>Latitud</th>\n",
       "      <th>Longitud</th>\n",
       "      <th>DescripcionSensor</th>\n",
       "      <th>UnidadMedida</th>\n",
       "    </tr>\n",
       "  </thead>\n",
       "  <tbody>\n",
       "    <tr>\n",
       "      <th>0</th>\n",
       "      <td>0027015330</td>\n",
       "      <td>0240</td>\n",
       "      <td>APTO OLAYA HERRERA - TX GPRS</td>\n",
       "      <td>6.221</td>\n",
       "      <td>-75.589</td>\n",
       "      <td>Precipitacion</td>\n",
       "      <td>mm</td>\n",
       "    </tr>\n",
       "    <tr>\n",
       "      <th>1</th>\n",
       "      <td>0027015290</td>\n",
       "      <td>0240</td>\n",
       "      <td>PAJARITO - AUT</td>\n",
       "      <td>6.286333333</td>\n",
       "      <td>-75.61279167</td>\n",
       "      <td>Precipitacion</td>\n",
       "      <td>mm</td>\n",
       "    </tr>\n",
       "  </tbody>\n",
       "</table>\n",
       "</div>"
      ],
      "text/plain": [
       "  CodigoEstacion CodigoSensor                NombreEstacion      Latitud  \\\n",
       "0     0027015330         0240  APTO OLAYA HERRERA - TX GPRS        6.221   \n",
       "1     0027015290         0240                PAJARITO - AUT  6.286333333   \n",
       "\n",
       "       Longitud DescripcionSensor UnidadMedida  \n",
       "0       -75.589     Precipitacion           mm  \n",
       "1  -75.61279167     Precipitacion           mm  "
      ]
     },
     "execution_count": 118,
     "metadata": {},
     "output_type": "execute_result"
    }
   ],
   "source": [
    "prec_stations = dm.get_stations_from_municipality(client, Precipitacion, params[\"municipality\"].upper())\r\n",
    "prec_stations"
   ]
  },
  {
   "cell_type": "code",
   "execution_count": 123,
   "metadata": {},
   "outputs": [
    {
     "name": "stdout",
     "output_type": "stream",
     "text": [
      "HTTPSConnectionPool(host='www.datos.gov.co', port=443): Read timed out. (read timeout=10) retrying\n",
      "HTTPSConnectionPool(host='www.datos.gov.co', port=443): Read timed out. (read timeout=10) retrying\n"
     ]
    },
    {
     "data": {
      "text/html": [
       "<div>\n",
       "<style scoped>\n",
       "    .dataframe tbody tr th:only-of-type {\n",
       "        vertical-align: middle;\n",
       "    }\n",
       "\n",
       "    .dataframe tbody tr th {\n",
       "        vertical-align: top;\n",
       "    }\n",
       "\n",
       "    .dataframe thead th {\n",
       "        text-align: right;\n",
       "    }\n",
       "</style>\n",
       "<table border=\"1\" class=\"dataframe\">\n",
       "  <thead>\n",
       "    <tr style=\"text-align: right;\">\n",
       "      <th></th>\n",
       "      <th>CodigoEstacion</th>\n",
       "      <th>NombreEstacion</th>\n",
       "      <th>Latitud</th>\n",
       "      <th>Longitud</th>\n",
       "      <th>Altitud</th>\n",
       "      <th>Categoria</th>\n",
       "      <th>Entidad</th>\n",
       "      <th>AreaOperativa</th>\n",
       "      <th>Departamento</th>\n",
       "      <th>Municipio</th>\n",
       "      <th>...</th>\n",
       "      <th>FechaSuspension</th>\n",
       "      <th>IdParametro</th>\n",
       "      <th>Etiqueta</th>\n",
       "      <th>DescripcionSerie</th>\n",
       "      <th>Frecuencia</th>\n",
       "      <th>Fecha</th>\n",
       "      <th>Valor</th>\n",
       "      <th>Grado</th>\n",
       "      <th>Calificador</th>\n",
       "      <th>NivelAprobacion</th>\n",
       "    </tr>\n",
       "  </thead>\n",
       "  <tbody>\n",
       "    <tr>\n",
       "      <th>0</th>\n",
       "      <td>27015330</td>\n",
       "      <td>APTO OLAYA HERRERA - TX GPRS</td>\n",
       "      <td>6.221</td>\n",
       "      <td>-75.589</td>\n",
       "      <td></td>\n",
       "      <td>mm</td>\n",
       "      <td></td>\n",
       "      <td>NECHÍ</td>\n",
       "      <td>ANTIOQUIA</td>\n",
       "      <td>MEDELLÍN</td>\n",
       "      <td>...</td>\n",
       "      <td></td>\n",
       "      <td></td>\n",
       "      <td>Precipitacion</td>\n",
       "      <td></td>\n",
       "      <td></td>\n",
       "      <td>2016-12-31T00:00:00.000</td>\n",
       "      <td>0.0</td>\n",
       "      <td></td>\n",
       "      <td></td>\n",
       "      <td></td>\n",
       "    </tr>\n",
       "    <tr>\n",
       "      <th>1</th>\n",
       "      <td>27015330</td>\n",
       "      <td>APTO OLAYA HERRERA - TX GPRS</td>\n",
       "      <td>6.221</td>\n",
       "      <td>-75.589</td>\n",
       "      <td></td>\n",
       "      <td>mm</td>\n",
       "      <td></td>\n",
       "      <td>NECHÍ</td>\n",
       "      <td>ANTIOQUIA</td>\n",
       "      <td>MEDELLÍN</td>\n",
       "      <td>...</td>\n",
       "      <td></td>\n",
       "      <td></td>\n",
       "      <td>Precipitacion</td>\n",
       "      <td></td>\n",
       "      <td></td>\n",
       "      <td>2017-01-01T00:00:00.000</td>\n",
       "      <td>0.0</td>\n",
       "      <td></td>\n",
       "      <td></td>\n",
       "      <td></td>\n",
       "    </tr>\n",
       "  </tbody>\n",
       "</table>\n",
       "<p>2 rows × 21 columns</p>\n",
       "</div>"
      ],
      "text/plain": [
       "   CodigoEstacion                NombreEstacion Latitud Longitud Altitud  \\\n",
       "0        27015330  APTO OLAYA HERRERA - TX GPRS   6.221  -75.589           \n",
       "1        27015330  APTO OLAYA HERRERA - TX GPRS   6.221  -75.589           \n",
       "\n",
       "  Categoria Entidad AreaOperativa Departamento Municipio  ... FechaSuspension  \\\n",
       "0        mm                 NECHÍ    ANTIOQUIA  MEDELLÍN  ...                   \n",
       "1        mm                 NECHÍ    ANTIOQUIA  MEDELLÍN  ...                   \n",
       "\n",
       "  IdParametro       Etiqueta DescripcionSerie Frecuencia  \\\n",
       "0              Precipitacion                               \n",
       "1              Precipitacion                               \n",
       "\n",
       "                     Fecha Valor  Grado Calificador NivelAprobacion  \n",
       "0  2016-12-31T00:00:00.000   0.0                                     \n",
       "1  2017-01-01T00:00:00.000   0.0                                     \n",
       "\n",
       "[2 rows x 21 columns]"
      ]
     },
     "execution_count": 123,
     "metadata": {},
     "output_type": "execute_result"
    }
   ],
   "source": [
    "codigos_estaciones = prec_stations[\"CodigoEstacion\"].values\r\n",
    "prec_time_series = []\r\n",
    "for codigo in codigos_estaciones:\r\n",
    "    precipitation_base_data = dm.get_time_series_from_station(client, Precipitacion,  params[\"municipality\"].upper(), codigoestacion=codigo, limit = 1000000)\r\n",
    "    precipitation_data = dm.group_variable(precipitation_base_data,'daily')\r\n",
    "    prec_time_series.append(precipitation_data)\r\n",
    "all_prec_series = pd.concat(prec_time_series,axis = 0).reset_index(drop=True)\r\n",
    "all_prec_series = dm.API_to_IDEAM_series(all_prec_series)\r\n",
    "all_prec_series.head(2)"
   ]
  },
  {
   "cell_type": "code",
   "execution_count": 128,
   "metadata": {},
   "outputs": [],
   "source": [
    "all_prec_series.to_csv(dl_folder+\"API_{}_precipitacion.csv\".format(params[\"municipality\"]), index = False)"
   ]
  },
  {
   "cell_type": "markdown",
   "metadata": {},
   "source": [
    "# TEMPERATURE DATA DOWNLOAD"
   ]
  },
  {
   "cell_type": "code",
   "execution_count": 130,
   "metadata": {},
   "outputs": [
    {
     "name": "stdout",
     "output_type": "stream",
     "text": [
      "HTTPSConnectionPool(host='www.datos.gov.co', port=443): Read timed out. (read timeout=10) retrying\n",
      "HTTPSConnectionPool(host='www.datos.gov.co', port=443): Read timed out. (read timeout=10) retrying\n",
      "HTTPSConnectionPool(host='www.datos.gov.co', port=443): Read timed out. (read timeout=10) retrying\n",
      "HTTPSConnectionPool(host='www.datos.gov.co', port=443): Read timed out. (read timeout=10) retrying\n",
      "HTTPSConnectionPool(host='www.datos.gov.co', port=443): Read timed out. (read timeout=10) retrying\n",
      "HTTPSConnectionPool(host='www.datos.gov.co', port=443): Read timed out. (read timeout=10) retrying\n",
      "HTTPSConnectionPool(host='www.datos.gov.co', port=443): Read timed out. (read timeout=10) retrying\n",
      "HTTPSConnectionPool(host='www.datos.gov.co', port=443): Read timed out. (read timeout=10) retrying\n"
     ]
    },
    {
     "data": {
      "text/html": [
       "<div>\n",
       "<style scoped>\n",
       "    .dataframe tbody tr th:only-of-type {\n",
       "        vertical-align: middle;\n",
       "    }\n",
       "\n",
       "    .dataframe tbody tr th {\n",
       "        vertical-align: top;\n",
       "    }\n",
       "\n",
       "    .dataframe thead th {\n",
       "        text-align: right;\n",
       "    }\n",
       "</style>\n",
       "<table border=\"1\" class=\"dataframe\">\n",
       "  <thead>\n",
       "    <tr style=\"text-align: right;\">\n",
       "      <th></th>\n",
       "      <th>CodigoEstacion</th>\n",
       "      <th>CodigoSensor</th>\n",
       "      <th>NombreEstacion</th>\n",
       "      <th>Latitud</th>\n",
       "      <th>Longitud</th>\n",
       "      <th>DescripcionSensor</th>\n",
       "      <th>UnidadMedida</th>\n",
       "    </tr>\n",
       "  </thead>\n",
       "  <tbody>\n",
       "    <tr>\n",
       "      <th>0</th>\n",
       "      <td>0027015330</td>\n",
       "      <td>0068</td>\n",
       "      <td>APTO OLAYA HERRERA - TX GPRS</td>\n",
       "      <td>6.221</td>\n",
       "      <td>-75.589</td>\n",
       "      <td>Temp Aire 2 m</td>\n",
       "      <td>°C</td>\n",
       "    </tr>\n",
       "    <tr>\n",
       "      <th>1</th>\n",
       "      <td>0027015300</td>\n",
       "      <td>0068</td>\n",
       "      <td>VILLANUEVA</td>\n",
       "      <td>6.253</td>\n",
       "      <td>-75.55</td>\n",
       "      <td>Temp Aire 2 m</td>\n",
       "      <td>°C</td>\n",
       "    </tr>\n",
       "    <tr>\n",
       "      <th>2</th>\n",
       "      <td>0027015290</td>\n",
       "      <td>0068</td>\n",
       "      <td>PAJARITO - AUT</td>\n",
       "      <td>6.286333333</td>\n",
       "      <td>-75.61279167</td>\n",
       "      <td>Temp Aire 2 m</td>\n",
       "      <td>°C</td>\n",
       "    </tr>\n",
       "  </tbody>\n",
       "</table>\n",
       "</div>"
      ],
      "text/plain": [
       "  CodigoEstacion CodigoSensor                NombreEstacion      Latitud  \\\n",
       "0     0027015330         0068  APTO OLAYA HERRERA - TX GPRS        6.221   \n",
       "1     0027015300         0068                    VILLANUEVA        6.253   \n",
       "2     0027015290         0068                PAJARITO - AUT  6.286333333   \n",
       "\n",
       "       Longitud DescripcionSensor UnidadMedida  \n",
       "0       -75.589     Temp Aire 2 m           °C  \n",
       "1        -75.55     Temp Aire 2 m           °C  \n",
       "2  -75.61279167     Temp Aire 2 m           °C  "
      ]
     },
     "execution_count": 130,
     "metadata": {},
     "output_type": "execute_result"
    }
   ],
   "source": [
    "temp_stations = dm.get_stations_from_municipality(client, Temperatura, params[\"municipality\"].upper())\r\n",
    "temp_stations"
   ]
  },
  {
   "cell_type": "code",
   "execution_count": 131,
   "metadata": {},
   "outputs": [],
   "source": [
    "codigos_estaciones = temp_stations[\"CodigoEstacion\"].values\r\n",
    "temp_time_series = []\r\n",
    "for codigo in codigos_estaciones:\r\n",
    "    temperature_data = dm.group_variable(dm.get_time_series_from_station(client, Temperatura,  params[\"municipality\"].upper(), codigoestacion=codigo, limit = 1000000), 'hourly')\r\n",
    "    temp_time_series.append(temperature_data)\r\n",
    "all_temp_series = pd.concat(temp_time_series,axis = 0).reset_index(drop=True)\r\n",
    "all_temp_series = dm.API_to_IDEAM_series(all_temp_series)\r\n",
    "all_temp_series.to_csv(dl_folder+\"/API_{}_temperature.csv\".format(params[\"municipality\"]), index = False)"
   ]
  },
  {
   "cell_type": "markdown",
   "metadata": {},
   "source": [
    "# HUMEDAD DATA DOWNLOAD"
   ]
  },
  {
   "cell_type": "code",
   "execution_count": 133,
   "metadata": {},
   "outputs": [
    {
     "name": "stdout",
     "output_type": "stream",
     "text": [
      "HTTPSConnectionPool(host='www.datos.gov.co', port=443): Read timed out. (read timeout=10) retrying\n",
      "HTTPSConnectionPool(host='www.datos.gov.co', port=443): Read timed out. (read timeout=10) retrying\n",
      "HTTPSConnectionPool(host='www.datos.gov.co', port=443): Read timed out. (read timeout=10) retrying\n",
      "HTTPSConnectionPool(host='www.datos.gov.co', port=443): Read timed out. (read timeout=10) retrying\n",
      "HTTPSConnectionPool(host='www.datos.gov.co', port=443): Read timed out. (read timeout=10) retrying\n",
      "HTTPSConnectionPool(host='www.datos.gov.co', port=443): Read timed out. (read timeout=10) retrying\n",
      "HTTPSConnectionPool(host='www.datos.gov.co', port=443): Read timed out. (read timeout=10) retrying\n",
      "HTTPSConnectionPool(host='www.datos.gov.co', port=443): Read timed out. (read timeout=10) retrying\n"
     ]
    },
    {
     "data": {
      "text/html": [
       "<div>\n",
       "<style scoped>\n",
       "    .dataframe tbody tr th:only-of-type {\n",
       "        vertical-align: middle;\n",
       "    }\n",
       "\n",
       "    .dataframe tbody tr th {\n",
       "        vertical-align: top;\n",
       "    }\n",
       "\n",
       "    .dataframe thead th {\n",
       "        text-align: right;\n",
       "    }\n",
       "</style>\n",
       "<table border=\"1\" class=\"dataframe\">\n",
       "  <thead>\n",
       "    <tr style=\"text-align: right;\">\n",
       "      <th></th>\n",
       "      <th>CodigoEstacion</th>\n",
       "      <th>CodigoSensor</th>\n",
       "      <th>NombreEstacion</th>\n",
       "      <th>Latitud</th>\n",
       "      <th>Longitud</th>\n",
       "      <th>DescripcionSensor</th>\n",
       "      <th>UnidadMedida</th>\n",
       "    </tr>\n",
       "  </thead>\n",
       "  <tbody>\n",
       "    <tr>\n",
       "      <th>0</th>\n",
       "      <td>0027015290</td>\n",
       "      <td>0027</td>\n",
       "      <td>PAJARITO - AUT</td>\n",
       "      <td>6.286333333</td>\n",
       "      <td>-75.61279167</td>\n",
       "      <td>Humedad del aire 2 mt</td>\n",
       "      <td>%</td>\n",
       "    </tr>\n",
       "    <tr>\n",
       "      <th>1</th>\n",
       "      <td>0027015300</td>\n",
       "      <td>0027</td>\n",
       "      <td>VILLANUEVA</td>\n",
       "      <td>6.253</td>\n",
       "      <td>-75.55</td>\n",
       "      <td>Humedad del aire 2 mt</td>\n",
       "      <td>%</td>\n",
       "    </tr>\n",
       "    <tr>\n",
       "      <th>2</th>\n",
       "      <td>0027015330</td>\n",
       "      <td>0027</td>\n",
       "      <td>APTO OLAYA HERRERA - TX GPRS</td>\n",
       "      <td>6.221</td>\n",
       "      <td>-75.589</td>\n",
       "      <td>Humedad del aire 2 mt</td>\n",
       "      <td>%</td>\n",
       "    </tr>\n",
       "  </tbody>\n",
       "</table>\n",
       "</div>"
      ],
      "text/plain": [
       "  CodigoEstacion CodigoSensor                NombreEstacion      Latitud  \\\n",
       "0     0027015290         0027                PAJARITO - AUT  6.286333333   \n",
       "1     0027015300         0027                    VILLANUEVA        6.253   \n",
       "2     0027015330         0027  APTO OLAYA HERRERA - TX GPRS        6.221   \n",
       "\n",
       "       Longitud      DescripcionSensor UnidadMedida  \n",
       "0  -75.61279167  Humedad del aire 2 mt            %  \n",
       "1        -75.55  Humedad del aire 2 mt            %  \n",
       "2       -75.589  Humedad del aire 2 mt            %  "
      ]
     },
     "execution_count": 133,
     "metadata": {},
     "output_type": "execute_result"
    }
   ],
   "source": [
    "hum_stations = dm.get_stations_from_municipality(client, Humedad, params[\"municipality\"].upper())\r\n",
    "hum_stations"
   ]
  },
  {
   "cell_type": "code",
   "execution_count": 134,
   "metadata": {},
   "outputs": [],
   "source": [
    "codigos_estaciones = hum_stations[\"CodigoEstacion\"].values\r\n",
    "hum_time_series = []\r\n",
    "for codigo in codigos_estaciones:\r\n",
    "    humedad_data = dm.group_variable(dm.get_time_series_from_station(client, Humedad,  params[\"municipality\"].upper(), codigoestacion=codigo, limit = 1000000))\r\n",
    "    hum_time_series.append(humedad_data)\r\n",
    "hum_time_series = pd.concat(hum_time_series,axis = 0).reset_index(drop=True)\r\n",
    "hum_time_series = dm.API_to_IDEAM_series(hum_time_series)\r\n",
    "hum_time_series.to_csv(dl_folder+\"/API_{}_humidity.csv\".format(params[\"municipality\"]), index = False)"
   ]
  },
  {
   "cell_type": "markdown",
   "metadata": {},
   "source": [
    "# WIND DATA DOWNLOAD"
   ]
  },
  {
   "cell_type": "code",
   "execution_count": 136,
   "metadata": {},
   "outputs": [
    {
     "name": "stdout",
     "output_type": "stream",
     "text": [
      "HTTPSConnectionPool(host='www.datos.gov.co', port=443): Read timed out. (read timeout=10) retrying\n",
      "HTTPSConnectionPool(host='www.datos.gov.co', port=443): Read timed out. (read timeout=10) retrying\n",
      "HTTPSConnectionPool(host='www.datos.gov.co', port=443): Read timed out. (read timeout=10) retrying\n",
      "HTTPSConnectionPool(host='www.datos.gov.co', port=443): Read timed out. (read timeout=10) retrying\n",
      "HTTPSConnectionPool(host='www.datos.gov.co', port=443): Read timed out. (read timeout=10) retrying\n",
      "HTTPSConnectionPool(host='www.datos.gov.co', port=443): Read timed out. (read timeout=10) retrying\n",
      "HTTPSConnectionPool(host='www.datos.gov.co', port=443): Read timed out. (read timeout=10) retrying\n",
      "HTTPSConnectionPool(host='www.datos.gov.co', port=443): Read timed out. (read timeout=10) retrying\n",
      "HTTPSConnectionPool(host='www.datos.gov.co', port=443): Read timed out. (read timeout=10) retrying\n",
      "HTTPSConnectionPool(host='www.datos.gov.co', port=443): Read timed out. (read timeout=10) retrying\n",
      "HTTPSConnectionPool(host='www.datos.gov.co', port=443): Read timed out. (read timeout=10) retrying\n",
      "HTTPSConnectionPool(host='www.datos.gov.co', port=443): Read timed out. (read timeout=10) retrying\n",
      "HTTPSConnectionPool(host='www.datos.gov.co', port=443): Read timed out. (read timeout=10) retrying\n",
      "HTTPSConnectionPool(host='www.datos.gov.co', port=443): Read timed out. (read timeout=10) retrying\n",
      "HTTPSConnectionPool(host='www.datos.gov.co', port=443): Read timed out. (read timeout=10) retrying\n",
      "HTTPSConnectionPool(host='www.datos.gov.co', port=443): Read timed out. (read timeout=10) retrying\n"
     ]
    },
    {
     "data": {
      "text/html": [
       "<div>\n",
       "<style scoped>\n",
       "    .dataframe tbody tr th:only-of-type {\n",
       "        vertical-align: middle;\n",
       "    }\n",
       "\n",
       "    .dataframe tbody tr th {\n",
       "        vertical-align: top;\n",
       "    }\n",
       "\n",
       "    .dataframe thead th {\n",
       "        text-align: right;\n",
       "    }\n",
       "</style>\n",
       "<table border=\"1\" class=\"dataframe\">\n",
       "  <thead>\n",
       "    <tr style=\"text-align: right;\">\n",
       "      <th></th>\n",
       "      <th>CodigoEstacion</th>\n",
       "      <th>CodigoSensor</th>\n",
       "      <th>NombreEstacion</th>\n",
       "      <th>Latitud</th>\n",
       "      <th>Longitud</th>\n",
       "      <th>DescripcionSensor</th>\n",
       "      <th>UnidadMedida</th>\n",
       "    </tr>\n",
       "  </thead>\n",
       "  <tbody>\n",
       "    <tr>\n",
       "      <th>0</th>\n",
       "      <td>0027015290</td>\n",
       "      <td>0103</td>\n",
       "      <td>PAJARITO - AUT</td>\n",
       "      <td>6.286333333</td>\n",
       "      <td>-75.61279167</td>\n",
       "      <td>Velocidad Viento (10 min)</td>\n",
       "      <td>m/s</td>\n",
       "    </tr>\n",
       "    <tr>\n",
       "      <th>1</th>\n",
       "      <td>0027015330</td>\n",
       "      <td>0103</td>\n",
       "      <td>APTO OLAYA HERRERA - TX GPRS</td>\n",
       "      <td>6.221</td>\n",
       "      <td>-75.589</td>\n",
       "      <td>Velocidad Viento (10 min)</td>\n",
       "      <td>m/s</td>\n",
       "    </tr>\n",
       "    <tr>\n",
       "      <th>2</th>\n",
       "      <td>0027015300</td>\n",
       "      <td>0103</td>\n",
       "      <td>VILLANUEVA</td>\n",
       "      <td>6.253</td>\n",
       "      <td>-75.55</td>\n",
       "      <td>Velocidad Viento (10 min)</td>\n",
       "      <td>m/s</td>\n",
       "    </tr>\n",
       "  </tbody>\n",
       "</table>\n",
       "</div>"
      ],
      "text/plain": [
       "  CodigoEstacion CodigoSensor                NombreEstacion      Latitud  \\\n",
       "0     0027015290         0103                PAJARITO - AUT  6.286333333   \n",
       "1     0027015330         0103  APTO OLAYA HERRERA - TX GPRS        6.221   \n",
       "2     0027015300         0103                    VILLANUEVA        6.253   \n",
       "\n",
       "       Longitud          DescripcionSensor UnidadMedida  \n",
       "0  -75.61279167  Velocidad Viento (10 min)          m/s  \n",
       "1       -75.589  Velocidad Viento (10 min)          m/s  \n",
       "2        -75.55  Velocidad Viento (10 min)          m/s  "
      ]
     },
     "execution_count": 136,
     "metadata": {},
     "output_type": "execute_result"
    }
   ],
   "source": [
    "win_stations = dm.get_stations_from_municipality(client, Viento, params[\"municipality\"].upper())\r\n",
    "win_stations"
   ]
  },
  {
   "cell_type": "code",
   "execution_count": 137,
   "metadata": {},
   "outputs": [],
   "source": [
    "codigos_estaciones = win_stations[\"CodigoEstacion\"].values\r\n",
    "win_time_series = []\r\n",
    "for codigo in codigos_estaciones:\r\n",
    "    wind_data = dm.group_variable(dm.get_time_series_from_station(client, Viento,  params[\"municipality\"].upper(), codigoestacion=codigo, limit = 1000000))\r\n",
    "    win_time_series.append(wind_data)\r\n",
    "win_time_series = pd.concat(win_time_series,axis = 0).reset_index(drop=True)\r\n",
    "win_time_series = dm.API_to_IDEAM_series(win_time_series)\r\n",
    "win_time_series.to_csv(dl_folder+\"/zAPI_{}_wind.csv\".format(municipality), index = False)"
   ]
  },
  {
   "cell_type": "code",
   "execution_count": 43,
   "metadata": {},
   "outputs": [],
   "source": []
  },
  {
   "cell_type": "code",
   "execution_count": null,
   "metadata": {},
   "outputs": [],
   "source": []
  },
  {
   "cell_type": "code",
   "execution_count": null,
   "metadata": {},
   "outputs": [],
   "source": []
  },
  {
   "cell_type": "code",
   "execution_count": null,
   "metadata": {},
   "outputs": [],
   "source": []
  },
  {
   "cell_type": "code",
   "execution_count": null,
   "metadata": {},
   "outputs": [],
   "source": []
  },
  {
   "cell_type": "code",
   "execution_count": null,
   "metadata": {},
   "outputs": [],
   "source": []
  },
  {
   "cell_type": "code",
   "execution_count": null,
   "metadata": {},
   "outputs": [],
   "source": []
  },
  {
   "cell_type": "code",
   "execution_count": null,
   "metadata": {},
   "outputs": [],
   "source": [
    "#Downloads from IDEAM with Selenium\r\n",
    "variables = [\"VEL VIENTO\"]\r\n",
    "#variables = [\"RAD SOLAR\"]\r\n",
    "#variables = [\"RAD SOLAR\"]\r\n",
    "date_intervals = [ [[\"01/01/{}\".format(year),\"31/01/{}\".format(year)],\r\n",
    "                    [\"01/02/{}\".format(year),\"29/02/{}\".format(year)],\r\n",
    "                    [\"01/03/{}\".format(year),\"31/03/{}\".format(year)],\r\n",
    "                    [\"01/04/{}\".format(year),\"30/04/{}\".format(year)],\r\n",
    "                    [\"01/05/{}\".format(year),\"31/05/{}\".format(year)],\r\n",
    "                    [\"01/06/{}\".format(year),\"30/06/{}\".format(year)],\r\n",
    "                    [\"01/07/{}\".format(year),\"31/07/{}\".format(year)],\r\n",
    "                    [\"01/08/{}\".format(year),\"31/08/{}\".format(year)],\r\n",
    "                    [\"01/09/{}\".format(year),\"30/09/{}\".format(year)],\r\n",
    "                    [\"01/10/{}\".format(year),\"31/10/{}\".format(year)],\r\n",
    "                    [\"01/11/{}\".format(year),\"30/11/{}\".format(year)],\r\n",
    "                    [\"01/12/{}\".format(year),\"31/12/{}\".format(year)]] \r\n",
    "                  for year in range(2007,2021)]\r\n",
    "date_intervals = [di for di_tup in date_intervals for di in di_tup]"
   ]
  }
 ],
 "metadata": {
  "interpreter": {
   "hash": "aa4995a4b03db85ccb1b16d764bda813f00c5260fd6a71e0b1119db65bdf3431"
  },
  "kernelspec": {
   "display_name": "Python 3.7.9 64-bit ('dl': conda)",
   "name": "python3"
  },
  "language_info": {
   "codemirror_mode": {
    "name": "ipython",
    "version": 3
   },
   "file_extension": ".py",
   "mimetype": "text/x-python",
   "name": "python",
   "nbconvert_exporter": "python",
   "pygments_lexer": "ipython3",
   "version": "3.7.9"
  }
 },
 "nbformat": 4,
 "nbformat_minor": 4
}