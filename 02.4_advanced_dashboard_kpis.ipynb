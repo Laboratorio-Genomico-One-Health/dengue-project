{
 "metadata": {
  "language_info": {
   "codemirror_mode": {
    "name": "ipython",
    "version": 3
   },
   "file_extension": ".py",
   "mimetype": "text/x-python",
   "name": "python",
   "nbconvert_exporter": "python",
   "pygments_lexer": "ipython3",
   "version": 3
  },
  "orig_nbformat": 2,
  "kernelspec": {
   "name": "python_defaultSpec_1595606669304",
   "display_name": "Python 3.8.3 64-bit ('.venv': venv)"
  }
 },
 "nbformat": 4,
 "nbformat_minor": 2,
 "cells": [
  {
   "cell_type": "code",
   "execution_count": 1,
   "metadata": {},
   "outputs": [],
   "source": [
    "import pandas as pd\n",
    "import numpy as np\n",
    "from scipy import stats\n",
    "import math  \n",
    "from datetime import datetime"
   ]
  },
  {
   "cell_type": "markdown",
   "metadata": {},
   "source": [
    "# Carga de archivos"
   ]
  },
  {
   "cell_type": "code",
   "execution_count": 2,
   "metadata": {},
   "outputs": [],
   "source": [
    "df_dep_mun = pd.read_csv('Data\\_DepartamentosMunicipios.csv', encoding='utf-8-sig')\n",
    "\n",
    "df_year = pd.read_csv('Data\\_DengueAnual.csv', encoding='utf-8-sig')\n",
    "df_year = df_year[(df_year['ANO'] != 2006) & (df_year['ANO'] != 2021)]\n",
    "\n",
    "df_semanal = pd.read_csv('Data\\_DengueSemanal.csv', encoding='utf-8-sig')\n",
    "df_semanal = df_semanal[(df_semanal['ANO'] != 2006) & (df_semanal['ANO'] != 2021)]"
   ]
  },
  {
   "cell_type": "markdown",
   "metadata": {},
   "source": [
    "## Organización de los DF"
   ]
  },
  {
   "cell_type": "code",
   "execution_count": 3,
   "metadata": {},
   "outputs": [
    {
     "output_type": "execute_result",
     "data": {
      "text/plain": "        ANO  COD_MUNICIPIO  COD_DPTO  DENGUE  DENGUE GRAVE  \\\n1091   2007           5000         5      49            11   \n1092   2007           5001         5       4             1   \n1093   2007           5002         5       0             0   \n1094   2007           5004         5       0             0   \n1095   2007           5021         5       0             0   \n...     ...            ...       ...     ...           ...   \n16360  2020          99000        99       0             0   \n16361  2020          99001        99       1             0   \n16362  2020          99524        99       2             0   \n16363  2020          99624        99       0             0   \n16364  2020          99773        99      10             0   \n\n       MORTALIDAD POR DENGUE  POBLACION DEPARTAMENTO  \\\n1091                       0        NaN    ANTIOQUIA   \n1092                       0  2265244.0    ANTIOQUIA   \n1093                       0    20022.0    ANTIOQUIA   \n1094                       0     2570.0    ANTIOQUIA   \n1095                       0     3747.0    ANTIOQUIA   \n...                      ...        ...          ...   \n16360                      0        NaN      VICHADA   \n16361                      0    17031.0      VICHADA   \n16362                      0    18248.0      VICHADA   \n16363                      0     4310.0      VICHADA   \n16364                      0    41459.0      VICHADA   \n\n                                MUNICIPIO  \n1091   * ANTIOQUIA. MUNICIPIO DESCONOCIDO  \n1092                             MEDELLIN  \n1093                            ABEJORRAL  \n1094                             ABRIAQUI  \n1095                           ALEJANDRIA  \n...                                   ...  \n16360    * VICHADA. MUNICIPIO DESCONOCIDO  \n16361                      PUERTO CARREÑO  \n16362                        LA PRIMAVERA  \n16363                       SANTA ROSALIA  \n16364                            CUMARIBO  \n\n[15274 rows x 9 columns]",
      "text/html": "<div>\n<style scoped>\n    .dataframe tbody tr th:only-of-type {\n        vertical-align: middle;\n    }\n\n    .dataframe tbody tr th {\n        vertical-align: top;\n    }\n\n    .dataframe thead th {\n        text-align: right;\n    }\n</style>\n<table border=\"1\" class=\"dataframe\">\n  <thead>\n    <tr style=\"text-align: right;\">\n      <th></th>\n      <th>ANO</th>\n      <th>COD_MUNICIPIO</th>\n      <th>COD_DPTO</th>\n      <th>DENGUE</th>\n      <th>DENGUE GRAVE</th>\n      <th>MORTALIDAD POR DENGUE</th>\n      <th>POBLACION</th>\n      <th>DEPARTAMENTO</th>\n      <th>MUNICIPIO</th>\n    </tr>\n  </thead>\n  <tbody>\n    <tr>\n      <th>1091</th>\n      <td>2007</td>\n      <td>5000</td>\n      <td>5</td>\n      <td>49</td>\n      <td>11</td>\n      <td>0</td>\n      <td>NaN</td>\n      <td>ANTIOQUIA</td>\n      <td>* ANTIOQUIA. MUNICIPIO DESCONOCIDO</td>\n    </tr>\n    <tr>\n      <th>1092</th>\n      <td>2007</td>\n      <td>5001</td>\n      <td>5</td>\n      <td>4</td>\n      <td>1</td>\n      <td>0</td>\n      <td>2265244.0</td>\n      <td>ANTIOQUIA</td>\n      <td>MEDELLIN</td>\n    </tr>\n    <tr>\n      <th>1093</th>\n      <td>2007</td>\n      <td>5002</td>\n      <td>5</td>\n      <td>0</td>\n      <td>0</td>\n      <td>0</td>\n      <td>20022.0</td>\n      <td>ANTIOQUIA</td>\n      <td>ABEJORRAL</td>\n    </tr>\n    <tr>\n      <th>1094</th>\n      <td>2007</td>\n      <td>5004</td>\n      <td>5</td>\n      <td>0</td>\n      <td>0</td>\n      <td>0</td>\n      <td>2570.0</td>\n      <td>ANTIOQUIA</td>\n      <td>ABRIAQUI</td>\n    </tr>\n    <tr>\n      <th>1095</th>\n      <td>2007</td>\n      <td>5021</td>\n      <td>5</td>\n      <td>0</td>\n      <td>0</td>\n      <td>0</td>\n      <td>3747.0</td>\n      <td>ANTIOQUIA</td>\n      <td>ALEJANDRIA</td>\n    </tr>\n    <tr>\n      <th>...</th>\n      <td>...</td>\n      <td>...</td>\n      <td>...</td>\n      <td>...</td>\n      <td>...</td>\n      <td>...</td>\n      <td>...</td>\n      <td>...</td>\n      <td>...</td>\n    </tr>\n    <tr>\n      <th>16360</th>\n      <td>2020</td>\n      <td>99000</td>\n      <td>99</td>\n      <td>0</td>\n      <td>0</td>\n      <td>0</td>\n      <td>NaN</td>\n      <td>VICHADA</td>\n      <td>* VICHADA. MUNICIPIO DESCONOCIDO</td>\n    </tr>\n    <tr>\n      <th>16361</th>\n      <td>2020</td>\n      <td>99001</td>\n      <td>99</td>\n      <td>1</td>\n      <td>0</td>\n      <td>0</td>\n      <td>17031.0</td>\n      <td>VICHADA</td>\n      <td>PUERTO CARREÑO</td>\n    </tr>\n    <tr>\n      <th>16362</th>\n      <td>2020</td>\n      <td>99524</td>\n      <td>99</td>\n      <td>2</td>\n      <td>0</td>\n      <td>0</td>\n      <td>18248.0</td>\n      <td>VICHADA</td>\n      <td>LA PRIMAVERA</td>\n    </tr>\n    <tr>\n      <th>16363</th>\n      <td>2020</td>\n      <td>99624</td>\n      <td>99</td>\n      <td>0</td>\n      <td>0</td>\n      <td>0</td>\n      <td>4310.0</td>\n      <td>VICHADA</td>\n      <td>SANTA ROSALIA</td>\n    </tr>\n    <tr>\n      <th>16364</th>\n      <td>2020</td>\n      <td>99773</td>\n      <td>99</td>\n      <td>10</td>\n      <td>0</td>\n      <td>0</td>\n      <td>41459.0</td>\n      <td>VICHADA</td>\n      <td>CUMARIBO</td>\n    </tr>\n  </tbody>\n</table>\n<p>15274 rows × 9 columns</p>\n</div>"
     },
     "metadata": {},
     "execution_count": 3
    }
   ],
   "source": [
    "df_year['ANO'] = df_year['ANO'].astype(int)\n",
    "df_year['COD_DPTO'] = df_year['COD_DPTO'].astype(int)\n",
    "df_year['COD_MUNICIPIO'] = df_year['COD_MUNICIPIO'].astype(int)\n",
    "\n",
    "df_dep_mun['COD_DPTO'] = df_dep_mun['COD_DPTO'].astype(int)\n",
    "df_dep_mun['COD_MUNICIPIO'] = df_dep_mun['COD_MUNICIPIO'].astype(int)\n",
    "\n",
    "df_year = df_year.join(df_dep_mun[['DEPARTAMENTO', 'MUNICIPIO', 'COD_MUNICIPIO']].set_index('COD_MUNICIPIO'), on='COD_MUNICIPIO', rsuffix='_')\n",
    "df_year = df_year[~df_year['DEPARTAMENTO'].isin(['EXTERIOR', 'PROCEDENCIA DESCONOCIDA'])]\n",
    "df_year = df_year[~df_year['MUNICIPIO'].isin(['MUNICIPIO DESCONOCIDO'])]\n",
    "df_year"
   ]
  },
  {
   "cell_type": "code",
   "execution_count": 4,
   "metadata": {},
   "outputs": [],
   "source": [
    "df_year.set_index(['ANO', 'COD_MUNICIPIO'], inplace=True)"
   ]
  },
  {
   "cell_type": "code",
   "execution_count": 5,
   "metadata": {},
   "outputs": [],
   "source": [
    "df_semanal.set_index(['ANO', 'COD_MUNICIPIO'], inplace=True)\n",
    "df_semanal = df_semanal.join(df_year[['POBLACION', 'DEPARTAMENTO', 'MUNICIPIO']], on=None, rsuffix='_')\n",
    "df_year.reset_index(inplace = True)\n",
    "df_semanal.reset_index(inplace = True)"
   ]
  },
  {
   "cell_type": "markdown",
   "metadata": {},
   "source": [
    "## Cálculo de los indicadores anuales por municipio"
   ]
  },
  {
   "cell_type": "code",
   "execution_count": 6,
   "metadata": {},
   "outputs": [
    {
     "output_type": "execute_result",
     "data": {
      "text/plain": "        ANO  COD_MUNICIPIO  COD_DPTO  DENGUE  DENGUE GRAVE  \\\n1      2007           5001         5       4             1   \n2      2007           5002         5       0             0   \n3      2007           5004         5       0             0   \n4      2007           5021         5       0             0   \n5      2007           5030         5       0             0   \n...     ...            ...       ...     ...           ...   \n15268  2020          97889        97       0             0   \n15270  2020          99001        99       1             0   \n15271  2020          99524        99       2             0   \n15272  2020          99624        99       0             0   \n15273  2020          99773        99      10             0   \n\n       MORTALIDAD POR DENGUE  POBLACION DEPARTAMENTO       MUNICIPIO  \\\n1                          0  2265244.0    ANTIOQUIA        MEDELLIN   \n2                          0    20022.0    ANTIOQUIA       ABEJORRAL   \n3                          0     2570.0    ANTIOQUIA        ABRIAQUI   \n4                          0     3747.0    ANTIOQUIA      ALEJANDRIA   \n5                          0    27709.0    ANTIOQUIA           AMAGA   \n...                      ...        ...          ...             ...   \n15268                      0     1218.0       VAUPES   YAVARATE (CD)   \n15270                      0    17031.0      VICHADA  PUERTO CARREÑO   \n15271                      0    18248.0      VICHADA    LA PRIMAVERA   \n15272                      0     4310.0      VICHADA   SANTA ROSALIA   \n15273                      0    41459.0      VICHADA        CUMARIBO   \n\n       INCIDENCIA DENGUE  INCIDENCIA DENGUE GRAVE  LETALIDAD  \n1               0.176581                 0.044145        0.0  \n2               0.000000                 0.000000        NaN  \n3               0.000000                 0.000000        NaN  \n4               0.000000                 0.000000        NaN  \n5               0.000000                 0.000000        NaN  \n...                  ...                      ...        ...  \n15268           0.000000                 0.000000        NaN  \n15270           5.871646                 0.000000        NaN  \n15271          10.960105                 0.000000        NaN  \n15272           0.000000                 0.000000        NaN  \n15273          24.120215                 0.000000        NaN  \n\n[14812 rows x 12 columns]",
      "text/html": "<div>\n<style scoped>\n    .dataframe tbody tr th:only-of-type {\n        vertical-align: middle;\n    }\n\n    .dataframe tbody tr th {\n        vertical-align: top;\n    }\n\n    .dataframe thead th {\n        text-align: right;\n    }\n</style>\n<table border=\"1\" class=\"dataframe\">\n  <thead>\n    <tr style=\"text-align: right;\">\n      <th></th>\n      <th>ANO</th>\n      <th>COD_MUNICIPIO</th>\n      <th>COD_DPTO</th>\n      <th>DENGUE</th>\n      <th>DENGUE GRAVE</th>\n      <th>MORTALIDAD POR DENGUE</th>\n      <th>POBLACION</th>\n      <th>DEPARTAMENTO</th>\n      <th>MUNICIPIO</th>\n      <th>INCIDENCIA DENGUE</th>\n      <th>INCIDENCIA DENGUE GRAVE</th>\n      <th>LETALIDAD</th>\n    </tr>\n  </thead>\n  <tbody>\n    <tr>\n      <th>1</th>\n      <td>2007</td>\n      <td>5001</td>\n      <td>5</td>\n      <td>4</td>\n      <td>1</td>\n      <td>0</td>\n      <td>2265244.0</td>\n      <td>ANTIOQUIA</td>\n      <td>MEDELLIN</td>\n      <td>0.176581</td>\n      <td>0.044145</td>\n      <td>0.0</td>\n    </tr>\n    <tr>\n      <th>2</th>\n      <td>2007</td>\n      <td>5002</td>\n      <td>5</td>\n      <td>0</td>\n      <td>0</td>\n      <td>0</td>\n      <td>20022.0</td>\n      <td>ANTIOQUIA</td>\n      <td>ABEJORRAL</td>\n      <td>0.000000</td>\n      <td>0.000000</td>\n      <td>NaN</td>\n    </tr>\n    <tr>\n      <th>3</th>\n      <td>2007</td>\n      <td>5004</td>\n      <td>5</td>\n      <td>0</td>\n      <td>0</td>\n      <td>0</td>\n      <td>2570.0</td>\n      <td>ANTIOQUIA</td>\n      <td>ABRIAQUI</td>\n      <td>0.000000</td>\n      <td>0.000000</td>\n      <td>NaN</td>\n    </tr>\n    <tr>\n      <th>4</th>\n      <td>2007</td>\n      <td>5021</td>\n      <td>5</td>\n      <td>0</td>\n      <td>0</td>\n      <td>0</td>\n      <td>3747.0</td>\n      <td>ANTIOQUIA</td>\n      <td>ALEJANDRIA</td>\n      <td>0.000000</td>\n      <td>0.000000</td>\n      <td>NaN</td>\n    </tr>\n    <tr>\n      <th>5</th>\n      <td>2007</td>\n      <td>5030</td>\n      <td>5</td>\n      <td>0</td>\n      <td>0</td>\n      <td>0</td>\n      <td>27709.0</td>\n      <td>ANTIOQUIA</td>\n      <td>AMAGA</td>\n      <td>0.000000</td>\n      <td>0.000000</td>\n      <td>NaN</td>\n    </tr>\n    <tr>\n      <th>...</th>\n      <td>...</td>\n      <td>...</td>\n      <td>...</td>\n      <td>...</td>\n      <td>...</td>\n      <td>...</td>\n      <td>...</td>\n      <td>...</td>\n      <td>...</td>\n      <td>...</td>\n      <td>...</td>\n      <td>...</td>\n    </tr>\n    <tr>\n      <th>15268</th>\n      <td>2020</td>\n      <td>97889</td>\n      <td>97</td>\n      <td>0</td>\n      <td>0</td>\n      <td>0</td>\n      <td>1218.0</td>\n      <td>VAUPES</td>\n      <td>YAVARATE (CD)</td>\n      <td>0.000000</td>\n      <td>0.000000</td>\n      <td>NaN</td>\n    </tr>\n    <tr>\n      <th>15270</th>\n      <td>2020</td>\n      <td>99001</td>\n      <td>99</td>\n      <td>1</td>\n      <td>0</td>\n      <td>0</td>\n      <td>17031.0</td>\n      <td>VICHADA</td>\n      <td>PUERTO CARREÑO</td>\n      <td>5.871646</td>\n      <td>0.000000</td>\n      <td>NaN</td>\n    </tr>\n    <tr>\n      <th>15271</th>\n      <td>2020</td>\n      <td>99524</td>\n      <td>99</td>\n      <td>2</td>\n      <td>0</td>\n      <td>0</td>\n      <td>18248.0</td>\n      <td>VICHADA</td>\n      <td>LA PRIMAVERA</td>\n      <td>10.960105</td>\n      <td>0.000000</td>\n      <td>NaN</td>\n    </tr>\n    <tr>\n      <th>15272</th>\n      <td>2020</td>\n      <td>99624</td>\n      <td>99</td>\n      <td>0</td>\n      <td>0</td>\n      <td>0</td>\n      <td>4310.0</td>\n      <td>VICHADA</td>\n      <td>SANTA ROSALIA</td>\n      <td>0.000000</td>\n      <td>0.000000</td>\n      <td>NaN</td>\n    </tr>\n    <tr>\n      <th>15273</th>\n      <td>2020</td>\n      <td>99773</td>\n      <td>99</td>\n      <td>10</td>\n      <td>0</td>\n      <td>0</td>\n      <td>41459.0</td>\n      <td>VICHADA</td>\n      <td>CUMARIBO</td>\n      <td>24.120215</td>\n      <td>0.000000</td>\n      <td>NaN</td>\n    </tr>\n  </tbody>\n</table>\n<p>14812 rows × 12 columns</p>\n</div>"
     },
     "metadata": {},
     "execution_count": 6
    }
   ],
   "source": [
    "df_year = df_year[~df_year['POBLACION'].isna()]\n",
    "df_year['INCIDENCIA DENGUE'] = df_year['DENGUE'] * 100000 / df_year['POBLACION']\n",
    "df_year['INCIDENCIA DENGUE GRAVE'] = df_year['DENGUE GRAVE'] * 100000 / df_year['POBLACION']\n",
    "df_year['LETALIDAD'] = df_year['MORTALIDAD POR DENGUE'] * 100 / df_year['DENGUE GRAVE']\n",
    "df_year"
   ]
  },
  {
   "cell_type": "markdown",
   "metadata": {},
   "source": [
    "## Cálculo de los indicadores semanales por municipio"
   ]
  },
  {
   "cell_type": "code",
   "execution_count": 7,
   "metadata": {},
   "outputs": [
    {
     "output_type": "execute_result",
     "data": {
      "text/plain": "         ANO  COD_MUNICIPIO       FECHA  SEMANA  COD_DPTO  DENGUE  \\\n0       2007           5001  2006-12-31       1         5       1   \n1       2007           5001  2007-01-07       2         5       0   \n2       2007           5001  2007-01-14       3         5       0   \n3       2007           5001  2007-01-21       4         5       0   \n4       2007           5001  2007-01-28       5         5       0   \n...      ...            ...         ...     ...       ...     ...   \n773393  2020          99773  2020-11-29      49        99       0   \n773394  2020          99773  2020-12-06      50        99       0   \n773395  2020          99773  2020-12-13      51        99       0   \n773396  2020          99773  2020-12-20      52        99       0   \n773397  2020          99773  2020-12-27      53        99       0   \n\n        DENGUE GRAVE  MORTALIDAD POR DENGUE  POBLACION DEPARTAMENTO MUNICIPIO  \\\n0                  0                      0  2265244.0    ANTIOQUIA  MEDELLIN   \n1                  0                      0  2265244.0    ANTIOQUIA  MEDELLIN   \n2                  0                      0  2265244.0    ANTIOQUIA  MEDELLIN   \n3                  0                      0  2265244.0    ANTIOQUIA  MEDELLIN   \n4                  0                      0  2265244.0    ANTIOQUIA  MEDELLIN   \n...              ...                    ...        ...          ...       ...   \n773393             0                      0    41459.0      VICHADA  CUMARIBO   \n773394             0                      0    41459.0      VICHADA  CUMARIBO   \n773395             0                      0    41459.0      VICHADA  CUMARIBO   \n773396             0                      0    41459.0      VICHADA  CUMARIBO   \n773397             0                      0    41459.0      VICHADA  CUMARIBO   \n\n        INCIDENCIA DENGUE  INCIDENCIA DENGUE GRAVE  LETALIDAD  \n0                0.044145                      0.0        NaN  \n1                0.000000                      0.0        NaN  \n2                0.000000                      0.0        NaN  \n3                0.000000                      0.0        NaN  \n4                0.000000                      0.0        NaN  \n...                   ...                      ...        ...  \n773393           0.000000                      0.0        NaN  \n773394           0.000000                      0.0        NaN  \n773395           0.000000                      0.0        NaN  \n773396           0.000000                      0.0        NaN  \n773397           0.000000                      0.0        NaN  \n\n[773398 rows x 14 columns]",
      "text/html": "<div>\n<style scoped>\n    .dataframe tbody tr th:only-of-type {\n        vertical-align: middle;\n    }\n\n    .dataframe tbody tr th {\n        vertical-align: top;\n    }\n\n    .dataframe thead th {\n        text-align: right;\n    }\n</style>\n<table border=\"1\" class=\"dataframe\">\n  <thead>\n    <tr style=\"text-align: right;\">\n      <th></th>\n      <th>ANO</th>\n      <th>COD_MUNICIPIO</th>\n      <th>FECHA</th>\n      <th>SEMANA</th>\n      <th>COD_DPTO</th>\n      <th>DENGUE</th>\n      <th>DENGUE GRAVE</th>\n      <th>MORTALIDAD POR DENGUE</th>\n      <th>POBLACION</th>\n      <th>DEPARTAMENTO</th>\n      <th>MUNICIPIO</th>\n      <th>INCIDENCIA DENGUE</th>\n      <th>INCIDENCIA DENGUE GRAVE</th>\n      <th>LETALIDAD</th>\n    </tr>\n  </thead>\n  <tbody>\n    <tr>\n      <th>0</th>\n      <td>2007</td>\n      <td>5001</td>\n      <td>2006-12-31</td>\n      <td>1</td>\n      <td>5</td>\n      <td>1</td>\n      <td>0</td>\n      <td>0</td>\n      <td>2265244.0</td>\n      <td>ANTIOQUIA</td>\n      <td>MEDELLIN</td>\n      <td>0.044145</td>\n      <td>0.0</td>\n      <td>NaN</td>\n    </tr>\n    <tr>\n      <th>1</th>\n      <td>2007</td>\n      <td>5001</td>\n      <td>2007-01-07</td>\n      <td>2</td>\n      <td>5</td>\n      <td>0</td>\n      <td>0</td>\n      <td>0</td>\n      <td>2265244.0</td>\n      <td>ANTIOQUIA</td>\n      <td>MEDELLIN</td>\n      <td>0.000000</td>\n      <td>0.0</td>\n      <td>NaN</td>\n    </tr>\n    <tr>\n      <th>2</th>\n      <td>2007</td>\n      <td>5001</td>\n      <td>2007-01-14</td>\n      <td>3</td>\n      <td>5</td>\n      <td>0</td>\n      <td>0</td>\n      <td>0</td>\n      <td>2265244.0</td>\n      <td>ANTIOQUIA</td>\n      <td>MEDELLIN</td>\n      <td>0.000000</td>\n      <td>0.0</td>\n      <td>NaN</td>\n    </tr>\n    <tr>\n      <th>3</th>\n      <td>2007</td>\n      <td>5001</td>\n      <td>2007-01-21</td>\n      <td>4</td>\n      <td>5</td>\n      <td>0</td>\n      <td>0</td>\n      <td>0</td>\n      <td>2265244.0</td>\n      <td>ANTIOQUIA</td>\n      <td>MEDELLIN</td>\n      <td>0.000000</td>\n      <td>0.0</td>\n      <td>NaN</td>\n    </tr>\n    <tr>\n      <th>4</th>\n      <td>2007</td>\n      <td>5001</td>\n      <td>2007-01-28</td>\n      <td>5</td>\n      <td>5</td>\n      <td>0</td>\n      <td>0</td>\n      <td>0</td>\n      <td>2265244.0</td>\n      <td>ANTIOQUIA</td>\n      <td>MEDELLIN</td>\n      <td>0.000000</td>\n      <td>0.0</td>\n      <td>NaN</td>\n    </tr>\n    <tr>\n      <th>...</th>\n      <td>...</td>\n      <td>...</td>\n      <td>...</td>\n      <td>...</td>\n      <td>...</td>\n      <td>...</td>\n      <td>...</td>\n      <td>...</td>\n      <td>...</td>\n      <td>...</td>\n      <td>...</td>\n      <td>...</td>\n      <td>...</td>\n      <td>...</td>\n    </tr>\n    <tr>\n      <th>773393</th>\n      <td>2020</td>\n      <td>99773</td>\n      <td>2020-11-29</td>\n      <td>49</td>\n      <td>99</td>\n      <td>0</td>\n      <td>0</td>\n      <td>0</td>\n      <td>41459.0</td>\n      <td>VICHADA</td>\n      <td>CUMARIBO</td>\n      <td>0.000000</td>\n      <td>0.0</td>\n      <td>NaN</td>\n    </tr>\n    <tr>\n      <th>773394</th>\n      <td>2020</td>\n      <td>99773</td>\n      <td>2020-12-06</td>\n      <td>50</td>\n      <td>99</td>\n      <td>0</td>\n      <td>0</td>\n      <td>0</td>\n      <td>41459.0</td>\n      <td>VICHADA</td>\n      <td>CUMARIBO</td>\n      <td>0.000000</td>\n      <td>0.0</td>\n      <td>NaN</td>\n    </tr>\n    <tr>\n      <th>773395</th>\n      <td>2020</td>\n      <td>99773</td>\n      <td>2020-12-13</td>\n      <td>51</td>\n      <td>99</td>\n      <td>0</td>\n      <td>0</td>\n      <td>0</td>\n      <td>41459.0</td>\n      <td>VICHADA</td>\n      <td>CUMARIBO</td>\n      <td>0.000000</td>\n      <td>0.0</td>\n      <td>NaN</td>\n    </tr>\n    <tr>\n      <th>773396</th>\n      <td>2020</td>\n      <td>99773</td>\n      <td>2020-12-20</td>\n      <td>52</td>\n      <td>99</td>\n      <td>0</td>\n      <td>0</td>\n      <td>0</td>\n      <td>41459.0</td>\n      <td>VICHADA</td>\n      <td>CUMARIBO</td>\n      <td>0.000000</td>\n      <td>0.0</td>\n      <td>NaN</td>\n    </tr>\n    <tr>\n      <th>773397</th>\n      <td>2020</td>\n      <td>99773</td>\n      <td>2020-12-27</td>\n      <td>53</td>\n      <td>99</td>\n      <td>0</td>\n      <td>0</td>\n      <td>0</td>\n      <td>41459.0</td>\n      <td>VICHADA</td>\n      <td>CUMARIBO</td>\n      <td>0.000000</td>\n      <td>0.0</td>\n      <td>NaN</td>\n    </tr>\n  </tbody>\n</table>\n<p>773398 rows × 14 columns</p>\n</div>"
     },
     "metadata": {},
     "execution_count": 7
    }
   ],
   "source": [
    "df_semanal = df_semanal[~df_semanal['POBLACION'].isna()]\n",
    "df_semanal['INCIDENCIA DENGUE'] = df_semanal['DENGUE'] * 100000 / df_semanal['POBLACION']\n",
    "df_semanal['INCIDENCIA DENGUE GRAVE'] = df_semanal['DENGUE GRAVE'] * 100000 / df_semanal['POBLACION']\n",
    "df_semanal['LETALIDAD'] = df_semanal['MORTALIDAD POR DENGUE'] * 100 / df_semanal['DENGUE GRAVE']\n",
    "df_semanal.reset_index(inplace = True, drop=True)\n",
    "df_semanal"
   ]
  },
  {
   "cell_type": "markdown",
   "metadata": {},
   "source": [
    "# Construcción de las gráficas semanales por municipio"
   ]
  },
  {
   "cell_type": "code",
   "execution_count": 8,
   "metadata": {
    "tags": []
   },
   "outputs": [
    {
     "output_type": "stream",
     "name": "stdout",
     "text": "Iteration:  0 Time:  10:31:37\nIteration:  10000 Time:  10:50:26\nIteration:  20000 Time:  11:10:05\nIteration:  30000 Time:  11:27:15\nIteration:  40000 Time:  11:42:37\nIteration:  50000 Time:  11:59:19\nIteration:  60000 Time:  12:16:49\nIteration:  70000 Time:  12:34:32\nIteration:  80000 Time:  12:52:30\nIteration:  90000 Time:  13:10:06\nIteration:  100000 Time:  13:25:36\nIteration:  110000 Time:  13:40:49\nIteration:  120000 Time:  13:55:55\nIteration:  130000 Time:  14:11:11\nIteration:  140000 Time:  14:30:14\nIteration:  150000 Time:  14:49:04\nIteration:  160000 Time:  15:08:18\nIteration:  170000 Time:  15:27:30\nIteration:  180000 Time:  15:47:22\nIteration:  190000 Time:  16:10:59\nIteration:  200000 Time:  16:31:08\nIteration:  210000 Time:  16:48:49\nIteration:  220000 Time:  17:08:34\nIteration:  230000 Time:  17:27:45\nIteration:  240000 Time:  17:47:21\nIteration:  250000 Time:  18:06:25\nIteration:  260000 Time:  18:24:59\nIteration:  270000 Time:  18:42:11\nIteration:  280000 Time:  18:59:19\nIteration:  290000 Time:  19:18:38\nIteration:  300000 Time:  19:39:11\nIteration:  310000 Time:  19:59:12\nIteration:  320000 Time:  20:18:35\nIteration:  330000 Time:  20:37:10\nIteration:  340000 Time:  20:52:28\nIteration:  350000 Time:  21:10:08\nIteration:  360000 Time:  21:30:38\nIteration:  370000 Time:  21:51:26\nIteration:  380000 Time:  22:11:17\nIteration:  390000 Time:  22:36:04\nIteration:  400000 Time:  23:02:07\nIteration:  410000 Time:  23:28:06\nIteration:  420000 Time:  23:54:02\nIteration:  430000 Time:  00:16:23\nIteration:  440000 Time:  00:31:57\nIteration:  450000 Time:  00:47:09\nIteration:  460000 Time:  01:02:20\nIteration:  470000 Time:  01:17:32\nIteration:  480000 Time:  01:32:53\nIteration:  490000 Time:  01:48:03\nIteration:  500000 Time:  02:03:13\nIteration:  510000 Time:  02:18:25\nIteration:  520000 Time:  02:33:36\nIteration:  530000 Time:  02:48:46\nIteration:  540000 Time:  03:03:57\nIteration:  550000 Time:  03:19:12\nIteration:  560000 Time:  03:34:22\nIteration:  570000 Time:  03:49:31\nIteration:  580000 Time:  04:04:41\nIteration:  590000 Time:  04:19:50\nIteration:  600000 Time:  04:35:00\nIteration:  610000 Time:  04:50:10\nIteration:  620000 Time:  05:05:21\nIteration:  630000 Time:  05:20:31\nIteration:  640000 Time:  05:35:42\nIteration:  650000 Time:  05:50:52\nIteration:  660000 Time:  06:06:02\nIteration:  670000 Time:  06:21:11\nIteration:  680000 Time:  06:36:21\nIteration:  690000 Time:  06:51:31\nIteration:  700000 Time:  07:06:42\nIteration:  710000 Time:  07:21:52\nIteration:  720000 Time:  07:37:01\nIteration:  730000 Time:  07:52:11\nIteration:  740000 Time:  08:07:25\nIteration:  750000 Time:  08:23:07\nIteration:  760000 Time:  08:42:00\nIteration:  770000 Time:  09:00:58\nWall time: 22h 35min 37s\n"
    }
   ],
   "source": [
    "%%time\n",
    "df_semanal['P25'] = np.nan\n",
    "df_semanal['MED'] = np.nan\n",
    "df_semanal['P75'] = np.nan\n",
    "\n",
    "df_semanal['lower_limit'] = np.nan\n",
    "df_semanal['upper_limit'] = np.nan\n",
    "df_semanal['observed_reason'] = np.nan\n",
    "df_semanal['expected_reason'] = 1\n",
    "\n",
    "df_semanal['lower_limit_IC95'] = np.nan\n",
    "df_semanal['upper_limit_IC95'] = np.nan\n",
    "df_semanal['threshold_IC95'] = np.nan\n",
    "\n",
    "for i in range(len(df_semanal)):\n",
    "\n",
    "    df_temp_past = df_semanal[(df_semanal['COD_MUNICIPIO'] == df_semanal.iloc[i]['COD_MUNICIPIO']) & \n",
    "            (df_semanal['ANO'] < df_semanal.iloc[i]['ANO']) &\n",
    "            (df_semanal['SEMANA'] == df_semanal.iloc[i]['SEMANA'])]['DENGUE']\n",
    "\n",
    "    df_semanal.iloc[i, df_semanal.columns.get_loc('P25')] = df_temp_past.quantile(0.25)\n",
    "    df_semanal.iloc[i, df_semanal.columns.get_loc('MED')] = df_temp_past.median()\n",
    "    df_semanal.iloc[i, df_semanal.columns.get_loc('P75')] = df_temp_past.quantile(0.75)\n",
    "\n",
    "\n",
    "\n",
    "    if df_semanal.iloc[i]['SEMANA'] == 1:\n",
    "        df_temp = df_semanal[\n",
    "            (df_semanal['COD_MUNICIPIO'] == df_semanal.iloc[i]['COD_MUNICIPIO']) & \n",
    "            (df_semanal['ANO'] < df_semanal.iloc[i]['ANO']) & \n",
    "            ((df_semanal['SEMANA'] == df_semanal.iloc[i]['SEMANA']) | \n",
    "            (df_semanal['SEMANA'] == df_semanal.iloc[i]['SEMANA'] + 1)) |\n",
    "            ((df_semanal['COD_MUNICIPIO'] == df_semanal.iloc[i]['COD_MUNICIPIO']) & \n",
    "            (df_semanal['ANO'] < df_semanal.iloc[i]['ANO'] - 1) & \n",
    "            (df_semanal['SEMANA'] == 12))\n",
    "        ]\n",
    "    elif df_semanal.iloc[i]['SEMANA'] == 12:\n",
    "        df_temp = df_semanal[\n",
    "            (df_semanal['COD_MUNICIPIO'] == df_semanal.iloc[i]['COD_MUNICIPIO']) & \n",
    "            (df_semanal['ANO'] < df_semanal.iloc[i]['ANO']) & \n",
    "            ((df_semanal['SEMANA'] == df_semanal.iloc[i]['SEMANA']) | \n",
    "            (df_semanal['SEMANA'] == df_semanal.iloc[i]['SEMANA'] - 1)) |\n",
    "            ((df_semanal['COD_MUNICIPIO'] == df_semanal.iloc[i]['COD_MUNICIPIO']) & \n",
    "            (df_semanal['ANO'] < df_semanal.iloc[i]['ANO'] + 1) & \n",
    "            (df_semanal['SEMANA'] == 1))\n",
    "        ]\n",
    "    else:\n",
    "        df_temp = df_semanal[\n",
    "            (df_semanal['COD_MUNICIPIO'] == df_semanal.iloc[i]['COD_MUNICIPIO']) & \n",
    "            (df_semanal['ANO'] < df_semanal.iloc[i]['ANO']) & \n",
    "            ((df_semanal['SEMANA'] == df_semanal.iloc[i]['SEMANA']) | \n",
    "            (df_semanal['SEMANA'] == df_semanal.iloc[i]['SEMANA'] + 1) | \n",
    "            (df_semanal['SEMANA'] == df_semanal.iloc[i]['SEMANA'] - 1))]\n",
    "\n",
    "\n",
    "    expected_number = df_temp['DENGUE'].mean()\n",
    "    standar_dev = df_temp['DENGUE'].std()\n",
    "    CV = standar_dev / expected_number\n",
    "    df_semanal.iloc[i, df_semanal.columns.get_loc('lower_limit')] = 1 - (1.96 * CV)\n",
    "    df_semanal.iloc[i, df_semanal.columns.get_loc('upper_limit')] = 1 + (1.96 * CV)\n",
    "    df_semanal.iloc[i, df_semanal.columns.get_loc('observed_reason')] = df_semanal.iloc[i]['DENGUE'] / expected_number\n",
    "\n",
    "\n",
    "\n",
    "    geometric_mean = stats.gmean(df_temp_past)\n",
    "    standar_dev1 = df_temp_past.std()\n",
    "    standar_error = standar_dev1 / math.sqrt(5)\n",
    "    deg_freedom = stats.t.ppf((1 - 0.025), (df_temp_past.count() - 1))\n",
    "\n",
    "    df_semanal.iloc[i, df_semanal.columns.get_loc('lower_limit_IC95')] = geometric_mean - (deg_freedom * standar_error)\n",
    "    df_semanal.iloc[i, df_semanal.columns.get_loc('upper_limit_IC95')] = geometric_mean + (deg_freedom * standar_error)\n",
    "    df_semanal.iloc[i, df_semanal.columns.get_loc('threshold_IC95')] = df_semanal[(df_semanal['COD_MUNICIPIO'] == df_semanal.iloc[i]['COD_MUNICIPIO']) & \n",
    "            (df_semanal['ANO'] < df_semanal.iloc[i]['ANO'])]['DENGUE'].mean()\n",
    "\n",
    "    if i % 10000 == 0:\n",
    "        now = datetime.now()\n",
    "        current_time = now.strftime(\"%H:%M:%S\")\n",
    "        print('Iteration: ', i, 'Time: ', current_time)"
   ]
  },
  {
   "cell_type": "code",
   "execution_count": 9,
   "metadata": {
    "tags": []
   },
   "outputs": [
    {
     "output_type": "stream",
     "name": "stdout",
     "text": "Wall time: 141 ms\n"
    },
    {
     "output_type": "execute_result",
     "data": {
      "text/plain": "         ANO  COD_MUNICIPIO       FECHA  SEMANA  COD_DPTO  DENGUE  \\\n662319  2019           5001  2019-03-17      12         5      11   \n\n        DENGUE GRAVE  MORTALIDAD POR DENGUE  POBLACION DEPARTAMENTO  ...  \\\n662319             1                      0  2549537.0    ANTIOQUIA  ...   \n\n          P25   MED   P75  lower_limit  upper_limit  observed_reason  \\\n662319  12.75  28.0  44.0    -1.633344     3.633344         0.217997   \n\n        expected_reason  lower_limit_IC95  upper_limit_IC95  threshold_IC95  \n662319                1        -76.213743         76.213743       76.704473  \n\n[1 rows x 24 columns]",
      "text/html": "<div>\n<style scoped>\n    .dataframe tbody tr th:only-of-type {\n        vertical-align: middle;\n    }\n\n    .dataframe tbody tr th {\n        vertical-align: top;\n    }\n\n    .dataframe thead th {\n        text-align: right;\n    }\n</style>\n<table border=\"1\" class=\"dataframe\">\n  <thead>\n    <tr style=\"text-align: right;\">\n      <th></th>\n      <th>ANO</th>\n      <th>COD_MUNICIPIO</th>\n      <th>FECHA</th>\n      <th>SEMANA</th>\n      <th>COD_DPTO</th>\n      <th>DENGUE</th>\n      <th>DENGUE GRAVE</th>\n      <th>MORTALIDAD POR DENGUE</th>\n      <th>POBLACION</th>\n      <th>DEPARTAMENTO</th>\n      <th>...</th>\n      <th>P25</th>\n      <th>MED</th>\n      <th>P75</th>\n      <th>lower_limit</th>\n      <th>upper_limit</th>\n      <th>observed_reason</th>\n      <th>expected_reason</th>\n      <th>lower_limit_IC95</th>\n      <th>upper_limit_IC95</th>\n      <th>threshold_IC95</th>\n    </tr>\n  </thead>\n  <tbody>\n    <tr>\n      <th>662319</th>\n      <td>2019</td>\n      <td>5001</td>\n      <td>2019-03-17</td>\n      <td>12</td>\n      <td>5</td>\n      <td>11</td>\n      <td>1</td>\n      <td>0</td>\n      <td>2549537.0</td>\n      <td>ANTIOQUIA</td>\n      <td>...</td>\n      <td>12.75</td>\n      <td>28.0</td>\n      <td>44.0</td>\n      <td>-1.633344</td>\n      <td>3.633344</td>\n      <td>0.217997</td>\n      <td>1</td>\n      <td>-76.213743</td>\n      <td>76.213743</td>\n      <td>76.704473</td>\n    </tr>\n  </tbody>\n</table>\n<p>1 rows × 24 columns</p>\n</div>"
     },
     "metadata": {},
     "execution_count": 9
    }
   ],
   "source": [
    "%%time\n",
    "i = df_semanal[(df_semanal['COD_MUNICIPIO'] == 5001) & \n",
    "            (df_semanal['ANO'] == 2019) &\n",
    "            (df_semanal['SEMANA'] == 12)].index[0]\n",
    "\n",
    "df_temp_past = df_semanal[(df_semanal['COD_MUNICIPIO'] == df_semanal.iloc[i]['COD_MUNICIPIO']) & \n",
    "        (df_semanal['ANO'] < df_semanal.iloc[i]['ANO']) &\n",
    "        (df_semanal['SEMANA'] == df_semanal.iloc[i]['SEMANA'])]['DENGUE']\n",
    "\n",
    "df_semanal.iloc[i, df_semanal.columns.get_loc('P25')] = df_temp_past.quantile(0.25)\n",
    "df_semanal.iloc[i, df_semanal.columns.get_loc('MED')] = df_temp_past.median()\n",
    "df_semanal.iloc[i, df_semanal.columns.get_loc('P75')] = df_temp_past.quantile(0.75)\n",
    "\n",
    "if df_semanal.iloc[i]['SEMANA'] == 1:\n",
    "    df_temp = df_semanal[\n",
    "        (df_semanal['COD_MUNICIPIO'] == df_semanal.iloc[i]['COD_MUNICIPIO']) & \n",
    "        (df_semanal['ANO'] < df_semanal.iloc[i]['ANO']) & \n",
    "        ((df_semanal['SEMANA'] == df_semanal.iloc[i]['SEMANA']) | \n",
    "        (df_semanal['SEMANA'] == df_semanal.iloc[i]['SEMANA'] + 1)) |\n",
    "        ((df_semanal['COD_MUNICIPIO'] == df_semanal.iloc[i]['COD_MUNICIPIO']) & \n",
    "        (df_semanal['ANO'] < df_semanal.iloc[i]['ANO'] - 1) & \n",
    "        (df_semanal['SEMANA'] == 12))\n",
    "    ]\n",
    "elif df_semanal.iloc[i]['SEMANA'] == 12:\n",
    "    df_temp = df_semanal[\n",
    "        (df_semanal['COD_MUNICIPIO'] == df_semanal.iloc[i]['COD_MUNICIPIO']) & \n",
    "        (df_semanal['ANO'] < df_semanal.iloc[i]['ANO']) & \n",
    "        ((df_semanal['SEMANA'] == df_semanal.iloc[i]['SEMANA']) | \n",
    "        (df_semanal['SEMANA'] == df_semanal.iloc[i]['SEMANA'] - 1)) |\n",
    "        ((df_semanal['COD_MUNICIPIO'] == df_semanal.iloc[i]['COD_MUNICIPIO']) & \n",
    "        (df_semanal['ANO'] < df_semanal.iloc[i]['ANO'] + 1) & \n",
    "        (df_semanal['SEMANA'] == 1))\n",
    "    ]\n",
    "else:\n",
    "    df_temp = df_semanal[\n",
    "        (df_semanal['COD_MUNICIPIO'] == df_semanal.iloc[i]['COD_MUNICIPIO']) & \n",
    "        (df_semanal['ANO'] < df_semanal.iloc[i]['ANO']) & \n",
    "        ((df_semanal['SEMANA'] == df_semanal.iloc[i]['SEMANA']) | \n",
    "        (df_semanal['SEMANA'] == df_semanal.iloc[i]['SEMANA'] + 1) | \n",
    "        (df_semanal['SEMANA'] == df_semanal.iloc[i]['SEMANA'] - 1))]\n",
    "\n",
    "expected_number = df_temp['DENGUE'].mean()\n",
    "standar_dev = df_temp['DENGUE'].std()\n",
    "CV = standar_dev / expected_number\n",
    "df_semanal.iloc[i, df_semanal.columns.get_loc('lower_limit')] = 1 - (1.96 * CV)\n",
    "df_semanal.iloc[i, df_semanal.columns.get_loc('upper_limit')] = 1 + (1.96 * CV)\n",
    "df_semanal.iloc[i, df_semanal.columns.get_loc('observed_reason')] = df_semanal.iloc[i]['DENGUE'] / expected_number\n",
    "\n",
    "geometric_mean = stats.gmean(df_temp_past)\n",
    "standar_dev1 = df_temp_past.std()\n",
    "standar_error = standar_dev1 / math.sqrt(5)\n",
    "deg_freedom = stats.t.ppf((1 - 0.025), (df_temp_past.count() - 1))\n",
    "\n",
    "df_semanal.iloc[i, df_semanal.columns.get_loc('lower_limit_IC95')] = geometric_mean - (deg_freedom * standar_error)\n",
    "df_semanal.iloc[i, df_semanal.columns.get_loc('upper_limit_IC95')] = geometric_mean + (deg_freedom * standar_error)\n",
    "df_semanal.iloc[i, df_semanal.columns.get_loc('threshold_IC95')] = df_semanal[(df_semanal['COD_MUNICIPIO'] == df_semanal.iloc[i]['COD_MUNICIPIO']) & \n",
    "        (df_semanal['ANO'] < df_semanal.iloc[i]['ANO'])]['DENGUE'].mean()\n",
    "\n",
    "df_semanal[(df_semanal['COD_MUNICIPIO'] == 5001) & \n",
    "            (df_semanal['ANO'] == 2019) &\n",
    "            (df_semanal['SEMANA'] == 12)]"
   ]
  },
  {
   "cell_type": "markdown",
   "metadata": {},
   "source": [
    "------"
   ]
  },
  {
   "cell_type": "markdown",
   "metadata": {},
   "source": [
    "# Para abajo contando con los resultados de la información semanal por municipio"
   ]
  },
  {
   "cell_type": "code",
   "execution_count": 2,
   "metadata": {},
   "outputs": [],
   "source": [
    "df_semanal = pd.read_csv('Data\\dengue_semanal_cities.csv', encoding='utf-8-sig')\n",
    "# df_semanal = df_semanal[~((df_semanal['SEMANA'] > 16) & (df_semanal['ANO'] == 2020))]\n",
    "df_semanal.to_csv('Data/JSON/dengue_semanal_cities.csv', encoding='utf-8-sig', index = False)"
   ]
  },
  {
   "cell_type": "code",
   "execution_count": 3,
   "metadata": {},
   "outputs": [
    {
     "output_type": "execute_result",
     "data": {
      "text/plain": "    ANO  COD_MUNICIPIO       FECHA  SEMANA  COD_DPTO  DENGUE  DENGUE GRAVE  \\\n0  2007           5001  2006-12-31       1         5       1             0   \n1  2007           5001  2007-01-07       2         5       0             0   \n2  2007           5001  2007-01-14       3         5       0             0   \n3  2007           5001  2007-01-21       4         5       0             0   \n4  2007           5001  2007-01-28       5         5       0             0   \n\n   MORTALIDAD POR DENGUE  POBLACION DEPARTAMENTO  ... P25  MED  P75  \\\n0                      0  2265244.0    ANTIOQUIA  ... NaN  NaN  NaN   \n1                      0  2265244.0    ANTIOQUIA  ... NaN  NaN  NaN   \n2                      0  2265244.0    ANTIOQUIA  ... NaN  NaN  NaN   \n3                      0  2265244.0    ANTIOQUIA  ... NaN  NaN  NaN   \n4                      0  2265244.0    ANTIOQUIA  ... NaN  NaN  NaN   \n\n   lower_limit  upper_limit  observed_reason  expected_reason  \\\n0          NaN          NaN              NaN                1   \n1          NaN          NaN              NaN                1   \n2          NaN          NaN              NaN                1   \n3          NaN          NaN              NaN                1   \n4          NaN          NaN              NaN                1   \n\n   lower_limit_IC95  upper_limit_IC95  threshold_IC95  \n0               NaN               NaN             NaN  \n1               NaN               NaN             NaN  \n2               NaN               NaN             NaN  \n3               NaN               NaN             NaN  \n4               NaN               NaN             NaN  \n\n[5 rows x 24 columns]",
      "text/html": "<div>\n<style scoped>\n    .dataframe tbody tr th:only-of-type {\n        vertical-align: middle;\n    }\n\n    .dataframe tbody tr th {\n        vertical-align: top;\n    }\n\n    .dataframe thead th {\n        text-align: right;\n    }\n</style>\n<table border=\"1\" class=\"dataframe\">\n  <thead>\n    <tr style=\"text-align: right;\">\n      <th></th>\n      <th>ANO</th>\n      <th>COD_MUNICIPIO</th>\n      <th>FECHA</th>\n      <th>SEMANA</th>\n      <th>COD_DPTO</th>\n      <th>DENGUE</th>\n      <th>DENGUE GRAVE</th>\n      <th>MORTALIDAD POR DENGUE</th>\n      <th>POBLACION</th>\n      <th>DEPARTAMENTO</th>\n      <th>...</th>\n      <th>P25</th>\n      <th>MED</th>\n      <th>P75</th>\n      <th>lower_limit</th>\n      <th>upper_limit</th>\n      <th>observed_reason</th>\n      <th>expected_reason</th>\n      <th>lower_limit_IC95</th>\n      <th>upper_limit_IC95</th>\n      <th>threshold_IC95</th>\n    </tr>\n  </thead>\n  <tbody>\n    <tr>\n      <th>0</th>\n      <td>2007</td>\n      <td>5001</td>\n      <td>2006-12-31</td>\n      <td>1</td>\n      <td>5</td>\n      <td>1</td>\n      <td>0</td>\n      <td>0</td>\n      <td>2265244.0</td>\n      <td>ANTIOQUIA</td>\n      <td>...</td>\n      <td>NaN</td>\n      <td>NaN</td>\n      <td>NaN</td>\n      <td>NaN</td>\n      <td>NaN</td>\n      <td>NaN</td>\n      <td>1</td>\n      <td>NaN</td>\n      <td>NaN</td>\n      <td>NaN</td>\n    </tr>\n    <tr>\n      <th>1</th>\n      <td>2007</td>\n      <td>5001</td>\n      <td>2007-01-07</td>\n      <td>2</td>\n      <td>5</td>\n      <td>0</td>\n      <td>0</td>\n      <td>0</td>\n      <td>2265244.0</td>\n      <td>ANTIOQUIA</td>\n      <td>...</td>\n      <td>NaN</td>\n      <td>NaN</td>\n      <td>NaN</td>\n      <td>NaN</td>\n      <td>NaN</td>\n      <td>NaN</td>\n      <td>1</td>\n      <td>NaN</td>\n      <td>NaN</td>\n      <td>NaN</td>\n    </tr>\n    <tr>\n      <th>2</th>\n      <td>2007</td>\n      <td>5001</td>\n      <td>2007-01-14</td>\n      <td>3</td>\n      <td>5</td>\n      <td>0</td>\n      <td>0</td>\n      <td>0</td>\n      <td>2265244.0</td>\n      <td>ANTIOQUIA</td>\n      <td>...</td>\n      <td>NaN</td>\n      <td>NaN</td>\n      <td>NaN</td>\n      <td>NaN</td>\n      <td>NaN</td>\n      <td>NaN</td>\n      <td>1</td>\n      <td>NaN</td>\n      <td>NaN</td>\n      <td>NaN</td>\n    </tr>\n    <tr>\n      <th>3</th>\n      <td>2007</td>\n      <td>5001</td>\n      <td>2007-01-21</td>\n      <td>4</td>\n      <td>5</td>\n      <td>0</td>\n      <td>0</td>\n      <td>0</td>\n      <td>2265244.0</td>\n      <td>ANTIOQUIA</td>\n      <td>...</td>\n      <td>NaN</td>\n      <td>NaN</td>\n      <td>NaN</td>\n      <td>NaN</td>\n      <td>NaN</td>\n      <td>NaN</td>\n      <td>1</td>\n      <td>NaN</td>\n      <td>NaN</td>\n      <td>NaN</td>\n    </tr>\n    <tr>\n      <th>4</th>\n      <td>2007</td>\n      <td>5001</td>\n      <td>2007-01-28</td>\n      <td>5</td>\n      <td>5</td>\n      <td>0</td>\n      <td>0</td>\n      <td>0</td>\n      <td>2265244.0</td>\n      <td>ANTIOQUIA</td>\n      <td>...</td>\n      <td>NaN</td>\n      <td>NaN</td>\n      <td>NaN</td>\n      <td>NaN</td>\n      <td>NaN</td>\n      <td>NaN</td>\n      <td>1</td>\n      <td>NaN</td>\n      <td>NaN</td>\n      <td>NaN</td>\n    </tr>\n  </tbody>\n</table>\n<p>5 rows × 24 columns</p>\n</div>"
     },
     "metadata": {},
     "execution_count": 3
    }
   ],
   "source": [
    "df_semanal.head()"
   ]
  },
  {
   "cell_type": "code",
   "execution_count": 4,
   "metadata": {},
   "outputs": [
    {
     "output_type": "execute_result",
     "data": {
      "text/plain": "Index(['ANO', 'COD_MUNICIPIO', 'FECHA', 'SEMANA', 'COD_DPTO', 'DENGUE',\n       'DENGUE GRAVE', 'MORTALIDAD POR DENGUE', 'POBLACION', 'DEPARTAMENTO',\n       'MUNICIPIO', 'INCIDENCIA DENGUE', 'INCIDENCIA DENGUE GRAVE',\n       'LETALIDAD', 'P25', 'MED', 'P75', 'lower_limit', 'upper_limit',\n       'observed_reason', 'expected_reason', 'lower_limit_IC95',\n       'upper_limit_IC95', 'threshold_IC95'],\n      dtype='object')"
     },
     "metadata": {},
     "execution_count": 4
    }
   ],
   "source": [
    "df_semanal.columns"
   ]
  },
  {
   "cell_type": "markdown",
   "metadata": {},
   "source": [
    "# Construcción de las gráficas semanales por departamento"
   ]
  },
  {
   "cell_type": "code",
   "execution_count": 5,
   "metadata": {},
   "outputs": [
    {
     "output_type": "execute_result",
     "data": {
      "text/plain": "        ANO       FECHA  SEMANA  COD_DPTO DEPARTAMENTO  DENGUE  DENGUE GRAVE  \\\n0      2007  2006-12-31       1         5    ANTIOQUIA       1             0   \n1      2007  2006-12-31       1         8    ATLANTICO      79             0   \n2      2007  2006-12-31       1        11       BOGOTA       0             0   \n3      2007  2006-12-31       1        13      BOLIVAR      28             3   \n4      2007  2006-12-31       1        15       BOYACA       3             1   \n...     ...         ...     ...       ...          ...     ...           ...   \n24118  2020  2020-12-27      53        91     AMAZONAS       0             0   \n24119  2020  2020-12-27      53        94      GUAINIA       0             0   \n24120  2020  2020-12-27      53        95     GUAVIARE       0             0   \n24121  2020  2020-12-27      53        97       VAUPES       0             0   \n24122  2020  2020-12-27      53        99      VICHADA       0             0   \n\n       MORTALIDAD POR DENGUE  POBLACION  \n0                          0  5834865.0  \n1                          0  2225481.0  \n2                          0  7050228.0  \n3                          0  1917345.0  \n4                          0  1009633.0  \n...                      ...        ...  \n24118                      0    76787.0  \n24119                      0    43349.0  \n24120                      0   119214.0  \n24121                      0    44997.0  \n24122                      0    81048.0  \n\n[24123 rows x 9 columns]",
      "text/html": "<div>\n<style scoped>\n    .dataframe tbody tr th:only-of-type {\n        vertical-align: middle;\n    }\n\n    .dataframe tbody tr th {\n        vertical-align: top;\n    }\n\n    .dataframe thead th {\n        text-align: right;\n    }\n</style>\n<table border=\"1\" class=\"dataframe\">\n  <thead>\n    <tr style=\"text-align: right;\">\n      <th></th>\n      <th>ANO</th>\n      <th>FECHA</th>\n      <th>SEMANA</th>\n      <th>COD_DPTO</th>\n      <th>DEPARTAMENTO</th>\n      <th>DENGUE</th>\n      <th>DENGUE GRAVE</th>\n      <th>MORTALIDAD POR DENGUE</th>\n      <th>POBLACION</th>\n    </tr>\n  </thead>\n  <tbody>\n    <tr>\n      <th>0</th>\n      <td>2007</td>\n      <td>2006-12-31</td>\n      <td>1</td>\n      <td>5</td>\n      <td>ANTIOQUIA</td>\n      <td>1</td>\n      <td>0</td>\n      <td>0</td>\n      <td>5834865.0</td>\n    </tr>\n    <tr>\n      <th>1</th>\n      <td>2007</td>\n      <td>2006-12-31</td>\n      <td>1</td>\n      <td>8</td>\n      <td>ATLANTICO</td>\n      <td>79</td>\n      <td>0</td>\n      <td>0</td>\n      <td>2225481.0</td>\n    </tr>\n    <tr>\n      <th>2</th>\n      <td>2007</td>\n      <td>2006-12-31</td>\n      <td>1</td>\n      <td>11</td>\n      <td>BOGOTA</td>\n      <td>0</td>\n      <td>0</td>\n      <td>0</td>\n      <td>7050228.0</td>\n    </tr>\n    <tr>\n      <th>3</th>\n      <td>2007</td>\n      <td>2006-12-31</td>\n      <td>1</td>\n      <td>13</td>\n      <td>BOLIVAR</td>\n      <td>28</td>\n      <td>3</td>\n      <td>0</td>\n      <td>1917345.0</td>\n    </tr>\n    <tr>\n      <th>4</th>\n      <td>2007</td>\n      <td>2006-12-31</td>\n      <td>1</td>\n      <td>15</td>\n      <td>BOYACA</td>\n      <td>3</td>\n      <td>1</td>\n      <td>0</td>\n      <td>1009633.0</td>\n    </tr>\n    <tr>\n      <th>...</th>\n      <td>...</td>\n      <td>...</td>\n      <td>...</td>\n      <td>...</td>\n      <td>...</td>\n      <td>...</td>\n      <td>...</td>\n      <td>...</td>\n      <td>...</td>\n    </tr>\n    <tr>\n      <th>24118</th>\n      <td>2020</td>\n      <td>2020-12-27</td>\n      <td>53</td>\n      <td>91</td>\n      <td>AMAZONAS</td>\n      <td>0</td>\n      <td>0</td>\n      <td>0</td>\n      <td>76787.0</td>\n    </tr>\n    <tr>\n      <th>24119</th>\n      <td>2020</td>\n      <td>2020-12-27</td>\n      <td>53</td>\n      <td>94</td>\n      <td>GUAINIA</td>\n      <td>0</td>\n      <td>0</td>\n      <td>0</td>\n      <td>43349.0</td>\n    </tr>\n    <tr>\n      <th>24120</th>\n      <td>2020</td>\n      <td>2020-12-27</td>\n      <td>53</td>\n      <td>95</td>\n      <td>GUAVIARE</td>\n      <td>0</td>\n      <td>0</td>\n      <td>0</td>\n      <td>119214.0</td>\n    </tr>\n    <tr>\n      <th>24121</th>\n      <td>2020</td>\n      <td>2020-12-27</td>\n      <td>53</td>\n      <td>97</td>\n      <td>VAUPES</td>\n      <td>0</td>\n      <td>0</td>\n      <td>0</td>\n      <td>44997.0</td>\n    </tr>\n    <tr>\n      <th>24122</th>\n      <td>2020</td>\n      <td>2020-12-27</td>\n      <td>53</td>\n      <td>99</td>\n      <td>VICHADA</td>\n      <td>0</td>\n      <td>0</td>\n      <td>0</td>\n      <td>81048.0</td>\n    </tr>\n  </tbody>\n</table>\n<p>24123 rows × 9 columns</p>\n</div>"
     },
     "metadata": {},
     "execution_count": 5
    }
   ],
   "source": [
    "df_semanal_dpto = df_semanal[['ANO', 'FECHA', 'SEMANA', 'COD_DPTO', 'DENGUE',\n",
    "       'DENGUE GRAVE', 'MORTALIDAD POR DENGUE', 'POBLACION', 'DEPARTAMENTO']].groupby(['ANO', 'FECHA', 'SEMANA', 'COD_DPTO', 'DEPARTAMENTO']).sum()\n",
    "df_semanal_dpto.reset_index(inplace = True)\n",
    "df_semanal_dpto"
   ]
  },
  {
   "cell_type": "code",
   "execution_count": 6,
   "metadata": {},
   "outputs": [
    {
     "output_type": "execute_result",
     "data": {
      "text/plain": "        ANO       FECHA  SEMANA  COD_DPTO DEPARTAMENTO  DENGUE  DENGUE GRAVE  \\\n0      2007  2006-12-31       1         5    ANTIOQUIA       1             0   \n1      2007  2006-12-31       1         8    ATLANTICO      79             0   \n2      2007  2006-12-31       1        11       BOGOTA       0             0   \n3      2007  2006-12-31       1        13      BOLIVAR      28             3   \n4      2007  2006-12-31       1        15       BOYACA       3             1   \n...     ...         ...     ...       ...          ...     ...           ...   \n24118  2020  2020-12-27      53        91     AMAZONAS       0             0   \n24119  2020  2020-12-27      53        94      GUAINIA       0             0   \n24120  2020  2020-12-27      53        95     GUAVIARE       0             0   \n24121  2020  2020-12-27      53        97       VAUPES       0             0   \n24122  2020  2020-12-27      53        99      VICHADA       0             0   \n\n       MORTALIDAD POR DENGUE  POBLACION  INCIDENCIA DENGUE  \\\n0                          0  5834865.0           0.017138   \n1                          0  2225481.0           3.549794   \n2                          0  7050228.0           0.000000   \n3                          0  1917345.0           1.460353   \n4                          0  1009633.0           0.297138   \n...                      ...        ...                ...   \n24118                      0    76787.0           0.000000   \n24119                      0    43349.0           0.000000   \n24120                      0   119214.0           0.000000   \n24121                      0    44997.0           0.000000   \n24122                      0    81048.0           0.000000   \n\n       INCIDENCIA DENGUE GRAVE  LETALIDAD  \n0                     0.000000        NaN  \n1                     0.000000        NaN  \n2                     0.000000        NaN  \n3                     0.156466        0.0  \n4                     0.099046        0.0  \n...                        ...        ...  \n24118                 0.000000        NaN  \n24119                 0.000000        NaN  \n24120                 0.000000        NaN  \n24121                 0.000000        NaN  \n24122                 0.000000        NaN  \n\n[24123 rows x 12 columns]",
      "text/html": "<div>\n<style scoped>\n    .dataframe tbody tr th:only-of-type {\n        vertical-align: middle;\n    }\n\n    .dataframe tbody tr th {\n        vertical-align: top;\n    }\n\n    .dataframe thead th {\n        text-align: right;\n    }\n</style>\n<table border=\"1\" class=\"dataframe\">\n  <thead>\n    <tr style=\"text-align: right;\">\n      <th></th>\n      <th>ANO</th>\n      <th>FECHA</th>\n      <th>SEMANA</th>\n      <th>COD_DPTO</th>\n      <th>DEPARTAMENTO</th>\n      <th>DENGUE</th>\n      <th>DENGUE GRAVE</th>\n      <th>MORTALIDAD POR DENGUE</th>\n      <th>POBLACION</th>\n      <th>INCIDENCIA DENGUE</th>\n      <th>INCIDENCIA DENGUE GRAVE</th>\n      <th>LETALIDAD</th>\n    </tr>\n  </thead>\n  <tbody>\n    <tr>\n      <th>0</th>\n      <td>2007</td>\n      <td>2006-12-31</td>\n      <td>1</td>\n      <td>5</td>\n      <td>ANTIOQUIA</td>\n      <td>1</td>\n      <td>0</td>\n      <td>0</td>\n      <td>5834865.0</td>\n      <td>0.017138</td>\n      <td>0.000000</td>\n      <td>NaN</td>\n    </tr>\n    <tr>\n      <th>1</th>\n      <td>2007</td>\n      <td>2006-12-31</td>\n      <td>1</td>\n      <td>8</td>\n      <td>ATLANTICO</td>\n      <td>79</td>\n      <td>0</td>\n      <td>0</td>\n      <td>2225481.0</td>\n      <td>3.549794</td>\n      <td>0.000000</td>\n      <td>NaN</td>\n    </tr>\n    <tr>\n      <th>2</th>\n      <td>2007</td>\n      <td>2006-12-31</td>\n      <td>1</td>\n      <td>11</td>\n      <td>BOGOTA</td>\n      <td>0</td>\n      <td>0</td>\n      <td>0</td>\n      <td>7050228.0</td>\n      <td>0.000000</td>\n      <td>0.000000</td>\n      <td>NaN</td>\n    </tr>\n    <tr>\n      <th>3</th>\n      <td>2007</td>\n      <td>2006-12-31</td>\n      <td>1</td>\n      <td>13</td>\n      <td>BOLIVAR</td>\n      <td>28</td>\n      <td>3</td>\n      <td>0</td>\n      <td>1917345.0</td>\n      <td>1.460353</td>\n      <td>0.156466</td>\n      <td>0.0</td>\n    </tr>\n    <tr>\n      <th>4</th>\n      <td>2007</td>\n      <td>2006-12-31</td>\n      <td>1</td>\n      <td>15</td>\n      <td>BOYACA</td>\n      <td>3</td>\n      <td>1</td>\n      <td>0</td>\n      <td>1009633.0</td>\n      <td>0.297138</td>\n      <td>0.099046</td>\n      <td>0.0</td>\n    </tr>\n    <tr>\n      <th>...</th>\n      <td>...</td>\n      <td>...</td>\n      <td>...</td>\n      <td>...</td>\n      <td>...</td>\n      <td>...</td>\n      <td>...</td>\n      <td>...</td>\n      <td>...</td>\n      <td>...</td>\n      <td>...</td>\n      <td>...</td>\n    </tr>\n    <tr>\n      <th>24118</th>\n      <td>2020</td>\n      <td>2020-12-27</td>\n      <td>53</td>\n      <td>91</td>\n      <td>AMAZONAS</td>\n      <td>0</td>\n      <td>0</td>\n      <td>0</td>\n      <td>76787.0</td>\n      <td>0.000000</td>\n      <td>0.000000</td>\n      <td>NaN</td>\n    </tr>\n    <tr>\n      <th>24119</th>\n      <td>2020</td>\n      <td>2020-12-27</td>\n      <td>53</td>\n      <td>94</td>\n      <td>GUAINIA</td>\n      <td>0</td>\n      <td>0</td>\n      <td>0</td>\n      <td>43349.0</td>\n      <td>0.000000</td>\n      <td>0.000000</td>\n      <td>NaN</td>\n    </tr>\n    <tr>\n      <th>24120</th>\n      <td>2020</td>\n      <td>2020-12-27</td>\n      <td>53</td>\n      <td>95</td>\n      <td>GUAVIARE</td>\n      <td>0</td>\n      <td>0</td>\n      <td>0</td>\n      <td>119214.0</td>\n      <td>0.000000</td>\n      <td>0.000000</td>\n      <td>NaN</td>\n    </tr>\n    <tr>\n      <th>24121</th>\n      <td>2020</td>\n      <td>2020-12-27</td>\n      <td>53</td>\n      <td>97</td>\n      <td>VAUPES</td>\n      <td>0</td>\n      <td>0</td>\n      <td>0</td>\n      <td>44997.0</td>\n      <td>0.000000</td>\n      <td>0.000000</td>\n      <td>NaN</td>\n    </tr>\n    <tr>\n      <th>24122</th>\n      <td>2020</td>\n      <td>2020-12-27</td>\n      <td>53</td>\n      <td>99</td>\n      <td>VICHADA</td>\n      <td>0</td>\n      <td>0</td>\n      <td>0</td>\n      <td>81048.0</td>\n      <td>0.000000</td>\n      <td>0.000000</td>\n      <td>NaN</td>\n    </tr>\n  </tbody>\n</table>\n<p>24123 rows × 12 columns</p>\n</div>"
     },
     "metadata": {},
     "execution_count": 6
    }
   ],
   "source": [
    "df_semanal_dpto = df_semanal_dpto[~df_semanal_dpto['POBLACION'].isna()]\n",
    "df_semanal_dpto['INCIDENCIA DENGUE'] = df_semanal_dpto['DENGUE'] * 100000 / df_semanal_dpto['POBLACION']\n",
    "df_semanal_dpto['INCIDENCIA DENGUE GRAVE'] = df_semanal_dpto['DENGUE GRAVE'] * 100000 / df_semanal_dpto['POBLACION']\n",
    "df_semanal_dpto['LETALIDAD'] = df_semanal_dpto['MORTALIDAD POR DENGUE'] * 100 / df_semanal_dpto['DENGUE GRAVE']\n",
    "df_semanal_dpto.reset_index(inplace = True, drop=True)\n",
    "df_semanal_dpto"
   ]
  },
  {
   "cell_type": "code",
   "execution_count": 7,
   "metadata": {
    "tags": []
   },
   "outputs": [
    {
     "output_type": "stream",
     "name": "stdout",
     "text": "Iteration:  0 Time:  11:06:19\nIteration:  1000 Time:  11:06:52\nIteration:  2000 Time:  11:07:27\nIteration:  3000 Time:  11:08:01\nIteration:  4000 Time:  11:08:34\nIteration:  5000 Time:  11:09:09\nIteration:  6000 Time:  11:09:43\nIteration:  7000 Time:  11:10:16\nIteration:  8000 Time:  11:10:50\nIteration:  9000 Time:  11:11:24\nIteration:  10000 Time:  11:11:59\nIteration:  11000 Time:  11:12:34\nIteration:  12000 Time:  11:13:10\nIteration:  13000 Time:  11:13:41\nIteration:  14000 Time:  11:14:14\nIteration:  15000 Time:  11:14:44\nIteration:  16000 Time:  11:15:17\nIteration:  17000 Time:  11:15:48\nIteration:  18000 Time:  11:16:21\nIteration:  19000 Time:  11:16:56\nIteration:  20000 Time:  11:17:31\nIteration:  21000 Time:  11:18:04\nIteration:  22000 Time:  11:18:38\nIteration:  23000 Time:  11:19:15\nIteration:  24000 Time:  11:19:47\nWall time: 13min 31s\n"
    }
   ],
   "source": [
    "%%time\n",
    "df_semanal_dpto['P25'] = np.nan\n",
    "df_semanal_dpto['MED'] = np.nan\n",
    "df_semanal_dpto['P75'] = np.nan\n",
    "\n",
    "df_semanal_dpto['lower_limit'] = np.nan\n",
    "df_semanal_dpto['upper_limit'] = np.nan\n",
    "df_semanal_dpto['observed_reason'] = np.nan\n",
    "df_semanal_dpto['expected_reason'] = 1\n",
    "\n",
    "df_semanal_dpto['lower_limit_IC95'] = np.nan\n",
    "df_semanal_dpto['upper_limit_IC95'] = np.nan\n",
    "df_semanal_dpto['threshold_IC95'] = np.nan\n",
    "\n",
    "for i in range(len(df_semanal_dpto)):\n",
    "\n",
    "    df_temp_past = df_semanal_dpto[(df_semanal_dpto['COD_DPTO'] == df_semanal_dpto.iloc[i]['COD_DPTO']) & \n",
    "            (df_semanal_dpto['ANO'] < df_semanal_dpto.iloc[i]['ANO']) &\n",
    "            (df_semanal_dpto['SEMANA'] == df_semanal_dpto.iloc[i]['SEMANA'])]['DENGUE']\n",
    "\n",
    "    df_semanal_dpto.iloc[i, df_semanal_dpto.columns.get_loc('P25')] = df_temp_past.quantile(0.25)\n",
    "    df_semanal_dpto.iloc[i, df_semanal_dpto.columns.get_loc('MED')] = df_temp_past.median()\n",
    "    df_semanal_dpto.iloc[i, df_semanal_dpto.columns.get_loc('P75')] = df_temp_past.quantile(0.75)\n",
    "\n",
    "\n",
    "\n",
    "    if df_semanal_dpto.iloc[i]['SEMANA'] == 1:\n",
    "        df_temp = df_semanal_dpto[\n",
    "            (df_semanal_dpto['COD_DPTO'] == df_semanal_dpto.iloc[i]['COD_DPTO']) & \n",
    "            (df_semanal_dpto['ANO'] < df_semanal_dpto.iloc[i]['ANO']) & \n",
    "            ((df_semanal_dpto['SEMANA'] == df_semanal_dpto.iloc[i]['SEMANA']) | \n",
    "            (df_semanal_dpto['SEMANA'] == df_semanal_dpto.iloc[i]['SEMANA'] + 1)) |\n",
    "            ((df_semanal_dpto['COD_DPTO'] == df_semanal_dpto.iloc[i]['COD_DPTO']) & \n",
    "            (df_semanal_dpto['ANO'] < df_semanal_dpto.iloc[i]['ANO'] - 1) & \n",
    "            (df_semanal_dpto['SEMANA'] == 12))\n",
    "        ]\n",
    "    elif df_semanal_dpto.iloc[i]['SEMANA'] == 12:\n",
    "        df_temp = df_semanal_dpto[\n",
    "            (df_semanal_dpto['COD_DPTO'] == df_semanal_dpto.iloc[i]['COD_DPTO']) & \n",
    "            (df_semanal_dpto['ANO'] < df_semanal_dpto.iloc[i]['ANO']) & \n",
    "            ((df_semanal_dpto['SEMANA'] == df_semanal_dpto.iloc[i]['SEMANA']) | \n",
    "            (df_semanal_dpto['SEMANA'] == df_semanal_dpto.iloc[i]['SEMANA'] - 1)) |\n",
    "            ((df_semanal_dpto['COD_DPTO'] == df_semanal_dpto.iloc[i]['COD_DPTO']) & \n",
    "            (df_semanal_dpto['ANO'] < df_semanal_dpto.iloc[i]['ANO'] + 1) & \n",
    "            (df_semanal_dpto['SEMANA'] == 1))\n",
    "        ]\n",
    "    else:\n",
    "        df_temp = df_semanal_dpto[\n",
    "            (df_semanal_dpto['COD_DPTO'] == df_semanal_dpto.iloc[i]['COD_DPTO']) & \n",
    "            (df_semanal_dpto['ANO'] < df_semanal_dpto.iloc[i]['ANO']) & \n",
    "            ((df_semanal_dpto['SEMANA'] == df_semanal_dpto.iloc[i]['SEMANA']) | \n",
    "            (df_semanal_dpto['SEMANA'] == df_semanal_dpto.iloc[i]['SEMANA'] + 1) | \n",
    "            (df_semanal_dpto['SEMANA'] == df_semanal_dpto.iloc[i]['SEMANA'] - 1))]\n",
    "\n",
    "\n",
    "    expected_number = df_temp['DENGUE'].mean()\n",
    "    standar_dev = df_temp['DENGUE'].std()\n",
    "    CV = standar_dev / expected_number\n",
    "    df_semanal_dpto.iloc[i, df_semanal_dpto.columns.get_loc('lower_limit')] = 1 - (1.96 * CV)\n",
    "    df_semanal_dpto.iloc[i, df_semanal_dpto.columns.get_loc('upper_limit')] = 1 + (1.96 * CV)\n",
    "    df_semanal_dpto.iloc[i, df_semanal_dpto.columns.get_loc('observed_reason')] = df_semanal_dpto.iloc[i]['DENGUE'] / expected_number\n",
    "\n",
    "\n",
    "\n",
    "    geometric_mean = stats.gmean(df_temp_past)\n",
    "    standar_dev1 = df_temp_past.std()\n",
    "    standar_error = standar_dev1 / math.sqrt(5)\n",
    "    deg_freedom = stats.t.ppf((1 - 0.025), (df_temp_past.count() - 1))\n",
    "\n",
    "    df_semanal_dpto.iloc[i, df_semanal_dpto.columns.get_loc('lower_limit_IC95')] = geometric_mean - (deg_freedom * standar_error)\n",
    "    df_semanal_dpto.iloc[i, df_semanal_dpto.columns.get_loc('upper_limit_IC95')] = geometric_mean + (deg_freedom * standar_error)\n",
    "    df_semanal_dpto.iloc[i, df_semanal_dpto.columns.get_loc('threshold_IC95')] = df_semanal_dpto[(df_semanal_dpto['COD_DPTO'] == df_semanal_dpto.iloc[i]['COD_DPTO']) & \n",
    "            (df_semanal_dpto['ANO'] < df_semanal_dpto.iloc[i]['ANO'])]['DENGUE'].mean()\n",
    "\n",
    "    if i % 1000 == 0:\n",
    "        now = datetime.now()\n",
    "        current_time = now.strftime(\"%H:%M:%S\")\n",
    "        print('Iteration: ', i, 'Time: ', current_time)"
   ]
  },
  {
   "cell_type": "code",
   "execution_count": 8,
   "metadata": {},
   "outputs": [],
   "source": [
    "df_semanal_dpto.to_csv('Data/JSON/dengue_semanal_dpto.csv', encoding='utf-8-sig', index = False)"
   ]
  },
  {
   "cell_type": "code",
   "execution_count": 9,
   "metadata": {},
   "outputs": [
    {
     "output_type": "execute_result",
     "data": {
      "text/plain": "    ANO       FECHA  SEMANA  COD_DPTO DEPARTAMENTO  DENGUE  DENGUE GRAVE  \\\n0  2007  2006-12-31       1         5    ANTIOQUIA       1             0   \n1  2007  2006-12-31       1         8    ATLANTICO      79             0   \n2  2007  2006-12-31       1        11       BOGOTA       0             0   \n3  2007  2006-12-31       1        13      BOLIVAR      28             3   \n4  2007  2006-12-31       1        15       BOYACA       3             1   \n\n   MORTALIDAD POR DENGUE  POBLACION  INCIDENCIA DENGUE  ...  P25  MED  P75  \\\n0                      0  5834865.0           0.017138  ...  NaN  NaN  NaN   \n1                      0  2225481.0           3.549794  ...  NaN  NaN  NaN   \n2                      0  7050228.0           0.000000  ...  NaN  NaN  NaN   \n3                      0  1917345.0           1.460353  ...  NaN  NaN  NaN   \n4                      0  1009633.0           0.297138  ...  NaN  NaN  NaN   \n\n   lower_limit  upper_limit  observed_reason  expected_reason  \\\n0          NaN          NaN              NaN                1   \n1          NaN          NaN              NaN                1   \n2          NaN          NaN              NaN                1   \n3          NaN          NaN              NaN                1   \n4          NaN          NaN              NaN                1   \n\n   lower_limit_IC95  upper_limit_IC95  threshold_IC95  \n0               NaN               NaN             NaN  \n1               NaN               NaN             NaN  \n2               NaN               NaN             NaN  \n3               NaN               NaN             NaN  \n4               NaN               NaN             NaN  \n\n[5 rows x 22 columns]",
      "text/html": "<div>\n<style scoped>\n    .dataframe tbody tr th:only-of-type {\n        vertical-align: middle;\n    }\n\n    .dataframe tbody tr th {\n        vertical-align: top;\n    }\n\n    .dataframe thead th {\n        text-align: right;\n    }\n</style>\n<table border=\"1\" class=\"dataframe\">\n  <thead>\n    <tr style=\"text-align: right;\">\n      <th></th>\n      <th>ANO</th>\n      <th>FECHA</th>\n      <th>SEMANA</th>\n      <th>COD_DPTO</th>\n      <th>DEPARTAMENTO</th>\n      <th>DENGUE</th>\n      <th>DENGUE GRAVE</th>\n      <th>MORTALIDAD POR DENGUE</th>\n      <th>POBLACION</th>\n      <th>INCIDENCIA DENGUE</th>\n      <th>...</th>\n      <th>P25</th>\n      <th>MED</th>\n      <th>P75</th>\n      <th>lower_limit</th>\n      <th>upper_limit</th>\n      <th>observed_reason</th>\n      <th>expected_reason</th>\n      <th>lower_limit_IC95</th>\n      <th>upper_limit_IC95</th>\n      <th>threshold_IC95</th>\n    </tr>\n  </thead>\n  <tbody>\n    <tr>\n      <th>0</th>\n      <td>2007</td>\n      <td>2006-12-31</td>\n      <td>1</td>\n      <td>5</td>\n      <td>ANTIOQUIA</td>\n      <td>1</td>\n      <td>0</td>\n      <td>0</td>\n      <td>5834865.0</td>\n      <td>0.017138</td>\n      <td>...</td>\n      <td>NaN</td>\n      <td>NaN</td>\n      <td>NaN</td>\n      <td>NaN</td>\n      <td>NaN</td>\n      <td>NaN</td>\n      <td>1</td>\n      <td>NaN</td>\n      <td>NaN</td>\n      <td>NaN</td>\n    </tr>\n    <tr>\n      <th>1</th>\n      <td>2007</td>\n      <td>2006-12-31</td>\n      <td>1</td>\n      <td>8</td>\n      <td>ATLANTICO</td>\n      <td>79</td>\n      <td>0</td>\n      <td>0</td>\n      <td>2225481.0</td>\n      <td>3.549794</td>\n      <td>...</td>\n      <td>NaN</td>\n      <td>NaN</td>\n      <td>NaN</td>\n      <td>NaN</td>\n      <td>NaN</td>\n      <td>NaN</td>\n      <td>1</td>\n      <td>NaN</td>\n      <td>NaN</td>\n      <td>NaN</td>\n    </tr>\n    <tr>\n      <th>2</th>\n      <td>2007</td>\n      <td>2006-12-31</td>\n      <td>1</td>\n      <td>11</td>\n      <td>BOGOTA</td>\n      <td>0</td>\n      <td>0</td>\n      <td>0</td>\n      <td>7050228.0</td>\n      <td>0.000000</td>\n      <td>...</td>\n      <td>NaN</td>\n      <td>NaN</td>\n      <td>NaN</td>\n      <td>NaN</td>\n      <td>NaN</td>\n      <td>NaN</td>\n      <td>1</td>\n      <td>NaN</td>\n      <td>NaN</td>\n      <td>NaN</td>\n    </tr>\n    <tr>\n      <th>3</th>\n      <td>2007</td>\n      <td>2006-12-31</td>\n      <td>1</td>\n      <td>13</td>\n      <td>BOLIVAR</td>\n      <td>28</td>\n      <td>3</td>\n      <td>0</td>\n      <td>1917345.0</td>\n      <td>1.460353</td>\n      <td>...</td>\n      <td>NaN</td>\n      <td>NaN</td>\n      <td>NaN</td>\n      <td>NaN</td>\n      <td>NaN</td>\n      <td>NaN</td>\n      <td>1</td>\n      <td>NaN</td>\n      <td>NaN</td>\n      <td>NaN</td>\n    </tr>\n    <tr>\n      <th>4</th>\n      <td>2007</td>\n      <td>2006-12-31</td>\n      <td>1</td>\n      <td>15</td>\n      <td>BOYACA</td>\n      <td>3</td>\n      <td>1</td>\n      <td>0</td>\n      <td>1009633.0</td>\n      <td>0.297138</td>\n      <td>...</td>\n      <td>NaN</td>\n      <td>NaN</td>\n      <td>NaN</td>\n      <td>NaN</td>\n      <td>NaN</td>\n      <td>NaN</td>\n      <td>1</td>\n      <td>NaN</td>\n      <td>NaN</td>\n      <td>NaN</td>\n    </tr>\n  </tbody>\n</table>\n<p>5 rows × 22 columns</p>\n</div>"
     },
     "metadata": {},
     "execution_count": 9
    }
   ],
   "source": [
    "df_semanal_dpto.head()"
   ]
  },
  {
   "cell_type": "code",
   "execution_count": 10,
   "metadata": {},
   "outputs": [
    {
     "output_type": "execute_result",
     "data": {
      "text/plain": "Index(['ANO', 'FECHA', 'SEMANA', 'COD_DPTO', 'DEPARTAMENTO', 'DENGUE',\n       'DENGUE GRAVE', 'MORTALIDAD POR DENGUE', 'POBLACION',\n       'INCIDENCIA DENGUE', 'INCIDENCIA DENGUE GRAVE', 'LETALIDAD', 'P25',\n       'MED', 'P75', 'lower_limit', 'upper_limit', 'observed_reason',\n       'expected_reason', 'lower_limit_IC95', 'upper_limit_IC95',\n       'threshold_IC95'],\n      dtype='object')"
     },
     "metadata": {},
     "execution_count": 10
    }
   ],
   "source": [
    "df_semanal_dpto.columns"
   ]
  },
  {
   "cell_type": "markdown",
   "metadata": {},
   "source": [
    "# Construcción de las gráficas semanales para Colombia"
   ]
  },
  {
   "cell_type": "code",
   "execution_count": 11,
   "metadata": {},
   "outputs": [
    {
     "output_type": "execute_result",
     "data": {
      "text/plain": "      ANO       FECHA  SEMANA  DENGUE  DENGUE GRAVE  MORTALIDAD POR DENGUE  \\\n0    2007  2006-12-31       1     554           107                      1   \n1    2007  2007-01-07       2     382            58                      0   \n2    2007  2007-01-14       3     403            87                      0   \n3    2007  2007-01-21       4     503            81                      1   \n4    2007  2007-01-28       5     507            82                      0   \n..    ...         ...     ...     ...           ...                    ...   \n726  2020  2020-11-29      49       0             0                      0   \n727  2020  2020-12-06      50       0             0                      0   \n728  2020  2020-12-13      51       0             0                      0   \n729  2020  2020-12-20      52       0             0                      0   \n730  2020  2020-12-27      53       0             0                      0   \n\n      POBLACION  \n0    43514726.0  \n1    43514726.0  \n2    43514726.0  \n3    43514726.0  \n4    43514726.0  \n..          ...  \n726  50492854.0  \n727  50492854.0  \n728  50492854.0  \n729  50492854.0  \n730  50492854.0  \n\n[731 rows x 7 columns]",
      "text/html": "<div>\n<style scoped>\n    .dataframe tbody tr th:only-of-type {\n        vertical-align: middle;\n    }\n\n    .dataframe tbody tr th {\n        vertical-align: top;\n    }\n\n    .dataframe thead th {\n        text-align: right;\n    }\n</style>\n<table border=\"1\" class=\"dataframe\">\n  <thead>\n    <tr style=\"text-align: right;\">\n      <th></th>\n      <th>ANO</th>\n      <th>FECHA</th>\n      <th>SEMANA</th>\n      <th>DENGUE</th>\n      <th>DENGUE GRAVE</th>\n      <th>MORTALIDAD POR DENGUE</th>\n      <th>POBLACION</th>\n    </tr>\n  </thead>\n  <tbody>\n    <tr>\n      <th>0</th>\n      <td>2007</td>\n      <td>2006-12-31</td>\n      <td>1</td>\n      <td>554</td>\n      <td>107</td>\n      <td>1</td>\n      <td>43514726.0</td>\n    </tr>\n    <tr>\n      <th>1</th>\n      <td>2007</td>\n      <td>2007-01-07</td>\n      <td>2</td>\n      <td>382</td>\n      <td>58</td>\n      <td>0</td>\n      <td>43514726.0</td>\n    </tr>\n    <tr>\n      <th>2</th>\n      <td>2007</td>\n      <td>2007-01-14</td>\n      <td>3</td>\n      <td>403</td>\n      <td>87</td>\n      <td>0</td>\n      <td>43514726.0</td>\n    </tr>\n    <tr>\n      <th>3</th>\n      <td>2007</td>\n      <td>2007-01-21</td>\n      <td>4</td>\n      <td>503</td>\n      <td>81</td>\n      <td>1</td>\n      <td>43514726.0</td>\n    </tr>\n    <tr>\n      <th>4</th>\n      <td>2007</td>\n      <td>2007-01-28</td>\n      <td>5</td>\n      <td>507</td>\n      <td>82</td>\n      <td>0</td>\n      <td>43514726.0</td>\n    </tr>\n    <tr>\n      <th>...</th>\n      <td>...</td>\n      <td>...</td>\n      <td>...</td>\n      <td>...</td>\n      <td>...</td>\n      <td>...</td>\n      <td>...</td>\n    </tr>\n    <tr>\n      <th>726</th>\n      <td>2020</td>\n      <td>2020-11-29</td>\n      <td>49</td>\n      <td>0</td>\n      <td>0</td>\n      <td>0</td>\n      <td>50492854.0</td>\n    </tr>\n    <tr>\n      <th>727</th>\n      <td>2020</td>\n      <td>2020-12-06</td>\n      <td>50</td>\n      <td>0</td>\n      <td>0</td>\n      <td>0</td>\n      <td>50492854.0</td>\n    </tr>\n    <tr>\n      <th>728</th>\n      <td>2020</td>\n      <td>2020-12-13</td>\n      <td>51</td>\n      <td>0</td>\n      <td>0</td>\n      <td>0</td>\n      <td>50492854.0</td>\n    </tr>\n    <tr>\n      <th>729</th>\n      <td>2020</td>\n      <td>2020-12-20</td>\n      <td>52</td>\n      <td>0</td>\n      <td>0</td>\n      <td>0</td>\n      <td>50492854.0</td>\n    </tr>\n    <tr>\n      <th>730</th>\n      <td>2020</td>\n      <td>2020-12-27</td>\n      <td>53</td>\n      <td>0</td>\n      <td>0</td>\n      <td>0</td>\n      <td>50492854.0</td>\n    </tr>\n  </tbody>\n</table>\n<p>731 rows × 7 columns</p>\n</div>"
     },
     "metadata": {},
     "execution_count": 11
    }
   ],
   "source": [
    "df_semanal_col = df_semanal_dpto[['ANO', 'FECHA', 'SEMANA', 'DENGUE', 'DENGUE GRAVE', 'MORTALIDAD POR DENGUE', 'POBLACION']].groupby(['ANO', 'FECHA', 'SEMANA']).sum()\n",
    "df_semanal_col.reset_index(inplace = True)\n",
    "df_semanal_col"
   ]
  },
  {
   "cell_type": "code",
   "execution_count": 12,
   "metadata": {},
   "outputs": [
    {
     "output_type": "execute_result",
     "data": {
      "text/plain": "      ANO       FECHA  SEMANA  DENGUE  DENGUE GRAVE  MORTALIDAD POR DENGUE  \\\n0    2007  2006-12-31       1     554           107                      1   \n1    2007  2007-01-07       2     382            58                      0   \n2    2007  2007-01-14       3     403            87                      0   \n3    2007  2007-01-21       4     503            81                      1   \n4    2007  2007-01-28       5     507            82                      0   \n..    ...         ...     ...     ...           ...                    ...   \n726  2020  2020-11-29      49       0             0                      0   \n727  2020  2020-12-06      50       0             0                      0   \n728  2020  2020-12-13      51       0             0                      0   \n729  2020  2020-12-20      52       0             0                      0   \n730  2020  2020-12-27      53       0             0                      0   \n\n      POBLACION  INCIDENCIA DENGUE  INCIDENCIA DENGUE GRAVE  LETALIDAD  \n0    43514726.0           1.273132                 0.245894   0.934579  \n1    43514726.0           0.877864                 0.133288   0.000000  \n2    43514726.0           0.926123                 0.199932   0.000000  \n3    43514726.0           1.155931                 0.186144   1.234568  \n4    43514726.0           1.165123                 0.188442   0.000000  \n..          ...                ...                      ...        ...  \n726  50492854.0           0.000000                 0.000000        NaN  \n727  50492854.0           0.000000                 0.000000        NaN  \n728  50492854.0           0.000000                 0.000000        NaN  \n729  50492854.0           0.000000                 0.000000        NaN  \n730  50492854.0           0.000000                 0.000000        NaN  \n\n[731 rows x 10 columns]",
      "text/html": "<div>\n<style scoped>\n    .dataframe tbody tr th:only-of-type {\n        vertical-align: middle;\n    }\n\n    .dataframe tbody tr th {\n        vertical-align: top;\n    }\n\n    .dataframe thead th {\n        text-align: right;\n    }\n</style>\n<table border=\"1\" class=\"dataframe\">\n  <thead>\n    <tr style=\"text-align: right;\">\n      <th></th>\n      <th>ANO</th>\n      <th>FECHA</th>\n      <th>SEMANA</th>\n      <th>DENGUE</th>\n      <th>DENGUE GRAVE</th>\n      <th>MORTALIDAD POR DENGUE</th>\n      <th>POBLACION</th>\n      <th>INCIDENCIA DENGUE</th>\n      <th>INCIDENCIA DENGUE GRAVE</th>\n      <th>LETALIDAD</th>\n    </tr>\n  </thead>\n  <tbody>\n    <tr>\n      <th>0</th>\n      <td>2007</td>\n      <td>2006-12-31</td>\n      <td>1</td>\n      <td>554</td>\n      <td>107</td>\n      <td>1</td>\n      <td>43514726.0</td>\n      <td>1.273132</td>\n      <td>0.245894</td>\n      <td>0.934579</td>\n    </tr>\n    <tr>\n      <th>1</th>\n      <td>2007</td>\n      <td>2007-01-07</td>\n      <td>2</td>\n      <td>382</td>\n      <td>58</td>\n      <td>0</td>\n      <td>43514726.0</td>\n      <td>0.877864</td>\n      <td>0.133288</td>\n      <td>0.000000</td>\n    </tr>\n    <tr>\n      <th>2</th>\n      <td>2007</td>\n      <td>2007-01-14</td>\n      <td>3</td>\n      <td>403</td>\n      <td>87</td>\n      <td>0</td>\n      <td>43514726.0</td>\n      <td>0.926123</td>\n      <td>0.199932</td>\n      <td>0.000000</td>\n    </tr>\n    <tr>\n      <th>3</th>\n      <td>2007</td>\n      <td>2007-01-21</td>\n      <td>4</td>\n      <td>503</td>\n      <td>81</td>\n      <td>1</td>\n      <td>43514726.0</td>\n      <td>1.155931</td>\n      <td>0.186144</td>\n      <td>1.234568</td>\n    </tr>\n    <tr>\n      <th>4</th>\n      <td>2007</td>\n      <td>2007-01-28</td>\n      <td>5</td>\n      <td>507</td>\n      <td>82</td>\n      <td>0</td>\n      <td>43514726.0</td>\n      <td>1.165123</td>\n      <td>0.188442</td>\n      <td>0.000000</td>\n    </tr>\n    <tr>\n      <th>...</th>\n      <td>...</td>\n      <td>...</td>\n      <td>...</td>\n      <td>...</td>\n      <td>...</td>\n      <td>...</td>\n      <td>...</td>\n      <td>...</td>\n      <td>...</td>\n      <td>...</td>\n    </tr>\n    <tr>\n      <th>726</th>\n      <td>2020</td>\n      <td>2020-11-29</td>\n      <td>49</td>\n      <td>0</td>\n      <td>0</td>\n      <td>0</td>\n      <td>50492854.0</td>\n      <td>0.000000</td>\n      <td>0.000000</td>\n      <td>NaN</td>\n    </tr>\n    <tr>\n      <th>727</th>\n      <td>2020</td>\n      <td>2020-12-06</td>\n      <td>50</td>\n      <td>0</td>\n      <td>0</td>\n      <td>0</td>\n      <td>50492854.0</td>\n      <td>0.000000</td>\n      <td>0.000000</td>\n      <td>NaN</td>\n    </tr>\n    <tr>\n      <th>728</th>\n      <td>2020</td>\n      <td>2020-12-13</td>\n      <td>51</td>\n      <td>0</td>\n      <td>0</td>\n      <td>0</td>\n      <td>50492854.0</td>\n      <td>0.000000</td>\n      <td>0.000000</td>\n      <td>NaN</td>\n    </tr>\n    <tr>\n      <th>729</th>\n      <td>2020</td>\n      <td>2020-12-20</td>\n      <td>52</td>\n      <td>0</td>\n      <td>0</td>\n      <td>0</td>\n      <td>50492854.0</td>\n      <td>0.000000</td>\n      <td>0.000000</td>\n      <td>NaN</td>\n    </tr>\n    <tr>\n      <th>730</th>\n      <td>2020</td>\n      <td>2020-12-27</td>\n      <td>53</td>\n      <td>0</td>\n      <td>0</td>\n      <td>0</td>\n      <td>50492854.0</td>\n      <td>0.000000</td>\n      <td>0.000000</td>\n      <td>NaN</td>\n    </tr>\n  </tbody>\n</table>\n<p>731 rows × 10 columns</p>\n</div>"
     },
     "metadata": {},
     "execution_count": 12
    }
   ],
   "source": [
    "df_semanal_col = df_semanal_col[~df_semanal_col['POBLACION'].isna()]\n",
    "df_semanal_col['INCIDENCIA DENGUE'] = df_semanal_col['DENGUE'] * 100000 / df_semanal_col['POBLACION']\n",
    "df_semanal_col['INCIDENCIA DENGUE GRAVE'] = df_semanal_col['DENGUE GRAVE'] * 100000 / df_semanal_col['POBLACION']\n",
    "df_semanal_col['LETALIDAD'] = df_semanal_col['MORTALIDAD POR DENGUE'] * 100 / df_semanal_col['DENGUE GRAVE']\n",
    "df_semanal_col.reset_index(inplace = True, drop=True)\n",
    "df_semanal_col"
   ]
  },
  {
   "cell_type": "code",
   "execution_count": 13,
   "metadata": {
    "tags": []
   },
   "outputs": [
    {
     "output_type": "stream",
     "name": "stdout",
     "text": "Iteration:  0 Time:  11:19:52\nIteration:  100 Time:  11:19:54\nIteration:  200 Time:  11:19:56\nIteration:  300 Time:  11:19:58\nIteration:  400 Time:  11:20:00\nIteration:  500 Time:  11:20:02\nIteration:  600 Time:  11:20:04\nIteration:  700 Time:  11:20:06\nWall time: 15.5 s\n"
    }
   ],
   "source": [
    "%%time\n",
    "df_semanal_col['P25'] = np.nan\n",
    "df_semanal_col['MED'] = np.nan\n",
    "df_semanal_col['P75'] = np.nan\n",
    "\n",
    "df_semanal_col['lower_limit'] = np.nan\n",
    "df_semanal_col['upper_limit'] = np.nan\n",
    "df_semanal_col['observed_reason'] = np.nan\n",
    "df_semanal_col['expected_reason'] = 1\n",
    "\n",
    "df_semanal_col['lower_limit_IC95'] = np.nan\n",
    "df_semanal_col['upper_limit_IC95'] = np.nan\n",
    "df_semanal_col['threshold_IC95'] = np.nan\n",
    "\n",
    "for i in range(len(df_semanal_col)):\n",
    "\n",
    "    df_temp_past = df_semanal_col[(df_semanal_col['ANO'] < df_semanal_col.iloc[i]['ANO']) &\n",
    "            (df_semanal_col['SEMANA'] == df_semanal_col.iloc[i]['SEMANA'])]['DENGUE']\n",
    "\n",
    "    df_semanal_col.iloc[i, df_semanal_col.columns.get_loc('P25')] = df_temp_past.quantile(0.25)\n",
    "    df_semanal_col.iloc[i, df_semanal_col.columns.get_loc('MED')] = df_temp_past.median()\n",
    "    df_semanal_col.iloc[i, df_semanal_col.columns.get_loc('P75')] = df_temp_past.quantile(0.75)\n",
    "\n",
    "\n",
    "\n",
    "    if df_semanal_col.iloc[i]['SEMANA'] == 1:\n",
    "        df_temp = df_semanal_col[\n",
    "            (df_semanal_col['ANO'] < df_semanal_col.iloc[i]['ANO']) & \n",
    "            ((df_semanal_col['SEMANA'] == df_semanal_col.iloc[i]['SEMANA']) | \n",
    "            (df_semanal_col['SEMANA'] == df_semanal_col.iloc[i]['SEMANA'] + 1)) |\n",
    "            ((df_semanal_col['ANO'] < df_semanal_col.iloc[i]['ANO'] - 1) & \n",
    "            (df_semanal_col['SEMANA'] == 12))\n",
    "        ]\n",
    "    elif df_semanal_col.iloc[i]['SEMANA'] == 12:\n",
    "        df_temp = df_semanal_col[\n",
    "            (df_semanal_col['ANO'] < df_semanal_col.iloc[i]['ANO']) & \n",
    "            ((df_semanal_col['SEMANA'] == df_semanal_col.iloc[i]['SEMANA']) | \n",
    "            (df_semanal_col['SEMANA'] == df_semanal_col.iloc[i]['SEMANA'] - 1)) |\n",
    "            ((df_semanal_col['ANO'] < df_semanal_col.iloc[i]['ANO'] + 1) & \n",
    "            (df_semanal_col['SEMANA'] == 1))\n",
    "        ]\n",
    "    else:\n",
    "        df_temp = df_semanal_col[\n",
    "            (df_semanal_col['ANO'] < df_semanal_col.iloc[i]['ANO']) & \n",
    "            ((df_semanal_col['SEMANA'] == df_semanal_col.iloc[i]['SEMANA']) | \n",
    "            (df_semanal_col['SEMANA'] == df_semanal_col.iloc[i]['SEMANA'] + 1) | \n",
    "            (df_semanal_col['SEMANA'] == df_semanal_col.iloc[i]['SEMANA'] - 1))]\n",
    "\n",
    "\n",
    "    expected_number = df_temp['DENGUE'].mean()\n",
    "    standar_dev = df_temp['DENGUE'].std()\n",
    "    CV = standar_dev / expected_number\n",
    "    df_semanal_col.iloc[i, df_semanal_col.columns.get_loc('lower_limit')] = 1 - (1.96 * CV)\n",
    "    df_semanal_col.iloc[i, df_semanal_col.columns.get_loc('upper_limit')] = 1 + (1.96 * CV)\n",
    "    df_semanal_col.iloc[i, df_semanal_col.columns.get_loc('observed_reason')] = df_semanal_col.iloc[i]['DENGUE'] / expected_number\n",
    "\n",
    "\n",
    "\n",
    "    geometric_mean = stats.gmean(df_temp_past)\n",
    "    standar_dev1 = df_temp_past.std()\n",
    "    standar_error = standar_dev1 / math.sqrt(5)\n",
    "    deg_freedom = stats.t.ppf((1 - 0.025), (df_temp_past.count() - 1))\n",
    "\n",
    "    df_semanal_col.iloc[i, df_semanal_col.columns.get_loc('lower_limit_IC95')] = geometric_mean - (deg_freedom * standar_error)\n",
    "    df_semanal_col.iloc[i, df_semanal_col.columns.get_loc('upper_limit_IC95')] = geometric_mean + (deg_freedom * standar_error)\n",
    "    df_semanal_col.iloc[i, df_semanal_col.columns.get_loc('threshold_IC95')] = df_semanal_col[(df_semanal_col['ANO'] < df_semanal_col.iloc[i]['ANO'])]['DENGUE'].mean()\n",
    "\n",
    "    if i % 100 == 0:\n",
    "        now = datetime.now()\n",
    "        current_time = now.strftime(\"%H:%M:%S\")\n",
    "        print('Iteration: ', i, 'Time: ', current_time)"
   ]
  },
  {
   "cell_type": "code",
   "execution_count": 14,
   "metadata": {},
   "outputs": [],
   "source": [
    "df_semanal_col.to_csv('Data/JSON/dengue_semanal_col.csv', encoding='utf-8-sig', index = False)"
   ]
  },
  {
   "cell_type": "markdown",
   "metadata": {},
   "source": [
    "# Construcción de las gráficas anuales por municipio"
   ]
  },
  {
   "cell_type": "code",
   "execution_count": 15,
   "metadata": {},
   "outputs": [
    {
     "output_type": "execute_result",
     "data": {
      "text/plain": "Index(['ANO', 'COD_MUNICIPIO', 'FECHA', 'SEMANA', 'COD_DPTO', 'DENGUE',\n       'DENGUE GRAVE', 'MORTALIDAD POR DENGUE', 'POBLACION', 'DEPARTAMENTO',\n       'MUNICIPIO', 'INCIDENCIA DENGUE', 'INCIDENCIA DENGUE GRAVE',\n       'LETALIDAD', 'P25', 'MED', 'P75', 'lower_limit', 'upper_limit',\n       'observed_reason', 'expected_reason', 'lower_limit_IC95',\n       'upper_limit_IC95', 'threshold_IC95'],\n      dtype='object')"
     },
     "metadata": {},
     "execution_count": 15
    }
   ],
   "source": [
    "df_semanal.columns"
   ]
  },
  {
   "cell_type": "code",
   "execution_count": 16,
   "metadata": {},
   "outputs": [
    {
     "output_type": "execute_result",
     "data": {
      "text/plain": "        ANO  COD_MUNICIPIO       MUNICIPIO DEPARTAMENTO  DENGUE  DENGUE GRAVE  \\\n0      2007           5001        MEDELLIN    ANTIOQUIA       4             1   \n1      2007           5002       ABEJORRAL    ANTIOQUIA       0             0   \n2      2007           5004        ABRIAQUI    ANTIOQUIA       0             0   \n3      2007           5021      ALEJANDRIA    ANTIOQUIA       0             0   \n4      2007           5030           AMAGA    ANTIOQUIA       0             0   \n...     ...            ...             ...          ...     ...           ...   \n14807  2020          97889   YAVARATE (CD)       VAUPES       0             0   \n14808  2020          99001  PUERTO CARREÑO      VICHADA       1             0   \n14809  2020          99524    LA PRIMAVERA      VICHADA       4             0   \n14810  2020          99624   SANTA ROSALIA      VICHADA       0             0   \n14811  2020          99773        CUMARIBO      VICHADA      11             0   \n\n       MORTALIDAD POR DENGUE  POBLACION  \n0                          0  2265244.0  \n1                          0    20022.0  \n2                          0     2570.0  \n3                          0     3747.0  \n4                          0    27709.0  \n...                      ...        ...  \n14807                      0     1218.0  \n14808                      0    17031.0  \n14809                      0    18248.0  \n14810                      0     4310.0  \n14811                      0    41459.0  \n\n[14812 rows x 8 columns]",
      "text/html": "<div>\n<style scoped>\n    .dataframe tbody tr th:only-of-type {\n        vertical-align: middle;\n    }\n\n    .dataframe tbody tr th {\n        vertical-align: top;\n    }\n\n    .dataframe thead th {\n        text-align: right;\n    }\n</style>\n<table border=\"1\" class=\"dataframe\">\n  <thead>\n    <tr style=\"text-align: right;\">\n      <th></th>\n      <th>ANO</th>\n      <th>COD_MUNICIPIO</th>\n      <th>MUNICIPIO</th>\n      <th>DEPARTAMENTO</th>\n      <th>DENGUE</th>\n      <th>DENGUE GRAVE</th>\n      <th>MORTALIDAD POR DENGUE</th>\n      <th>POBLACION</th>\n    </tr>\n  </thead>\n  <tbody>\n    <tr>\n      <th>0</th>\n      <td>2007</td>\n      <td>5001</td>\n      <td>MEDELLIN</td>\n      <td>ANTIOQUIA</td>\n      <td>4</td>\n      <td>1</td>\n      <td>0</td>\n      <td>2265244.0</td>\n    </tr>\n    <tr>\n      <th>1</th>\n      <td>2007</td>\n      <td>5002</td>\n      <td>ABEJORRAL</td>\n      <td>ANTIOQUIA</td>\n      <td>0</td>\n      <td>0</td>\n      <td>0</td>\n      <td>20022.0</td>\n    </tr>\n    <tr>\n      <th>2</th>\n      <td>2007</td>\n      <td>5004</td>\n      <td>ABRIAQUI</td>\n      <td>ANTIOQUIA</td>\n      <td>0</td>\n      <td>0</td>\n      <td>0</td>\n      <td>2570.0</td>\n    </tr>\n    <tr>\n      <th>3</th>\n      <td>2007</td>\n      <td>5021</td>\n      <td>ALEJANDRIA</td>\n      <td>ANTIOQUIA</td>\n      <td>0</td>\n      <td>0</td>\n      <td>0</td>\n      <td>3747.0</td>\n    </tr>\n    <tr>\n      <th>4</th>\n      <td>2007</td>\n      <td>5030</td>\n      <td>AMAGA</td>\n      <td>ANTIOQUIA</td>\n      <td>0</td>\n      <td>0</td>\n      <td>0</td>\n      <td>27709.0</td>\n    </tr>\n    <tr>\n      <th>...</th>\n      <td>...</td>\n      <td>...</td>\n      <td>...</td>\n      <td>...</td>\n      <td>...</td>\n      <td>...</td>\n      <td>...</td>\n      <td>...</td>\n    </tr>\n    <tr>\n      <th>14807</th>\n      <td>2020</td>\n      <td>97889</td>\n      <td>YAVARATE (CD)</td>\n      <td>VAUPES</td>\n      <td>0</td>\n      <td>0</td>\n      <td>0</td>\n      <td>1218.0</td>\n    </tr>\n    <tr>\n      <th>14808</th>\n      <td>2020</td>\n      <td>99001</td>\n      <td>PUERTO CARREÑO</td>\n      <td>VICHADA</td>\n      <td>1</td>\n      <td>0</td>\n      <td>0</td>\n      <td>17031.0</td>\n    </tr>\n    <tr>\n      <th>14809</th>\n      <td>2020</td>\n      <td>99524</td>\n      <td>LA PRIMAVERA</td>\n      <td>VICHADA</td>\n      <td>4</td>\n      <td>0</td>\n      <td>0</td>\n      <td>18248.0</td>\n    </tr>\n    <tr>\n      <th>14810</th>\n      <td>2020</td>\n      <td>99624</td>\n      <td>SANTA ROSALIA</td>\n      <td>VICHADA</td>\n      <td>0</td>\n      <td>0</td>\n      <td>0</td>\n      <td>4310.0</td>\n    </tr>\n    <tr>\n      <th>14811</th>\n      <td>2020</td>\n      <td>99773</td>\n      <td>CUMARIBO</td>\n      <td>VICHADA</td>\n      <td>11</td>\n      <td>0</td>\n      <td>0</td>\n      <td>41459.0</td>\n    </tr>\n  </tbody>\n</table>\n<p>14812 rows × 8 columns</p>\n</div>"
     },
     "metadata": {},
     "execution_count": 16
    }
   ],
   "source": [
    "df_anual = df_semanal[['ANO', 'COD_MUNICIPIO', 'DENGUE', 'MUNICIPIO', 'DEPARTAMENTO', \n",
    "       'DENGUE GRAVE', 'MORTALIDAD POR DENGUE', 'POBLACION']].groupby(['ANO', 'COD_MUNICIPIO', 'MUNICIPIO', 'DEPARTAMENTO']).agg({'DENGUE' : 'sum', 'DENGUE GRAVE' : 'sum', 'MORTALIDAD POR DENGUE' : 'sum', 'POBLACION' : 'mean'})\n",
    "df_anual.reset_index(inplace = True)\n",
    "df_anual"
   ]
  },
  {
   "cell_type": "code",
   "execution_count": 17,
   "metadata": {},
   "outputs": [
    {
     "output_type": "execute_result",
     "data": {
      "text/plain": "        ANO  COD_MUNICIPIO MUNICIPIO DEPARTAMENTO  DENGUE  DENGUE GRAVE  \\\n0      2007           5001  MEDELLIN    ANTIOQUIA       4             1   \n1      2008           5001  MEDELLIN    ANTIOQUIA     888            20   \n2      2009           5001  MEDELLIN    ANTIOQUIA     412             1   \n3      2010           5001  MEDELLIN    ANTIOQUIA   15458           112   \n4      2011           5001  MEDELLIN    ANTIOQUIA     781            21   \n...     ...            ...       ...          ...     ...           ...   \n14807  2016          99773  CUMARIBO      VICHADA      53             2   \n14808  2017          99773  CUMARIBO      VICHADA      16             0   \n14809  2018          99773  CUMARIBO      VICHADA       6             0   \n14810  2019          99773  CUMARIBO      VICHADA      38             1   \n14811  2020          99773  CUMARIBO      VICHADA      11             0   \n\n       MORTALIDAD POR DENGUE  POBLACION  INCIDENCIA DENGUE  \\\n0                          0  2265244.0           0.176581   \n1                          0  2291378.0          38.753973   \n2                          0  2317336.0          17.779036   \n3                         13  2343049.0         659.738657   \n4                          0  2368282.0          32.977492   \n...                      ...        ...                ...   \n14807                      0    37740.0         140.434552   \n14808                      0    38634.0          41.414298   \n14809                      0    39549.0          15.171054   \n14810                      0    40490.0          93.850333   \n14811                      0    41459.0          26.532237   \n\n       INCIDENCIA DENGUE GRAVE  LETALIDAD  MORTALITY RATE  PCT CHANGE DENGUE  \\\n0                     0.044145   0.000000        0.000000           0.000000   \n1                     0.872837   0.000000        0.000000       22100.000000   \n2                     0.043153   0.000000        0.000000         -53.603604   \n3                     4.780096  11.607143        0.000555        3651.941748   \n4                     0.886719   0.000000        0.000000         -94.947600   \n...                        ...        ...             ...                ...   \n14807                 5.299417   0.000000        0.000000           1.923077   \n14808                 0.000000   0.000000        0.000000         -69.811321   \n14809                 0.000000   0.000000        0.000000         -62.500000   \n14810                 2.469746   0.000000        0.000000         533.333333   \n14811                 0.000000   0.000000        0.000000         -71.052632   \n\n       PCT CHANGE DENGUE GRAVE  PCT CHANGE MORTALIDAD POR DENGUE  \\\n0                         0.00                               0.0   \n1                      1900.00                               0.0   \n2                       -95.00                               0.0   \n3                     11100.00                               inf   \n4                       -81.25                            -100.0   \n...                        ...                               ...   \n14807                      inf                               0.0   \n14808                  -100.00                               0.0   \n14809                     0.00                               0.0   \n14810                      inf                               0.0   \n14811                  -100.00                               0.0   \n\n       PCT CHANGE INCIDENCIA DENGUE  PCT CHANGE INCIDENCIA DENGUE GRAVE  \\\n0                          0.000000                        0.000000e+00   \n1                      21846.800921                        1.877189e+03   \n2                        -54.123320                       -9.505601e+01   \n3                       3610.767330                        1.097709e+04   \n4                        -95.001431                       -8.144977e+01   \n...                             ...                                 ...   \n14807                     -0.434603                                 inf   \n14808                    -70.509894                       -1.000000e+02   \n14809                    -63.367595                        0.000000e+00   \n14810                    518.614473                                 inf   \n14811                    -71.729204                       -1.000000e+02   \n\n       PCT CHANGE MORTALITY RATE  \n0                            0.0  \n1                            0.0  \n2                            0.0  \n3                            inf  \n4                         -100.0  \n...                          ...  \n14807                        0.0  \n14808                        0.0  \n14809                        0.0  \n14810                        0.0  \n14811                        0.0  \n\n[14812 rows x 18 columns]",
      "text/html": "<div>\n<style scoped>\n    .dataframe tbody tr th:only-of-type {\n        vertical-align: middle;\n    }\n\n    .dataframe tbody tr th {\n        vertical-align: top;\n    }\n\n    .dataframe thead th {\n        text-align: right;\n    }\n</style>\n<table border=\"1\" class=\"dataframe\">\n  <thead>\n    <tr style=\"text-align: right;\">\n      <th></th>\n      <th>ANO</th>\n      <th>COD_MUNICIPIO</th>\n      <th>MUNICIPIO</th>\n      <th>DEPARTAMENTO</th>\n      <th>DENGUE</th>\n      <th>DENGUE GRAVE</th>\n      <th>MORTALIDAD POR DENGUE</th>\n      <th>POBLACION</th>\n      <th>INCIDENCIA DENGUE</th>\n      <th>INCIDENCIA DENGUE GRAVE</th>\n      <th>LETALIDAD</th>\n      <th>MORTALITY RATE</th>\n      <th>PCT CHANGE DENGUE</th>\n      <th>PCT CHANGE DENGUE GRAVE</th>\n      <th>PCT CHANGE MORTALIDAD POR DENGUE</th>\n      <th>PCT CHANGE INCIDENCIA DENGUE</th>\n      <th>PCT CHANGE INCIDENCIA DENGUE GRAVE</th>\n      <th>PCT CHANGE MORTALITY RATE</th>\n    </tr>\n  </thead>\n  <tbody>\n    <tr>\n      <th>0</th>\n      <td>2007</td>\n      <td>5001</td>\n      <td>MEDELLIN</td>\n      <td>ANTIOQUIA</td>\n      <td>4</td>\n      <td>1</td>\n      <td>0</td>\n      <td>2265244.0</td>\n      <td>0.176581</td>\n      <td>0.044145</td>\n      <td>0.000000</td>\n      <td>0.000000</td>\n      <td>0.000000</td>\n      <td>0.00</td>\n      <td>0.0</td>\n      <td>0.000000</td>\n      <td>0.000000e+00</td>\n      <td>0.0</td>\n    </tr>\n    <tr>\n      <th>1</th>\n      <td>2008</td>\n      <td>5001</td>\n      <td>MEDELLIN</td>\n      <td>ANTIOQUIA</td>\n      <td>888</td>\n      <td>20</td>\n      <td>0</td>\n      <td>2291378.0</td>\n      <td>38.753973</td>\n      <td>0.872837</td>\n      <td>0.000000</td>\n      <td>0.000000</td>\n      <td>22100.000000</td>\n      <td>1900.00</td>\n      <td>0.0</td>\n      <td>21846.800921</td>\n      <td>1.877189e+03</td>\n      <td>0.0</td>\n    </tr>\n    <tr>\n      <th>2</th>\n      <td>2009</td>\n      <td>5001</td>\n      <td>MEDELLIN</td>\n      <td>ANTIOQUIA</td>\n      <td>412</td>\n      <td>1</td>\n      <td>0</td>\n      <td>2317336.0</td>\n      <td>17.779036</td>\n      <td>0.043153</td>\n      <td>0.000000</td>\n      <td>0.000000</td>\n      <td>-53.603604</td>\n      <td>-95.00</td>\n      <td>0.0</td>\n      <td>-54.123320</td>\n      <td>-9.505601e+01</td>\n      <td>0.0</td>\n    </tr>\n    <tr>\n      <th>3</th>\n      <td>2010</td>\n      <td>5001</td>\n      <td>MEDELLIN</td>\n      <td>ANTIOQUIA</td>\n      <td>15458</td>\n      <td>112</td>\n      <td>13</td>\n      <td>2343049.0</td>\n      <td>659.738657</td>\n      <td>4.780096</td>\n      <td>11.607143</td>\n      <td>0.000555</td>\n      <td>3651.941748</td>\n      <td>11100.00</td>\n      <td>inf</td>\n      <td>3610.767330</td>\n      <td>1.097709e+04</td>\n      <td>inf</td>\n    </tr>\n    <tr>\n      <th>4</th>\n      <td>2011</td>\n      <td>5001</td>\n      <td>MEDELLIN</td>\n      <td>ANTIOQUIA</td>\n      <td>781</td>\n      <td>21</td>\n      <td>0</td>\n      <td>2368282.0</td>\n      <td>32.977492</td>\n      <td>0.886719</td>\n      <td>0.000000</td>\n      <td>0.000000</td>\n      <td>-94.947600</td>\n      <td>-81.25</td>\n      <td>-100.0</td>\n      <td>-95.001431</td>\n      <td>-8.144977e+01</td>\n      <td>-100.0</td>\n    </tr>\n    <tr>\n      <th>...</th>\n      <td>...</td>\n      <td>...</td>\n      <td>...</td>\n      <td>...</td>\n      <td>...</td>\n      <td>...</td>\n      <td>...</td>\n      <td>...</td>\n      <td>...</td>\n      <td>...</td>\n      <td>...</td>\n      <td>...</td>\n      <td>...</td>\n      <td>...</td>\n      <td>...</td>\n      <td>...</td>\n      <td>...</td>\n      <td>...</td>\n    </tr>\n    <tr>\n      <th>14807</th>\n      <td>2016</td>\n      <td>99773</td>\n      <td>CUMARIBO</td>\n      <td>VICHADA</td>\n      <td>53</td>\n      <td>2</td>\n      <td>0</td>\n      <td>37740.0</td>\n      <td>140.434552</td>\n      <td>5.299417</td>\n      <td>0.000000</td>\n      <td>0.000000</td>\n      <td>1.923077</td>\n      <td>inf</td>\n      <td>0.0</td>\n      <td>-0.434603</td>\n      <td>inf</td>\n      <td>0.0</td>\n    </tr>\n    <tr>\n      <th>14808</th>\n      <td>2017</td>\n      <td>99773</td>\n      <td>CUMARIBO</td>\n      <td>VICHADA</td>\n      <td>16</td>\n      <td>0</td>\n      <td>0</td>\n      <td>38634.0</td>\n      <td>41.414298</td>\n      <td>0.000000</td>\n      <td>0.000000</td>\n      <td>0.000000</td>\n      <td>-69.811321</td>\n      <td>-100.00</td>\n      <td>0.0</td>\n      <td>-70.509894</td>\n      <td>-1.000000e+02</td>\n      <td>0.0</td>\n    </tr>\n    <tr>\n      <th>14809</th>\n      <td>2018</td>\n      <td>99773</td>\n      <td>CUMARIBO</td>\n      <td>VICHADA</td>\n      <td>6</td>\n      <td>0</td>\n      <td>0</td>\n      <td>39549.0</td>\n      <td>15.171054</td>\n      <td>0.000000</td>\n      <td>0.000000</td>\n      <td>0.000000</td>\n      <td>-62.500000</td>\n      <td>0.00</td>\n      <td>0.0</td>\n      <td>-63.367595</td>\n      <td>0.000000e+00</td>\n      <td>0.0</td>\n    </tr>\n    <tr>\n      <th>14810</th>\n      <td>2019</td>\n      <td>99773</td>\n      <td>CUMARIBO</td>\n      <td>VICHADA</td>\n      <td>38</td>\n      <td>1</td>\n      <td>0</td>\n      <td>40490.0</td>\n      <td>93.850333</td>\n      <td>2.469746</td>\n      <td>0.000000</td>\n      <td>0.000000</td>\n      <td>533.333333</td>\n      <td>inf</td>\n      <td>0.0</td>\n      <td>518.614473</td>\n      <td>inf</td>\n      <td>0.0</td>\n    </tr>\n    <tr>\n      <th>14811</th>\n      <td>2020</td>\n      <td>99773</td>\n      <td>CUMARIBO</td>\n      <td>VICHADA</td>\n      <td>11</td>\n      <td>0</td>\n      <td>0</td>\n      <td>41459.0</td>\n      <td>26.532237</td>\n      <td>0.000000</td>\n      <td>0.000000</td>\n      <td>0.000000</td>\n      <td>-71.052632</td>\n      <td>-100.00</td>\n      <td>0.0</td>\n      <td>-71.729204</td>\n      <td>-1.000000e+02</td>\n      <td>0.0</td>\n    </tr>\n  </tbody>\n</table>\n<p>14812 rows × 18 columns</p>\n</div>"
     },
     "metadata": {},
     "execution_count": 17
    }
   ],
   "source": [
    "df_anual = df_anual[~df_anual['POBLACION'].isna()]\n",
    "df_anual['INCIDENCIA DENGUE'] = df_anual['DENGUE'] * 100000 / df_anual['POBLACION']\n",
    "df_anual['INCIDENCIA DENGUE GRAVE'] = df_anual['DENGUE GRAVE'] * 100000 / df_anual['POBLACION']\n",
    "df_anual['LETALIDAD'] = df_anual['MORTALIDAD POR DENGUE'] * 100 / df_anual['DENGUE GRAVE']\n",
    "df_anual['MORTALITY RATE'] = df_anual['MORTALIDAD POR DENGUE'] * 100 / df_anual['POBLACION']\n",
    "\n",
    "lista = []\n",
    "\n",
    "for i in df_anual['COD_MUNICIPIO'].unique():\n",
    "    df_temp = df_anual[df_anual['COD_MUNICIPIO'] == i]\n",
    "\n",
    "    df_temp['PCT CHANGE DENGUE'] = df_temp['DENGUE'].pct_change() * 100\n",
    "    df_temp['PCT CHANGE DENGUE GRAVE'] = df_temp['DENGUE GRAVE'].pct_change() * 100\n",
    "    df_temp['PCT CHANGE MORTALIDAD POR DENGUE'] = df_temp['MORTALIDAD POR DENGUE'].pct_change() * 100\n",
    "    df_temp['PCT CHANGE INCIDENCIA DENGUE'] = df_temp['INCIDENCIA DENGUE'].pct_change() * 100\n",
    "    df_temp['PCT CHANGE INCIDENCIA DENGUE GRAVE'] = df_temp['INCIDENCIA DENGUE GRAVE'].pct_change() * 100\n",
    "    df_temp['PCT CHANGE MORTALITY RATE'] = df_temp['MORTALITY RATE'].pct_change() * 100\n",
    "    lista.append(df_temp)\n",
    "\n",
    "df_anual = pd.concat(lista)\n",
    "df_anual.fillna(0, inplace = True)\n",
    "df_anual.reset_index(inplace = True, drop=True)\n",
    "df_anual"
   ]
  },
  {
   "cell_type": "code",
   "execution_count": 18,
   "metadata": {},
   "outputs": [],
   "source": [
    "df_anual.to_csv('Data/JSON/dengue_anual.csv', encoding='utf-8-sig', index = False)"
   ]
  },
  {
   "cell_type": "markdown",
   "metadata": {},
   "source": [
    "# Construcción de las gráficas anuales por departamento"
   ]
  },
  {
   "cell_type": "code",
   "execution_count": 19,
   "metadata": {},
   "outputs": [
    {
     "output_type": "execute_result",
     "data": {
      "text/plain": "Index(['ANO', 'FECHA', 'SEMANA', 'COD_DPTO', 'DEPARTAMENTO', 'DENGUE',\n       'DENGUE GRAVE', 'MORTALIDAD POR DENGUE', 'POBLACION',\n       'INCIDENCIA DENGUE', 'INCIDENCIA DENGUE GRAVE', 'LETALIDAD', 'P25',\n       'MED', 'P75', 'lower_limit', 'upper_limit', 'observed_reason',\n       'expected_reason', 'lower_limit_IC95', 'upper_limit_IC95',\n       'threshold_IC95'],\n      dtype='object')"
     },
     "metadata": {},
     "execution_count": 19
    }
   ],
   "source": [
    "df_semanal_dpto.columns"
   ]
  },
  {
   "cell_type": "code",
   "execution_count": 20,
   "metadata": {},
   "outputs": [
    {
     "output_type": "execute_result",
     "data": {
      "text/plain": "      ANO  COD_DPTO DEPARTAMENTO  DENGUE  DENGUE GRAVE  MORTALIDAD POR DENGUE  \\\n0    2007         5    ANTIOQUIA      49            18                      0   \n1    2007         8    ATLANTICO    3232            88                      0   \n2    2007        11       BOGOTA       0             0                      1   \n3    2007        13      BOLIVAR     635            93                      0   \n4    2007        15       BOYACA     331            19                      0   \n..    ...       ...          ...     ...           ...                    ...   \n457  2020        91     AMAZONAS     134             0                      0   \n458  2020        94      GUAINIA      27             1                      0   \n459  2020        95     GUAVIARE      72             1                      0   \n460  2020        97       VAUPES      48             0                      0   \n461  2020        99      VICHADA      16             0                      0   \n\n     POBLACION  \n0    5834865.0  \n1    2225481.0  \n2    7050228.0  \n3    1917345.0  \n4    1009633.0  \n..         ...  \n457    76787.0  \n458    43349.0  \n459   119214.0  \n460    44997.0  \n461    81048.0  \n\n[462 rows x 7 columns]",
      "text/html": "<div>\n<style scoped>\n    .dataframe tbody tr th:only-of-type {\n        vertical-align: middle;\n    }\n\n    .dataframe tbody tr th {\n        vertical-align: top;\n    }\n\n    .dataframe thead th {\n        text-align: right;\n    }\n</style>\n<table border=\"1\" class=\"dataframe\">\n  <thead>\n    <tr style=\"text-align: right;\">\n      <th></th>\n      <th>ANO</th>\n      <th>COD_DPTO</th>\n      <th>DEPARTAMENTO</th>\n      <th>DENGUE</th>\n      <th>DENGUE GRAVE</th>\n      <th>MORTALIDAD POR DENGUE</th>\n      <th>POBLACION</th>\n    </tr>\n  </thead>\n  <tbody>\n    <tr>\n      <th>0</th>\n      <td>2007</td>\n      <td>5</td>\n      <td>ANTIOQUIA</td>\n      <td>49</td>\n      <td>18</td>\n      <td>0</td>\n      <td>5834865.0</td>\n    </tr>\n    <tr>\n      <th>1</th>\n      <td>2007</td>\n      <td>8</td>\n      <td>ATLANTICO</td>\n      <td>3232</td>\n      <td>88</td>\n      <td>0</td>\n      <td>2225481.0</td>\n    </tr>\n    <tr>\n      <th>2</th>\n      <td>2007</td>\n      <td>11</td>\n      <td>BOGOTA</td>\n      <td>0</td>\n      <td>0</td>\n      <td>1</td>\n      <td>7050228.0</td>\n    </tr>\n    <tr>\n      <th>3</th>\n      <td>2007</td>\n      <td>13</td>\n      <td>BOLIVAR</td>\n      <td>635</td>\n      <td>93</td>\n      <td>0</td>\n      <td>1917345.0</td>\n    </tr>\n    <tr>\n      <th>4</th>\n      <td>2007</td>\n      <td>15</td>\n      <td>BOYACA</td>\n      <td>331</td>\n      <td>19</td>\n      <td>0</td>\n      <td>1009633.0</td>\n    </tr>\n    <tr>\n      <th>...</th>\n      <td>...</td>\n      <td>...</td>\n      <td>...</td>\n      <td>...</td>\n      <td>...</td>\n      <td>...</td>\n      <td>...</td>\n    </tr>\n    <tr>\n      <th>457</th>\n      <td>2020</td>\n      <td>91</td>\n      <td>AMAZONAS</td>\n      <td>134</td>\n      <td>0</td>\n      <td>0</td>\n      <td>76787.0</td>\n    </tr>\n    <tr>\n      <th>458</th>\n      <td>2020</td>\n      <td>94</td>\n      <td>GUAINIA</td>\n      <td>27</td>\n      <td>1</td>\n      <td>0</td>\n      <td>43349.0</td>\n    </tr>\n    <tr>\n      <th>459</th>\n      <td>2020</td>\n      <td>95</td>\n      <td>GUAVIARE</td>\n      <td>72</td>\n      <td>1</td>\n      <td>0</td>\n      <td>119214.0</td>\n    </tr>\n    <tr>\n      <th>460</th>\n      <td>2020</td>\n      <td>97</td>\n      <td>VAUPES</td>\n      <td>48</td>\n      <td>0</td>\n      <td>0</td>\n      <td>44997.0</td>\n    </tr>\n    <tr>\n      <th>461</th>\n      <td>2020</td>\n      <td>99</td>\n      <td>VICHADA</td>\n      <td>16</td>\n      <td>0</td>\n      <td>0</td>\n      <td>81048.0</td>\n    </tr>\n  </tbody>\n</table>\n<p>462 rows × 7 columns</p>\n</div>"
     },
     "metadata": {},
     "execution_count": 20
    }
   ],
   "source": [
    "df_anual_dpto = df_semanal_dpto[['ANO', 'COD_DPTO', 'DENGUE', 'DEPARTAMENTO', \n",
    "       'DENGUE GRAVE', 'MORTALIDAD POR DENGUE', 'POBLACION']].groupby(['ANO', 'COD_DPTO', 'DEPARTAMENTO']).agg({'DENGUE' : 'sum', 'DENGUE GRAVE' : 'sum', 'MORTALIDAD POR DENGUE' : 'sum', 'POBLACION' : 'mean'})\n",
    "df_anual_dpto.reset_index(inplace = True)\n",
    "df_anual_dpto"
   ]
  },
  {
   "cell_type": "code",
   "execution_count": 21,
   "metadata": {},
   "outputs": [
    {
     "output_type": "execute_result",
     "data": {
      "text/plain": "      ANO  COD_DPTO DEPARTAMENTO  DENGUE  DENGUE GRAVE  MORTALIDAD POR DENGUE  \\\n0    2007         5    ANTIOQUIA      49            18                      0   \n1    2008         5    ANTIOQUIA    2474           180                      1   \n2    2009         5    ANTIOQUIA    1297           108                      1   \n3    2010         5    ANTIOQUIA   25661           476                     17   \n4    2011         5    ANTIOQUIA    1921            59                      0   \n..    ...       ...          ...     ...           ...                    ...   \n457  2016        99      VICHADA     166             7                      0   \n458  2017        99      VICHADA      30             0                      0   \n459  2018        99      VICHADA      14             0                      0   \n460  2019        99      VICHADA     375             1                      0   \n461  2020        99      VICHADA      16             0                      0   \n\n     POBLACION  INCIDENCIA DENGUE  INCIDENCIA DENGUE GRAVE  LETALIDAD  \\\n0    5834865.0           0.839779                 0.308490   0.000000   \n1    5911399.0          41.851345                 3.044964   0.555556   \n2    5988552.0          21.657990                 1.803441   0.925926   \n3    6066003.0         423.029794                 7.847012   3.571429   \n4    6143809.0          31.267248                 0.960316   0.000000   \n..         ...                ...                      ...        ...   \n457    73702.0         225.231337                 9.497707   0.000000   \n458    75468.0          39.751948                 0.000000   0.000000   \n459    77276.0          18.116880                 0.000000   0.000000   \n460    79134.0         473.879748                 1.263679   0.000000   \n461    81048.0          19.741388                 0.000000   0.000000   \n\n     MORTALITY RATE  PCT CHANGE DENGUE  PCT CHANGE DENGUE GRAVE  \\\n0          0.000000           0.000000                 0.000000   \n1          0.043668        4948.979592               900.000000   \n2          0.003336         -47.574778               -40.000000   \n3          0.211601        1878.488820               340.740741   \n4          0.000000         -92.513932               -87.605042   \n..              ...                ...                      ...   \n457        0.000000          39.495798                      inf   \n458        0.000000         -81.927711              -100.000000   \n459        0.000000         -53.333333                 0.000000   \n460        0.000000        2578.571429                      inf   \n461        0.000000         -95.733333              -100.000000   \n\n     PCT CHANGE MORTALIDAD POR DENGUE  PCT CHANGE INCIDENCIA DENGUE  \\\n0                                 0.0                      0.000000   \n1                                 inf                   4883.611207   \n2                                 0.0                    -48.250194   \n3                              1600.0                   1853.227386   \n4                              -100.0                    -92.608736   \n..                                ...                           ...   \n457                               0.0                     36.225212   \n458                               0.0                    -82.350614   \n459                               0.0                    -54.425177   \n460                               0.0                   2515.680816   \n461                               0.0                    -95.834093   \n\n     PCT CHANGE INCIDENCIA DENGUE GRAVE  PCT CHANGE MORTALITY RATE  \n0                              0.000000                   0.000000  \n1                            887.053149                        inf  \n2                            -40.773005                 -92.361574  \n3                            335.113343                6243.788897  \n4                            -87.762013                -100.000000  \n..                                  ...                        ...  \n457                                 inf                   0.000000  \n458                         -100.000000                   0.000000  \n459                            0.000000                   0.000000  \n460                                 inf                   0.000000  \n461                         -100.000000                   0.000000  \n\n[462 rows x 17 columns]",
      "text/html": "<div>\n<style scoped>\n    .dataframe tbody tr th:only-of-type {\n        vertical-align: middle;\n    }\n\n    .dataframe tbody tr th {\n        vertical-align: top;\n    }\n\n    .dataframe thead th {\n        text-align: right;\n    }\n</style>\n<table border=\"1\" class=\"dataframe\">\n  <thead>\n    <tr style=\"text-align: right;\">\n      <th></th>\n      <th>ANO</th>\n      <th>COD_DPTO</th>\n      <th>DEPARTAMENTO</th>\n      <th>DENGUE</th>\n      <th>DENGUE GRAVE</th>\n      <th>MORTALIDAD POR DENGUE</th>\n      <th>POBLACION</th>\n      <th>INCIDENCIA DENGUE</th>\n      <th>INCIDENCIA DENGUE GRAVE</th>\n      <th>LETALIDAD</th>\n      <th>MORTALITY RATE</th>\n      <th>PCT CHANGE DENGUE</th>\n      <th>PCT CHANGE DENGUE GRAVE</th>\n      <th>PCT CHANGE MORTALIDAD POR DENGUE</th>\n      <th>PCT CHANGE INCIDENCIA DENGUE</th>\n      <th>PCT CHANGE INCIDENCIA DENGUE GRAVE</th>\n      <th>PCT CHANGE MORTALITY RATE</th>\n    </tr>\n  </thead>\n  <tbody>\n    <tr>\n      <th>0</th>\n      <td>2007</td>\n      <td>5</td>\n      <td>ANTIOQUIA</td>\n      <td>49</td>\n      <td>18</td>\n      <td>0</td>\n      <td>5834865.0</td>\n      <td>0.839779</td>\n      <td>0.308490</td>\n      <td>0.000000</td>\n      <td>0.000000</td>\n      <td>0.000000</td>\n      <td>0.000000</td>\n      <td>0.0</td>\n      <td>0.000000</td>\n      <td>0.000000</td>\n      <td>0.000000</td>\n    </tr>\n    <tr>\n      <th>1</th>\n      <td>2008</td>\n      <td>5</td>\n      <td>ANTIOQUIA</td>\n      <td>2474</td>\n      <td>180</td>\n      <td>1</td>\n      <td>5911399.0</td>\n      <td>41.851345</td>\n      <td>3.044964</td>\n      <td>0.555556</td>\n      <td>0.043668</td>\n      <td>4948.979592</td>\n      <td>900.000000</td>\n      <td>inf</td>\n      <td>4883.611207</td>\n      <td>887.053149</td>\n      <td>inf</td>\n    </tr>\n    <tr>\n      <th>2</th>\n      <td>2009</td>\n      <td>5</td>\n      <td>ANTIOQUIA</td>\n      <td>1297</td>\n      <td>108</td>\n      <td>1</td>\n      <td>5988552.0</td>\n      <td>21.657990</td>\n      <td>1.803441</td>\n      <td>0.925926</td>\n      <td>0.003336</td>\n      <td>-47.574778</td>\n      <td>-40.000000</td>\n      <td>0.0</td>\n      <td>-48.250194</td>\n      <td>-40.773005</td>\n      <td>-92.361574</td>\n    </tr>\n    <tr>\n      <th>3</th>\n      <td>2010</td>\n      <td>5</td>\n      <td>ANTIOQUIA</td>\n      <td>25661</td>\n      <td>476</td>\n      <td>17</td>\n      <td>6066003.0</td>\n      <td>423.029794</td>\n      <td>7.847012</td>\n      <td>3.571429</td>\n      <td>0.211601</td>\n      <td>1878.488820</td>\n      <td>340.740741</td>\n      <td>1600.0</td>\n      <td>1853.227386</td>\n      <td>335.113343</td>\n      <td>6243.788897</td>\n    </tr>\n    <tr>\n      <th>4</th>\n      <td>2011</td>\n      <td>5</td>\n      <td>ANTIOQUIA</td>\n      <td>1921</td>\n      <td>59</td>\n      <td>0</td>\n      <td>6143809.0</td>\n      <td>31.267248</td>\n      <td>0.960316</td>\n      <td>0.000000</td>\n      <td>0.000000</td>\n      <td>-92.513932</td>\n      <td>-87.605042</td>\n      <td>-100.0</td>\n      <td>-92.608736</td>\n      <td>-87.762013</td>\n      <td>-100.000000</td>\n    </tr>\n    <tr>\n      <th>...</th>\n      <td>...</td>\n      <td>...</td>\n      <td>...</td>\n      <td>...</td>\n      <td>...</td>\n      <td>...</td>\n      <td>...</td>\n      <td>...</td>\n      <td>...</td>\n      <td>...</td>\n      <td>...</td>\n      <td>...</td>\n      <td>...</td>\n      <td>...</td>\n      <td>...</td>\n      <td>...</td>\n      <td>...</td>\n    </tr>\n    <tr>\n      <th>457</th>\n      <td>2016</td>\n      <td>99</td>\n      <td>VICHADA</td>\n      <td>166</td>\n      <td>7</td>\n      <td>0</td>\n      <td>73702.0</td>\n      <td>225.231337</td>\n      <td>9.497707</td>\n      <td>0.000000</td>\n      <td>0.000000</td>\n      <td>39.495798</td>\n      <td>inf</td>\n      <td>0.0</td>\n      <td>36.225212</td>\n      <td>inf</td>\n      <td>0.000000</td>\n    </tr>\n    <tr>\n      <th>458</th>\n      <td>2017</td>\n      <td>99</td>\n      <td>VICHADA</td>\n      <td>30</td>\n      <td>0</td>\n      <td>0</td>\n      <td>75468.0</td>\n      <td>39.751948</td>\n      <td>0.000000</td>\n      <td>0.000000</td>\n      <td>0.000000</td>\n      <td>-81.927711</td>\n      <td>-100.000000</td>\n      <td>0.0</td>\n      <td>-82.350614</td>\n      <td>-100.000000</td>\n      <td>0.000000</td>\n    </tr>\n    <tr>\n      <th>459</th>\n      <td>2018</td>\n      <td>99</td>\n      <td>VICHADA</td>\n      <td>14</td>\n      <td>0</td>\n      <td>0</td>\n      <td>77276.0</td>\n      <td>18.116880</td>\n      <td>0.000000</td>\n      <td>0.000000</td>\n      <td>0.000000</td>\n      <td>-53.333333</td>\n      <td>0.000000</td>\n      <td>0.0</td>\n      <td>-54.425177</td>\n      <td>0.000000</td>\n      <td>0.000000</td>\n    </tr>\n    <tr>\n      <th>460</th>\n      <td>2019</td>\n      <td>99</td>\n      <td>VICHADA</td>\n      <td>375</td>\n      <td>1</td>\n      <td>0</td>\n      <td>79134.0</td>\n      <td>473.879748</td>\n      <td>1.263679</td>\n      <td>0.000000</td>\n      <td>0.000000</td>\n      <td>2578.571429</td>\n      <td>inf</td>\n      <td>0.0</td>\n      <td>2515.680816</td>\n      <td>inf</td>\n      <td>0.000000</td>\n    </tr>\n    <tr>\n      <th>461</th>\n      <td>2020</td>\n      <td>99</td>\n      <td>VICHADA</td>\n      <td>16</td>\n      <td>0</td>\n      <td>0</td>\n      <td>81048.0</td>\n      <td>19.741388</td>\n      <td>0.000000</td>\n      <td>0.000000</td>\n      <td>0.000000</td>\n      <td>-95.733333</td>\n      <td>-100.000000</td>\n      <td>0.0</td>\n      <td>-95.834093</td>\n      <td>-100.000000</td>\n      <td>0.000000</td>\n    </tr>\n  </tbody>\n</table>\n<p>462 rows × 17 columns</p>\n</div>"
     },
     "metadata": {},
     "execution_count": 21
    }
   ],
   "source": [
    "df_anual_dpto = df_anual_dpto[~df_anual_dpto['POBLACION'].isna()]\n",
    "df_anual_dpto['INCIDENCIA DENGUE'] = df_anual_dpto['DENGUE'] * 100000 / df_anual_dpto['POBLACION']\n",
    "df_anual_dpto['INCIDENCIA DENGUE GRAVE'] = df_anual_dpto['DENGUE GRAVE'] * 100000 / df_anual_dpto['POBLACION']\n",
    "df_anual_dpto['LETALIDAD'] = df_anual_dpto['MORTALIDAD POR DENGUE'] * 100 / df_anual_dpto['DENGUE GRAVE']\n",
    "df_anual_dpto['MORTALITY RATE'] = df_anual_dpto['MORTALIDAD POR DENGUE'] * 100 / df_anual['POBLACION']\n",
    "\n",
    "lista = []\n",
    "\n",
    "for i in df_anual_dpto['COD_DPTO'].unique():\n",
    "    df_temp = df_anual_dpto[df_anual_dpto['COD_DPTO'] == i]\n",
    "\n",
    "    df_temp['PCT CHANGE DENGUE'] = df_temp['DENGUE'].pct_change() * 100\n",
    "    df_temp['PCT CHANGE DENGUE GRAVE'] = df_temp['DENGUE GRAVE'].pct_change() * 100\n",
    "    df_temp['PCT CHANGE MORTALIDAD POR DENGUE'] = df_temp['MORTALIDAD POR DENGUE'].pct_change() * 100\n",
    "    df_temp['PCT CHANGE INCIDENCIA DENGUE'] = df_temp['INCIDENCIA DENGUE'].pct_change() * 100\n",
    "    df_temp['PCT CHANGE INCIDENCIA DENGUE GRAVE'] = df_temp['INCIDENCIA DENGUE GRAVE'].pct_change() * 100\n",
    "    df_temp['PCT CHANGE MORTALITY RATE'] = df_temp['MORTALITY RATE'].pct_change() * 100\n",
    "    lista.append(df_temp)\n",
    "\n",
    "df_anual_dpto = pd.concat(lista)\n",
    "df_anual_dpto.fillna(0, inplace = True)\n",
    "df_anual_dpto.reset_index(inplace = True, drop=True)\n",
    "df_anual_dpto"
   ]
  },
  {
   "cell_type": "code",
   "execution_count": 22,
   "metadata": {},
   "outputs": [],
   "source": [
    "df_anual_dpto.to_csv('Data/JSON/dengue_anual_dpto.csv', encoding='utf-8-sig', index = False)"
   ]
  },
  {
   "cell_type": "markdown",
   "metadata": {},
   "source": [
    "# Construcción de las gráficas anuales para Colombia"
   ]
  },
  {
   "cell_type": "code",
   "execution_count": 23,
   "metadata": {},
   "outputs": [
    {
     "output_type": "execute_result",
     "data": {
      "text/plain": "Index(['ANO', 'FECHA', 'SEMANA', 'DENGUE', 'DENGUE GRAVE',\n       'MORTALIDAD POR DENGUE', 'POBLACION', 'INCIDENCIA DENGUE',\n       'INCIDENCIA DENGUE GRAVE', 'LETALIDAD', 'P25', 'MED', 'P75',\n       'lower_limit', 'upper_limit', 'observed_reason', 'expected_reason',\n       'lower_limit_IC95', 'upper_limit_IC95', 'threshold_IC95'],\n      dtype='object')"
     },
     "metadata": {},
     "execution_count": 23
    }
   ],
   "source": [
    "df_semanal_col.columns"
   ]
  },
  {
   "cell_type": "code",
   "execution_count": 24,
   "metadata": {},
   "outputs": [
    {
     "output_type": "execute_result",
     "data": {
      "text/plain": "     ANO  DENGUE  DENGUE GRAVE  MORTALIDAD POR DENGUE   POBLACION\n0   2007   34227          6747                     24  43514726.0\n1   2008   32276          4217                     20  44038418.0\n2   2009   44896          7050                     48  44565643.0\n3   2010  145672          9583                    275  45095941.0\n4   2011   28597          1281                     40  45630615.0\n5   2012   52094          1395                     82  46167367.0\n6   2013  121609          3084                    180  46706149.0\n7   2014  104647          2592                    166  47246426.0\n8   2015   94433          1408                    152  47787526.0\n9   2016   99088           888                    123  48331333.0\n10  2017   24814           234                     21  48874683.0\n11  2018   43002           501                     63  49416729.0\n12  2019  115309          1235                     69  49956403.0\n13  2020   42351           465                     15  50492854.0",
      "text/html": "<div>\n<style scoped>\n    .dataframe tbody tr th:only-of-type {\n        vertical-align: middle;\n    }\n\n    .dataframe tbody tr th {\n        vertical-align: top;\n    }\n\n    .dataframe thead th {\n        text-align: right;\n    }\n</style>\n<table border=\"1\" class=\"dataframe\">\n  <thead>\n    <tr style=\"text-align: right;\">\n      <th></th>\n      <th>ANO</th>\n      <th>DENGUE</th>\n      <th>DENGUE GRAVE</th>\n      <th>MORTALIDAD POR DENGUE</th>\n      <th>POBLACION</th>\n    </tr>\n  </thead>\n  <tbody>\n    <tr>\n      <th>0</th>\n      <td>2007</td>\n      <td>34227</td>\n      <td>6747</td>\n      <td>24</td>\n      <td>43514726.0</td>\n    </tr>\n    <tr>\n      <th>1</th>\n      <td>2008</td>\n      <td>32276</td>\n      <td>4217</td>\n      <td>20</td>\n      <td>44038418.0</td>\n    </tr>\n    <tr>\n      <th>2</th>\n      <td>2009</td>\n      <td>44896</td>\n      <td>7050</td>\n      <td>48</td>\n      <td>44565643.0</td>\n    </tr>\n    <tr>\n      <th>3</th>\n      <td>2010</td>\n      <td>145672</td>\n      <td>9583</td>\n      <td>275</td>\n      <td>45095941.0</td>\n    </tr>\n    <tr>\n      <th>4</th>\n      <td>2011</td>\n      <td>28597</td>\n      <td>1281</td>\n      <td>40</td>\n      <td>45630615.0</td>\n    </tr>\n    <tr>\n      <th>5</th>\n      <td>2012</td>\n      <td>52094</td>\n      <td>1395</td>\n      <td>82</td>\n      <td>46167367.0</td>\n    </tr>\n    <tr>\n      <th>6</th>\n      <td>2013</td>\n      <td>121609</td>\n      <td>3084</td>\n      <td>180</td>\n      <td>46706149.0</td>\n    </tr>\n    <tr>\n      <th>7</th>\n      <td>2014</td>\n      <td>104647</td>\n      <td>2592</td>\n      <td>166</td>\n      <td>47246426.0</td>\n    </tr>\n    <tr>\n      <th>8</th>\n      <td>2015</td>\n      <td>94433</td>\n      <td>1408</td>\n      <td>152</td>\n      <td>47787526.0</td>\n    </tr>\n    <tr>\n      <th>9</th>\n      <td>2016</td>\n      <td>99088</td>\n      <td>888</td>\n      <td>123</td>\n      <td>48331333.0</td>\n    </tr>\n    <tr>\n      <th>10</th>\n      <td>2017</td>\n      <td>24814</td>\n      <td>234</td>\n      <td>21</td>\n      <td>48874683.0</td>\n    </tr>\n    <tr>\n      <th>11</th>\n      <td>2018</td>\n      <td>43002</td>\n      <td>501</td>\n      <td>63</td>\n      <td>49416729.0</td>\n    </tr>\n    <tr>\n      <th>12</th>\n      <td>2019</td>\n      <td>115309</td>\n      <td>1235</td>\n      <td>69</td>\n      <td>49956403.0</td>\n    </tr>\n    <tr>\n      <th>13</th>\n      <td>2020</td>\n      <td>42351</td>\n      <td>465</td>\n      <td>15</td>\n      <td>50492854.0</td>\n    </tr>\n  </tbody>\n</table>\n</div>"
     },
     "metadata": {},
     "execution_count": 24
    }
   ],
   "source": [
    "df_anual_col = df_semanal_col[['ANO', 'DENGUE', 'DENGUE GRAVE', 'MORTALIDAD POR DENGUE', 'POBLACION']].groupby(['ANO']).agg({'DENGUE' : 'sum', 'DENGUE GRAVE' : 'sum', 'MORTALIDAD POR DENGUE' : 'sum', 'POBLACION' : 'mean'})\n",
    "df_anual_col.reset_index(inplace = True)\n",
    "df_anual_col"
   ]
  },
  {
   "cell_type": "code",
   "execution_count": 25,
   "metadata": {},
   "outputs": [
    {
     "output_type": "execute_result",
     "data": {
      "text/plain": "     ANO  DENGUE  DENGUE GRAVE  MORTALIDAD POR DENGUE   POBLACION  \\\n0   2007   34227          6747                     24  43514726.0   \n1   2008   32276          4217                     20  44038418.0   \n2   2009   44896          7050                     48  44565643.0   \n3   2010  145672          9583                    275  45095941.0   \n4   2011   28597          1281                     40  45630615.0   \n5   2012   52094          1395                     82  46167367.0   \n6   2013  121609          3084                    180  46706149.0   \n7   2014  104647          2592                    166  47246426.0   \n8   2015   94433          1408                    152  47787526.0   \n9   2016   99088           888                    123  48331333.0   \n10  2017   24814           234                     21  48874683.0   \n11  2018   43002           501                     63  49416729.0   \n12  2019  115309          1235                     69  49956403.0   \n13  2020   42351           465                     15  50492854.0   \n\n    INCIDENCIA DENGUE  INCIDENCIA DENGUE GRAVE  LETALIDAD  MORTALITY RATE  \\\n0           78.656131                15.505096   0.355714        0.001059   \n1           73.290553                 9.575730   0.474271        0.000873   \n2          100.741282                15.819361   0.680851        0.002071   \n3          323.026855                21.250250   2.869665        0.011737   \n4           62.670643                 2.807326   3.122560        0.001689   \n5          112.837277                 3.021615   5.878136        0.003427   \n6          260.370428                 6.602985   5.836576        0.007446   \n7          221.491886                 5.486129   6.404321        0.006800   \n8          197.610146                 2.946376  10.795455        0.006168   \n9          205.018140                 1.837317  13.851351        0.004946   \n10          50.770662                 0.478775   8.974359        0.000837   \n11          87.019115                 1.013827  12.574850        0.002491   \n12         230.819261                 2.472156   5.587045        0.002706   \n13          83.875235                 0.920922   3.225806        0.000584   \n\n    PCT CHANGE DENGUE  PCT CHANGE DENGUE GRAVE  \\\n0                 NaN                      NaN   \n1           -5.700178               -37.498147   \n2           39.100260                67.180460   \n3          224.465431                35.929078   \n4          -80.368911               -86.632579   \n5           82.165961                 8.899297   \n6          133.441471               121.075269   \n7          -13.947981               -15.953307   \n8           -9.760433               -45.679012   \n9            4.929421               -36.931818   \n10         -74.957613               -73.648649   \n11          73.297332               114.102564   \n12         168.147993               146.506986   \n13         -63.271731               -62.348178   \n\n    PCT CHANGE MORTALIDAD POR DENGUE  PCT CHANGE INCIDENCIA DENGUE  \\\n0                                NaN                           NaN   \n1                         -16.666667                     -6.821564   \n2                         140.000000                     37.454662   \n3                         472.916667                    220.649936   \n4                         -85.454545                    -80.598937   \n5                         105.000000                     80.048060   \n6                         119.512195                    130.748591   \n7                          -7.777778                    -14.932011   \n8                          -8.433735                    -10.782219   \n9                         -19.078947                      3.748792   \n10                        -82.926829                    -75.236015   \n11                        200.000000                     71.396455   \n12                          9.523810                    165.251217   \n13                        -78.260870                    -63.661943   \n\n    PCT CHANGE INCIDENCIA DENGUE GRAVE  PCT CHANGE MORTALITY RATE  \n0                                  NaN                        NaN  \n1                           -38.241401                 -17.617114  \n2                            65.202665                 137.311603  \n3                            34.330643                 466.629386  \n4                           -86.789210                 -85.609521  \n5                             7.633210                 102.881562  \n6                           118.525040                 117.304292  \n7                           -16.914406                  -8.676833  \n8                           -46.294091                  -9.295735  \n9                           -37.641439                 -19.807904  \n10                          -73.941602                 -83.074722  \n11                          111.754100                 197.515105  \n12                          143.843996                   8.658887  \n13                          -62.748202                 -78.425626  ",
      "text/html": "<div>\n<style scoped>\n    .dataframe tbody tr th:only-of-type {\n        vertical-align: middle;\n    }\n\n    .dataframe tbody tr th {\n        vertical-align: top;\n    }\n\n    .dataframe thead th {\n        text-align: right;\n    }\n</style>\n<table border=\"1\" class=\"dataframe\">\n  <thead>\n    <tr style=\"text-align: right;\">\n      <th></th>\n      <th>ANO</th>\n      <th>DENGUE</th>\n      <th>DENGUE GRAVE</th>\n      <th>MORTALIDAD POR DENGUE</th>\n      <th>POBLACION</th>\n      <th>INCIDENCIA DENGUE</th>\n      <th>INCIDENCIA DENGUE GRAVE</th>\n      <th>LETALIDAD</th>\n      <th>MORTALITY RATE</th>\n      <th>PCT CHANGE DENGUE</th>\n      <th>PCT CHANGE DENGUE GRAVE</th>\n      <th>PCT CHANGE MORTALIDAD POR DENGUE</th>\n      <th>PCT CHANGE INCIDENCIA DENGUE</th>\n      <th>PCT CHANGE INCIDENCIA DENGUE GRAVE</th>\n      <th>PCT CHANGE MORTALITY RATE</th>\n    </tr>\n  </thead>\n  <tbody>\n    <tr>\n      <th>0</th>\n      <td>2007</td>\n      <td>34227</td>\n      <td>6747</td>\n      <td>24</td>\n      <td>43514726.0</td>\n      <td>78.656131</td>\n      <td>15.505096</td>\n      <td>0.355714</td>\n      <td>0.001059</td>\n      <td>NaN</td>\n      <td>NaN</td>\n      <td>NaN</td>\n      <td>NaN</td>\n      <td>NaN</td>\n      <td>NaN</td>\n    </tr>\n    <tr>\n      <th>1</th>\n      <td>2008</td>\n      <td>32276</td>\n      <td>4217</td>\n      <td>20</td>\n      <td>44038418.0</td>\n      <td>73.290553</td>\n      <td>9.575730</td>\n      <td>0.474271</td>\n      <td>0.000873</td>\n      <td>-5.700178</td>\n      <td>-37.498147</td>\n      <td>-16.666667</td>\n      <td>-6.821564</td>\n      <td>-38.241401</td>\n      <td>-17.617114</td>\n    </tr>\n    <tr>\n      <th>2</th>\n      <td>2009</td>\n      <td>44896</td>\n      <td>7050</td>\n      <td>48</td>\n      <td>44565643.0</td>\n      <td>100.741282</td>\n      <td>15.819361</td>\n      <td>0.680851</td>\n      <td>0.002071</td>\n      <td>39.100260</td>\n      <td>67.180460</td>\n      <td>140.000000</td>\n      <td>37.454662</td>\n      <td>65.202665</td>\n      <td>137.311603</td>\n    </tr>\n    <tr>\n      <th>3</th>\n      <td>2010</td>\n      <td>145672</td>\n      <td>9583</td>\n      <td>275</td>\n      <td>45095941.0</td>\n      <td>323.026855</td>\n      <td>21.250250</td>\n      <td>2.869665</td>\n      <td>0.011737</td>\n      <td>224.465431</td>\n      <td>35.929078</td>\n      <td>472.916667</td>\n      <td>220.649936</td>\n      <td>34.330643</td>\n      <td>466.629386</td>\n    </tr>\n    <tr>\n      <th>4</th>\n      <td>2011</td>\n      <td>28597</td>\n      <td>1281</td>\n      <td>40</td>\n      <td>45630615.0</td>\n      <td>62.670643</td>\n      <td>2.807326</td>\n      <td>3.122560</td>\n      <td>0.001689</td>\n      <td>-80.368911</td>\n      <td>-86.632579</td>\n      <td>-85.454545</td>\n      <td>-80.598937</td>\n      <td>-86.789210</td>\n      <td>-85.609521</td>\n    </tr>\n    <tr>\n      <th>5</th>\n      <td>2012</td>\n      <td>52094</td>\n      <td>1395</td>\n      <td>82</td>\n      <td>46167367.0</td>\n      <td>112.837277</td>\n      <td>3.021615</td>\n      <td>5.878136</td>\n      <td>0.003427</td>\n      <td>82.165961</td>\n      <td>8.899297</td>\n      <td>105.000000</td>\n      <td>80.048060</td>\n      <td>7.633210</td>\n      <td>102.881562</td>\n    </tr>\n    <tr>\n      <th>6</th>\n      <td>2013</td>\n      <td>121609</td>\n      <td>3084</td>\n      <td>180</td>\n      <td>46706149.0</td>\n      <td>260.370428</td>\n      <td>6.602985</td>\n      <td>5.836576</td>\n      <td>0.007446</td>\n      <td>133.441471</td>\n      <td>121.075269</td>\n      <td>119.512195</td>\n      <td>130.748591</td>\n      <td>118.525040</td>\n      <td>117.304292</td>\n    </tr>\n    <tr>\n      <th>7</th>\n      <td>2014</td>\n      <td>104647</td>\n      <td>2592</td>\n      <td>166</td>\n      <td>47246426.0</td>\n      <td>221.491886</td>\n      <td>5.486129</td>\n      <td>6.404321</td>\n      <td>0.006800</td>\n      <td>-13.947981</td>\n      <td>-15.953307</td>\n      <td>-7.777778</td>\n      <td>-14.932011</td>\n      <td>-16.914406</td>\n      <td>-8.676833</td>\n    </tr>\n    <tr>\n      <th>8</th>\n      <td>2015</td>\n      <td>94433</td>\n      <td>1408</td>\n      <td>152</td>\n      <td>47787526.0</td>\n      <td>197.610146</td>\n      <td>2.946376</td>\n      <td>10.795455</td>\n      <td>0.006168</td>\n      <td>-9.760433</td>\n      <td>-45.679012</td>\n      <td>-8.433735</td>\n      <td>-10.782219</td>\n      <td>-46.294091</td>\n      <td>-9.295735</td>\n    </tr>\n    <tr>\n      <th>9</th>\n      <td>2016</td>\n      <td>99088</td>\n      <td>888</td>\n      <td>123</td>\n      <td>48331333.0</td>\n      <td>205.018140</td>\n      <td>1.837317</td>\n      <td>13.851351</td>\n      <td>0.004946</td>\n      <td>4.929421</td>\n      <td>-36.931818</td>\n      <td>-19.078947</td>\n      <td>3.748792</td>\n      <td>-37.641439</td>\n      <td>-19.807904</td>\n    </tr>\n    <tr>\n      <th>10</th>\n      <td>2017</td>\n      <td>24814</td>\n      <td>234</td>\n      <td>21</td>\n      <td>48874683.0</td>\n      <td>50.770662</td>\n      <td>0.478775</td>\n      <td>8.974359</td>\n      <td>0.000837</td>\n      <td>-74.957613</td>\n      <td>-73.648649</td>\n      <td>-82.926829</td>\n      <td>-75.236015</td>\n      <td>-73.941602</td>\n      <td>-83.074722</td>\n    </tr>\n    <tr>\n      <th>11</th>\n      <td>2018</td>\n      <td>43002</td>\n      <td>501</td>\n      <td>63</td>\n      <td>49416729.0</td>\n      <td>87.019115</td>\n      <td>1.013827</td>\n      <td>12.574850</td>\n      <td>0.002491</td>\n      <td>73.297332</td>\n      <td>114.102564</td>\n      <td>200.000000</td>\n      <td>71.396455</td>\n      <td>111.754100</td>\n      <td>197.515105</td>\n    </tr>\n    <tr>\n      <th>12</th>\n      <td>2019</td>\n      <td>115309</td>\n      <td>1235</td>\n      <td>69</td>\n      <td>49956403.0</td>\n      <td>230.819261</td>\n      <td>2.472156</td>\n      <td>5.587045</td>\n      <td>0.002706</td>\n      <td>168.147993</td>\n      <td>146.506986</td>\n      <td>9.523810</td>\n      <td>165.251217</td>\n      <td>143.843996</td>\n      <td>8.658887</td>\n    </tr>\n    <tr>\n      <th>13</th>\n      <td>2020</td>\n      <td>42351</td>\n      <td>465</td>\n      <td>15</td>\n      <td>50492854.0</td>\n      <td>83.875235</td>\n      <td>0.920922</td>\n      <td>3.225806</td>\n      <td>0.000584</td>\n      <td>-63.271731</td>\n      <td>-62.348178</td>\n      <td>-78.260870</td>\n      <td>-63.661943</td>\n      <td>-62.748202</td>\n      <td>-78.425626</td>\n    </tr>\n  </tbody>\n</table>\n</div>"
     },
     "metadata": {},
     "execution_count": 25
    }
   ],
   "source": [
    "df_anual_col = df_anual_col[~df_anual_col['POBLACION'].isna()]\n",
    "df_anual_col['INCIDENCIA DENGUE'] = df_anual_col['DENGUE'] * 100000 / df_anual_col['POBLACION']\n",
    "df_anual_col['INCIDENCIA DENGUE GRAVE'] = df_anual_col['DENGUE GRAVE'] * 100000 / df_anual_col['POBLACION']\n",
    "df_anual_col['LETALIDAD'] = df_anual_col['MORTALIDAD POR DENGUE'] * 100 / df_anual_col['DENGUE GRAVE']\n",
    "df_anual_col['MORTALITY RATE'] = df_anual_col['MORTALIDAD POR DENGUE'] * 100 / df_anual['POBLACION']\n",
    "df_anual_col['PCT CHANGE DENGUE'] = df_anual_col['DENGUE'].pct_change() * 100\n",
    "df_anual_col['PCT CHANGE DENGUE GRAVE'] = df_anual_col['DENGUE GRAVE'].pct_change() * 100\n",
    "df_anual_col['PCT CHANGE MORTALIDAD POR DENGUE'] = df_anual_col['MORTALIDAD POR DENGUE'].pct_change() * 100\n",
    "df_anual_col['PCT CHANGE INCIDENCIA DENGUE'] = df_anual_col['INCIDENCIA DENGUE'].pct_change() * 100\n",
    "df_anual_col['PCT CHANGE INCIDENCIA DENGUE GRAVE'] = df_anual_col['INCIDENCIA DENGUE GRAVE'].pct_change() * 100\n",
    "df_anual_col['PCT CHANGE MORTALITY RATE'] = df_anual_col['MORTALITY RATE'].pct_change() * 100\n",
    "df_anual_col.reset_index(inplace = True, drop=True)\n",
    "df_anual_col"
   ]
  },
  {
   "cell_type": "code",
   "execution_count": 26,
   "metadata": {},
   "outputs": [],
   "source": [
    "df_anual_col.to_csv('Data/JSON/dengue_anual_col.csv', encoding='utf-8-sig', index = False)"
   ]
  },
  {
   "cell_type": "code",
   "execution_count": 27,
   "metadata": {},
   "outputs": [
    {
     "output_type": "execute_result",
     "data": {
      "text/plain": "     ANO  DENGUE  DENGUE GRAVE  MORTALIDAD POR DENGUE   POBLACION  \\\n13  2020   42351           465                     15  50492854.0   \n\n    INCIDENCIA DENGUE  INCIDENCIA DENGUE GRAVE  LETALIDAD  MORTALITY RATE  \\\n13          83.875235                 0.920922   3.225806        0.000584   \n\n    PCT CHANGE DENGUE  PCT CHANGE DENGUE GRAVE  \\\n13         -63.271731               -62.348178   \n\n    PCT CHANGE MORTALIDAD POR DENGUE  PCT CHANGE INCIDENCIA DENGUE  \\\n13                         -78.26087                    -63.661943   \n\n    PCT CHANGE INCIDENCIA DENGUE GRAVE  PCT CHANGE MORTALITY RATE  \n13                          -62.748202                 -78.425626  ",
      "text/html": "<div>\n<style scoped>\n    .dataframe tbody tr th:only-of-type {\n        vertical-align: middle;\n    }\n\n    .dataframe tbody tr th {\n        vertical-align: top;\n    }\n\n    .dataframe thead th {\n        text-align: right;\n    }\n</style>\n<table border=\"1\" class=\"dataframe\">\n  <thead>\n    <tr style=\"text-align: right;\">\n      <th></th>\n      <th>ANO</th>\n      <th>DENGUE</th>\n      <th>DENGUE GRAVE</th>\n      <th>MORTALIDAD POR DENGUE</th>\n      <th>POBLACION</th>\n      <th>INCIDENCIA DENGUE</th>\n      <th>INCIDENCIA DENGUE GRAVE</th>\n      <th>LETALIDAD</th>\n      <th>MORTALITY RATE</th>\n      <th>PCT CHANGE DENGUE</th>\n      <th>PCT CHANGE DENGUE GRAVE</th>\n      <th>PCT CHANGE MORTALIDAD POR DENGUE</th>\n      <th>PCT CHANGE INCIDENCIA DENGUE</th>\n      <th>PCT CHANGE INCIDENCIA DENGUE GRAVE</th>\n      <th>PCT CHANGE MORTALITY RATE</th>\n    </tr>\n  </thead>\n  <tbody>\n    <tr>\n      <th>13</th>\n      <td>2020</td>\n      <td>42351</td>\n      <td>465</td>\n      <td>15</td>\n      <td>50492854.0</td>\n      <td>83.875235</td>\n      <td>0.920922</td>\n      <td>3.225806</td>\n      <td>0.000584</td>\n      <td>-63.271731</td>\n      <td>-62.348178</td>\n      <td>-78.26087</td>\n      <td>-63.661943</td>\n      <td>-62.748202</td>\n      <td>-78.425626</td>\n    </tr>\n  </tbody>\n</table>\n</div>"
     },
     "metadata": {},
     "execution_count": 27
    }
   ],
   "source": [
    "df_anual_col[df_anual_dpto['ANO'] == 2020]"
   ]
  },
  {
   "cell_type": "code",
   "execution_count": 28,
   "metadata": {},
   "outputs": [
    {
     "output_type": "execute_result",
     "data": {
      "text/plain": "     ANO  COD_DPTO DEPARTAMENTO  DENGUE  DENGUE GRAVE  MORTALIDAD POR DENGUE  \\\n0   2007         5    ANTIOQUIA      49            18                      0   \n1   2008         5    ANTIOQUIA    2474           180                      1   \n2   2009         5    ANTIOQUIA    1297           108                      1   \n3   2010         5    ANTIOQUIA   25661           476                     17   \n4   2011         5    ANTIOQUIA    1921            59                      0   \n5   2012         5    ANTIOQUIA    1978            85                      1   \n6   2013         5    ANTIOQUIA    5631           124                      4   \n7   2014         5    ANTIOQUIA    6741           177                      5   \n8   2015         5    ANTIOQUIA    6729            63                      4   \n9   2016         5    ANTIOQUIA   27275           110                     14   \n10  2017         5    ANTIOQUIA    4039            22                      1   \n11  2018         5    ANTIOQUIA    3646            57                     10   \n12  2019         5    ANTIOQUIA    5764            45                      3   \n13  2020         5    ANTIOQUIA    1331            15                      0   \n\n    POBLACION  INCIDENCIA DENGUE  INCIDENCIA DENGUE GRAVE  LETALIDAD  \\\n0   5834865.0           0.839779                 0.308490   0.000000   \n1   5911399.0          41.851345                 3.044964   0.555556   \n2   5988552.0          21.657990                 1.803441   0.925926   \n3   6066003.0         423.029794                 7.847012   3.571429   \n4   6143809.0          31.267248                 0.960316   0.000000   \n5   6221817.0          31.791356                 1.366160   1.176471   \n6   6299990.0          89.381094                 1.968257   3.225806   \n7   6378132.0         105.689252                 2.775107   2.824859   \n8   6456299.0         104.223798                 0.975791   6.349206   \n9   6534857.0         417.377151                 1.683281  12.727273   \n10  6613118.0          61.075577                 0.332672   4.545455   \n11  6691030.0          54.490863                 0.851887  17.543860   \n12  6768388.0          85.160602                 0.664856   6.666667   \n13  6845093.0          19.444586                 0.219135   0.000000   \n\n    MORTALITY RATE  PCT CHANGE DENGUE  PCT CHANGE DENGUE GRAVE  \\\n0         0.000000           0.000000                 0.000000   \n1         0.043668        4948.979592               900.000000   \n2         0.003336         -47.574778               -40.000000   \n3         0.211601        1878.488820               340.740741   \n4         0.000000         -92.513932               -87.605042   \n5         0.013156           2.967205                44.067797   \n6         0.042048         184.681496                45.882353   \n7         0.010147          19.712307                42.741935   \n8         0.000814          -0.178015               -64.406780   \n9         0.050543         305.335117                74.603175   \n10        0.015149         -85.191567               -80.000000   \n11        0.117385          -9.730131               159.090909   \n12        0.017849          58.091059               -21.052632   \n13        0.000000         -76.908397               -66.666667   \n\n    PCT CHANGE MORTALIDAD POR DENGUE  PCT CHANGE INCIDENCIA DENGUE  \\\n0                           0.000000                      0.000000   \n1                                inf                   4883.611207   \n2                           0.000000                    -48.250194   \n3                        1600.000000                   1853.227386   \n4                        -100.000000                    -92.608736   \n5                                inf                      1.676221   \n6                         300.000000                    181.149045   \n7                          25.000000                     18.245646   \n8                         -20.000000                     -1.386569   \n9                         250.000000                    300.462429   \n10                        -92.857143                    -85.366813   \n11                        900.000000                    -10.781256   \n12                        -70.000000                     56.284187   \n13                       -100.000000                    -77.167158   \n\n    PCT CHANGE INCIDENCIA DENGUE GRAVE  PCT CHANGE MORTALITY RATE  \n0                             0.000000                   0.000000  \n1                           887.053149                        inf  \n2                           -40.773005                 -92.361574  \n3                           335.113343                6243.788897  \n4                           -87.762013                -100.000000  \n5                            42.261501                        inf  \n6                            44.072182                 219.604751  \n7                            40.993126                 -75.867090  \n8                           -64.837710                 -91.974624  \n9                            72.504203                6106.494819  \n10                          -80.236684                 -70.027269  \n11                          156.073991                 674.856204  \n12                          -21.954945                 -84.794741  \n13                          -67.040195                -100.000000  ",
      "text/html": "<div>\n<style scoped>\n    .dataframe tbody tr th:only-of-type {\n        vertical-align: middle;\n    }\n\n    .dataframe tbody tr th {\n        vertical-align: top;\n    }\n\n    .dataframe thead th {\n        text-align: right;\n    }\n</style>\n<table border=\"1\" class=\"dataframe\">\n  <thead>\n    <tr style=\"text-align: right;\">\n      <th></th>\n      <th>ANO</th>\n      <th>COD_DPTO</th>\n      <th>DEPARTAMENTO</th>\n      <th>DENGUE</th>\n      <th>DENGUE GRAVE</th>\n      <th>MORTALIDAD POR DENGUE</th>\n      <th>POBLACION</th>\n      <th>INCIDENCIA DENGUE</th>\n      <th>INCIDENCIA DENGUE GRAVE</th>\n      <th>LETALIDAD</th>\n      <th>MORTALITY RATE</th>\n      <th>PCT CHANGE DENGUE</th>\n      <th>PCT CHANGE DENGUE GRAVE</th>\n      <th>PCT CHANGE MORTALIDAD POR DENGUE</th>\n      <th>PCT CHANGE INCIDENCIA DENGUE</th>\n      <th>PCT CHANGE INCIDENCIA DENGUE GRAVE</th>\n      <th>PCT CHANGE MORTALITY RATE</th>\n    </tr>\n  </thead>\n  <tbody>\n    <tr>\n      <th>0</th>\n      <td>2007</td>\n      <td>5</td>\n      <td>ANTIOQUIA</td>\n      <td>49</td>\n      <td>18</td>\n      <td>0</td>\n      <td>5834865.0</td>\n      <td>0.839779</td>\n      <td>0.308490</td>\n      <td>0.000000</td>\n      <td>0.000000</td>\n      <td>0.000000</td>\n      <td>0.000000</td>\n      <td>0.000000</td>\n      <td>0.000000</td>\n      <td>0.000000</td>\n      <td>0.000000</td>\n    </tr>\n    <tr>\n      <th>1</th>\n      <td>2008</td>\n      <td>5</td>\n      <td>ANTIOQUIA</td>\n      <td>2474</td>\n      <td>180</td>\n      <td>1</td>\n      <td>5911399.0</td>\n      <td>41.851345</td>\n      <td>3.044964</td>\n      <td>0.555556</td>\n      <td>0.043668</td>\n      <td>4948.979592</td>\n      <td>900.000000</td>\n      <td>inf</td>\n      <td>4883.611207</td>\n      <td>887.053149</td>\n      <td>inf</td>\n    </tr>\n    <tr>\n      <th>2</th>\n      <td>2009</td>\n      <td>5</td>\n      <td>ANTIOQUIA</td>\n      <td>1297</td>\n      <td>108</td>\n      <td>1</td>\n      <td>5988552.0</td>\n      <td>21.657990</td>\n      <td>1.803441</td>\n      <td>0.925926</td>\n      <td>0.003336</td>\n      <td>-47.574778</td>\n      <td>-40.000000</td>\n      <td>0.000000</td>\n      <td>-48.250194</td>\n      <td>-40.773005</td>\n      <td>-92.361574</td>\n    </tr>\n    <tr>\n      <th>3</th>\n      <td>2010</td>\n      <td>5</td>\n      <td>ANTIOQUIA</td>\n      <td>25661</td>\n      <td>476</td>\n      <td>17</td>\n      <td>6066003.0</td>\n      <td>423.029794</td>\n      <td>7.847012</td>\n      <td>3.571429</td>\n      <td>0.211601</td>\n      <td>1878.488820</td>\n      <td>340.740741</td>\n      <td>1600.000000</td>\n      <td>1853.227386</td>\n      <td>335.113343</td>\n      <td>6243.788897</td>\n    </tr>\n    <tr>\n      <th>4</th>\n      <td>2011</td>\n      <td>5</td>\n      <td>ANTIOQUIA</td>\n      <td>1921</td>\n      <td>59</td>\n      <td>0</td>\n      <td>6143809.0</td>\n      <td>31.267248</td>\n      <td>0.960316</td>\n      <td>0.000000</td>\n      <td>0.000000</td>\n      <td>-92.513932</td>\n      <td>-87.605042</td>\n      <td>-100.000000</td>\n      <td>-92.608736</td>\n      <td>-87.762013</td>\n      <td>-100.000000</td>\n    </tr>\n    <tr>\n      <th>5</th>\n      <td>2012</td>\n      <td>5</td>\n      <td>ANTIOQUIA</td>\n      <td>1978</td>\n      <td>85</td>\n      <td>1</td>\n      <td>6221817.0</td>\n      <td>31.791356</td>\n      <td>1.366160</td>\n      <td>1.176471</td>\n      <td>0.013156</td>\n      <td>2.967205</td>\n      <td>44.067797</td>\n      <td>inf</td>\n      <td>1.676221</td>\n      <td>42.261501</td>\n      <td>inf</td>\n    </tr>\n    <tr>\n      <th>6</th>\n      <td>2013</td>\n      <td>5</td>\n      <td>ANTIOQUIA</td>\n      <td>5631</td>\n      <td>124</td>\n      <td>4</td>\n      <td>6299990.0</td>\n      <td>89.381094</td>\n      <td>1.968257</td>\n      <td>3.225806</td>\n      <td>0.042048</td>\n      <td>184.681496</td>\n      <td>45.882353</td>\n      <td>300.000000</td>\n      <td>181.149045</td>\n      <td>44.072182</td>\n      <td>219.604751</td>\n    </tr>\n    <tr>\n      <th>7</th>\n      <td>2014</td>\n      <td>5</td>\n      <td>ANTIOQUIA</td>\n      <td>6741</td>\n      <td>177</td>\n      <td>5</td>\n      <td>6378132.0</td>\n      <td>105.689252</td>\n      <td>2.775107</td>\n      <td>2.824859</td>\n      <td>0.010147</td>\n      <td>19.712307</td>\n      <td>42.741935</td>\n      <td>25.000000</td>\n      <td>18.245646</td>\n      <td>40.993126</td>\n      <td>-75.867090</td>\n    </tr>\n    <tr>\n      <th>8</th>\n      <td>2015</td>\n      <td>5</td>\n      <td>ANTIOQUIA</td>\n      <td>6729</td>\n      <td>63</td>\n      <td>4</td>\n      <td>6456299.0</td>\n      <td>104.223798</td>\n      <td>0.975791</td>\n      <td>6.349206</td>\n      <td>0.000814</td>\n      <td>-0.178015</td>\n      <td>-64.406780</td>\n      <td>-20.000000</td>\n      <td>-1.386569</td>\n      <td>-64.837710</td>\n      <td>-91.974624</td>\n    </tr>\n    <tr>\n      <th>9</th>\n      <td>2016</td>\n      <td>5</td>\n      <td>ANTIOQUIA</td>\n      <td>27275</td>\n      <td>110</td>\n      <td>14</td>\n      <td>6534857.0</td>\n      <td>417.377151</td>\n      <td>1.683281</td>\n      <td>12.727273</td>\n      <td>0.050543</td>\n      <td>305.335117</td>\n      <td>74.603175</td>\n      <td>250.000000</td>\n      <td>300.462429</td>\n      <td>72.504203</td>\n      <td>6106.494819</td>\n    </tr>\n    <tr>\n      <th>10</th>\n      <td>2017</td>\n      <td>5</td>\n      <td>ANTIOQUIA</td>\n      <td>4039</td>\n      <td>22</td>\n      <td>1</td>\n      <td>6613118.0</td>\n      <td>61.075577</td>\n      <td>0.332672</td>\n      <td>4.545455</td>\n      <td>0.015149</td>\n      <td>-85.191567</td>\n      <td>-80.000000</td>\n      <td>-92.857143</td>\n      <td>-85.366813</td>\n      <td>-80.236684</td>\n      <td>-70.027269</td>\n    </tr>\n    <tr>\n      <th>11</th>\n      <td>2018</td>\n      <td>5</td>\n      <td>ANTIOQUIA</td>\n      <td>3646</td>\n      <td>57</td>\n      <td>10</td>\n      <td>6691030.0</td>\n      <td>54.490863</td>\n      <td>0.851887</td>\n      <td>17.543860</td>\n      <td>0.117385</td>\n      <td>-9.730131</td>\n      <td>159.090909</td>\n      <td>900.000000</td>\n      <td>-10.781256</td>\n      <td>156.073991</td>\n      <td>674.856204</td>\n    </tr>\n    <tr>\n      <th>12</th>\n      <td>2019</td>\n      <td>5</td>\n      <td>ANTIOQUIA</td>\n      <td>5764</td>\n      <td>45</td>\n      <td>3</td>\n      <td>6768388.0</td>\n      <td>85.160602</td>\n      <td>0.664856</td>\n      <td>6.666667</td>\n      <td>0.017849</td>\n      <td>58.091059</td>\n      <td>-21.052632</td>\n      <td>-70.000000</td>\n      <td>56.284187</td>\n      <td>-21.954945</td>\n      <td>-84.794741</td>\n    </tr>\n    <tr>\n      <th>13</th>\n      <td>2020</td>\n      <td>5</td>\n      <td>ANTIOQUIA</td>\n      <td>1331</td>\n      <td>15</td>\n      <td>0</td>\n      <td>6845093.0</td>\n      <td>19.444586</td>\n      <td>0.219135</td>\n      <td>0.000000</td>\n      <td>0.000000</td>\n      <td>-76.908397</td>\n      <td>-66.666667</td>\n      <td>-100.000000</td>\n      <td>-77.167158</td>\n      <td>-67.040195</td>\n      <td>-100.000000</td>\n    </tr>\n  </tbody>\n</table>\n</div>"
     },
     "metadata": {},
     "execution_count": 28
    }
   ],
   "source": [
    "df_anual_dpto[df_anual_dpto['COD_DPTO'] == 5]"
   ]
  },
  {
   "cell_type": "code",
   "execution_count": 29,
   "metadata": {},
   "outputs": [
    {
     "output_type": "execute_result",
     "data": {
      "text/plain": "     ANO  COD_MUNICIPIO MUNICIPIO DEPARTAMENTO  DENGUE  DENGUE GRAVE  \\\n0   2007           5001  MEDELLIN    ANTIOQUIA       4             1   \n1   2008           5001  MEDELLIN    ANTIOQUIA     888            20   \n2   2009           5001  MEDELLIN    ANTIOQUIA     412             1   \n3   2010           5001  MEDELLIN    ANTIOQUIA   15458           112   \n4   2011           5001  MEDELLIN    ANTIOQUIA     781            21   \n5   2012           5001  MEDELLIN    ANTIOQUIA     701            12   \n6   2013           5001  MEDELLIN    ANTIOQUIA    2297            45   \n7   2014           5001  MEDELLIN    ANTIOQUIA    3223            50   \n8   2015           5001  MEDELLIN    ANTIOQUIA    3748            37   \n9   2016           5001  MEDELLIN    ANTIOQUIA   17242            64   \n10  2017           5001  MEDELLIN    ANTIOQUIA    2094             6   \n11  2018           5001  MEDELLIN    ANTIOQUIA    1169             3   \n12  2019           5001  MEDELLIN    ANTIOQUIA    1270             6   \n13  2020           5001  MEDELLIN    ANTIOQUIA     387             3   \n\n    MORTALIDAD POR DENGUE  POBLACION  INCIDENCIA DENGUE  \\\n0                       0  2265244.0           0.176581   \n1                       0  2291378.0          38.753973   \n2                       0  2317336.0          17.779036   \n3                      13  2343049.0         659.738657   \n4                       0  2368282.0          32.977492   \n5                       0  2393011.0          29.293639   \n6                       0  2417325.0          95.022390   \n7                       0  2441123.0         132.029398   \n8                       3  2464322.0         152.090514   \n9                       7  2486723.0         693.362309   \n10                      1  2508452.0          83.477778   \n11                      0  2529403.0          46.216439   \n12                      0  2549537.0          49.812966   \n13                      0  2569007.0          15.064186   \n\n    INCIDENCIA DENGUE GRAVE  LETALIDAD  MORTALITY RATE  PCT CHANGE DENGUE  \\\n0                  0.044145   0.000000        0.000000           0.000000   \n1                  0.872837   0.000000        0.000000       22100.000000   \n2                  0.043153   0.000000        0.000000         -53.603604   \n3                  4.780096  11.607143        0.000555        3651.941748   \n4                  0.886719   0.000000        0.000000         -94.947600   \n5                  0.501460   0.000000        0.000000         -10.243278   \n6                  1.861562   0.000000        0.000000         227.674750   \n7                  2.048238   0.000000        0.000000          40.313452   \n8                  1.501427   8.108108        0.000122          16.289172   \n9                  2.573668  10.937500        0.000281         360.032017   \n10                 0.239191  16.666667        0.000040         -87.855237   \n11                 0.118605   0.000000        0.000000         -44.173830   \n12                 0.235337   0.000000        0.000000           8.639863   \n13                 0.116777   0.000000        0.000000         -69.527559   \n\n    PCT CHANGE DENGUE GRAVE  PCT CHANGE MORTALIDAD POR DENGUE  \\\n0                  0.000000                          0.000000   \n1               1900.000000                          0.000000   \n2                -95.000000                          0.000000   \n3              11100.000000                               inf   \n4                -81.250000                       -100.000000   \n5                -42.857143                          0.000000   \n6                275.000000                          0.000000   \n7                 11.111111                          0.000000   \n8                -26.000000                               inf   \n9                 72.972973                        133.333333   \n10               -90.625000                        -85.714286   \n11               -50.000000                       -100.000000   \n12               100.000000                          0.000000   \n13               -50.000000                          0.000000   \n\n    PCT CHANGE INCIDENCIA DENGUE  PCT CHANGE INCIDENCIA DENGUE GRAVE  \\\n0                       0.000000                            0.000000   \n1                   21846.800921                         1877.189272   \n2                     -54.123320                          -95.056008   \n3                    3610.767330                        10977.089382   \n4                     -95.001431                          -81.449773   \n5                     -11.170810                          -43.447648   \n6                     224.378924                          271.228165   \n7                      38.945566                           10.027912   \n8                      15.194431                          -26.696632   \n9                     355.887938                           71.414791   \n10                    -87.960439                          -90.706209   \n11                    -44.636237                          -50.414149   \n12                      7.781921                           98.420576   \n13                    -69.758504                          -50.378940   \n\n    PCT CHANGE MORTALITY RATE  \n0                    0.000000  \n1                    0.000000  \n2                    0.000000  \n3                         inf  \n4                 -100.000000  \n5                    0.000000  \n6                    0.000000  \n7                    0.000000  \n8                         inf  \n9                  131.231410  \n10                 -85.838033  \n11                -100.000000  \n12                   0.000000  \n13                   0.000000  ",
      "text/html": "<div>\n<style scoped>\n    .dataframe tbody tr th:only-of-type {\n        vertical-align: middle;\n    }\n\n    .dataframe tbody tr th {\n        vertical-align: top;\n    }\n\n    .dataframe thead th {\n        text-align: right;\n    }\n</style>\n<table border=\"1\" class=\"dataframe\">\n  <thead>\n    <tr style=\"text-align: right;\">\n      <th></th>\n      <th>ANO</th>\n      <th>COD_MUNICIPIO</th>\n      <th>MUNICIPIO</th>\n      <th>DEPARTAMENTO</th>\n      <th>DENGUE</th>\n      <th>DENGUE GRAVE</th>\n      <th>MORTALIDAD POR DENGUE</th>\n      <th>POBLACION</th>\n      <th>INCIDENCIA DENGUE</th>\n      <th>INCIDENCIA DENGUE GRAVE</th>\n      <th>LETALIDAD</th>\n      <th>MORTALITY RATE</th>\n      <th>PCT CHANGE DENGUE</th>\n      <th>PCT CHANGE DENGUE GRAVE</th>\n      <th>PCT CHANGE MORTALIDAD POR DENGUE</th>\n      <th>PCT CHANGE INCIDENCIA DENGUE</th>\n      <th>PCT CHANGE INCIDENCIA DENGUE GRAVE</th>\n      <th>PCT CHANGE MORTALITY RATE</th>\n    </tr>\n  </thead>\n  <tbody>\n    <tr>\n      <th>0</th>\n      <td>2007</td>\n      <td>5001</td>\n      <td>MEDELLIN</td>\n      <td>ANTIOQUIA</td>\n      <td>4</td>\n      <td>1</td>\n      <td>0</td>\n      <td>2265244.0</td>\n      <td>0.176581</td>\n      <td>0.044145</td>\n      <td>0.000000</td>\n      <td>0.000000</td>\n      <td>0.000000</td>\n      <td>0.000000</td>\n      <td>0.000000</td>\n      <td>0.000000</td>\n      <td>0.000000</td>\n      <td>0.000000</td>\n    </tr>\n    <tr>\n      <th>1</th>\n      <td>2008</td>\n      <td>5001</td>\n      <td>MEDELLIN</td>\n      <td>ANTIOQUIA</td>\n      <td>888</td>\n      <td>20</td>\n      <td>0</td>\n      <td>2291378.0</td>\n      <td>38.753973</td>\n      <td>0.872837</td>\n      <td>0.000000</td>\n      <td>0.000000</td>\n      <td>22100.000000</td>\n      <td>1900.000000</td>\n      <td>0.000000</td>\n      <td>21846.800921</td>\n      <td>1877.189272</td>\n      <td>0.000000</td>\n    </tr>\n    <tr>\n      <th>2</th>\n      <td>2009</td>\n      <td>5001</td>\n      <td>MEDELLIN</td>\n      <td>ANTIOQUIA</td>\n      <td>412</td>\n      <td>1</td>\n      <td>0</td>\n      <td>2317336.0</td>\n      <td>17.779036</td>\n      <td>0.043153</td>\n      <td>0.000000</td>\n      <td>0.000000</td>\n      <td>-53.603604</td>\n      <td>-95.000000</td>\n      <td>0.000000</td>\n      <td>-54.123320</td>\n      <td>-95.056008</td>\n      <td>0.000000</td>\n    </tr>\n    <tr>\n      <th>3</th>\n      <td>2010</td>\n      <td>5001</td>\n      <td>MEDELLIN</td>\n      <td>ANTIOQUIA</td>\n      <td>15458</td>\n      <td>112</td>\n      <td>13</td>\n      <td>2343049.0</td>\n      <td>659.738657</td>\n      <td>4.780096</td>\n      <td>11.607143</td>\n      <td>0.000555</td>\n      <td>3651.941748</td>\n      <td>11100.000000</td>\n      <td>inf</td>\n      <td>3610.767330</td>\n      <td>10977.089382</td>\n      <td>inf</td>\n    </tr>\n    <tr>\n      <th>4</th>\n      <td>2011</td>\n      <td>5001</td>\n      <td>MEDELLIN</td>\n      <td>ANTIOQUIA</td>\n      <td>781</td>\n      <td>21</td>\n      <td>0</td>\n      <td>2368282.0</td>\n      <td>32.977492</td>\n      <td>0.886719</td>\n      <td>0.000000</td>\n      <td>0.000000</td>\n      <td>-94.947600</td>\n      <td>-81.250000</td>\n      <td>-100.000000</td>\n      <td>-95.001431</td>\n      <td>-81.449773</td>\n      <td>-100.000000</td>\n    </tr>\n    <tr>\n      <th>5</th>\n      <td>2012</td>\n      <td>5001</td>\n      <td>MEDELLIN</td>\n      <td>ANTIOQUIA</td>\n      <td>701</td>\n      <td>12</td>\n      <td>0</td>\n      <td>2393011.0</td>\n      <td>29.293639</td>\n      <td>0.501460</td>\n      <td>0.000000</td>\n      <td>0.000000</td>\n      <td>-10.243278</td>\n      <td>-42.857143</td>\n      <td>0.000000</td>\n      <td>-11.170810</td>\n      <td>-43.447648</td>\n      <td>0.000000</td>\n    </tr>\n    <tr>\n      <th>6</th>\n      <td>2013</td>\n      <td>5001</td>\n      <td>MEDELLIN</td>\n      <td>ANTIOQUIA</td>\n      <td>2297</td>\n      <td>45</td>\n      <td>0</td>\n      <td>2417325.0</td>\n      <td>95.022390</td>\n      <td>1.861562</td>\n      <td>0.000000</td>\n      <td>0.000000</td>\n      <td>227.674750</td>\n      <td>275.000000</td>\n      <td>0.000000</td>\n      <td>224.378924</td>\n      <td>271.228165</td>\n      <td>0.000000</td>\n    </tr>\n    <tr>\n      <th>7</th>\n      <td>2014</td>\n      <td>5001</td>\n      <td>MEDELLIN</td>\n      <td>ANTIOQUIA</td>\n      <td>3223</td>\n      <td>50</td>\n      <td>0</td>\n      <td>2441123.0</td>\n      <td>132.029398</td>\n      <td>2.048238</td>\n      <td>0.000000</td>\n      <td>0.000000</td>\n      <td>40.313452</td>\n      <td>11.111111</td>\n      <td>0.000000</td>\n      <td>38.945566</td>\n      <td>10.027912</td>\n      <td>0.000000</td>\n    </tr>\n    <tr>\n      <th>8</th>\n      <td>2015</td>\n      <td>5001</td>\n      <td>MEDELLIN</td>\n      <td>ANTIOQUIA</td>\n      <td>3748</td>\n      <td>37</td>\n      <td>3</td>\n      <td>2464322.0</td>\n      <td>152.090514</td>\n      <td>1.501427</td>\n      <td>8.108108</td>\n      <td>0.000122</td>\n      <td>16.289172</td>\n      <td>-26.000000</td>\n      <td>inf</td>\n      <td>15.194431</td>\n      <td>-26.696632</td>\n      <td>inf</td>\n    </tr>\n    <tr>\n      <th>9</th>\n      <td>2016</td>\n      <td>5001</td>\n      <td>MEDELLIN</td>\n      <td>ANTIOQUIA</td>\n      <td>17242</td>\n      <td>64</td>\n      <td>7</td>\n      <td>2486723.0</td>\n      <td>693.362309</td>\n      <td>2.573668</td>\n      <td>10.937500</td>\n      <td>0.000281</td>\n      <td>360.032017</td>\n      <td>72.972973</td>\n      <td>133.333333</td>\n      <td>355.887938</td>\n      <td>71.414791</td>\n      <td>131.231410</td>\n    </tr>\n    <tr>\n      <th>10</th>\n      <td>2017</td>\n      <td>5001</td>\n      <td>MEDELLIN</td>\n      <td>ANTIOQUIA</td>\n      <td>2094</td>\n      <td>6</td>\n      <td>1</td>\n      <td>2508452.0</td>\n      <td>83.477778</td>\n      <td>0.239191</td>\n      <td>16.666667</td>\n      <td>0.000040</td>\n      <td>-87.855237</td>\n      <td>-90.625000</td>\n      <td>-85.714286</td>\n      <td>-87.960439</td>\n      <td>-90.706209</td>\n      <td>-85.838033</td>\n    </tr>\n    <tr>\n      <th>11</th>\n      <td>2018</td>\n      <td>5001</td>\n      <td>MEDELLIN</td>\n      <td>ANTIOQUIA</td>\n      <td>1169</td>\n      <td>3</td>\n      <td>0</td>\n      <td>2529403.0</td>\n      <td>46.216439</td>\n      <td>0.118605</td>\n      <td>0.000000</td>\n      <td>0.000000</td>\n      <td>-44.173830</td>\n      <td>-50.000000</td>\n      <td>-100.000000</td>\n      <td>-44.636237</td>\n      <td>-50.414149</td>\n      <td>-100.000000</td>\n    </tr>\n    <tr>\n      <th>12</th>\n      <td>2019</td>\n      <td>5001</td>\n      <td>MEDELLIN</td>\n      <td>ANTIOQUIA</td>\n      <td>1270</td>\n      <td>6</td>\n      <td>0</td>\n      <td>2549537.0</td>\n      <td>49.812966</td>\n      <td>0.235337</td>\n      <td>0.000000</td>\n      <td>0.000000</td>\n      <td>8.639863</td>\n      <td>100.000000</td>\n      <td>0.000000</td>\n      <td>7.781921</td>\n      <td>98.420576</td>\n      <td>0.000000</td>\n    </tr>\n    <tr>\n      <th>13</th>\n      <td>2020</td>\n      <td>5001</td>\n      <td>MEDELLIN</td>\n      <td>ANTIOQUIA</td>\n      <td>387</td>\n      <td>3</td>\n      <td>0</td>\n      <td>2569007.0</td>\n      <td>15.064186</td>\n      <td>0.116777</td>\n      <td>0.000000</td>\n      <td>0.000000</td>\n      <td>-69.527559</td>\n      <td>-50.000000</td>\n      <td>0.000000</td>\n      <td>-69.758504</td>\n      <td>-50.378940</td>\n      <td>0.000000</td>\n    </tr>\n  </tbody>\n</table>\n</div>"
     },
     "metadata": {},
     "execution_count": 29
    }
   ],
   "source": [
    "df_anual[df_anual['COD_MUNICIPIO'] == 5001]"
   ]
  }
 ]
}